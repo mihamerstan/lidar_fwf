{
 "cells": [
  {
   "cell_type": "code",
   "execution_count": 9,
   "metadata": {},
   "outputs": [],
   "source": [
    "import numpy as np\n",
    "import pandas as pd\n",
    "from laspy.file import File\n",
    "import sys"
   ]
  },
  {
   "cell_type": "code",
   "execution_count": 2,
   "metadata": {},
   "outputs": [],
   "source": [
    "inFile = File('../../Data/vaihingen/Vaihingen_Strip_05.LAS', mode='r')"
   ]
  },
  {
   "cell_type": "code",
   "execution_count": 4,
   "metadata": {},
   "outputs": [
    {
     "data": {
      "text/plain": [
       "'1.0'"
      ]
     },
     "execution_count": 4,
     "metadata": {},
     "output_type": "execute_result"
    }
   ],
   "source": [
    "inFile.header.version"
   ]
  },
  {
   "cell_type": "markdown",
   "metadata": {},
   "source": [
    "LAS 1.0 spec:\n",
    "http://www.asprs.org/a/society/committees/standards/asprs_las_format_v11.pdf\n",
    "\n",
    "(this dataset uses point data record format 1)\n",
    " \n",
    "The dataset is not using user_data or pt_src_id fields."
   ]
  },
  {
   "cell_type": "code",
   "execution_count": 5,
   "metadata": {},
   "outputs": [],
   "source": [
    "raw = inFile.get_points()"
   ]
  },
  {
   "cell_type": "code",
   "execution_count": 14,
   "metadata": {},
   "outputs": [
    {
     "ename": "KeyboardInterrupt",
     "evalue": "",
     "output_type": "error",
     "traceback": [
      "\u001b[0;31m---------------------------------------------------------------------------\u001b[0m",
      "\u001b[0;31mKeyboardInterrupt\u001b[0m                         Traceback (most recent call last)",
      "\u001b[0;32m<ipython-input-14-503293908917>\u001b[0m in \u001b[0;36m<module>\u001b[0;34m\u001b[0m\n\u001b[1;32m     12\u001b[0m \u001b[0;34m\u001b[0m\u001b[0m\n\u001b[1;32m     13\u001b[0m \u001b[0;34m\u001b[0m\u001b[0m\n\u001b[0;32m---> 14\u001b[0;31m \u001b[0mdf\u001b[0m \u001b[0;34m=\u001b[0m \u001b[0mraw_to_df\u001b[0m\u001b[0;34m(\u001b[0m\u001b[0mraw\u001b[0m\u001b[0;34m,\u001b[0m\u001b[0mcolumns_dublin_pt_cloud\u001b[0m\u001b[0;34m)\u001b[0m\u001b[0;34m\u001b[0m\u001b[0;34m\u001b[0m\u001b[0m\n\u001b[0m",
      "\u001b[0;32m~/lidar_research/lidar_fwf/point_density_functions.py\u001b[0m in \u001b[0;36mraw_to_df\u001b[0;34m(raw, column_names)\u001b[0m\n\u001b[1;32m     12\u001b[0m \u001b[0;32mdef\u001b[0m \u001b[0mraw_to_df\u001b[0m\u001b[0;34m(\u001b[0m\u001b[0mraw\u001b[0m\u001b[0;34m,\u001b[0m\u001b[0mcolumn_names\u001b[0m\u001b[0;34m)\u001b[0m\u001b[0;34m:\u001b[0m\u001b[0;34m\u001b[0m\u001b[0;34m\u001b[0m\u001b[0m\n\u001b[1;32m     13\u001b[0m     \u001b[0;34m'''function takes raw output of laspy.File.get_points() and column names, and returns a pandas Dataframe'''\u001b[0m\u001b[0;34m\u001b[0m\u001b[0;34m\u001b[0m\u001b[0m\n\u001b[0;32m---> 14\u001b[0;31m     \u001b[0mraw_list\u001b[0m \u001b[0;34m=\u001b[0m \u001b[0;34m[\u001b[0m\u001b[0ma\u001b[0m\u001b[0;34m[\u001b[0m\u001b[0;36m0\u001b[0m\u001b[0;34m]\u001b[0m\u001b[0;34m.\u001b[0m\u001b[0mtolist\u001b[0m\u001b[0;34m(\u001b[0m\u001b[0;34m)\u001b[0m \u001b[0;32mfor\u001b[0m \u001b[0ma\u001b[0m \u001b[0;32min\u001b[0m \u001b[0mraw\u001b[0m\u001b[0;34m]\u001b[0m\u001b[0;34m\u001b[0m\u001b[0;34m\u001b[0m\u001b[0m\n\u001b[0m\u001b[1;32m     15\u001b[0m     \u001b[0mdf\u001b[0m \u001b[0;34m=\u001b[0m \u001b[0mpd\u001b[0m\u001b[0;34m.\u001b[0m\u001b[0mDataFrame\u001b[0m\u001b[0;34m(\u001b[0m\u001b[0mraw_list\u001b[0m\u001b[0;34m,\u001b[0m\u001b[0mcolumns\u001b[0m \u001b[0;34m=\u001b[0m \u001b[0mcolumn_names\u001b[0m\u001b[0;34m)\u001b[0m\u001b[0;34m\u001b[0m\u001b[0;34m\u001b[0m\u001b[0m\n\u001b[1;32m     16\u001b[0m     \u001b[0;32mreturn\u001b[0m \u001b[0mdf\u001b[0m\u001b[0;34m\u001b[0m\u001b[0;34m\u001b[0m\u001b[0m\n",
      "\u001b[0;32m~/lidar_research/lidar_fwf/point_density_functions.py\u001b[0m in \u001b[0;36m<listcomp>\u001b[0;34m(.0)\u001b[0m\n\u001b[1;32m     12\u001b[0m \u001b[0;32mdef\u001b[0m \u001b[0mraw_to_df\u001b[0m\u001b[0;34m(\u001b[0m\u001b[0mraw\u001b[0m\u001b[0;34m,\u001b[0m\u001b[0mcolumn_names\u001b[0m\u001b[0;34m)\u001b[0m\u001b[0;34m:\u001b[0m\u001b[0;34m\u001b[0m\u001b[0;34m\u001b[0m\u001b[0m\n\u001b[1;32m     13\u001b[0m     \u001b[0;34m'''function takes raw output of laspy.File.get_points() and column names, and returns a pandas Dataframe'''\u001b[0m\u001b[0;34m\u001b[0m\u001b[0;34m\u001b[0m\u001b[0m\n\u001b[0;32m---> 14\u001b[0;31m     \u001b[0mraw_list\u001b[0m \u001b[0;34m=\u001b[0m \u001b[0;34m[\u001b[0m\u001b[0ma\u001b[0m\u001b[0;34m[\u001b[0m\u001b[0;36m0\u001b[0m\u001b[0;34m]\u001b[0m\u001b[0;34m.\u001b[0m\u001b[0mtolist\u001b[0m\u001b[0;34m(\u001b[0m\u001b[0;34m)\u001b[0m \u001b[0;32mfor\u001b[0m \u001b[0ma\u001b[0m \u001b[0;32min\u001b[0m \u001b[0mraw\u001b[0m\u001b[0;34m]\u001b[0m\u001b[0;34m\u001b[0m\u001b[0;34m\u001b[0m\u001b[0m\n\u001b[0m\u001b[1;32m     15\u001b[0m     \u001b[0mdf\u001b[0m \u001b[0;34m=\u001b[0m \u001b[0mpd\u001b[0m\u001b[0;34m.\u001b[0m\u001b[0mDataFrame\u001b[0m\u001b[0;34m(\u001b[0m\u001b[0mraw_list\u001b[0m\u001b[0;34m,\u001b[0m\u001b[0mcolumns\u001b[0m \u001b[0;34m=\u001b[0m \u001b[0mcolumn_names\u001b[0m\u001b[0;34m)\u001b[0m\u001b[0;34m\u001b[0m\u001b[0;34m\u001b[0m\u001b[0m\n\u001b[1;32m     16\u001b[0m     \u001b[0;32mreturn\u001b[0m \u001b[0mdf\u001b[0m\u001b[0;34m\u001b[0m\u001b[0;34m\u001b[0m\u001b[0m\n",
      "\u001b[0;31mKeyboardInterrupt\u001b[0m: "
     ]
    }
   ],
   "source": [
    "columns = [\n",
    "    'X',\n",
    "    'Y',\n",
    "    'Z',\n",
    "    'intensity',\n",
    "    'return_number_byte',\n",
    "    'classification_byte',\n",
    "    'scan_angle_rank',\n",
    "    'user_data',\n",
    "    'pt_src_id',\n",
    "    'gps_time']\n",
    "\n",
    "\n",
    "df = raw_to_df(raw,columns)"
   ]
  },
  {
   "cell_type": "code",
   "execution_count": 16,
   "metadata": {},
   "outputs": [
    {
     "data": {
      "text/html": [
       "<div>\n",
       "<style scoped>\n",
       "    .dataframe tbody tr th:only-of-type {\n",
       "        vertical-align: middle;\n",
       "    }\n",
       "\n",
       "    .dataframe tbody tr th {\n",
       "        vertical-align: top;\n",
       "    }\n",
       "\n",
       "    .dataframe thead th {\n",
       "        text-align: right;\n",
       "    }\n",
       "</style>\n",
       "<table border=\"1\" class=\"dataframe\">\n",
       "  <thead>\n",
       "    <tr style=\"text-align: right;\">\n",
       "      <th></th>\n",
       "      <th>X</th>\n",
       "      <th>Y</th>\n",
       "      <th>Z</th>\n",
       "      <th>intensity</th>\n",
       "      <th>return_number_byte</th>\n",
       "      <th>classification_byte</th>\n",
       "      <th>scan_angle</th>\n",
       "      <th>user_data</th>\n",
       "      <th>pt_src_id</th>\n",
       "      <th>gps_time</th>\n",
       "    </tr>\n",
       "  </thead>\n",
       "  <tbody>\n",
       "    <tr>\n",
       "      <th>count</th>\n",
       "      <td>3.582656e+06</td>\n",
       "      <td>3.582656e+06</td>\n",
       "      <td>3.582656e+06</td>\n",
       "      <td>3.582656e+06</td>\n",
       "      <td>3.582656e+06</td>\n",
       "      <td>3582656.0</td>\n",
       "      <td>3.582656e+06</td>\n",
       "      <td>3582656.0</td>\n",
       "      <td>3.582656e+06</td>\n",
       "      <td>3.582656e+06</td>\n",
       "    </tr>\n",
       "    <tr>\n",
       "      <th>mean</th>\n",
       "      <td>5.490566e+06</td>\n",
       "      <td>1.851993e+05</td>\n",
       "      <td>6.554214e+04</td>\n",
       "      <td>8.282784e+01</td>\n",
       "      <td>4.185623e+01</td>\n",
       "      <td>1.0</td>\n",
       "      <td>3.302400e+00</td>\n",
       "      <td>0.0</td>\n",
       "      <td>1.240327e+02</td>\n",
       "      <td>3.771006e+05</td>\n",
       "    </tr>\n",
       "    <tr>\n",
       "      <th>std</th>\n",
       "      <td>4.102608e+05</td>\n",
       "      <td>1.652041e+05</td>\n",
       "      <td>9.434697e+03</td>\n",
       "      <td>5.651952e+01</td>\n",
       "      <td>3.222933e+01</td>\n",
       "      <td>0.0</td>\n",
       "      <td>1.648812e+01</td>\n",
       "      <td>0.0</td>\n",
       "      <td>3.294443e+00</td>\n",
       "      <td>8.181300e+00</td>\n",
       "    </tr>\n",
       "    <tr>\n",
       "      <th>min</th>\n",
       "      <td>4.754480e+06</td>\n",
       "      <td>-6.692000e+04</td>\n",
       "      <td>-3.573000e+04</td>\n",
       "      <td>0.000000e+00</td>\n",
       "      <td>9.000000e+00</td>\n",
       "      <td>1.0</td>\n",
       "      <td>-3.000000e+01</td>\n",
       "      <td>0.0</td>\n",
       "      <td>1.110000e+02</td>\n",
       "      <td>3.770861e+05</td>\n",
       "    </tr>\n",
       "    <tr>\n",
       "      <th>25%</th>\n",
       "      <td>5.150390e+06</td>\n",
       "      <td>2.265000e+04</td>\n",
       "      <td>5.863000e+04</td>\n",
       "      <td>3.600000e+01</td>\n",
       "      <td>9.000000e+00</td>\n",
       "      <td>1.0</td>\n",
       "      <td>-1.200000e+01</td>\n",
       "      <td>0.0</td>\n",
       "      <td>1.220000e+02</td>\n",
       "      <td>3.770937e+05</td>\n",
       "    </tr>\n",
       "    <tr>\n",
       "      <th>50%</th>\n",
       "      <td>5.500120e+06</td>\n",
       "      <td>1.845800e+05</td>\n",
       "      <td>6.501000e+04</td>\n",
       "      <td>7.400000e+01</td>\n",
       "      <td>7.300000e+01</td>\n",
       "      <td>1.0</td>\n",
       "      <td>3.000000e+00</td>\n",
       "      <td>0.0</td>\n",
       "      <td>1.240000e+02</td>\n",
       "      <td>3.771008e+05</td>\n",
       "    </tr>\n",
       "    <tr>\n",
       "      <th>75%</th>\n",
       "      <td>5.837240e+06</td>\n",
       "      <td>3.476800e+05</td>\n",
       "      <td>7.223000e+04</td>\n",
       "      <td>1.250000e+02</td>\n",
       "      <td>7.300000e+01</td>\n",
       "      <td>1.0</td>\n",
       "      <td>1.800000e+01</td>\n",
       "      <td>0.0</td>\n",
       "      <td>1.260000e+02</td>\n",
       "      <td>3.771076e+05</td>\n",
       "    </tr>\n",
       "    <tr>\n",
       "      <th>max</th>\n",
       "      <td>6.206090e+06</td>\n",
       "      <td>4.363600e+05</td>\n",
       "      <td>3.728000e+05</td>\n",
       "      <td>2.550000e+02</td>\n",
       "      <td>2.100000e+02</td>\n",
       "      <td>1.0</td>\n",
       "      <td>3.500000e+01</td>\n",
       "      <td>0.0</td>\n",
       "      <td>3.870000e+02</td>\n",
       "      <td>3.771147e+05</td>\n",
       "    </tr>\n",
       "  </tbody>\n",
       "</table>\n",
       "</div>"
      ],
      "text/plain": [
       "                  X             Y             Z     intensity  \\\n",
       "count  3.582656e+06  3.582656e+06  3.582656e+06  3.582656e+06   \n",
       "mean   5.490566e+06  1.851993e+05  6.554214e+04  8.282784e+01   \n",
       "std    4.102608e+05  1.652041e+05  9.434697e+03  5.651952e+01   \n",
       "min    4.754480e+06 -6.692000e+04 -3.573000e+04  0.000000e+00   \n",
       "25%    5.150390e+06  2.265000e+04  5.863000e+04  3.600000e+01   \n",
       "50%    5.500120e+06  1.845800e+05  6.501000e+04  7.400000e+01   \n",
       "75%    5.837240e+06  3.476800e+05  7.223000e+04  1.250000e+02   \n",
       "max    6.206090e+06  4.363600e+05  3.728000e+05  2.550000e+02   \n",
       "\n",
       "       return_number_byte  classification_byte    scan_angle  user_data  \\\n",
       "count        3.582656e+06            3582656.0  3.582656e+06  3582656.0   \n",
       "mean         4.185623e+01                  1.0  3.302400e+00        0.0   \n",
       "std          3.222933e+01                  0.0  1.648812e+01        0.0   \n",
       "min          9.000000e+00                  1.0 -3.000000e+01        0.0   \n",
       "25%          9.000000e+00                  1.0 -1.200000e+01        0.0   \n",
       "50%          7.300000e+01                  1.0  3.000000e+00        0.0   \n",
       "75%          7.300000e+01                  1.0  1.800000e+01        0.0   \n",
       "max          2.100000e+02                  1.0  3.500000e+01        0.0   \n",
       "\n",
       "          pt_src_id      gps_time  \n",
       "count  3.582656e+06  3.582656e+06  \n",
       "mean   1.240327e+02  3.771006e+05  \n",
       "std    3.294443e+00  8.181300e+00  \n",
       "min    1.110000e+02  3.770861e+05  \n",
       "25%    1.220000e+02  3.770937e+05  \n",
       "50%    1.240000e+02  3.771008e+05  \n",
       "75%    1.260000e+02  3.771076e+05  \n",
       "max    3.870000e+02  3.771147e+05  "
      ]
     },
     "execution_count": 16,
     "metadata": {},
     "output_type": "execute_result"
    }
   ],
   "source": [
    "df.describe()"
   ]
  },
  {
   "cell_type": "code",
   "execution_count": 17,
   "metadata": {},
   "outputs": [
    {
     "data": {
      "text/html": [
       "<div>\n",
       "<style scoped>\n",
       "    .dataframe tbody tr th:only-of-type {\n",
       "        vertical-align: middle;\n",
       "    }\n",
       "\n",
       "    .dataframe tbody tr th {\n",
       "        vertical-align: top;\n",
       "    }\n",
       "\n",
       "    .dataframe thead th {\n",
       "        text-align: right;\n",
       "    }\n",
       "</style>\n",
       "<table border=\"1\" class=\"dataframe\">\n",
       "  <thead>\n",
       "    <tr style=\"text-align: right;\">\n",
       "      <th></th>\n",
       "      <th>X</th>\n",
       "      <th>Y</th>\n",
       "      <th>Z</th>\n",
       "      <th>intensity</th>\n",
       "      <th>return_number_byte</th>\n",
       "      <th>classification_byte</th>\n",
       "      <th>scan_angle</th>\n",
       "      <th>user_data</th>\n",
       "      <th>pt_src_id</th>\n",
       "      <th>gps_time</th>\n",
       "      <th>num_returns</th>\n",
       "      <th>return_num</th>\n",
       "    </tr>\n",
       "  </thead>\n",
       "  <tbody>\n",
       "    <tr>\n",
       "      <th>0</th>\n",
       "      <td>4754480</td>\n",
       "      <td>284470</td>\n",
       "      <td>57950</td>\n",
       "      <td>75</td>\n",
       "      <td>9</td>\n",
       "      <td>1</td>\n",
       "      <td>-8</td>\n",
       "      <td>0</td>\n",
       "      <td>123</td>\n",
       "      <td>377086.134474</td>\n",
       "      <td>0</td>\n",
       "      <td>9</td>\n",
       "    </tr>\n",
       "    <tr>\n",
       "      <th>1</th>\n",
       "      <td>4754480</td>\n",
       "      <td>284910</td>\n",
       "      <td>57960</td>\n",
       "      <td>102</td>\n",
       "      <td>9</td>\n",
       "      <td>1</td>\n",
       "      <td>-8</td>\n",
       "      <td>0</td>\n",
       "      <td>123</td>\n",
       "      <td>377086.134482</td>\n",
       "      <td>0</td>\n",
       "      <td>9</td>\n",
       "    </tr>\n",
       "    <tr>\n",
       "      <th>2</th>\n",
       "      <td>4754480</td>\n",
       "      <td>285360</td>\n",
       "      <td>57940</td>\n",
       "      <td>102</td>\n",
       "      <td>9</td>\n",
       "      <td>1</td>\n",
       "      <td>-8</td>\n",
       "      <td>0</td>\n",
       "      <td>123</td>\n",
       "      <td>377086.134490</td>\n",
       "      <td>0</td>\n",
       "      <td>9</td>\n",
       "    </tr>\n",
       "    <tr>\n",
       "      <th>3</th>\n",
       "      <td>4754490</td>\n",
       "      <td>285810</td>\n",
       "      <td>57870</td>\n",
       "      <td>102</td>\n",
       "      <td>9</td>\n",
       "      <td>1</td>\n",
       "      <td>-8</td>\n",
       "      <td>0</td>\n",
       "      <td>123</td>\n",
       "      <td>377086.134497</td>\n",
       "      <td>0</td>\n",
       "      <td>9</td>\n",
       "    </tr>\n",
       "    <tr>\n",
       "      <th>4</th>\n",
       "      <td>4754490</td>\n",
       "      <td>286240</td>\n",
       "      <td>57880</td>\n",
       "      <td>98</td>\n",
       "      <td>9</td>\n",
       "      <td>1</td>\n",
       "      <td>-8</td>\n",
       "      <td>0</td>\n",
       "      <td>123</td>\n",
       "      <td>377086.134505</td>\n",
       "      <td>0</td>\n",
       "      <td>9</td>\n",
       "    </tr>\n",
       "  </tbody>\n",
       "</table>\n",
       "</div>"
      ],
      "text/plain": [
       "         X       Y      Z  intensity  return_number_byte  classification_byte  \\\n",
       "0  4754480  284470  57950         75                   9                    1   \n",
       "1  4754480  284910  57960        102                   9                    1   \n",
       "2  4754480  285360  57940        102                   9                    1   \n",
       "3  4754490  285810  57870        102                   9                    1   \n",
       "4  4754490  286240  57880         98                   9                    1   \n",
       "\n",
       "   scan_angle  user_data  pt_src_id       gps_time  num_returns  return_num  \n",
       "0          -8          0        123  377086.134474            0           9  \n",
       "1          -8          0        123  377086.134482            0           9  \n",
       "2          -8          0        123  377086.134490            0           9  \n",
       "3          -8          0        123  377086.134497            0           9  \n",
       "4          -8          0        123  377086.134505            0           9  "
      ]
     },
     "execution_count": 17,
     "metadata": {},
     "output_type": "execute_result"
    }
   ],
   "source": [
    "df['num_returns'] = np.floor(df['return_number_byte']/16).astype(int)\n",
    "df['return_num'] = df['return_number_byte']%16\n",
    "df.head()"
   ]
  },
  {
   "cell_type": "code",
   "execution_count": 23,
   "metadata": {},
   "outputs": [
    {
     "data": {
      "text/plain": [
       "Int64Index([1, 1, 2, 1, 1, 2, 1, 1, 3, 3, 1, 1, 1, 2, 1, 2, 1, 1, 4, 4, 1], dtype='int64')"
      ]
     },
     "execution_count": 23,
     "metadata": {},
     "output_type": "execute_result"
    }
   ],
   "source": [
    "a = df['return_number_byte'].value_counts()\n",
    "a.index%8"
   ]
  },
  {
   "cell_type": "code",
   "execution_count": 27,
   "metadata": {},
   "outputs": [
    {
     "data": {
      "text/plain": [
       "0"
      ]
     },
     "execution_count": 27,
     "metadata": {},
     "output_type": "execute_result"
    }
   ],
   "source": [
    "df['user_data'].max()"
   ]
  },
  {
   "cell_type": "code",
   "execution_count": null,
   "metadata": {},
   "outputs": [],
   "source": []
  }
 ],
 "metadata": {
  "kernelspec": {
   "display_name": "Python 3",
   "language": "python",
   "name": "python3"
  },
  "language_info": {
   "codemirror_mode": {
    "name": "ipython",
    "version": 3
   },
   "file_extension": ".py",
   "mimetype": "text/x-python",
   "name": "python",
   "nbconvert_exporter": "python",
   "pygments_lexer": "ipython3",
   "version": "3.7.6"
  }
 },
 "nbformat": 4,
 "nbformat_minor": 4
}
