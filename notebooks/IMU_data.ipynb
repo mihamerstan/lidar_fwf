{
 "cells": [
  {
   "cell_type": "code",
   "execution_count": 1,
   "metadata": {},
   "outputs": [],
   "source": [
    "import numpy as np\n",
    "import pandas as pd\n",
    "\n",
    "import matplotlib.pyplot as plt"
   ]
  },
  {
   "cell_type": "code",
   "execution_count": 2,
   "metadata": {},
   "outputs": [],
   "source": [
    "# load the data\n",
    "columns = ['time',\n",
    " 'distance',\n",
    " 'easting',\n",
    " 'northing',\n",
    " 'ellipsoid_height',\n",
    " 'latitude',\n",
    " 'longitude',\n",
    " 'ellipsoid_height_1',\n",
    " 'roll',\n",
    " 'pitch',\n",
    " 'heading',\n",
    " 'east_velocity',\n",
    " 'north_velocity',\n",
    " 'up_velocity',\n",
    " 'east_sd',\n",
    " 'north_sd',\n",
    " 'height_sd',\n",
    " 'roll_sd',\n",
    " 'pitch_sd',\n",
    " 'heading_sd']\n",
    "\n",
    "imu_df = pd.read_csv(\"../../Data/imu_data/export_Mission_2.txt\", \n",
    "                     sep='[ ]+',\n",
    "                     engine='python',\n",
    "                     skiprows=28,\n",
    "                     header=None,\n",
    "                     names=columns)"
   ]
  },
  {
   "cell_type": "code",
   "execution_count": 9,
   "metadata": {},
   "outputs": [],
   "source": [
    "# Import anchor pickle\n",
    "anchors = pd.read_pickle(\"../../Data/pickles/anchor_points_164239_just_xyz.pkl\")\n",
    "anchors_df = pd.DataFrame(anchors,columns=['gps_time'])"
   ]
  },
  {
   "cell_type": "code",
   "execution_count": 5,
   "metadata": {},
   "outputs": [],
   "source": [
    "def slice_imu(imu_df,lidar_df,imu_time_name = 'time',lidar_time_name='gps_time'):\n",
    "    #Function slices imu_df for the points that fall within the GPS timeframe of the provided lidar_df.\n",
    "    \n",
    "    # Determine gps timeframe for lidar\n",
    "    lidar_range = (lidar_df[lidar_time_name].min(),lidar_df[lidar_time_name].max())\n",
    "    print(\"Timespan of LiDAR data: {:2.2f} seconds\".format(lidar_range[1]-lidar_range[0]))\n",
    "    \n",
    "    # Slide of IMU data within lidar_range\n",
    "    in_slice = (imu_df[imu_time_name]>=lidar_range[0]) & (imu_df[imu_time_name]<=lidar_range[1])\n",
    "    imu_slice = imu_df[in_slice]\n",
    "    print(\"IMU points in timespan: {:d}\".format(imu_slice.shape[0]))\n",
    "    return imu_slice"
   ]
  },
  {
   "cell_type": "code",
   "execution_count": 6,
   "metadata": {},
   "outputs": [
    {
     "name": "stdout",
     "output_type": "stream",
     "text": [
      "Timespan of LiDAR data: 57.29 seconds\n",
      "IMU points in timespan: 11459\n"
     ]
    }
   ],
   "source": [
    "# Create IMU slice\n",
    "imu_slice = slice_imu(imu_df,anchors_df)"
   ]
  },
  {
   "cell_type": "code",
   "execution_count": 12,
   "metadata": {},
   "outputs": [
    {
     "data": {
      "text/html": [
       "<div>\n",
       "<style scoped>\n",
       "    .dataframe tbody tr th:only-of-type {\n",
       "        vertical-align: middle;\n",
       "    }\n",
       "\n",
       "    .dataframe tbody tr th {\n",
       "        vertical-align: top;\n",
       "    }\n",
       "\n",
       "    .dataframe thead th {\n",
       "        text-align: right;\n",
       "    }\n",
       "</style>\n",
       "<table border=\"1\" class=\"dataframe\">\n",
       "  <thead>\n",
       "    <tr style=\"text-align: right;\">\n",
       "      <th></th>\n",
       "      <th>time</th>\n",
       "      <th>distance</th>\n",
       "      <th>easting</th>\n",
       "      <th>northing</th>\n",
       "      <th>ellipsoid_height</th>\n",
       "      <th>latitude</th>\n",
       "      <th>longitude</th>\n",
       "      <th>ellipsoid_height_1</th>\n",
       "      <th>roll</th>\n",
       "      <th>pitch</th>\n",
       "      <th>heading</th>\n",
       "      <th>east_velocity</th>\n",
       "      <th>north_velocity</th>\n",
       "      <th>up_velocity</th>\n",
       "      <th>east_sd</th>\n",
       "      <th>north_sd</th>\n",
       "      <th>height_sd</th>\n",
       "      <th>roll_sd</th>\n",
       "      <th>pitch_sd</th>\n",
       "      <th>heading_sd</th>\n",
       "    </tr>\n",
       "  </thead>\n",
       "  <tbody>\n",
       "    <tr>\n",
       "      <th>0</th>\n",
       "      <td>576186.00101</td>\n",
       "      <td>0.000</td>\n",
       "      <td>563810.653</td>\n",
       "      <td>4496470.594</td>\n",
       "      <td>-22.876</td>\n",
       "      <td>40.616597</td>\n",
       "      <td>-74.245624</td>\n",
       "      <td>-22.876</td>\n",
       "      <td>-1.654</td>\n",
       "      <td>-7.485</td>\n",
       "      <td>255.379</td>\n",
       "      <td>-19.906</td>\n",
       "      <td>-4.809</td>\n",
       "      <td>0.650</td>\n",
       "      <td>0.085</td>\n",
       "      <td>0.069</td>\n",
       "      <td>0.105</td>\n",
       "      <td>0.02</td>\n",
       "      <td>0.019</td>\n",
       "      <td>0.047</td>\n",
       "    </tr>\n",
       "    <tr>\n",
       "      <th>1</th>\n",
       "      <td>576186.00601</td>\n",
       "      <td>0.102</td>\n",
       "      <td>563810.553</td>\n",
       "      <td>4496470.569</td>\n",
       "      <td>-22.873</td>\n",
       "      <td>40.616597</td>\n",
       "      <td>-74.245625</td>\n",
       "      <td>-22.873</td>\n",
       "      <td>-1.648</td>\n",
       "      <td>-7.486</td>\n",
       "      <td>255.379</td>\n",
       "      <td>-19.914</td>\n",
       "      <td>-4.810</td>\n",
       "      <td>0.663</td>\n",
       "      <td>0.085</td>\n",
       "      <td>0.069</td>\n",
       "      <td>0.105</td>\n",
       "      <td>0.02</td>\n",
       "      <td>0.019</td>\n",
       "      <td>0.047</td>\n",
       "    </tr>\n",
       "    <tr>\n",
       "      <th>2</th>\n",
       "      <td>576186.01101</td>\n",
       "      <td>17.758</td>\n",
       "      <td>563827.660</td>\n",
       "      <td>4496474.878</td>\n",
       "      <td>-23.427</td>\n",
       "      <td>40.616634</td>\n",
       "      <td>-74.245423</td>\n",
       "      <td>-23.427</td>\n",
       "      <td>-1.642</td>\n",
       "      <td>-7.490</td>\n",
       "      <td>255.379</td>\n",
       "      <td>-19.921</td>\n",
       "      <td>-4.810</td>\n",
       "      <td>0.673</td>\n",
       "      <td>0.085</td>\n",
       "      <td>0.069</td>\n",
       "      <td>0.105</td>\n",
       "      <td>0.02</td>\n",
       "      <td>0.019</td>\n",
       "      <td>0.047</td>\n",
       "    </tr>\n",
       "    <tr>\n",
       "      <th>3</th>\n",
       "      <td>576186.01601</td>\n",
       "      <td>17.861</td>\n",
       "      <td>563827.560</td>\n",
       "      <td>4496474.853</td>\n",
       "      <td>-23.424</td>\n",
       "      <td>40.616634</td>\n",
       "      <td>-74.245424</td>\n",
       "      <td>-23.424</td>\n",
       "      <td>-1.636</td>\n",
       "      <td>-7.496</td>\n",
       "      <td>255.379</td>\n",
       "      <td>-19.927</td>\n",
       "      <td>-4.810</td>\n",
       "      <td>0.676</td>\n",
       "      <td>0.085</td>\n",
       "      <td>0.069</td>\n",
       "      <td>0.105</td>\n",
       "      <td>0.02</td>\n",
       "      <td>0.019</td>\n",
       "      <td>0.047</td>\n",
       "    </tr>\n",
       "    <tr>\n",
       "      <th>4</th>\n",
       "      <td>576186.02101</td>\n",
       "      <td>17.963</td>\n",
       "      <td>563827.461</td>\n",
       "      <td>4496474.828</td>\n",
       "      <td>-23.421</td>\n",
       "      <td>40.616634</td>\n",
       "      <td>-74.245425</td>\n",
       "      <td>-23.421</td>\n",
       "      <td>-1.632</td>\n",
       "      <td>-7.502</td>\n",
       "      <td>255.378</td>\n",
       "      <td>-19.933</td>\n",
       "      <td>-4.809</td>\n",
       "      <td>0.679</td>\n",
       "      <td>0.085</td>\n",
       "      <td>0.069</td>\n",
       "      <td>0.105</td>\n",
       "      <td>0.02</td>\n",
       "      <td>0.019</td>\n",
       "      <td>0.047</td>\n",
       "    </tr>\n",
       "  </tbody>\n",
       "</table>\n",
       "</div>"
      ],
      "text/plain": [
       "           time  distance     easting     northing  ellipsoid_height  \\\n",
       "0  576186.00101     0.000  563810.653  4496470.594           -22.876   \n",
       "1  576186.00601     0.102  563810.553  4496470.569           -22.873   \n",
       "2  576186.01101    17.758  563827.660  4496474.878           -23.427   \n",
       "3  576186.01601    17.861  563827.560  4496474.853           -23.424   \n",
       "4  576186.02101    17.963  563827.461  4496474.828           -23.421   \n",
       "\n",
       "    latitude  longitude  ellipsoid_height_1   roll  pitch  heading  \\\n",
       "0  40.616597 -74.245624             -22.876 -1.654 -7.485  255.379   \n",
       "1  40.616597 -74.245625             -22.873 -1.648 -7.486  255.379   \n",
       "2  40.616634 -74.245423             -23.427 -1.642 -7.490  255.379   \n",
       "3  40.616634 -74.245424             -23.424 -1.636 -7.496  255.379   \n",
       "4  40.616634 -74.245425             -23.421 -1.632 -7.502  255.378   \n",
       "\n",
       "   east_velocity  north_velocity  up_velocity  east_sd  north_sd  height_sd  \\\n",
       "0        -19.906          -4.809        0.650    0.085     0.069      0.105   \n",
       "1        -19.914          -4.810        0.663    0.085     0.069      0.105   \n",
       "2        -19.921          -4.810        0.673    0.085     0.069      0.105   \n",
       "3        -19.927          -4.810        0.676    0.085     0.069      0.105   \n",
       "4        -19.933          -4.809        0.679    0.085     0.069      0.105   \n",
       "\n",
       "   roll_sd  pitch_sd  heading_sd  \n",
       "0     0.02     0.019       0.047  \n",
       "1     0.02     0.019       0.047  \n",
       "2     0.02     0.019       0.047  \n",
       "3     0.02     0.019       0.047  \n",
       "4     0.02     0.019       0.047  "
      ]
     },
     "execution_count": 12,
     "metadata": {},
     "output_type": "execute_result"
    }
   ],
   "source": [
    "imu_df.head()"
   ]
  },
  {
   "cell_type": "code",
   "execution_count": null,
   "metadata": {},
   "outputs": [],
   "source": []
  },
  {
   "cell_type": "code",
   "execution_count": null,
   "metadata": {
    "scrolled": true
   },
   "outputs": [],
   "source": [
    "%time\n",
    "a = np.zeros(len(anchors_df))\n",
    "for i,time in enumerate(imu_slice['time']):\n",
    "    a = [time if time <= pt else a[i] for i,pt in enumerate(anchors_df['gps_time'])]\n",
    "    if i%10 == 0:\n",
    "        print(\"Iteration count: \",i)\n",
    "    \n",
    "anchors_df['imu_time'] = a"
   ]
  },
  {
   "cell_type": "code",
   "execution_count": null,
   "metadata": {},
   "outputs": [],
   "source": [
    "imu_slice[imu_slice['time']==a[1]]"
   ]
  },
  {
   "cell_type": "code",
   "execution_count": null,
   "metadata": {},
   "outputs": [],
   "source": [
    "a[:5]"
   ]
  },
  {
   "cell_type": "code",
   "execution_count": null,
   "metadata": {},
   "outputs": [],
   "source": [
    "anchor_df.head()"
   ]
  },
  {
   "cell_type": "code",
   "execution_count": null,
   "metadata": {},
   "outputs": [],
   "source": [
    "# Plot some IMU data\n",
    "keys = ['time','distance','latitude','longitude','ellipsoid_height','roll','pitch','heading','up_velocity']\n",
    "font = {'family': 'serif',\n",
    "        'color':  'darkred',\n",
    "        'weight': 'normal',\n",
    "        'size': 16,\n",
    "        }\n",
    "\n",
    "plt.figure(figsize=(20,25))\n",
    "for i, key in enumerate(keys):\n",
    "    plt.subplot(3,3, (i+1))\n",
    "    plt.plot(imu_slice['time'],imu_slice[key],'xr')\n",
    "    plt.title(str(key),fontdict=font)\n",
    "    if i >= 6:\n",
    "        plt.xlabel(\"GPS Time (s)\",fontdict=font)"
   ]
  },
  {
   "cell_type": "code",
   "execution_count": null,
   "metadata": {},
   "outputs": [],
   "source": [
    "field = 'pitch'\n",
    "plt.figure(figsize=(20,25))\n",
    "plt.plot(imu_slice['time'],imu_slice[field],'xr')\n",
    "plt.ylabel(field)\n",
    "plt.xlabel(\"GPS Time\")"
   ]
  },
  {
   "cell_type": "code",
   "execution_count": null,
   "metadata": {},
   "outputs": [],
   "source": [
    "imu_slice['time'].max()-imu_slice['time'].min()"
   ]
  },
  {
   "cell_type": "code",
   "execution_count": null,
   "metadata": {},
   "outputs": [],
   "source": [
    "anchors_range[0]-anchors_range[1]"
   ]
  },
  {
   "cell_type": "code",
   "execution_count": null,
   "metadata": {},
   "outputs": [],
   "source": [
    "imu_slice.shape"
   ]
  },
  {
   "cell_type": "markdown",
   "metadata": {},
   "source": [
    "### Find a specific Lat/Lon\n",
    "40°38'38.8\"N 74°01'33.0\"W"
   ]
  },
  {
   "cell_type": "code",
   "execution_count": 31,
   "metadata": {},
   "outputs": [
    {
     "name": "stdout",
     "output_type": "stream",
     "text": [
      "Latitude: 40.6441\n",
      "Longitude: -74.0258\n"
     ]
    }
   ],
   "source": [
    "def convert_lat_lon_to_dec(degrees,minutes,seconds):\n",
    "    return degrees + (minutes/60) + (seconds/3600)\n",
    "lat = convert_lat_lon_to_dec(40,38,38.8)\n",
    "lon = convert_lat_lon_to_dec(74,1,33.0)*-1\n",
    "print(\"Latitude: {:2.4f}\".format(lat))\n",
    "print(\"Longitude: {:2.4f}\".format(lon))"
   ]
  },
  {
   "cell_type": "code",
   "execution_count": 32,
   "metadata": {},
   "outputs": [
    {
     "name": "stderr",
     "output_type": "stream",
     "text": [
      "//anaconda3/lib/python3.7/site-packages/numpy/core/fromnumeric.py:56: FutureWarning: \n",
      "The current behaviour of 'Series.argmin' is deprecated, use 'idxmin'\n",
      "instead.\n",
      "The behavior of 'argmin' will be corrected to return the positional\n",
      "minimum in the future. For now, use 'series.values.argmin' or\n",
      "'np.argmin(np.array(values))' to get the position of the minimum\n",
      "row.\n",
      "  return getattr(obj, method)(*args, **kwds)\n"
     ]
    },
    {
     "data": {
      "text/plain": [
       "222005"
      ]
     },
     "execution_count": 32,
     "metadata": {},
     "output_type": "execute_result"
    }
   ],
   "source": [
    "# Sort by nearest lat-lon ()\n",
    "np.argmin(abs(imu_df['latitude']+imu_df['longitude']-lat-lon))"
   ]
  },
  {
   "cell_type": "code",
   "execution_count": 28,
   "metadata": {},
   "outputs": [
    {
     "data": {
      "text/plain": [
       "40.64254814"
      ]
     },
     "execution_count": 28,
     "metadata": {},
     "output_type": "execute_result"
    }
   ],
   "source": [
    "imu_df['latitude'][222005]"
   ]
  },
  {
   "cell_type": "code",
   "execution_count": 33,
   "metadata": {},
   "outputs": [
    {
     "data": {
      "text/plain": [
       "-74.01754882"
      ]
     },
     "execution_count": 33,
     "metadata": {},
     "output_type": "execute_result"
    }
   ],
   "source": [
    "imu_df['longitude'][222005]"
   ]
  },
  {
   "cell_type": "code",
   "execution_count": 30,
   "metadata": {},
   "outputs": [
    {
     "data": {
      "text/html": [
       "<div>\n",
       "<style scoped>\n",
       "    .dataframe tbody tr th:only-of-type {\n",
       "        vertical-align: middle;\n",
       "    }\n",
       "\n",
       "    .dataframe tbody tr th {\n",
       "        vertical-align: top;\n",
       "    }\n",
       "\n",
       "    .dataframe thead th {\n",
       "        text-align: right;\n",
       "    }\n",
       "</style>\n",
       "<table border=\"1\" class=\"dataframe\">\n",
       "  <thead>\n",
       "    <tr style=\"text-align: right;\">\n",
       "      <th></th>\n",
       "      <th>time</th>\n",
       "      <th>distance</th>\n",
       "      <th>easting</th>\n",
       "      <th>northing</th>\n",
       "      <th>ellipsoid_height</th>\n",
       "      <th>latitude</th>\n",
       "      <th>longitude</th>\n",
       "      <th>ellipsoid_height_1</th>\n",
       "      <th>roll</th>\n",
       "      <th>pitch</th>\n",
       "      <th>heading</th>\n",
       "      <th>east_velocity</th>\n",
       "      <th>north_velocity</th>\n",
       "      <th>up_velocity</th>\n",
       "      <th>east_sd</th>\n",
       "      <th>north_sd</th>\n",
       "      <th>height_sd</th>\n",
       "      <th>roll_sd</th>\n",
       "      <th>pitch_sd</th>\n",
       "      <th>heading_sd</th>\n",
       "    </tr>\n",
       "  </thead>\n",
       "  <tbody>\n",
       "    <tr>\n",
       "      <th>0</th>\n",
       "      <td>576186.00101</td>\n",
       "      <td>0.000</td>\n",
       "      <td>563810.653</td>\n",
       "      <td>4496470.594</td>\n",
       "      <td>-22.876</td>\n",
       "      <td>40.616597</td>\n",
       "      <td>-74.245624</td>\n",
       "      <td>-22.876</td>\n",
       "      <td>-1.654</td>\n",
       "      <td>-7.485</td>\n",
       "      <td>255.379</td>\n",
       "      <td>-19.906</td>\n",
       "      <td>-4.809</td>\n",
       "      <td>0.650</td>\n",
       "      <td>0.085</td>\n",
       "      <td>0.069</td>\n",
       "      <td>0.105</td>\n",
       "      <td>0.02</td>\n",
       "      <td>0.019</td>\n",
       "      <td>0.047</td>\n",
       "    </tr>\n",
       "    <tr>\n",
       "      <th>1</th>\n",
       "      <td>576186.00601</td>\n",
       "      <td>0.102</td>\n",
       "      <td>563810.553</td>\n",
       "      <td>4496470.569</td>\n",
       "      <td>-22.873</td>\n",
       "      <td>40.616597</td>\n",
       "      <td>-74.245625</td>\n",
       "      <td>-22.873</td>\n",
       "      <td>-1.648</td>\n",
       "      <td>-7.486</td>\n",
       "      <td>255.379</td>\n",
       "      <td>-19.914</td>\n",
       "      <td>-4.810</td>\n",
       "      <td>0.663</td>\n",
       "      <td>0.085</td>\n",
       "      <td>0.069</td>\n",
       "      <td>0.105</td>\n",
       "      <td>0.02</td>\n",
       "      <td>0.019</td>\n",
       "      <td>0.047</td>\n",
       "    </tr>\n",
       "    <tr>\n",
       "      <th>2</th>\n",
       "      <td>576186.01101</td>\n",
       "      <td>17.758</td>\n",
       "      <td>563827.660</td>\n",
       "      <td>4496474.878</td>\n",
       "      <td>-23.427</td>\n",
       "      <td>40.616634</td>\n",
       "      <td>-74.245423</td>\n",
       "      <td>-23.427</td>\n",
       "      <td>-1.642</td>\n",
       "      <td>-7.490</td>\n",
       "      <td>255.379</td>\n",
       "      <td>-19.921</td>\n",
       "      <td>-4.810</td>\n",
       "      <td>0.673</td>\n",
       "      <td>0.085</td>\n",
       "      <td>0.069</td>\n",
       "      <td>0.105</td>\n",
       "      <td>0.02</td>\n",
       "      <td>0.019</td>\n",
       "      <td>0.047</td>\n",
       "    </tr>\n",
       "    <tr>\n",
       "      <th>3</th>\n",
       "      <td>576186.01601</td>\n",
       "      <td>17.861</td>\n",
       "      <td>563827.560</td>\n",
       "      <td>4496474.853</td>\n",
       "      <td>-23.424</td>\n",
       "      <td>40.616634</td>\n",
       "      <td>-74.245424</td>\n",
       "      <td>-23.424</td>\n",
       "      <td>-1.636</td>\n",
       "      <td>-7.496</td>\n",
       "      <td>255.379</td>\n",
       "      <td>-19.927</td>\n",
       "      <td>-4.810</td>\n",
       "      <td>0.676</td>\n",
       "      <td>0.085</td>\n",
       "      <td>0.069</td>\n",
       "      <td>0.105</td>\n",
       "      <td>0.02</td>\n",
       "      <td>0.019</td>\n",
       "      <td>0.047</td>\n",
       "    </tr>\n",
       "    <tr>\n",
       "      <th>4</th>\n",
       "      <td>576186.02101</td>\n",
       "      <td>17.963</td>\n",
       "      <td>563827.461</td>\n",
       "      <td>4496474.828</td>\n",
       "      <td>-23.421</td>\n",
       "      <td>40.616634</td>\n",
       "      <td>-74.245425</td>\n",
       "      <td>-23.421</td>\n",
       "      <td>-1.632</td>\n",
       "      <td>-7.502</td>\n",
       "      <td>255.378</td>\n",
       "      <td>-19.933</td>\n",
       "      <td>-4.809</td>\n",
       "      <td>0.679</td>\n",
       "      <td>0.085</td>\n",
       "      <td>0.069</td>\n",
       "      <td>0.105</td>\n",
       "      <td>0.02</td>\n",
       "      <td>0.019</td>\n",
       "      <td>0.047</td>\n",
       "    </tr>\n",
       "  </tbody>\n",
       "</table>\n",
       "</div>"
      ],
      "text/plain": [
       "           time  distance     easting     northing  ellipsoid_height  \\\n",
       "0  576186.00101     0.000  563810.653  4496470.594           -22.876   \n",
       "1  576186.00601     0.102  563810.553  4496470.569           -22.873   \n",
       "2  576186.01101    17.758  563827.660  4496474.878           -23.427   \n",
       "3  576186.01601    17.861  563827.560  4496474.853           -23.424   \n",
       "4  576186.02101    17.963  563827.461  4496474.828           -23.421   \n",
       "\n",
       "    latitude  longitude  ellipsoid_height_1   roll  pitch  heading  \\\n",
       "0  40.616597 -74.245624             -22.876 -1.654 -7.485  255.379   \n",
       "1  40.616597 -74.245625             -22.873 -1.648 -7.486  255.379   \n",
       "2  40.616634 -74.245423             -23.427 -1.642 -7.490  255.379   \n",
       "3  40.616634 -74.245424             -23.424 -1.636 -7.496  255.379   \n",
       "4  40.616634 -74.245425             -23.421 -1.632 -7.502  255.378   \n",
       "\n",
       "   east_velocity  north_velocity  up_velocity  east_sd  north_sd  height_sd  \\\n",
       "0        -19.906          -4.809        0.650    0.085     0.069      0.105   \n",
       "1        -19.914          -4.810        0.663    0.085     0.069      0.105   \n",
       "2        -19.921          -4.810        0.673    0.085     0.069      0.105   \n",
       "3        -19.927          -4.810        0.676    0.085     0.069      0.105   \n",
       "4        -19.933          -4.809        0.679    0.085     0.069      0.105   \n",
       "\n",
       "   roll_sd  pitch_sd  heading_sd  \n",
       "0     0.02     0.019       0.047  \n",
       "1     0.02     0.019       0.047  \n",
       "2     0.02     0.019       0.047  \n",
       "3     0.02     0.019       0.047  \n",
       "4     0.02     0.019       0.047  "
      ]
     },
     "execution_count": 30,
     "metadata": {},
     "output_type": "execute_result"
    }
   ],
   "source": [
    "imu_df.head()"
   ]
  },
  {
   "cell_type": "code",
   "execution_count": null,
   "metadata": {},
   "outputs": [],
   "source": []
  }
 ],
 "metadata": {
  "kernelspec": {
   "display_name": "Python 3",
   "language": "python",
   "name": "python3"
  },
  "language_info": {
   "codemirror_mode": {
    "name": "ipython",
    "version": 3
   },
   "file_extension": ".py",
   "mimetype": "text/x-python",
   "name": "python",
   "nbconvert_exporter": "python",
   "pygments_lexer": "ipython3",
   "version": "3.7.3"
  }
 },
 "nbformat": 4,
 "nbformat_minor": 2
}
