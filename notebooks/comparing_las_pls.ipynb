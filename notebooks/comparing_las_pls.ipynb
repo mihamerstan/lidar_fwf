{
 "cells": [
  {
   "cell_type": "code",
   "execution_count": 1,
   "metadata": {},
   "outputs": [],
   "source": [
    "import numpy as np\n",
    "import pandas as pd\n",
    "import matplotlib.pyplot as plt\n",
    "from laspy.file import File\n",
    "\n",
    "# Necessary to import pypwaves_updated.py from parent directory\n",
    "import sys\n",
    "sys.path.append('../')\n",
    "import pypwaves_updated as pw\n",
    "\n",
    "%matplotlib inline"
   ]
  },
  {
   "cell_type": "markdown",
   "metadata": {},
   "source": [
    "## Comparing with LAS file\n",
    "GPS timestamps kind of line up...the overall timeframe is identical to ~5 digits, but the offset is very different and the points don't line up exactly.  Also the point counts don't align, even accounting for pulses with multiple returns in the .las file."
   ]
  },
  {
   "cell_type": "code",
   "execution_count": 2,
   "metadata": {},
   "outputs": [],
   "source": [
    "# Adj GPS Time: Set both timestamps to zero for the first record\n",
    "def adjust_time(df,time_field):\n",
    "    # Function adds adj_gps_time to points or pulse dataframe, set to zero at the minimum timestamp.\n",
    "    df['adj_gps_time'] = df[time_field] - df[time_field].min()\n",
    "    return df\n",
    "\n",
    "def label_returns(las_df):\n",
    "    '''\n",
    "    Parses the flag_byte into number of returns and return number, adds these fields to las_df.\n",
    "    Input - las_df - dataframe from .laz or .lz file\n",
    "    Output - first_return_df - only the first return points from las_df.\n",
    "           - las_df - input dataframe with num_returns and return_num fields added \n",
    "    '''\n",
    "    \n",
    "    las_df['num_returns'] = np.floor(las_df['flag_byte']/16).astype(int)\n",
    "    las_df['return_num'] = las_df['flag_byte']%16\n",
    "    first_return_df = las_df[las_df['return_num']==1]\n",
    "    first_return_df = first_return_df.reset_index(drop=True)\n",
    "    return first_return_df, las_df\n",
    "\n",
    "\n",
    "def pull_first_scan_gap(df):\n",
    "    # Separate return num, only keep the first returns, add scan_gap, sort\n",
    "    df['num_returns'] = np.floor(df['flag_byte']/16).astype(int)\n",
    "    df['return_num'] = df['flag_byte']%16\n",
    "    \n",
    "    first_return_wall = df[df['return_num']==1]\n",
    "    first_return_wall.sort_values(by=['gps_time'],inplace=True)\n",
    "    first_return_wall.reset_index(inplace=True)\n",
    "    first_return_wall.loc[1:,'scan_gap'] = [first_return_wall.loc[i+1,'scan_angle'] - first_return_wall.loc[i,'scan_angle'] for i in range(first_return_wall.shape[0]-1)]\n",
    "    first_return_wall.loc[0,'scan_gap'] = 0\n",
    "    first_return_wall['scan_angle_deg'] = first_return_wall['scan_angle']*.006\n",
    "    return first_return_wall"
   ]
  },
  {
   "cell_type": "code",
   "execution_count": 3,
   "metadata": {},
   "outputs": [],
   "source": [
    "# Load LAS points\n",
    "las_df = pd.read_hdf(\"../../Data/parking_lot/las_points_164239.lz\")\n",
    "\n",
    "# Load pls anchor points\n",
    "pls_anchor_df = pd.read_pickle(\"../../Data/164239_all/anchors_164239.pkl\")\n",
    "\n",
    "\n",
    "# Separate out the first returns only\n",
    "las_df = adjust_time(las_df,'gps_time')\n",
    "pls_anchor_df = adjust_time(pls_anchor_df,'gps_time')\n",
    "\n",
    "# Sort records by timestamp\n",
    "las_df.sort_values(by=['adj_gps_time'],inplace=True)\n",
    "pls_anchor_df.sort_values(by=['adj_gps_time'],inplace=True)\n",
    "\n",
    "# Reset indices\n",
    "las_df.reset_index(drop=True,inplace=True)\n",
    "pls_anchor_df.reset_index(drop=True,inplace=True)"
   ]
  },
  {
   "cell_type": "code",
   "execution_count": 4,
   "metadata": {},
   "outputs": [
    {
     "name": "stderr",
     "output_type": "stream",
     "text": [
      "/opt/anaconda3/lib/python3.7/site-packages/ipykernel_launcher.py:28: SettingWithCopyWarning: \n",
      "A value is trying to be set on a copy of a slice from a DataFrame\n",
      "\n",
      "See the caveats in the documentation: https://pandas.pydata.org/pandas-docs/stable/user_guide/indexing.html#returning-a-view-versus-a-copy\n",
      "/opt/anaconda3/lib/python3.7/site-packages/pandas/core/indexing.py:844: SettingWithCopyWarning: \n",
      "A value is trying to be set on a copy of a slice from a DataFrame.\n",
      "Try using .loc[row_indexer,col_indexer] = value instead\n",
      "\n",
      "See the caveats in the documentation: https://pandas.pydata.org/pandas-docs/stable/user_guide/indexing.html#returning-a-view-versus-a-copy\n",
      "  self.obj[key] = _infer_fill_value(value)\n",
      "/opt/anaconda3/lib/python3.7/site-packages/pandas/core/indexing.py:965: SettingWithCopyWarning: \n",
      "A value is trying to be set on a copy of a slice from a DataFrame.\n",
      "Try using .loc[row_indexer,col_indexer] = value instead\n",
      "\n",
      "See the caveats in the documentation: https://pandas.pydata.org/pandas-docs/stable/user_guide/indexing.html#returning-a-view-versus-a-copy\n",
      "  self.obj[item] = s\n",
      "/opt/anaconda3/lib/python3.7/site-packages/ipykernel_launcher.py:32: SettingWithCopyWarning: \n",
      "A value is trying to be set on a copy of a slice from a DataFrame.\n",
      "Try using .loc[row_indexer,col_indexer] = value instead\n",
      "\n",
      "See the caveats in the documentation: https://pandas.pydata.org/pandas-docs/stable/user_guide/indexing.html#returning-a-view-versus-a-copy\n"
     ]
    }
   ],
   "source": [
    "# First returns only\n",
    "first_return_df = pull_first_scan_gap(las_df)\n",
    "# print(\"Number of points in .las file: {:,d}\".format(las_df.shape[0]))\n",
    "# print(\"Number of first return points: {:,d}\".format(first_return_df.shape[0]))\n",
    "# print(\"Number of pulses in .pls file: {:,d}\".format(pls_anchor_df.shape[0]))"
   ]
  },
  {
   "cell_type": "markdown",
   "metadata": {},
   "source": [
    "### Comparing Timestamps\n",
    "The timespan for the two files agree almost exactly.  \n",
    "LAS file uses seconds since midnight Saturday night.  \n",
    "PLS file uses GPS Week Time (seconds since midnight on previous Sunday night).  \n",
    "Oddly, the files are still phased by 18 seconds, even after accounting for the 6-day offset."
   ]
  },
  {
   "cell_type": "code",
   "execution_count": 5,
   "metadata": {},
   "outputs": [
    {
     "name": "stdout",
     "output_type": "stream",
     "text": [
      "LAS range: 57.295 seconds\n",
      "PLS range: 57.295 seconds\n"
     ]
    }
   ],
   "source": [
    "# Compare time ranges\n",
    "las_range = (first_return_df['gps_time'].min(),first_return_df['gps_time'].max())\n",
    "anchor_range = (pls_anchor_df['gps_time'].min(),pls_anchor_df['gps_time'].max())\n",
    "\n",
    "print(\"LAS range: {:2.3f} seconds\".format(las_range[1]-las_range[0]))\n",
    "print(\"PLS range: {:2.3f} seconds\".format(anchor_range[1]-anchor_range[0]))"
   ]
  },
  {
   "cell_type": "code",
   "execution_count": null,
   "metadata": {},
   "outputs": [],
   "source": [
    "60179.666364-las_range[0]"
   ]
  },
  {
   "cell_type": "code",
   "execution_count": null,
   "metadata": {},
   "outputs": [],
   "source": [
    "# First bit of Global Encoding indicates the gps time model: 0 for GPS Week Time, \n",
    "# 1 for GPS Adj Standard Time (Standard Time - 1e9)\n",
    "# The origin of standard GPS Time is defined as midnight of the morning of January 6, 1980.\n",
    "# print(inFile.header.global_encoding%2)"
   ]
  },
  {
   "cell_type": "code",
   "execution_count": 6,
   "metadata": {},
   "outputs": [
    {
     "name": "stdout",
     "output_type": "stream",
     "text": [
      "\n",
      "LAS:\n",
      "GPS Time at start of run: 0.697 days\n",
      "\n",
      "PLS:\n",
      "GPS Time at start of run: 6.696 days\n"
     ]
    }
   ],
   "source": [
    "# Checking the GPS encoding for LAS file - Type 0 indicates GPS Week Time, otherwise GPS Adjusted Time.\n",
    "# This seems to mean GPS Week Time\n",
    "#print(\"LAS time type: \",las_header.header.get_gps_time_type())\n",
    "\n",
    "print(\"\\nLAS:\")\n",
    "print(\"GPS Time at start of run: {:2.3f} days\".format(las_range[0]/ (60*60*24)))\n",
    "# So the run was probably on a Sunday?\n",
    "print(\"\\nPLS:\")\n",
    "print(\"GPS Time at start of run: {:2.3f} days\".format(anchor_range[0]/(60*60*24)))"
   ]
  },
  {
   "cell_type": "code",
   "execution_count": 7,
   "metadata": {},
   "outputs": [
    {
     "name": "stdout",
     "output_type": "stream",
     "text": [
      "Difference in timestamps, accounting for GPS convention: -18.00 seconds\n"
     ]
    }
   ],
   "source": [
    "# Oddly, the files are still phased by 18 seconds\n",
    "print(\"Difference in timestamps, accounting for GPS convention: {:2.2f} seconds\".format(\n",
    "                        anchor_range[0] - las_range[0] - (6*24*60*60)))"
   ]
  },
  {
   "cell_type": "markdown",
   "metadata": {},
   "source": [
    "## Extract points with no corresponding pulse\n",
    "Points that don't have a pulse within $\\pm \\epsilon$ seconds."
   ]
  },
  {
   "cell_type": "code",
   "execution_count": 8,
   "metadata": {},
   "outputs": [],
   "source": [
    "# For each point, find the pulse at the closest \n",
    "# previous (or equal) timestamp\n",
    "pls_indices = np.searchsorted(pls_anchor_df['adj_gps_time'],\n",
    "                             first_return_df['adj_gps_time'])-1"
   ]
  },
  {
   "cell_type": "code",
   "execution_count": 9,
   "metadata": {},
   "outputs": [],
   "source": [
    "# Only the nearest point can associate with a given pulse.\n",
    "pls_indices[0] = 0\n",
    "for i,pls in enumerate(pls_indices[1:]):\n",
    "    if pls_indices[i] == pls_indices[i-1]:\n",
    "#     if np.isin(pls,pls_indices[:i-1]):\n",
    "        pls_indices[i] = 0"
   ]
  },
  {
   "cell_type": "code",
   "execution_count": 10,
   "metadata": {
    "scrolled": true
   },
   "outputs": [],
   "source": [
    "# Calculate time difference between each point and closest pulse\n",
    "epsilon = .00001 # This is too loose, but it works for just looking at points that clearly have no pulse.\n",
    "time_diff = np.array(first_return_df['adj_gps_time']) - \\\n",
    "            np.array(pls_anchor_df['adj_gps_time'].iloc[pls_indices])\n",
    "\n",
    "# If time difference > epsilon, set pls_index to zero\n",
    "for i,t in enumerate(time_diff):\n",
    "    if t > epsilon:\n",
    "        pls_indices[i] = 0"
   ]
  },
  {
   "cell_type": "code",
   "execution_count": 11,
   "metadata": {},
   "outputs": [
    {
     "name": "stderr",
     "output_type": "stream",
     "text": [
      "/opt/anaconda3/lib/python3.7/site-packages/ipykernel_launcher.py:1: SettingWithCopyWarning: \n",
      "A value is trying to be set on a copy of a slice from a DataFrame.\n",
      "Try using .loc[row_indexer,col_indexer] = value instead\n",
      "\n",
      "See the caveats in the documentation: https://pandas.pydata.org/pandas-docs/stable/user_guide/indexing.html#returning-a-view-versus-a-copy\n",
      "  \"\"\"Entry point for launching an IPython kernel.\n"
     ]
    }
   ],
   "source": [
    "first_return_df['pulse_index'] = pls_indices\n",
    "\n",
    "# Points without pulses\n",
    "no_pulse = first_return_df[first_return_df['pulse_index']==0]\n",
    "with_pulse = first_return_df[first_return_df['pulse_index']>0]\n",
    "\n",
    "# Find pulses with no point\n",
    "pulse_with_point = pls_anchor_df.iloc[with_pulse['pulse_index']]\n",
    "pulse_without_point = pls_anchor_df.drop(with_pulse['pulse_index'])"
   ]
  },
  {
   "cell_type": "code",
   "execution_count": 12,
   "metadata": {},
   "outputs": [
    {
     "name": "stdout",
     "output_type": "stream",
     "text": [
      "Fraction of points without a corresponding pulse: 0.4269\n"
     ]
    }
   ],
   "source": [
    "print(\"Fraction of points without a corresponding pulse: {:2.4f}\".format(sum(pls_indices==0)/pls_indices.shape[0]))"
   ]
  },
  {
   "cell_type": "markdown",
   "metadata": {},
   "source": [
    "## Missing Point waveforms\n",
    "The streaks of missing points, do the waveforms of nearby points look different? Are points being lost in a wider waveform?"
   ]
  },
  {
   "cell_type": "code",
   "execution_count": 13,
   "metadata": {},
   "outputs": [],
   "source": [
    "# Load the pulsewaves file\n",
    "pls_file = \"../../Data/164239_all/10552_NYU_M2_Pulse_Waves_MTA_Resolved-Scanner1-190511_164239_1-originalpoints.pls\"\n",
    "pulsewave = pw.openPLS(pls_file)"
   ]
  },
  {
   "cell_type": "code",
   "execution_count": null,
   "metadata": {},
   "outputs": [],
   "source": [
    "# Skip over the water\n",
    "streaks_df = with_pulse[with_pulse['gps_time']>60204]"
   ]
  },
  {
   "cell_type": "code",
   "execution_count": 14,
   "metadata": {},
   "outputs": [],
   "source": [
    "def plot_missing_pts(df_first,col,ylabel='Point Count'):\n",
    "    # Prints the histogram of col for each of: all points, after single miss pts, and after multiple miss pts\n",
    "    # Avg Scan angle for missing pts vs regular\n",
    "    after_single_miss = df_first[df_first['scan_gap'].isin([-10,-11])]\n",
    "    after_multiple_miss = df_first[df_first['scan_gap'].isin([-21,-20,-15,-16])]\n",
    "    \n",
    "    \n",
    "    plt.figure(figsize=[20,5])\n",
    "\n",
    "    plt.subplot(1,3,1)\n",
    "    ax = df_first[col].hist(bins=100)\n",
    "    ax.set_xlabel(col)\n",
    "    ax.set_ylabel(ylabel)\n",
    "    ax.set_title(\"All points\")\n",
    "\n",
    "    plt.subplot(1,3,2)\n",
    "    ax = after_single_miss[col].hist(bins=100)\n",
    "    ax.set_xlabel(col)\n",
    "    ax.set_title(\"Single Missing Point\")\n",
    "\n",
    "    plt.subplot(1,3,3)\n",
    "    ax = after_multiple_miss[col].hist(bins=100)\n",
    "    ax.set_xlabel(col)\n",
    "    ax.set_title(\"Multiple Missing Points\")    \n",
    "    \n",
    "# Look into wave segments\n",
    "def plot_all_returns(pulse_number):\n",
    "    # Pulls the waveform and plots the outgoing pulse and 1 or multiple returns, depending on what's available.\n",
    "    a = pulsewave.get_waves(pulse_number).segments\n",
    "    plt.figure(figsize=[20,8])\n",
    "    for r in range(len(a)):\n",
    "        plt.subplot(1,len(a),r+1)\n",
    "        \n",
    "        if r == 0:\n",
    "            plt.plot(a[r][3],a[r][2],'r')\n",
    "            plt.title(\"Outgoing\",fontsize=13)\n",
    "            plt.ylabel(\"Z\",fontsize=13)\n",
    "            plt.xlabel(\"Amplitude\",fontsize=13)\n",
    "            plt.xticks(fontsize=13)\n",
    "            plt.yticks(fontsize=13)\n",
    "        else:\n",
    "            plt.plot(a[r][3],a[r][2],'b')\n",
    "            plt.title(\"Return {}\".format(r),fontsize=13)\n",
    "            plt.xlabel(\"Amplitude\",fontsize=13)\n",
    "            plt.xticks(fontsize=13)\n",
    "            plt.yticks(fontsize=13)\n",
    "\n",
    "    plt.show()"
   ]
  },
  {
   "cell_type": "code",
   "execution_count": null,
   "metadata": {},
   "outputs": [],
   "source": [
    "plot_missing_pts(streaks_df,'scan_angle_deg')"
   ]
  },
  {
   "cell_type": "code",
   "execution_count": null,
   "metadata": {},
   "outputs": [],
   "source": [
    "# Identify a point with scan deg i n[24,28]\n",
    "miss_pts_index = (streaks_df['scan_angle_deg']>24) & \\\n",
    "                      (streaks_df['scan_angle_deg']<28) & \\\n",
    "                      (streaks_df['scan_gap'].isin([-9,-10,-11]))\n",
    "\n",
    "# Annoyingly, this create a list of booleans indicating the previous point, used with df.loc[]\n",
    "miss_pts_rows = list(miss_pts_index.reset_index(drop=True))\n",
    "add_end = miss_pts_rows.pop(0)\n",
    "miss_pts_rows.append(add_end)"
   ]
  },
  {
   "cell_type": "code",
   "execution_count": null,
   "metadata": {},
   "outputs": [],
   "source": [
    "# DFs for preceding and following points of missing points\n",
    "follow_pt = streaks_df[miss_pts_index]\n",
    "prev_pt = streaks_df.loc[list(miss_pts_rows)]"
   ]
  },
  {
   "cell_type": "code",
   "execution_count": null,
   "metadata": {},
   "outputs": [],
   "source": [
    "follow_pt"
   ]
  },
  {
   "cell_type": "code",
   "execution_count": null,
   "metadata": {},
   "outputs": [],
   "source": [
    "# 60205.194257\n",
    "first_return_df[(first_return_df['gps_time']>60205.19425)&(first_return_df['gps_time']<60205.195)]"
   ]
  },
  {
   "cell_type": "code",
   "execution_count": null,
   "metadata": {
    "scrolled": false
   },
   "outputs": [],
   "source": [
    "# for i in np.arange(3775808,3775808+30):\n",
    "print(streaks_df[streaks_df['pulse_index']==3775808].index)\n",
    "print(streaks_df[streaks_df['pulse_index']==3775808+29].index)\n",
    "# streaks_df.loc[4448920:4448943]\n",
    "# las_df[(las_df['gps_time']>60205.1945)&(las_df['gps_time']<60205.19458)]\n",
    "\n",
    "no_pulse[(no_pulse['gps_time']>60205.1945)&(no_pulse['gps_time']<60205.19458)]"
   ]
  },
  {
   "cell_type": "code",
   "execution_count": 60,
   "metadata": {},
   "outputs": [
    {
     "data": {
      "text/html": [
       "<div>\n",
       "<style scoped>\n",
       "    .dataframe tbody tr th:only-of-type {\n",
       "        vertical-align: middle;\n",
       "    }\n",
       "\n",
       "    .dataframe tbody tr th {\n",
       "        vertical-align: top;\n",
       "    }\n",
       "\n",
       "    .dataframe thead th {\n",
       "        text-align: right;\n",
       "    }\n",
       "</style>\n",
       "<table border=\"1\" class=\"dataframe\">\n",
       "  <thead>\n",
       "    <tr style=\"text-align: right;\">\n",
       "      <th></th>\n",
       "      <th>index</th>\n",
       "      <th>X</th>\n",
       "      <th>Y</th>\n",
       "      <th>Z</th>\n",
       "      <th>intensity</th>\n",
       "      <th>flag_byte</th>\n",
       "      <th>classification_flags</th>\n",
       "      <th>classification_byte</th>\n",
       "      <th>user_data</th>\n",
       "      <th>scan_angle</th>\n",
       "      <th>...</th>\n",
       "      <th>gps_time</th>\n",
       "      <th>x_scaled</th>\n",
       "      <th>y_scaled</th>\n",
       "      <th>z_scaled</th>\n",
       "      <th>adj_gps_time</th>\n",
       "      <th>num_returns</th>\n",
       "      <th>return_num</th>\n",
       "      <th>scan_gap</th>\n",
       "      <th>scan_angle_deg</th>\n",
       "      <th>pulse_index</th>\n",
       "    </tr>\n",
       "  </thead>\n",
       "  <tbody>\n",
       "    <tr>\n",
       "      <th>4837363</th>\n",
       "      <td>5071952</td>\n",
       "      <td>-220634</td>\n",
       "      <td>680378</td>\n",
       "      <td>27892</td>\n",
       "      <td>1516</td>\n",
       "      <td>17</td>\n",
       "      <td>0</td>\n",
       "      <td>0</td>\n",
       "      <td>0</td>\n",
       "      <td>3325</td>\n",
       "      <td>...</td>\n",
       "      <td>60206.744088</td>\n",
       "      <td>976779.366</td>\n",
       "      <td>173680.378</td>\n",
       "      <td>27.892</td>\n",
       "      <td>27.081882</td>\n",
       "      <td>1</td>\n",
       "      <td>1</td>\n",
       "      <td>-6.0</td>\n",
       "      <td>19.950</td>\n",
       "      <td>4126491</td>\n",
       "    </tr>\n",
       "    <tr>\n",
       "      <th>4837364</th>\n",
       "      <td>5071953</td>\n",
       "      <td>-220641</td>\n",
       "      <td>680400</td>\n",
       "      <td>26005</td>\n",
       "      <td>1454</td>\n",
       "      <td>17</td>\n",
       "      <td>0</td>\n",
       "      <td>0</td>\n",
       "      <td>0</td>\n",
       "      <td>3320</td>\n",
       "      <td>...</td>\n",
       "      <td>60206.744091</td>\n",
       "      <td>976779.359</td>\n",
       "      <td>173680.400</td>\n",
       "      <td>26.005</td>\n",
       "      <td>27.081885</td>\n",
       "      <td>1</td>\n",
       "      <td>1</td>\n",
       "      <td>-5.0</td>\n",
       "      <td>19.920</td>\n",
       "      <td>0</td>\n",
       "    </tr>\n",
       "    <tr>\n",
       "      <th>4837365</th>\n",
       "      <td>5071955</td>\n",
       "      <td>-217147</td>\n",
       "      <td>679704</td>\n",
       "      <td>33951</td>\n",
       "      <td>275</td>\n",
       "      <td>33</td>\n",
       "      <td>0</td>\n",
       "      <td>0</td>\n",
       "      <td>0</td>\n",
       "      <td>3315</td>\n",
       "      <td>...</td>\n",
       "      <td>60206.744093</td>\n",
       "      <td>976782.853</td>\n",
       "      <td>173679.704</td>\n",
       "      <td>33.951</td>\n",
       "      <td>27.081887</td>\n",
       "      <td>2</td>\n",
       "      <td>1</td>\n",
       "      <td>-5.0</td>\n",
       "      <td>19.890</td>\n",
       "      <td>4126493</td>\n",
       "    </tr>\n",
       "    <tr>\n",
       "      <th>4837366</th>\n",
       "      <td>5071956</td>\n",
       "      <td>-220614</td>\n",
       "      <td>680440</td>\n",
       "      <td>22254</td>\n",
       "      <td>1338</td>\n",
       "      <td>17</td>\n",
       "      <td>0</td>\n",
       "      <td>0</td>\n",
       "      <td>0</td>\n",
       "      <td>3309</td>\n",
       "      <td>...</td>\n",
       "      <td>60206.744096</td>\n",
       "      <td>976779.386</td>\n",
       "      <td>173680.440</td>\n",
       "      <td>22.254</td>\n",
       "      <td>27.081890</td>\n",
       "      <td>1</td>\n",
       "      <td>1</td>\n",
       "      <td>-6.0</td>\n",
       "      <td>19.854</td>\n",
       "      <td>0</td>\n",
       "    </tr>\n",
       "  </tbody>\n",
       "</table>\n",
       "<p>4 rows × 21 columns</p>\n",
       "</div>"
      ],
      "text/plain": [
       "           index       X       Y      Z  intensity  flag_byte  \\\n",
       "4837363  5071952 -220634  680378  27892       1516         17   \n",
       "4837364  5071953 -220641  680400  26005       1454         17   \n",
       "4837365  5071955 -217147  679704  33951        275         33   \n",
       "4837366  5071956 -220614  680440  22254       1338         17   \n",
       "\n",
       "         classification_flags  classification_byte  user_data  scan_angle  \\\n",
       "4837363                     0                    0          0        3325   \n",
       "4837364                     0                    0          0        3320   \n",
       "4837365                     0                    0          0        3315   \n",
       "4837366                     0                    0          0        3309   \n",
       "\n",
       "         ...      gps_time    x_scaled    y_scaled  z_scaled  adj_gps_time  \\\n",
       "4837363  ...  60206.744088  976779.366  173680.378    27.892     27.081882   \n",
       "4837364  ...  60206.744091  976779.359  173680.400    26.005     27.081885   \n",
       "4837365  ...  60206.744093  976782.853  173679.704    33.951     27.081887   \n",
       "4837366  ...  60206.744096  976779.386  173680.440    22.254     27.081890   \n",
       "\n",
       "         num_returns  return_num  scan_gap  scan_angle_deg  pulse_index  \n",
       "4837363            1           1      -6.0          19.950      4126491  \n",
       "4837364            1           1      -5.0          19.920            0  \n",
       "4837365            2           1      -5.0          19.890      4126493  \n",
       "4837366            1           1      -6.0          19.854            0  \n",
       "\n",
       "[4 rows x 21 columns]"
      ]
     },
     "execution_count": 60,
     "metadata": {},
     "output_type": "execute_result"
    }
   ],
   "source": [
    "first_return_df[(first_return_df['adj_gps_time']>27.08188)&(first_return_df['adj_gps_time']<27.08189)]\n",
    "# first_return_df[first_return_df['pulse_index']==4128165]['z_scaled']/3.28084"
   ]
  },
  {
   "cell_type": "code",
   "execution_count": 61,
   "metadata": {},
   "outputs": [
    {
     "data": {
      "text/plain": [
       "8.229599736652808"
      ]
     },
     "execution_count": 61,
     "metadata": {},
     "output_type": "execute_result"
    }
   ],
   "source": [
    "27/3.28084"
   ]
  },
  {
   "cell_type": "code",
   "execution_count": null,
   "metadata": {},
   "outputs": [],
   "source": [
    "# first_return_df[first_return_df['pulse_index']==5750127]\n",
    "first_return_df.loc[6527491:6527611]"
   ]
  },
  {
   "cell_type": "code",
   "execution_count": null,
   "metadata": {
    "scrolled": true
   },
   "outputs": [],
   "source": [
    "for i in np.arange(5750020,5750020+100):\n",
    "    print(\"{:2.6f}\".format(pls_anchor_df.loc[i]['adj_gps_time']+60205.194250-25.532044))\n"
   ]
  },
  {
   "cell_type": "code",
   "execution_count": null,
   "metadata": {
    "scrolled": true
   },
   "outputs": [],
   "source": [
    "j=0\n",
    "print(\"All pulses for one scan line through a missing point streak\")\n",
    "print(\"*\"*60,\"\\n\")\n",
    "for i in np.arange(5750020,5750020+100):\n",
    "    try:\n",
    "        num_cloud_returns = int(first_return_df[first_return_df['pulse_index']==i]['num_returns'])\n",
    "    except TypeError:\n",
    "        num_cloud_returns = \"Timestamps did not line up\"\n",
    "    print(\"Pulse {} \\nAdjusted time: {:2.6f}\".format(i,pls_anchor_df.loc[i]['adj_gps_time']+60205.194250-25.532044))\n",
    "    print(\"Number of point cloud returns: {}\".format(num_cloud_returns))\n",
    "    print(\"Number of Pulsewave returns: {}\".format(len(pulsewave.get_waves(int(i)).segments)-1))\n",
    "    plot_all_returns(int(i))\n",
    "#     if len(pulsewave.get_waves(int(i)).segments)>2:\n",
    "#         print(j)\n",
    "#         j+=1\n",
    "    "
   ]
  },
  {
   "cell_type": "code",
   "execution_count": null,
   "metadata": {},
   "outputs": [],
   "source": [
    "# Print the waves from the windows on the Army Terminal Bldg\n",
    "\n",
    "for i in np.arange(0,20):\n",
    "    p = int(follow_pt.iloc[i]['pulse_index'])\n",
    "    print(\"Pulse {} adjusted time: {:2.8f}\".format(p, \\\n",
    "                                                   pls_anchor_df.loc[i]['adj_gps_time']+60205.194250-25.532044))\n",
    "    print(\"Number of point cloud returns: {}\".format(int(follow_pt.iloc[i]['num_returns'])))\n",
    "    print(\"Number of Pulsewave returns: {}\".format(len(pulsewave.get_waves(p).segments)-1))\n",
    "    plot_all_returns(p)"
   ]
  },
  {
   "cell_type": "code",
   "execution_count": 66,
   "metadata": {
    "scrolled": false
   },
   "outputs": [
    {
     "name": "stdout",
     "output_type": "stream",
     "text": [
      "bits per sample:  8\n",
      "num samples:  24\n",
      "bits anchor:  32\n",
      "bits per sample:  8\n",
      "num samples:  60\n",
      "bits anchor:  32\n",
      "bits per sample:  8\n",
      "num samples:  60\n",
      "bits anchor:  32\n",
      "bits per sample:  8\n",
      "num samples:  24\n",
      "bits anchor:  32\n",
      "bits per sample:  8\n",
      "num samples:  60\n",
      "bits anchor:  32\n",
      "bits per sample:  8\n",
      "num samples:  24\n",
      "bits anchor:  32\n",
      "bits per sample:  8\n",
      "num samples:  60\n",
      "bits anchor:  32\n"
     ]
    },
    {
     "data": {
      "image/png": "[encoded data removed]",
      "text/plain": [
       "<Figure size 504x864 with 3 Axes>"
      ]
     },
     "metadata": {
      "needs_background": "light"
     },
     "output_type": "display_data"
    }
   ],
   "source": [
    "# 4128165 high on wall\n",
    "# 4124759 low on wall\n",
    "\n",
    "plt.figure(figsize=[7,12])\n",
    "heights = [29,18,3]\n",
    "for i,p in enumerate([4128165,4119555,4126491]):\n",
    "    a = pulsewave.get_waves(int(p)).segments\n",
    "    plt.subplot(3,1,i+1)\n",
    "    plt.plot(a[1][3],a[1][2],'b',label='Wall Height = {}m'.format(heights[i]))\n",
    "#     plt.title(\"Return {}\".format(r),fontsize=13)\n",
    "#     plt.ylabel(\"Z value\",fontsize=18)\n",
    "    plt.xlim([0,200])\n",
    "    plt.xticks(fontsize=18)\n",
    "    plt.yticks(fontsize=18)\n",
    "    plt.legend(loc='lower right',fontsize=18)\n",
    "    if i == 2:\n",
    "        plt.xlabel(\"Amplitude\",fontsize=18)\n"
   ]
  },
  {
   "cell_type": "code",
   "execution_count": 40,
   "metadata": {},
   "outputs": [
    {
     "data": {
      "text/html": [
       "<div>\n",
       "<style scoped>\n",
       "    .dataframe tbody tr th:only-of-type {\n",
       "        vertical-align: middle;\n",
       "    }\n",
       "\n",
       "    .dataframe tbody tr th {\n",
       "        vertical-align: top;\n",
       "    }\n",
       "\n",
       "    .dataframe thead th {\n",
       "        text-align: right;\n",
       "    }\n",
       "</style>\n",
       "<table border=\"1\" class=\"dataframe\">\n",
       "  <thead>\n",
       "    <tr style=\"text-align: right;\">\n",
       "      <th></th>\n",
       "      <th>gps_time</th>\n",
       "      <th>x</th>\n",
       "      <th>y</th>\n",
       "      <th>z</th>\n",
       "      <th>gps_time_adj</th>\n",
       "      <th>adj_gps_time</th>\n",
       "    </tr>\n",
       "  </thead>\n",
       "  <tbody>\n",
       "    <tr>\n",
       "      <th>0</th>\n",
       "      <td>578561.662519</td>\n",
       "      <td>976902.48350</td>\n",
       "      <td>176199.84275</td>\n",
       "      <td>315.52125</td>\n",
       "      <td>0.000000</td>\n",
       "      <td>0.000000</td>\n",
       "    </tr>\n",
       "    <tr>\n",
       "      <th>1</th>\n",
       "      <td>578561.662599</td>\n",
       "      <td>976915.34975</td>\n",
       "      <td>176196.58125</td>\n",
       "      <td>315.62675</td>\n",
       "      <td>0.000080</td>\n",
       "      <td>0.000080</td>\n",
       "    </tr>\n",
       "    <tr>\n",
       "      <th>2</th>\n",
       "      <td>578561.662612</td>\n",
       "      <td>976917.29200</td>\n",
       "      <td>176196.09850</td>\n",
       "      <td>315.31625</td>\n",
       "      <td>0.000093</td>\n",
       "      <td>0.000093</td>\n",
       "    </tr>\n",
       "    <tr>\n",
       "      <th>3</th>\n",
       "      <td>578561.662646</td>\n",
       "      <td>976922.49300</td>\n",
       "      <td>176194.79100</td>\n",
       "      <td>314.98650</td>\n",
       "      <td>0.000127</td>\n",
       "      <td>0.000127</td>\n",
       "    </tr>\n",
       "    <tr>\n",
       "      <th>4</th>\n",
       "      <td>578561.662677</td>\n",
       "      <td>977139.39475</td>\n",
       "      <td>176119.19375</td>\n",
       "      <td>1016.24825</td>\n",
       "      <td>0.000158</td>\n",
       "      <td>0.000158</td>\n",
       "    </tr>\n",
       "  </tbody>\n",
       "</table>\n",
       "</div>"
      ],
      "text/plain": [
       "        gps_time             x             y           z  gps_time_adj  \\\n",
       "0  578561.662519  976902.48350  176199.84275   315.52125      0.000000   \n",
       "1  578561.662599  976915.34975  176196.58125   315.62675      0.000080   \n",
       "2  578561.662612  976917.29200  176196.09850   315.31625      0.000093   \n",
       "3  578561.662646  976922.49300  176194.79100   314.98650      0.000127   \n",
       "4  578561.662677  977139.39475  176119.19375  1016.24825      0.000158   \n",
       "\n",
       "   adj_gps_time  \n",
       "0      0.000000  \n",
       "1      0.000080  \n",
       "2      0.000093  \n",
       "3      0.000127  \n",
       "4      0.000158  "
      ]
     },
     "execution_count": 40,
     "metadata": {},
     "output_type": "execute_result"
    }
   ],
   "source": [
    "pls_anchor_df.head()"
   ]
  },
  {
   "cell_type": "code",
   "execution_count": null,
   "metadata": {
    "scrolled": false
   },
   "outputs": [],
   "source": [
    "import warnings\n",
    "import matplotlib.cbook\n",
    "warnings.filterwarnings(\"ignore\",category=matplotlib.cbook.mplDeprecation)\n",
    "\n",
    "plt.figure(figsize=[20,10])\n",
    "# for i in np.arange(3775808,3775808+30):\n",
    "for i in np.arange(5761020-200,5761020-100):\n",
    "    s = pulsewave.get_waves(int(i)).segments\n",
    "    for r in range(1,len(s)):\n",
    "        ax1 = plt.subplot(1,3,1)\n",
    "        ax1.plot(s[r][0],label=[i,r])\n",
    "        ax1.set_title(\"X\")\n",
    "        ax2 = plt.subplot(1,3,2)\n",
    "        ax2.plot(s[r][1],label=[i,r])\n",
    "        ax2.set_title(\"Y\")\n",
    "        ax3 = plt.subplot(1,3,3)\n",
    "        ax3.plot(s[r][2],label=[i,r])\n",
    "        ax3.set_title(\"Z\")\n",
    "\n",
    "# plt.legend(loc='best')\n",
    "plt.show()"
   ]
  },
  {
   "cell_type": "code",
   "execution_count": null,
   "metadata": {},
   "outputs": [],
   "source": [
    "\n",
    "plt.plot(b[1][0],'bo',label=822)\n",
    "plt.plot(b[2][0],'ro',label=822_2)\n",
    "plt.plot(c[1][0],'yx',label=823)\n",
    "plt.plot(a[1][0],'gx',label=821)\n",
    "plt.legend()"
   ]
  },
  {
   "cell_type": "code",
   "execution_count": null,
   "metadata": {},
   "outputs": [],
   "source": [
    "pls_anchor_df.loc[335]"
   ]
  },
  {
   "cell_type": "code",
   "execution_count": null,
   "metadata": {},
   "outputs": [],
   "source": [
    "pulsewave.t_scale"
   ]
  },
  {
   "cell_type": "markdown",
   "metadata": {},
   "source": [
    "## Time between returns\n",
    "Looking at the typical timing between first, second, nth returns for the same pulse.  \n",
    "Result: All associated returns have the exact same timestamp!  "
   ]
  },
  {
   "cell_type": "code",
   "execution_count": null,
   "metadata": {},
   "outputs": [],
   "source": [
    "returns_from_same_pulse = las_df.iloc[336020:336028]\n",
    "print(\"Timestamp range of 8 returns for same pulse: {:2.5f} seconds\".format(returns_from_same_pulse['gps_time'].max()-returns_from_same_pulse['gps_time'].min()))\n",
    "las_df.iloc[336020:336028][['num_returns','return_num','gps_time']] "
   ]
  },
  {
   "cell_type": "code",
   "execution_count": null,
   "metadata": {},
   "outputs": [],
   "source": [
    "# Q: Are multi-return points less likely to line up with a pulse?\n",
    "# A: No.\n",
    "print(\"Mean number of returns for points \\nwith/without a corresponding pulse\\n\"+\"*\"*40)\n",
    "print(\"Points with no pulse: {:2.4f} returns\".format(no_pulse['num_returns'].mean()))\n",
    "print(\"Points with pulse: {:2.4f} returns\".format(with_pulse['num_returns'].mean()))\n",
    "print(\"Overall: {:2.4f} returns\".format(first_return_df['num_returns'].mean()))"
   ]
  },
  {
   "cell_type": "code",
   "execution_count": null,
   "metadata": {},
   "outputs": [],
   "source": [
    "# Q: Are pulses without a point more likely to be noisy (anchor above or below expected helicopter altitude)?  \n",
    "# A: No they are not\n",
    "print(\"All pulses, % that are noisy:: {:2.4%}\".format((sum(pls_anchor_df['z']>1100) + sum(pls_anchor_df['z']< 600))/pls_anchor_df.shape[0]))\n",
    "print(\"Pulses with points: {:2.4%}\".format((sum(pulse_with_point['z']>1100) + sum(pulse_with_point['z']< 600))/pulse_with_point.shape[0]))\n",
    "print(\"Pulses without points: {:2.4%}\".format((sum(pulse_without_point['z']>1100) + sum(pulse_without_point['z']< 600))/pulse_without_point.shape[0]))   \n"
   ]
  },
  {
   "cell_type": "markdown",
   "metadata": {},
   "source": [
    "## Temporal Distribution Plotting\n",
    "Tooling, then comparing temporal distribution of points with and without a corresponding pulse."
   ]
  },
  {
   "cell_type": "code",
   "execution_count": null,
   "metadata": {},
   "outputs": [],
   "source": [
    "def create_bins(df,ms_per_bin,time_field='adj_gps_time'):\n",
    "    '''Function returns a numpy array of bin edges, \n",
    "    where the number of bins = (max_time - min_time)*1e/ms_per_bin \n",
    "    where time is in seconds.'''\n",
    "    min_val = int(np.floor(df[time_field]*1e3).min())\n",
    "    max_val = int(np.ceil(df[time_field]*1e3).max())\n",
    "    bin_range = range(min_val,max_val,ms_per_bin)\n",
    "    bin_arr = np.array(bin_range)/1e3\n",
    "    return bin_arr\n",
    "\n",
    "def plot_range(df,first_point,last_point,ms_per_bin):\n",
    "    '''\n",
    "    Plots the temporal density and the specific points within the [first_point,last_point] range.\n",
    "    Vertical lines are the bin edges\n",
    "    Red dots are the points within the bin edges\n",
    "    Blue is the distribution of the points\n",
    "    '''\n",
    "    bin_plot = create_bins(df[first_point:last_point],ms_per_bin)\n",
    "    hist_plot,_ = np.histogram(df['adj_gps_time'][first_point:last_point],bin_plot)\n",
    "    plt.figure(figsize=[18,12])\n",
    "    plt.plot(df['adj_gps_time'][first_point:last_point], \\\n",
    "             hist_plot.mean()*np.ones(last_point-first_point), \"x\",markersize=8,label=\"Points\")\n",
    "    plt.plot(bin_plot[:-1]+(ms_per_bin/2000),hist_plot,\"ro\",markersize=12,label=\"Points in bin\")\n",
    "    plt.vlines(bin_plot,hist_plot.min(),hist_plot.max(),linestyle=\":\",color='coral',label=\"Bin edges\")\n",
    "    \n",
    "    plt.xlabel(\"Time in Seconds\",fontsize=15)\n",
    "    plt.ylabel(\"Points per {}ms bin\".format(ms_per_bin),fontsize=15)\n",
    "    plt.xticks(fontsize=15)\n",
    "    plt.yticks(fontsize=15)\n",
    "    plt.legend()\n",
    "\n",
    "def points_per_scan(scan_angle):\n",
    "    '''takes scan_angle as Series, counts the number of \"jumps\" in the scan angle, indicating start of a new scan\n",
    "    then divides the number of points in scan_angle to return points / scan'''\n",
    "    delta_angle = [scan_angle.iloc[i+1]-scan_angle.iloc[i] for i in range(len(scan_angle)-1)]\n",
    "    print(\"Done\")\n",
    "    scan_count = sum(abs(np.array(delta_angle)) > scan_angle.max())\n",
    "    print(\"Number of scans: {}\".format(scan_count))\n",
    "    print(\"Points per scan: {:2.2f}\".format(len(scan_angle)/scan_count))    \n",
    "    return len(scan_angle)/scan_count, scan_count\n",
    "\n",
    "def scan_temporal_profile(df):\n",
    "    '''\n",
    "    Identifies each scan by the reset in scan_angle, calculates mean and SD for each of: \n",
    "    - time of each scan\n",
    "    - time of each gap\n",
    "    - points in each scan \n",
    "    Input: Full points dataframe\n",
    "    '''\n",
    "    df.reset_index(inplace=True)\n",
    "    delta_angle=[0]\n",
    "    delta_angle.extend([df['scan_angle'].iloc[i+1]-df['scan_angle'].iloc[i] for i in range(df.shape[0]-1)])\n",
    "    df['delta_angle'] = delta_angle\n",
    "    first_pts = df[abs(df['delta_angle'])>df['scan_angle'].max()]\n",
    "    fpi = first_pts.index\n",
    "    \n",
    "    gap_times = np.array(df.iloc[fpi]['adj_gps_time']) - np.array(df.iloc[fpi-1]['adj_gps_time'])\n",
    "    total_cycle_times = np.array(df.iloc[fpi[1:]]['adj_gps_time']) - np.array(df.iloc[fpi[:-1]]['adj_gps_time'])\n",
    "    scan_times = total_cycle_times - gap_times[:-1]\n",
    "    print(\"Gap Time Mean (ms): \",gap_times.mean()*1000)\n",
    "    print(\"Gap Time StdDev (ms): \",gap_times.std()*1000)    \n",
    "    print(\"Scan Time Mean (ms): \",scan_times.mean()*1000)\n",
    "    print(\"Scan Time StdDev (ms): \",scan_times.std()*1000)    \n",
    "\n",
    "    # Pts per scan distribution\n",
    "    pts_per_scan = np.array([fpi[i] - fpi[i-1] for i in range(1,len(fpi))])\n",
    "    print(\"Points per Scan Mean: \",pts_per_scan.mean())\n",
    "    print(\"Points per Scan StdDev: \",pts_per_scan.std())    "
   ]
  },
  {
   "cell_type": "code",
   "execution_count": null,
   "metadata": {},
   "outputs": [],
   "source": [
    "# Profiling the cycles while over land\n",
    "scan_temporal_profile(first_return_df[:500000])"
   ]
  },
  {
   "cell_type": "code",
   "execution_count": null,
   "metadata": {
    "scrolled": false
   },
   "outputs": [],
   "source": [
    "# Plots the window/cycle phasing problem\n",
    "first_point = 681048\n",
    "last_point =  first_point+13000\n",
    "\n",
    "plot_range(first_return_df,first_point,last_point,ms_per_bin=10)"
   ]
  },
  {
   "cell_type": "code",
   "execution_count": null,
   "metadata": {},
   "outputs": [],
   "source": [
    "# Create the bin edges\n",
    "bin_arr = create_bins(first_return_df,ms_per_bin=45)\n",
    "\n",
    "# Use np.histogram to find the number of points per bin\n",
    "hist,_ = np.histogram(first_return_df['adj_gps_time'],bin_arr)\n",
    "hist_no_pulse,_ = np.histogram(no_pulse['adj_gps_time'],bin_arr)\n",
    "hist_with_pulse,_ = np.histogram(with_pulse['adj_gps_time'],bin_arr)\n",
    "# Same for Pulses\n",
    "hist_pulse,_ = np.histogram(pls_anchor_df['adj_gps_time'],bin_arr)\n",
    "hist_pls_with_pt,_ = np.histogram(pulse_with_point['adj_gps_time'],bin_arr)\n",
    "hist_pls_no_pt,_ = np.histogram(pulse_without_point['adj_gps_time'],bin_arr)"
   ]
  },
  {
   "cell_type": "code",
   "execution_count": null,
   "metadata": {},
   "outputs": [],
   "source": [
    "# This plots the time distribution of points\n",
    "one_scan = first_return_df[(first_return_df['adj_gps_time'] > 2.66)&(first_return_df['adj_gps_time'] < 2.671)]\n",
    "plt.figure(figsize=[15,2])\n",
    "plt.plot(one_scan['adj_gps_time'],np.ones(len(one_scan)),'x')\n",
    "plt.title(\"Scan pattern - Points over time\")\n",
    "plt.xlabel(\"Time in Seconds\")\n",
    "plt.tick_params(\n",
    "    axis='y',          \n",
    "    which='both',    \n",
    "    left=False,      \n",
    "    labelleft=False)"
   ]
  },
  {
   "cell_type": "code",
   "execution_count": null,
   "metadata": {
    "scrolled": false
   },
   "outputs": [],
   "source": [
    "# Plot all points, points w/ pulse, and points w/o pulse in subplots\n",
    "plt.figure(figsize=(20,30))\n",
    "plt.subplot(3, 1, 1)\n",
    "plt.plot(bin_arr[:-1],hist,'+')\n",
    "plt.xlabel(\"Seconds\",fontsize=15)\n",
    "plt.ylabel(\"Points per 10 miliseconds\",fontsize=15)\n",
    "plt.title(\"All points\",fontsize=15)\n",
    "\n",
    "plt.subplot(3, 1, 2)\n",
    "plt.plot(bin_arr[:-1],hist_with_pulse,'+')\n",
    "plt.xlabel(\"Seconds\",fontsize=15)\n",
    "plt.ylabel(\"Points per 10 miliseconds\",fontsize=15)\n",
    "plt.title(\"Points with a pulse\",fontsize=15)\n",
    "\n",
    "plt.subplot(3, 1, 3)\n",
    "plt.plot(bin_arr[:-1],hist_no_pulse,'+')\n",
    "plt.xlabel(\"Seconds\",fontsize=15)\n",
    "plt.ylabel(\"Points per 10 miliseconds\",fontsize=15)\n",
    "plt.title(\"Points without a pulse\",fontsize=15)"
   ]
  },
  {
   "cell_type": "code",
   "execution_count": null,
   "metadata": {},
   "outputs": [],
   "source": [
    "# Plot all points, and decomposed into with/without a corresponding pulse.  Also includes points with no pulse.\n",
    "\n",
    "plt.figure(figsize=(20,17))\n",
    "\n",
    "plt.plot(bin_arr[:-1],hist,'g+',label=\"All points\")\n",
    "plt.plot(bin_arr[:-1],hist_with_pulse,'y+',label=\"With pulse\")\n",
    "plt.plot(bin_arr[:-1],hist_no_pulse,'r+',label=\"No pulse\")\n",
    "plt.plot(bin_arr[:-1],hist_pls_no_pt,'b+',label=\"Pulse w/o point\")\n",
    "\n",
    "plt.xlabel(\"Seconds\",fontsize=15)\n",
    "plt.ylabel(\"Points per 50 miliseconds\",fontsize=15)\n",
    "plt.legend(fontsize=15)\n",
    "plt.title(\"Temporal distribution of points/pulses from one flight\",fontsize=18)"
   ]
  },
  {
   "cell_type": "code",
   "execution_count": null,
   "metadata": {},
   "outputs": [],
   "source": [
    "# Plot all pulses, and decomposed into with/without a corresponding point\n",
    "plt.figure(figsize=(20,17))\n",
    "\n",
    "\n",
    "plt.plot(bin_arr[:-1],hist_pulse,'g+',label=\"All pulses\")\n",
    "plt.plot(bin_arr[:-1],hist_pls_with_pt,'k+',label=\"With point\")\n",
    "plt.plot(bin_arr[:-1],hist_pls_no_pt,'b+',label=\"Without point\")\n",
    "\n",
    "plt.xlabel(\"Seconds\",fontsize=15)\n",
    "plt.ylabel(\"Points per 50 miliseconds\",fontsize=15)\n",
    "plt.legend(fontsize=15)\n",
    "plt.title(\"Temporal distribution of pulses from one flight\",fontsize=18)"
   ]
  },
  {
   "cell_type": "code",
   "execution_count": null,
   "metadata": {
    "scrolled": false
   },
   "outputs": [],
   "source": [
    "# Plot all the points, full flight path\n",
    "plt.figure(figsize=(20,17))\n",
    "\n",
    "plt.plot(bin_arr[:-1],hist,'g+',label=\"All points\")\n",
    "plt.xticks(fontsize=15)\n",
    "plt.yticks(fontsize=15)\n",
    "plt.xlabel(\"Seconds\",fontsize=15)\n",
    "plt.ylabel(\"Points per 45 miliseconds\",fontsize=15)\n",
    "plt.title(\"Temporal distribution of points from one flight\",fontsize=18)"
   ]
  },
  {
   "cell_type": "code",
   "execution_count": null,
   "metadata": {},
   "outputs": [],
   "source": []
  },
  {
   "cell_type": "code",
   "execution_count": null,
   "metadata": {},
   "outputs": [],
   "source": []
  },
  {
   "cell_type": "code",
   "execution_count": null,
   "metadata": {},
   "outputs": [],
   "source": []
  }
 ],
 "metadata": {
  "kernelspec": {
   "display_name": "Python 3",
   "language": "python",
   "name": "python3"
  },
  "language_info": {
   "codemirror_mode": {
    "name": "ipython",
    "version": 3
   },
   "file_extension": ".py",
   "mimetype": "text/x-python",
   "name": "python",
   "nbconvert_exporter": "python",
   "pygments_lexer": "ipython3",
   "version": "3.7.6"
  }
 },
 "nbformat": 4,
 "nbformat_minor": 2
}
