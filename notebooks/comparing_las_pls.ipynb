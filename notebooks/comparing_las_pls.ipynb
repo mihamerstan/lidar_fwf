{
 "cells": [
  {
   "cell_type": "code",
   "execution_count": null,
   "metadata": {},
   "outputs": [],
   "source": [
    "import numpy as np\n",
    "import pandas as pd\n",
    "import matplotlib.pyplot as plt\n",
    "from laspy.file import File\n",
    "\n",
    "# Necessary to import pypwaves_updated.py from parent directory\n",
    "import sys\n",
    "sys.path.append('../')\n",
    "import pypwaves_updated as pw\n",
    "\n",
    "%matplotlib inline"
   ]
  },
  {
   "cell_type": "markdown",
   "metadata": {},
   "source": [
    "## Comparing with LAS file\n",
    "GPS timestamps kind of line up...the overall timeframe is identical to ~5 digits, but the offset is very different and the points don't line up exactly.  Also the point counts don't align, even accounting for pulses with multiple returns in the .las file."
   ]
  },
  {
   "cell_type": "code",
   "execution_count": null,
   "metadata": {},
   "outputs": [],
   "source": [
    "# Adj GPS Time: Set both timestamps to zero for the first record\n",
    "def adjust_time(df,time_field):\n",
    "    # Function adds adj_gps_time to points or pulse dataframe, set to zero at the minimum timestamp.\n",
    "    df['adj_gps_time'] = df[time_field] - df[time_field].min()\n",
    "    return df\n",
    "\n",
    "def label_returns(las_df):\n",
    "    '''\n",
    "    Parses the flag_byte into number of returns and return number, adds these fields to las_df.\n",
    "    Input - las_df - dataframe from .laz or .lz file\n",
    "    Output - first_return_df - only the first return points from las_df.\n",
    "           - las_df - input dataframe with num_returns and return_num fields added \n",
    "    '''\n",
    "    \n",
    "    las_df['num_returns'] = np.floor(las_df['flag_byte']/16).astype(int)\n",
    "    las_df['return_num'] = las_df['flag_byte']%16\n",
    "    first_return_df = las_df[las_df['return_num']==1]\n",
    "    first_return_df = first_return_df.reset_index(drop=True)\n",
    "    return first_return_df, las_df"
   ]
  },
  {
   "cell_type": "code",
   "execution_count": null,
   "metadata": {},
   "outputs": [],
   "source": [
    "# Load LAS points\n",
    "las_df = pd.read_hdf(\"../../Data/parking_lot/las_points_172753.lz\")\n",
    "\n",
    "# Load pls anchor points\n",
    "pls_anchor_df = pd.read_pickle(\"../../Data/pickles/anchors_172753.pkl\")\n",
    "\n",
    "\n",
    "# Separate out the first returns only\n",
    "las_df = adjust_time(las_df,'gps_time')\n",
    "pls_anchor_df = adjust_time(pls_anchor_df,'gps_time')\n",
    "\n",
    "# Sort records by timestamp\n",
    "las_df.sort_values(by=['adj_gps_time'],inplace=True)\n",
    "pls_anchor_df.sort_values(by=['adj_gps_time'],inplace=True)\n",
    "\n",
    "# Reset indices\n",
    "las_df.reset_index(drop=True,inplace=True)\n",
    "pls_anchor_df.reset_index(drop=True,inplace=True)"
   ]
  },
  {
   "cell_type": "code",
   "execution_count": null,
   "metadata": {},
   "outputs": [],
   "source": [
    "first_return_df, las_df = label_returns(las_df)\n",
    "print(\"Number of points in .las file: {:,d}\".format(las_df.shape[0]))\n",
    "print(\"Number of first return points: {:,d}\".format(first_return_df.shape[0]))\n",
    "print(\"Number of pulses in .pls file: {:,d}\".format(pls_anchor_df.shape[0]))"
   ]
  },
  {
   "cell_type": "markdown",
   "metadata": {},
   "source": [
    "### Comparing Timestamps\n",
    "The timespan for the two files agree almost exactly.  \n",
    "LAS file uses seconds since midnight Saturday night.  \n",
    "PLS file uses GPS Week Time (seconds since midnight on previous Sunday night).  \n",
    "Oddly, the files are still phased by 18 seconds, even after accounting for the 6-day offset."
   ]
  },
  {
   "cell_type": "code",
   "execution_count": null,
   "metadata": {},
   "outputs": [],
   "source": [
    "# Compare time ranges\n",
    "las_range = (first_return_df['gps_time'].min(),first_return_df['gps_time'].max())\n",
    "anchor_range = (pls_anchor_df['gps_time'].min(),pls_anchor_df['gps_time'].max())\n",
    "\n",
    "print(\"LAS range: {:2.3f} seconds\".format(las_range[1]-las_range[0]))\n",
    "print(\"PLS range: {:2.3f} seconds\".format(anchor_range[1]-anchor_range[0]))"
   ]
  },
  {
   "cell_type": "code",
   "execution_count": null,
   "metadata": {},
   "outputs": [],
   "source": [
    "# First bit of Global Encoding indicates the gps time model: 0 for GPS Week Time, \n",
    "# 1 for GPS Adj Standard Time (Standard Time - 1e9)\n",
    "# The origin of standard GPS Time is defined as midnight of the morning of January 6, 1980.\n",
    "print(inFile.header.global_encoding%2)"
   ]
  },
  {
   "cell_type": "code",
   "execution_count": null,
   "metadata": {},
   "outputs": [],
   "source": [
    "# Checking the GPS encoding for LAS file - Type 0 indicates GPS Week Time, otherwise GPS Adjusted Time.\n",
    "# This seems to mean GPS Week Time\n",
    "#print(\"LAS time type: \",las_header.header.get_gps_time_type())\n",
    "\n",
    "print(\"\\nLAS:\")\n",
    "print(\"GPS Time at start of run: {:2.3f} days\".format(las_range[0]/ (60*60*24)))\n",
    "# So the run was probably on a Sunday?\n",
    "print(\"\\nPLS:\")\n",
    "print(\"GPS Time at start of run: {:2.3f} days\".format(anchor_range[0]/(60*60*24)))"
   ]
  },
  {
   "cell_type": "code",
   "execution_count": null,
   "metadata": {},
   "outputs": [],
   "source": [
    "# Oddly, the files are still phased by 18 seconds\n",
    "print(\"Difference in timestamps, accounting for GPS convention: {:2.2f} seconds\".format(\n",
    "                        anchor_range[0] - las_range[0] - (6*24*60*60)))"
   ]
  },
  {
   "cell_type": "markdown",
   "metadata": {},
   "source": [
    "## Extract points with no corresponding pulse\n",
    "Points that don't have a pulse within $\\pm \\epsilon$ seconds."
   ]
  },
  {
   "cell_type": "code",
   "execution_count": null,
   "metadata": {},
   "outputs": [],
   "source": [
    "# For each point, find the pulse at the closest \n",
    "# previous (or equal) timestamp\n",
    "pls_indices = np.searchsorted(pls_anchor_df['adj_gps_time'],\n",
    "                             first_return_df['adj_gps_time'])-1"
   ]
  },
  {
   "cell_type": "code",
   "execution_count": null,
   "metadata": {},
   "outputs": [],
   "source": [
    "# Only the nearest point can associate with a given pulse.\n",
    "pls_indices[0] = 0\n",
    "for i,pls in enumerate(pls_indices[1:]):\n",
    "    if pls_indices[i] == pls_indices[i-1]:\n",
    "        pls_indices[i] = 0"
   ]
  },
  {
   "cell_type": "code",
   "execution_count": null,
   "metadata": {
    "scrolled": true
   },
   "outputs": [],
   "source": [
    "# Calculate time difference between each point and closest pulse\n",
    "epsilon = .000001 # This is too loose, but it works for just looking at points that clearly have no pulse.\n",
    "time_diff = np.array(first_return_df['adj_gps_time']) - \\\n",
    "            np.array(pls_anchor_df['adj_gps_time'].iloc[pls_indices])\n",
    "\n",
    "# If time difference > epsilon, set pls_index to zero\n",
    "for i,t in enumerate(time_diff):\n",
    "    if t > epsilon:\n",
    "        pls_indices[i] = 0"
   ]
  },
  {
   "cell_type": "code",
   "execution_count": null,
   "metadata": {},
   "outputs": [],
   "source": [
    "first_return_df['pulse_index'] = pls_indices\n",
    "\n",
    "# Points without pulses\n",
    "no_pulse = first_return_df[first_return_df['pulse_index']==0]\n",
    "with_pulse = first_return_df[first_return_df['pulse_index']>0]\n",
    "\n",
    "# Find pulses with no point\n",
    "pulse_with_point = pls_anchor_df.iloc[with_pulse['pulse_index']]\n",
    "pulse_without_point = pls_anchor_df.drop(with_pulse['pulse_index'])"
   ]
  },
  {
   "cell_type": "code",
   "execution_count": null,
   "metadata": {},
   "outputs": [],
   "source": [
    "print(\"Fraction of points without a corresponding pulse: {:2.4f}\".format(sum(pls_indices==0)/pls_indices.shape[0]))"
   ]
  },
  {
   "cell_type": "markdown",
   "metadata": {},
   "source": [
    "## Time between returns\n",
    "Looking at the typical timing between first, second, nth returns for the same pulse.  \n",
    "Result: All associated returns have the exact same timestamp!  "
   ]
  },
  {
   "cell_type": "code",
   "execution_count": null,
   "metadata": {},
   "outputs": [],
   "source": [
    "returns_from_same_pulse = las_df.iloc[336020:336028]\n",
    "print(\"Timestamp range of 8 returns for same pulse: {:2.5f} seconds\".format(returns_from_same_pulse['gps_time'].max()-returns_from_same_pulse['gps_time'].min()))\n",
    "las_df.iloc[336020:336028][['num_returns','return_num','gps_time']] "
   ]
  },
  {
   "cell_type": "code",
   "execution_count": null,
   "metadata": {},
   "outputs": [],
   "source": [
    "# Q: Are multi-return points less likely to line up with a pulse?\n",
    "# A: No.\n",
    "print(\"Mean number of returns for points \\nwith/without a corresponding pulse\\n\"+\"*\"*40)\n",
    "print(\"Points with no pulse: {:2.4f} returns\".format(no_pulse['num_returns'].mean()))\n",
    "print(\"Points with pulse: {:2.4f} returns\".format(with_pulse['num_returns'].mean()))\n",
    "print(\"Overall: {:2.4f} returns\".format(first_return_df['num_returns'].mean()))"
   ]
  },
  {
   "cell_type": "code",
   "execution_count": null,
   "metadata": {},
   "outputs": [],
   "source": [
    "# Q: Are pulses without a point more likely to be noisy (anchor above or below expected helicopter altitude)?  \n",
    "# A: No they are not\n",
    "print(\"All pulses, % that are noisy:: {:2.4%}\".format((sum(pls_anchor_df['z']>1100) + sum(pls_anchor_df['z']< 600))/pls_anchor_df.shape[0]))\n",
    "print(\"Pulses with points: {:2.4%}\".format((sum(pulse_with_point['z']>1100) + sum(pulse_with_point['z']< 600))/pulse_with_point.shape[0]))\n",
    "print(\"Pulses without points: {:2.4%}\".format((sum(pulse_without_point['z']>1100) + sum(pulse_without_point['z']< 600))/pulse_without_point.shape[0]))   \n"
   ]
  },
  {
   "cell_type": "markdown",
   "metadata": {},
   "source": [
    "## Temporal Distribution Plotting\n",
    "Tooling, then comparing temporal distribution of points with and without a corresponding pulse."
   ]
  },
  {
   "cell_type": "code",
   "execution_count": null,
   "metadata": {},
   "outputs": [],
   "source": [
    "def create_bins(df,ms_per_bin,time_field='adj_gps_time'):\n",
    "    '''Function returns a numpy array of bin edges, \n",
    "    where the number of bins = (max_time - min_time)*1e/ms_per_bin \n",
    "    where time is in seconds.'''\n",
    "    min_val = int(np.floor(df[time_field]*1e3).min())\n",
    "    max_val = int(np.ceil(df[time_field]*1e3).max())\n",
    "    bin_range = range(min_val,max_val,ms_per_bin)\n",
    "    bin_arr = np.array(bin_range)/1e3\n",
    "    return bin_arr\n",
    "\n",
    "def plot_range(df,first_point,last_point,ms_per_bin):\n",
    "    '''\n",
    "    Plots the temporal density and the specific points within the [first_point,last_point] range.\n",
    "    Vertical lines are the bin edges\n",
    "    Red dots are the points within the bin edges\n",
    "    Blue is the distribution of the points\n",
    "    '''\n",
    "    bin_plot = create_bins(df[first_point:last_point],ms_per_bin)\n",
    "    hist_plot,_ = np.histogram(df['adj_gps_time'][first_point:last_point],bin_plot)\n",
    "    plt.figure(figsize=[18,12])\n",
    "    plt.plot(df['adj_gps_time'][first_point:last_point], \\\n",
    "             hist_plot.mean()*np.ones(last_point-first_point), \"x\",markersize=8,label=\"Points\")\n",
    "    plt.plot(bin_plot[:-1]+(ms_per_bin/2000),hist_plot,\"ro\",markersize=12,label=\"Points in bin\")\n",
    "    plt.vlines(bin_plot,hist_plot.min(),hist_plot.max(),linestyle=\":\",color='coral',label=\"Bin edges\")\n",
    "    \n",
    "    plt.xlabel(\"Time in Seconds\",fontsize=15)\n",
    "    plt.ylabel(\"Points per {}ms bin\".format(ms_per_bin),fontsize=15)\n",
    "    plt.xticks(fontsize=15)\n",
    "    plt.yticks(fontsize=15)\n",
    "    plt.legend()\n",
    "\n",
    "def points_per_scan(scan_angle):\n",
    "    '''takes scan_angle as Series, counts the number of \"jumps\" in the scan angle, indicating start of a new scan\n",
    "    then divides the number of points in scan_angle to return points / scan'''\n",
    "    delta_angle = [scan_angle.iloc[i+1]-scan_angle.iloc[i] for i in range(len(scan_angle)-1)]\n",
    "    print(\"Done\")\n",
    "    scan_count = sum(abs(np.array(delta_angle)) > scan_angle.max())\n",
    "    print(\"Number of scans: {}\".format(scan_count))\n",
    "    print(\"Points per scan: {:2.2f}\".format(len(scan_angle)/scan_count))    \n",
    "    return len(scan_angle)/scan_count, scan_count\n",
    "\n",
    "def scan_temporal_profile(df):\n",
    "    '''\n",
    "    Identifies each scan by the reset in scan_angle, calculates mean and SD for each of: \n",
    "    - time of each scan\n",
    "    - time of each gap\n",
    "    - points in each scan \n",
    "    Input: Full points dataframe\n",
    "    '''\n",
    "    df.reset_index(inplace=True)\n",
    "    delta_angle=[0]\n",
    "    delta_angle.extend([df['scan_angle'].iloc[i+1]-df['scan_angle'].iloc[i] for i in range(df.shape[0]-1)])\n",
    "    df['delta_angle'] = delta_angle\n",
    "    first_pts = df[abs(df['delta_angle'])>df['scan_angle'].max()]\n",
    "    fpi = first_pts.index\n",
    "    \n",
    "    gap_times = np.array(df.iloc[fpi]['adj_gps_time']) - np.array(df.iloc[fpi-1]['adj_gps_time'])\n",
    "    total_cycle_times = np.array(df.iloc[fpi[1:]]['adj_gps_time']) - np.array(df.iloc[fpi[:-1]]['adj_gps_time'])\n",
    "    scan_times = total_cycle_times - gap_times[:-1]\n",
    "    print(\"Gap Time Mean (ms): \",gap_times.mean()*1000)\n",
    "    print(\"Gap Time StdDev (ms): \",gap_times.std()*1000)    \n",
    "    print(\"Scan Time Mean (ms): \",scan_times.mean()*1000)\n",
    "    print(\"Scan Time StdDev (ms): \",scan_times.std()*1000)    \n",
    "\n",
    "    # Pts per scan distribution\n",
    "    pts_per_scan = np.array([fpi[i] - fpi[i-1] for i in range(1,len(fpi))])\n",
    "    print(\"Points per Scan Mean: \",pts_per_scan.mean())\n",
    "    print(\"Points per Scan StdDev: \",pts_per_scan.std())    "
   ]
  },
  {
   "cell_type": "code",
   "execution_count": null,
   "metadata": {},
   "outputs": [],
   "source": [
    "# Profiling the cycles while over land\n",
    "scan_temporal_profile(first_return_df[:500000])"
   ]
  },
  {
   "cell_type": "code",
   "execution_count": null,
   "metadata": {
    "scrolled": false
   },
   "outputs": [],
   "source": [
    "# Plots the window/cycle phasing problem\n",
    "first_point = 681048\n",
    "last_point =  first_point+13000\n",
    "\n",
    "plot_range(first_return_df,first_point,last_point,ms_per_bin=10)"
   ]
  },
  {
   "cell_type": "code",
   "execution_count": null,
   "metadata": {},
   "outputs": [],
   "source": [
    "# Create the bin edges\n",
    "bin_arr = create_bins(first_return_df,ms_per_bin=45)\n",
    "\n",
    "# Use np.histogram to find the number of points per bin\n",
    "hist,_ = np.histogram(first_return_df['adj_gps_time'],bin_arr)\n",
    "hist_no_pulse,_ = np.histogram(no_pulse['adj_gps_time'],bin_arr)\n",
    "hist_with_pulse,_ = np.histogram(with_pulse['adj_gps_time'],bin_arr)\n",
    "# Same for Pulses\n",
    "hist_pulse,_ = np.histogram(pls_anchor_df['adj_gps_time'],bin_arr)\n",
    "hist_pls_with_pt,_ = np.histogram(pulse_with_point['adj_gps_time'],bin_arr)\n",
    "hist_pls_no_pt,_ = np.histogram(pulse_without_point['adj_gps_time'],bin_arr)"
   ]
  },
  {
   "cell_type": "code",
   "execution_count": null,
   "metadata": {},
   "outputs": [],
   "source": [
    "# This plots the time distribution of points\n",
    "one_scan = first_return_df[(first_return_df['adj_gps_time'] > 2.66)&(first_return_df['adj_gps_time'] < 2.671)]\n",
    "plt.figure(figsize=[15,2])\n",
    "plt.plot(one_scan['adj_gps_time'],np.ones(len(one_scan)),'x')\n",
    "plt.title(\"Scan pattern - Points over time\")\n",
    "plt.xlabel(\"Time in Seconds\")\n",
    "plt.tick_params(\n",
    "    axis='y',          \n",
    "    which='both',    \n",
    "    left=False,      \n",
    "    labelleft=False)"
   ]
  },
  {
   "cell_type": "code",
   "execution_count": null,
   "metadata": {
    "scrolled": false
   },
   "outputs": [],
   "source": [
    "# Plot all points, points w/ pulse, and points w/o pulse in subplots\n",
    "plt.figure(figsize=(20,30))\n",
    "plt.subplot(3, 1, 1)\n",
    "plt.plot(bin_arr[:-1],hist,'+')\n",
    "plt.xlabel(\"Seconds\",fontsize=15)\n",
    "plt.ylabel(\"Points per 10 miliseconds\",fontsize=15)\n",
    "plt.title(\"All points\",fontsize=15)\n",
    "\n",
    "plt.subplot(3, 1, 2)\n",
    "plt.plot(bin_arr[:-1],hist_with_pulse,'+')\n",
    "plt.xlabel(\"Seconds\",fontsize=15)\n",
    "plt.ylabel(\"Points per 10 miliseconds\",fontsize=15)\n",
    "plt.title(\"Points with a pulse\",fontsize=15)\n",
    "\n",
    "plt.subplot(3, 1, 3)\n",
    "plt.plot(bin_arr[:-1],hist_no_pulse,'+')\n",
    "plt.xlabel(\"Seconds\",fontsize=15)\n",
    "plt.ylabel(\"Points per 10 miliseconds\",fontsize=15)\n",
    "plt.title(\"Points without a pulse\",fontsize=15)"
   ]
  },
  {
   "cell_type": "code",
   "execution_count": null,
   "metadata": {},
   "outputs": [],
   "source": [
    "# Plot all points, and decomposed into with/without a corresponding pulse.  Also includes points with no pulse.\n",
    "\n",
    "plt.figure(figsize=(20,17))\n",
    "\n",
    "plt.plot(bin_arr[:-1],hist,'g+',label=\"All points\")\n",
    "plt.plot(bin_arr[:-1],hist_with_pulse,'y+',label=\"With pulse\")\n",
    "plt.plot(bin_arr[:-1],hist_no_pulse,'r+',label=\"No pulse\")\n",
    "plt.plot(bin_arr[:-1],hist_pls_no_pt,'b+',label=\"Pulse w/o point\")\n",
    "\n",
    "plt.xlabel(\"Seconds\",fontsize=15)\n",
    "plt.ylabel(\"Points per 50 miliseconds\",fontsize=15)\n",
    "plt.legend(fontsize=15)\n",
    "plt.title(\"Temporal distribution of points/pulses from one flight\",fontsize=18)"
   ]
  },
  {
   "cell_type": "code",
   "execution_count": null,
   "metadata": {},
   "outputs": [],
   "source": [
    "# Plot all pulses, and decomposed into with/without a corresponding point\n",
    "plt.figure(figsize=(20,17))\n",
    "\n",
    "\n",
    "plt.plot(bin_arr[:-1],hist_pulse,'g+',label=\"All pulses\")\n",
    "plt.plot(bin_arr[:-1],hist_pls_with_pt,'k+',label=\"With point\")\n",
    "plt.plot(bin_arr[:-1],hist_pls_no_pt,'b+',label=\"Without point\")\n",
    "\n",
    "plt.xlabel(\"Seconds\",fontsize=15)\n",
    "plt.ylabel(\"Points per 50 miliseconds\",fontsize=15)\n",
    "plt.legend(fontsize=15)\n",
    "plt.title(\"Temporal distribution of pulses from one flight\",fontsize=18)"
   ]
  },
  {
   "cell_type": "code",
   "execution_count": null,
   "metadata": {
    "scrolled": false
   },
   "outputs": [],
   "source": [
    "# Plot all the points, full flight path\n",
    "plt.figure(figsize=(20,17))\n",
    "\n",
    "plt.plot(bin_arr[:-1],hist,'g+',label=\"All points\")\n",
    "plt.xticks(fontsize=15)\n",
    "plt.yticks(fontsize=15)\n",
    "plt.xlabel(\"Seconds\",fontsize=15)\n",
    "plt.ylabel(\"Points per 45 miliseconds\",fontsize=15)\n",
    "plt.title(\"Temporal distribution of points from one flight\",fontsize=18)"
   ]
  },
  {
   "cell_type": "code",
   "execution_count": null,
   "metadata": {},
   "outputs": [],
   "source": []
  }
 ],
 "metadata": {
  "kernelspec": {
   "display_name": "Python 3",
   "language": "python",
   "name": "python3"
  },
  "language_info": {
   "codemirror_mode": {
    "name": "ipython",
    "version": 3
   },
   "file_extension": ".py",
   "mimetype": "text/x-python",
   "name": "python",
   "nbconvert_exporter": "python",
   "pygments_lexer": "ipython3",
   "version": "3.6.9"
  }
 },
 "nbformat": 4,
 "nbformat_minor": 2
}
