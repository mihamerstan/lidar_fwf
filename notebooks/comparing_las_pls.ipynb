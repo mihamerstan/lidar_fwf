{
 "cells": [
  {
   "cell_type": "code",
   "execution_count": 3,
   "metadata": {},
   "outputs": [],
   "source": [
    "import numpy as np\n",
    "import pandas as pd\n",
    "import matplotlib.pyplot as plt\n",
    "from laspy.file import File\n",
    "\n",
    "# Necessary to import pypwaves_updated.py from parent directory\n",
    "import sys\n",
    "sys.path.append('../')\n",
    "import pypwaves_updated as pw\n",
    "\n",
    "%matplotlib inline"
   ]
  },
  {
   "cell_type": "markdown",
   "metadata": {},
   "source": [
    "## Comparing with LAS file\n",
    "GPS timestamps kind of line up...the overall timeframe is identical to ~5 digits, but the offset is very different and the points don't line up exactly.  Also the point counts don't align, even accounting for pulses with multiple returns in the .las file."
   ]
  },
  {
   "cell_type": "code",
   "execution_count": 5,
   "metadata": {},
   "outputs": [],
   "source": [
    "# Load LAS points and header\n",
    "las_df = pd.read_pickle(\"../../Data/pickles/las_points_164239.pkl\")\n",
    "las_header = File('../../Data/164239/10552_NYU_M2 - Scanner 1 - 190511_164239_1 - originalpoints.las', mode='r')\n",
    "\n",
    "# Load pls anchor points and header\n",
    "pls_anchor_df = pd.read_pickle(\"../../Data/pickles/anchor_points_164239.pkl\")\n",
    "pls_filename = \"../../Data/164239_pls/10552_NYU_M2_Pulse_Waves_MTA_Resolved - Scanner 1 - 190511_164239_1 - originalpoints.pls\"\n",
    "pls_header = pw.openPLS(pls_filename)\n",
    "\n",
    "# Adj GPS Time: Set both timestamps to zero for the first record\n",
    "las_df['adj_gps_time'] = las_df['gps_time']-las_range[0]\n",
    "pls_anchor_df['adj_gps_time'] = pls_anchor_df['gps_time']-anchor_range[0]\n",
    "\n",
    "# Sort records by timestamp\n",
    "las_df.sort_values(by=['adj_gps_time'],inplace=True)\n",
    "pls_anchor_df.sort_values(by=['adj_gps_time'],inplace=True)\n",
    "\n",
    "# Reset indices\n",
    "las_df.reset_index(drop=True,inplace=True)\n",
    "pls_anchor_df.reset_index(drop=True,inplace=True)"
   ]
  },
  {
   "cell_type": "code",
   "execution_count": 81,
   "metadata": {},
   "outputs": [
    {
     "name": "stdout",
     "output_type": "stream",
     "text": [
      "Number of points in .las file: 14,542,329\n",
      "Number of pulses in .pls file: 10,710,919\n"
     ]
    }
   ],
   "source": [
    "print(\"Number of points in .las file: {:,d}\".format(las_df.shape[0]))\n",
    "print(\"Number of pulses in .pls file: {:,d}\".format(pls_anchor_df.shape[0]))"
   ]
  },
  {
   "cell_type": "markdown",
   "metadata": {},
   "source": [
    "### Comparing Timestamps\n",
    "The count of points don't agree: LAS file has 25-50% more points.  Multiple returns per point account for some but not all the discrepancy.\n",
    "\n",
    "However, the time ranges for the two files agree almost exactly.  Below, we try to line up these timestamps, but are generally unsuccessful."
   ]
  },
  {
   "cell_type": "code",
   "execution_count": 76,
   "metadata": {},
   "outputs": [
    {
     "name": "stdout",
     "output_type": "stream",
     "text": [
      "LAS range: 57.295 seconds\n",
      "PLS range: 57.295 seconds\n"
     ]
    }
   ],
   "source": [
    "# Compare time ranges\n",
    "las_range = (las_df['gps_time'].min(),las_df['gps_time'].max())\n",
    "anchor_range = (pls_anchor_df['gps_time'].min(),pls_anchor_df['gps_time'].max())\n",
    "\n",
    "print(\"LAS range: {:2.3f} seconds\".format(las_range[1]-las_range[0]))\n",
    "print(\"PLS range: {:2.3f} seconds\".format(anchor_range[1]-anchor_range[0]))"
   ]
  },
  {
   "cell_type": "code",
   "execution_count": 79,
   "metadata": {
    "scrolled": true
   },
   "outputs": [
    {
     "name": "stdout",
     "output_type": "stream",
     "text": [
      "PLS time\t LAS time\n",
      "0.001285\t 0.001210\n",
      "0.001288\t 0.001218\n",
      "0.001301\t 0.001223\n",
      "0.001303\t 0.001226\n",
      "0.001306\t 0.001231\n"
     ]
    }
   ],
   "source": [
    "# The timestamps just don't line up very often.\n",
    "print(\"PLS time\\t LAS time\")\n",
    "for i in range(100,105):\n",
    "    print(\"{:2.6f}\\t {:2.6f}\".format(pls_anchor_df['adj_gps_time'][i], las_df['adj_gps_time'][i]))"
   ]
  },
  {
   "cell_type": "code",
   "execution_count": 73,
   "metadata": {},
   "outputs": [
    {
     "name": "stdout",
     "output_type": "stream",
     "text": [
      "\n",
      "LAS:\n",
      "GPS Time at start of run: 0.697 days\n",
      "\n",
      "PLS:\n",
      "GPS Time at start of run: 6.696 days\n"
     ]
    }
   ],
   "source": [
    "# Checking the GPS encoding for LAS file - Type 0 indicates GPS Week Time, otherwise GPS Adjusted Time.\n",
    "# This seems to mean GPS Week Time\n",
    "#print(\"LAS time type: \",las_header.header.get_gps_time_type())\n",
    "\n",
    "print(\"\\nLAS:\")\n",
    "print(\"GPS Time at start of run: {:2.3f} days\".format(las_range[1]/ (60*60*24)))\n",
    "# So the run was probably on a Sunday?\n",
    "print(\"\\nPLS:\")\n",
    "print(\"GPS Time at start of run: {:2.3f} days\".format(anchor_range[0]/(60*60*24)))"
   ]
  },
  {
   "cell_type": "markdown",
   "metadata": {},
   "source": [
    "### Timestamps - Analysis\n",
    "Both systems could be on GPS Week time, in terms of order of magnitude of the values (both under 7 days), but they differ by 6 days.  I also haven't found any indication of when specifically the timestamp refers to: When the pulse was emitted, when it was received, \"when\" the point is, accounting for the time to the point itself, etc.\n",
    "\n",
    "#### Idea: \n",
    "The difference could be that the pls file uses emit time and the point file adds the time to/from the point."
   ]
  },
  {
   "cell_type": "code",
   "execution_count": null,
   "metadata": {},
   "outputs": [],
   "source": []
  },
  {
   "cell_type": "code",
   "execution_count": null,
   "metadata": {},
   "outputs": [],
   "source": [
    "# Noise points from anchor\n",
    "noise_gps_times = anchor_df[anchor_df['z']<600]['gps_time_adj']\n",
    "for time in noise_gps_times[:10000]:\n",
    "    if time in las_df['gps_time_adj']:\n",
    "        print(\"Yes!\")"
   ]
  },
  {
   "cell_type": "code",
   "execution_count": null,
   "metadata": {},
   "outputs": [],
   "source": [
    "noise_gps_times[1000:1010]"
   ]
  },
  {
   "cell_type": "code",
   "execution_count": null,
   "metadata": {},
   "outputs": [],
   "source": [
    "las_df[las_df['gps_time_adj']>.37391][:10]"
   ]
  },
  {
   "cell_type": "code",
   "execution_count": null,
   "metadata": {},
   "outputs": [],
   "source": [
    "las_df.iloc[1390:1408]"
   ]
  },
  {
   "cell_type": "code",
   "execution_count": null,
   "metadata": {},
   "outputs": [],
   "source": [
    "plt.figure(figsize=(20,30))\n",
    "plt.subplot(4, 1, 1)\n",
    "plt.plot(las_df['x_scaled'][1390:1408])\n",
    "\n",
    "plt.subplot(4, 1, 2)\n",
    "plt.plot(las_df['y_scaled'][1390:1408])\n",
    "\n",
    "plt.subplot(4, 1, 3)\n",
    "plt.plot(las_df['z_scaled'][1390:1408])\n",
    "\n",
    "plt.subplot(4, 1, 4)\n",
    "plt.plot(las_df['intensity'][1390:1408])"
   ]
  },
  {
   "cell_type": "code",
   "execution_count": null,
   "metadata": {},
   "outputs": [],
   "source": []
  }
 ],
 "metadata": {
  "kernelspec": {
   "display_name": "Python 3",
   "language": "python",
   "name": "python3"
  },
  "language_info": {
   "codemirror_mode": {
    "name": "ipython",
    "version": 3
   },
   "file_extension": ".py",
   "mimetype": "text/x-python",
   "name": "python",
   "nbconvert_exporter": "python",
   "pygments_lexer": "ipython3",
   "version": "3.7.3"
  }
 },
 "nbformat": 4,
 "nbformat_minor": 2
}
