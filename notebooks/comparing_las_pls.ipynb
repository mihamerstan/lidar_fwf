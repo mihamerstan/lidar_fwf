{
 "cells": [
  {
   "cell_type": "code",
   "execution_count": 1,
   "metadata": {},
   "outputs": [],
   "source": [
    "import numpy as np\n",
    "import pandas as pd\n",
    "import matplotlib.pyplot as plt\n",
    "from laspy.file import File\n",
    "\n",
    "# Necessary to import pypwaves_updated.py from parent directory\n",
    "import sys\n",
    "sys.path.append('../')\n",
    "import pypwaves_updated as pw\n",
    "from point_density_functions import *\n",
    "\n",
    "%matplotlib inline"
   ]
  },
  {
   "cell_type": "markdown",
   "metadata": {},
   "source": [
    "## Comparing with LAS file\n",
    "GPS timestamps kind of line up...the overall timeframe is identical to ~5 digits, but the offset is very different and the points don't line up exactly.  Also the point counts don't align, even accounting for pulses with multiple returns in the .las file."
   ]
  },
  {
   "cell_type": "code",
   "execution_count": 2,
   "metadata": {},
   "outputs": [],
   "source": [
    "# Adj GPS Time: Set both timestamps to zero for the first record\n",
    "def adjust_time(df,time_field):\n",
    "    # Function adds adj_gps_time to points or pulse dataframe, set to zero at the minimum timestamp.\n",
    "    df['adj_gps_time'] = df[time_field] - df[time_field].min()\n",
    "    return df\n",
    "\n",
    "def label_returns(las_df):\n",
    "    '''\n",
    "    Parses the flag_byte into number of returns and return number, adds these fields to las_df.\n",
    "    Input - las_df - dataframe from .laz or .lz file\n",
    "    Output - first_return_df - only the first return points from las_df.\n",
    "           - las_df - input dataframe with num_returns and return_num fields added \n",
    "    '''\n",
    "    \n",
    "    las_df['num_returns'] = np.floor(las_df['flag_byte']/16).astype(int)\n",
    "    las_df['return_num'] = las_df['flag_byte']%16\n",
    "    first_return_df = las_df[las_df['return_num']==1]\n",
    "    first_return_df = first_return_df.reset_index(drop=True)\n",
    "    return first_return_df, las_df\n",
    "\n",
    "\n",
    "def pull_first_scan_gap(df):\n",
    "    # Separate return num, only keep the first returns, add scan_gap, sort\n",
    "    df['num_returns'] = np.floor(df['flag_byte']/16).astype(int)\n",
    "    df['return_num'] = df['flag_byte']%16\n",
    "    \n",
    "    first_return_wall = df[df['return_num']==1]\n",
    "    first_return_wall.sort_values(by=['gps_time'],inplace=True)\n",
    "    first_return_wall.reset_index(inplace=True)\n",
    "    first_return_wall.loc[1:,'scan_gap'] = [first_return_wall.loc[i+1,'scan_angle'] - first_return_wall.loc[i,'scan_angle'] for i in range(first_return_wall.shape[0]-1)]\n",
    "    first_return_wall.loc[0,'scan_gap'] = 0\n",
    "    first_return_wall['scan_angle_deg'] = first_return_wall['scan_angle']*.006\n",
    "    return first_return_wall"
   ]
  },
  {
   "cell_type": "code",
   "execution_count": 3,
   "metadata": {},
   "outputs": [],
   "source": [
    "# Load LAS points\n",
    "las_df = pd.read_hdf(\"../../Data/parking_lot/las_points_180819.lz\")\n",
    "\n",
    "# Load pls anchor points\n",
    "pls_anchor_df = pd.read_pickle(\"../../Data/fwf_data/anchors_180819.pkl\")\n",
    "\n",
    "\n",
    "# Separate out the first returns only\n",
    "las_df = adjust_time(las_df,'gps_time')\n",
    "pls_anchor_df = adjust_time(pls_anchor_df,'gps_time')\n",
    "\n",
    "# Sort records by timestamp\n",
    "las_df.sort_values(by=['adj_gps_time'],inplace=True)\n",
    "pls_anchor_df.sort_values(by=['adj_gps_time'],inplace=True)\n",
    "\n",
    "# Reset indices\n",
    "las_df.reset_index(drop=True,inplace=True)\n",
    "pls_anchor_df.reset_index(drop=True,inplace=True)"
   ]
  },
  {
   "cell_type": "code",
   "execution_count": null,
   "metadata": {},
   "outputs": [],
   "source": [
    "pls_anchor_df['adj_gps_time'] = pls_anchor_df['adj_gps_time']+ diff"
   ]
  },
  {
   "cell_type": "code",
   "execution_count": 4,
   "metadata": {},
   "outputs": [
    {
     "name": "stderr",
     "output_type": "stream",
     "text": [
      "/home/michael/python-virtual-environments/data/lib/python3.6/site-packages/ipykernel_launcher.py:28: SettingWithCopyWarning:\n",
      "\n",
      "\n",
      "A value is trying to be set on a copy of a slice from a DataFrame\n",
      "\n",
      "See the caveats in the documentation: http://pandas.pydata.org/pandas-docs/stable/user_guide/indexing.html#returning-a-view-versus-a-copy\n",
      "\n",
      "/home/michael/python-virtual-environments/data/lib/python3.6/site-packages/pandas/core/indexing.py:376: SettingWithCopyWarning:\n",
      "\n",
      "\n",
      "A value is trying to be set on a copy of a slice from a DataFrame.\n",
      "Try using .loc[row_indexer,col_indexer] = value instead\n",
      "\n",
      "See the caveats in the documentation: http://pandas.pydata.org/pandas-docs/stable/user_guide/indexing.html#returning-a-view-versus-a-copy\n",
      "\n",
      "/home/michael/python-virtual-environments/data/lib/python3.6/site-packages/pandas/core/indexing.py:494: SettingWithCopyWarning:\n",
      "\n",
      "\n",
      "A value is trying to be set on a copy of a slice from a DataFrame.\n",
      "Try using .loc[row_indexer,col_indexer] = value instead\n",
      "\n",
      "See the caveats in the documentation: http://pandas.pydata.org/pandas-docs/stable/user_guide/indexing.html#returning-a-view-versus-a-copy\n",
      "\n",
      "/home/michael/python-virtual-environments/data/lib/python3.6/site-packages/ipykernel_launcher.py:32: SettingWithCopyWarning:\n",
      "\n",
      "\n",
      "A value is trying to be set on a copy of a slice from a DataFrame.\n",
      "Try using .loc[row_indexer,col_indexer] = value instead\n",
      "\n",
      "See the caveats in the documentation: http://pandas.pydata.org/pandas-docs/stable/user_guide/indexing.html#returning-a-view-versus-a-copy\n",
      "\n"
     ]
    }
   ],
   "source": [
    "# First returns only\n",
    "first_return_df = pull_first_scan_gap(las_df)\n",
    "# print(\"Number of points in .las file: {:,d}\".format(las_df.shape[0]))\n",
    "# print(\"Number of first return points: {:,d}\".format(first_return_df.shape[0]))\n",
    "# print(\"Number of pulses in .pls file: {:,d}\".format(pls_anchor_df.shape[0]))"
   ]
  },
  {
   "cell_type": "markdown",
   "metadata": {},
   "source": [
    "### Comparing Timestamps\n",
    "The timespan for the two files agree almost exactly.  \n",
    "LAS file uses seconds since midnight Saturday night.  \n",
    "PLS file uses GPS Week Time (seconds since midnight on previous Sunday night).  \n",
    "Oddly, the files are still phased by 18 seconds, even after accounting for the 6-day offset."
   ]
  },
  {
   "cell_type": "code",
   "execution_count": 18,
   "metadata": {},
   "outputs": [
    {
     "name": "stdout",
     "output_type": "stream",
     "text": [
      "LAS range: 54.803 seconds\n",
      "PLS range: 54.803 seconds\n"
     ]
    }
   ],
   "source": [
    "# Compare time ranges\n",
    "las_range = (first_return_df['gps_time'].min(),first_return_df['gps_time'].max())\n",
    "anchor_range = (pls_anchor_df['gps_time'].min(),pls_anchor_df['gps_time'].max())\n",
    "\n",
    "print(\"LAS range: {:2.3f} seconds\".format(las_range[1]-las_range[0]))\n",
    "print(\"PLS range: {:2.3f} seconds\".format(anchor_range[1]-anchor_range[0]))"
   ]
  },
  {
   "cell_type": "code",
   "execution_count": 19,
   "metadata": {},
   "outputs": [
    {
     "data": {
      "text/plain": [
       "518382.00001299294"
      ]
     },
     "execution_count": 19,
     "metadata": {},
     "output_type": "execute_result"
    }
   ],
   "source": [
    "# diff = anchor_range[0] - las_range[0] -(6*24*60*60-18)\n",
    "# pls_anchor_df['adj_gps_time'] += diff\n",
    "anchor_range[0] - las_range[0]"
   ]
  },
  {
   "cell_type": "code",
   "execution_count": null,
   "metadata": {},
   "outputs": [],
   "source": [
    "# First bit of Global Encoding indicates the gps time model: 0 for GPS Week Time, \n",
    "# 1 for GPS Adj Standard Time (Standard Time - 1e9)\n",
    "# The origin of standard GPS Time is defined as midnight of the morning of January 6, 1980.\n",
    "# print(inFile.header.global_encoding%2)"
   ]
  },
  {
   "cell_type": "code",
   "execution_count": 20,
   "metadata": {},
   "outputs": [
    {
     "name": "stdout",
     "output_type": "stream",
     "text": [
      "\n",
      "LAS:\n",
      "GPS Time at start of run: 0.756 days\n",
      "\n",
      "PLS:\n",
      "GPS Time at start of run: 6.756 days\n"
     ]
    }
   ],
   "source": [
    "# Checking the GPS encoding for LAS file - Type 0 indicates GPS Week Time, otherwise GPS Adjusted Time.\n",
    "# This seems to mean GPS Week Time\n",
    "#print(\"LAS time type: \",las_header.header.get_gps_time_type())\n",
    "\n",
    "print(\"\\nLAS:\")\n",
    "print(\"GPS Time at start of run: {:2.3f} days\".format(las_range[0]/ (60*60*24)))\n",
    "# So the run was probably on a Sunday?\n",
    "print(\"\\nPLS:\")\n",
    "print(\"GPS Time at start of run: {:2.3f} days\".format(anchor_range[0]/(60*60*24)))"
   ]
  },
  {
   "cell_type": "code",
   "execution_count": 21,
   "metadata": {},
   "outputs": [
    {
     "name": "stdout",
     "output_type": "stream",
     "text": [
      "Difference in timestamps, accounting for GPS convention: -18.00 seconds\n"
     ]
    }
   ],
   "source": [
    "# Oddly, the files are still phased by 18 seconds\n",
    "print(\"Difference in timestamps, accounting for GPS convention: {:2.2f} seconds\".format(\n",
    "                        anchor_range[0] - las_range[0] - (6*24*60*60)))"
   ]
  },
  {
   "cell_type": "markdown",
   "metadata": {},
   "source": [
    "## Extract points with no corresponding pulse\n",
    "Points that don't have a pulse within $\\pm \\epsilon$ seconds."
   ]
  },
  {
   "cell_type": "code",
   "execution_count": 22,
   "metadata": {},
   "outputs": [],
   "source": [
    "# For each point, find the pulse at the closest \n",
    "# previous (or equal) timestamp\n",
    "pls_indices = np.searchsorted(pls_anchor_df['adj_gps_time'],\n",
    "                             first_return_df['adj_gps_time'],side='right')-1"
   ]
  },
  {
   "cell_type": "code",
   "execution_count": 23,
   "metadata": {},
   "outputs": [],
   "source": [
    "pls_indices_forward = np.array([min(p+1,pls_anchor_df.shape[0]-1) for p in pls_indices])"
   ]
  },
  {
   "cell_type": "code",
   "execution_count": 24,
   "metadata": {},
   "outputs": [],
   "source": [
    "# Only the nearest point can associate with a given pulse.\n",
    "pls_indices[0] = 0\n",
    "for i,pls in enumerate(pls_indices[1:]):\n",
    "    if pls_indices[i] == pls_indices[i-1]:\n",
    "#     if np.isin(pls,pls_indices[:i-1]):\n",
    "        pls_indices[i] = 0"
   ]
  },
  {
   "cell_type": "code",
   "execution_count": 25,
   "metadata": {
    "scrolled": true
   },
   "outputs": [],
   "source": [
    "# Calculate time difference between each point and closest pulse\n",
    "epsilon = .000003 # This is too loose, but it works for just looking at points that clearly have no pulse.\n",
    "time_diff = np.array(first_return_df['adj_gps_time']) - \\\n",
    "            np.array(pls_anchor_df['adj_gps_time'].iloc[pls_indices])\n",
    "\n",
    "time_diff_prev = np.array(first_return_df['adj_gps_time']) - \\\n",
    "            np.array(pls_anchor_df['adj_gps_time'].iloc[pls_indices_forward])\n",
    "\n",
    "# If time difference > epsilon, set pls_index to zero\n",
    "for i,t in enumerate(time_diff):\n",
    "    if t > epsilon:\n",
    "        if abs(time_diff_prev[i]) < epsilon:\n",
    "#             print(\"time_diff: {:2.4f}\".format(time_diff[i]))\n",
    "#             print(\"time_diff_prev: {:2.4f}\".format(time_diff_prev[i]))\n",
    "            pls_indices[i] = pls_indices_forward[i]\n",
    "#             print(\"It happened\")\n",
    "        else:\n",
    "            pls_indices[i] = 0\n",
    "\n",
    "# (Repeat since we may have added some repeats) Only the nearest point can associate with a given pulse.\n",
    "pls_indices[0] = 0\n",
    "for i,pls in enumerate(pls_indices[1:]):\n",
    "    if pls_indices[i] == pls_indices[i-1]:\n",
    "#     if np.isin(pls,pls_indices[:i-1]):\n",
    "        pls_indices[i] = 0"
   ]
  },
  {
   "cell_type": "code",
   "execution_count": 26,
   "metadata": {},
   "outputs": [
    {
     "name": "stderr",
     "output_type": "stream",
     "text": [
      "/home/michael/python-virtual-environments/data/lib/python3.6/site-packages/ipykernel_launcher.py:1: SettingWithCopyWarning:\n",
      "\n",
      "\n",
      "A value is trying to be set on a copy of a slice from a DataFrame.\n",
      "Try using .loc[row_indexer,col_indexer] = value instead\n",
      "\n",
      "See the caveats in the documentation: http://pandas.pydata.org/pandas-docs/stable/user_guide/indexing.html#returning-a-view-versus-a-copy\n",
      "\n"
     ]
    }
   ],
   "source": [
    "first_return_df['pulse_index'] = pls_indices\n",
    "\n",
    "# Points without pulses\n",
    "no_pulse = first_return_df[first_return_df['pulse_index']==0]\n",
    "with_pulse = first_return_df[first_return_df['pulse_index']>0]\n",
    "\n",
    "# Find pulses with no point\n",
    "pulse_with_point = pls_anchor_df.iloc[with_pulse['pulse_index']]\n",
    "pulse_without_point = pls_anchor_df.drop(with_pulse['pulse_index'])"
   ]
  },
  {
   "cell_type": "code",
   "execution_count": 27,
   "metadata": {},
   "outputs": [
    {
     "name": "stdout",
     "output_type": "stream",
     "text": [
      "Fraction of points without a corresponding pulse: 0.1754\n"
     ]
    }
   ],
   "source": [
    "# 0.3825\n",
    "print(\"Fraction of points without a corresponding pulse: {:2.4f}\".format(sum(pls_indices==0)/pls_indices.shape[0]))"
   ]
  },
  {
   "cell_type": "markdown",
   "metadata": {},
   "source": [
    "### Are pulses near enough that two peaks could show up from neighbor pulses?\n",
    "No, there are ~60 samples per pulse, and each sample is 1 nanosecond apart. Pulses are 2500 nanoseconds apart."
   ]
  },
  {
   "cell_type": "code",
   "execution_count": 28,
   "metadata": {},
   "outputs": [
    {
     "name": "stdout",
     "output_type": "stream",
     "text": [
      "Seconds between pulses: 2.500019036233425e-06\n"
     ]
    },
    {
     "ename": "NameError",
     "evalue": "name 'pulsewave' is not defined",
     "output_type": "error",
     "traceback": [
      "\u001b[0;31m---------------------------------------------------------------------------\u001b[0m",
      "\u001b[0;31mNameError\u001b[0m                                 Traceback (most recent call last)",
      "\u001b[0;32m<ipython-input-28-53898c2238a8>\u001b[0m in \u001b[0;36m<module>\u001b[0;34m\u001b[0m\n\u001b[1;32m      1\u001b[0m \u001b[0mprint\u001b[0m\u001b[0;34m(\u001b[0m\u001b[0;34m\"Seconds between pulses: {}\"\u001b[0m\u001b[0;34m.\u001b[0m\u001b[0mformat\u001b[0m\u001b[0;34m(\u001b[0m\u001b[0;34m(\u001b[0m\u001b[0mpls_anchor_df\u001b[0m\u001b[0;34m.\u001b[0m\u001b[0miloc\u001b[0m\u001b[0;34m[\u001b[0m\u001b[0;36m5767874\u001b[0m\u001b[0;34m]\u001b[0m\u001b[0;34m[\u001b[0m\u001b[0;34m'adj_gps_time'\u001b[0m\u001b[0;34m]\u001b[0m\u001b[0;34m-\u001b[0m\u001b[0mpls_anchor_df\u001b[0m\u001b[0;34m.\u001b[0m\u001b[0miloc\u001b[0m\u001b[0;34m[\u001b[0m\u001b[0;36m5767872\u001b[0m\u001b[0;34m]\u001b[0m\u001b[0;34m[\u001b[0m\u001b[0;34m'adj_gps_time'\u001b[0m\u001b[0;34m]\u001b[0m\u001b[0;34m)\u001b[0m\u001b[0;34m/\u001b[0m\u001b[0;36m2\u001b[0m\u001b[0;34m)\u001b[0m\u001b[0;34m)\u001b[0m\u001b[0;34m\u001b[0m\u001b[0;34m\u001b[0m\u001b[0m\n\u001b[1;32m      2\u001b[0m \u001b[0;34m\u001b[0m\u001b[0m\n\u001b[0;32m----> 3\u001b[0;31m \u001b[0mpls\u001b[0m \u001b[0;34m=\u001b[0m \u001b[0mpulsewave\u001b[0m\u001b[0;34m.\u001b[0m\u001b[0mget_pulse\u001b[0m\u001b[0;34m(\u001b[0m\u001b[0;36m5767871\u001b[0m\u001b[0;34m)\u001b[0m\u001b[0;34m\u001b[0m\u001b[0;34m\u001b[0m\u001b[0m\n\u001b[0m\u001b[1;32m      4\u001b[0m \u001b[0mprint\u001b[0m\u001b[0;34m(\u001b[0m\u001b[0;34m\"Nanoseconds per sample: {}\"\u001b[0m\u001b[0;34m.\u001b[0m\u001b[0mformat\u001b[0m\u001b[0;34m(\u001b[0m\u001b[0mpulsewave\u001b[0m\u001b[0;34m.\u001b[0m\u001b[0mvlrs\u001b[0m\u001b[0;34m[\u001b[0m\u001b[0mpls\u001b[0m\u001b[0;34m.\u001b[0m\u001b[0mpulse_descriptor\u001b[0m\u001b[0;34m]\u001b[0m\u001b[0;34m.\u001b[0m\u001b[0mrecord\u001b[0m\u001b[0;34m.\u001b[0m\u001b[0msample_units\u001b[0m\u001b[0;34m)\u001b[0m\u001b[0;34m)\u001b[0m\u001b[0;34m\u001b[0m\u001b[0;34m\u001b[0m\u001b[0m\n",
      "\u001b[0;31mNameError\u001b[0m: name 'pulsewave' is not defined"
     ]
    }
   ],
   "source": [
    "print(\"Seconds between pulses: {}\".format((pls_anchor_df.iloc[5767874]['adj_gps_time']-pls_anchor_df.iloc[5767872]['adj_gps_time'])/2))\n",
    "\n",
    "pls = pulsewave.get_pulse(5767871)\n",
    "print(\"Nanoseconds per sample: {}\".format(pulsewave.vlrs[pls.pulse_descriptor].record.sample_units))"
   ]
  },
  {
   "cell_type": "markdown",
   "metadata": {},
   "source": [
    "## Missing Point waveforms\n",
    "The streaks of missing points, do the waveforms of nearby points look different? Are points being lost in a wider waveform?"
   ]
  },
  {
   "cell_type": "code",
   "execution_count": null,
   "metadata": {},
   "outputs": [],
   "source": [
    "# Load the pulsewaves file\n",
    "pls_file = \"../../Data/fwf_data/180819_pls/10552_NYU_M2_Pulse_Waves_MTA_Resolved-Scanner1-190511_180819_1-originalpoints.pls\"\n",
    "pulsewave = pw.openPLS(pls_file)"
   ]
  },
  {
   "cell_type": "code",
   "execution_count": null,
   "metadata": {},
   "outputs": [],
   "source": [
    "pulsewave.get_waves(0)"
   ]
  },
  {
   "cell_type": "code",
   "execution_count": null,
   "metadata": {},
   "outputs": [],
   "source": [
    "pulsewave.get_waves(1059)"
   ]
  },
  {
   "cell_type": "code",
   "execution_count": null,
   "metadata": {},
   "outputs": [],
   "source": []
  },
  {
   "cell_type": "code",
   "execution_count": null,
   "metadata": {},
   "outputs": [],
   "source": [
    "# Skip over the water\n",
    "streaks_df = with_pulse[with_pulse['gps_time']>60204]\n",
    "\n",
    "# Identify a point with scan deg i n[24,28]\n",
    "miss_pts_index = (streaks_df['scan_angle_deg']>24) & \\\n",
    "                      (streaks_df['scan_angle_deg']<28) & \\\n",
    "                      (streaks_df['scan_gap'].isin([-9,-10,-11]))\n",
    "\n",
    "# Annoyingly, this create a list of booleans indicating the previous point, used with df.loc[]\n",
    "miss_pts_rows = list(miss_pts_index.reset_index(drop=True))\n",
    "add_end = miss_pts_rows.pop(0)\n",
    "miss_pts_rows.append(add_end)\n",
    "\n",
    "# DFs for preceding and following points of missing points\n",
    "follow_pt = streaks_df[miss_pts_index]\n",
    "prev_pt = streaks_df.loc[list(miss_pts_rows)]"
   ]
  },
  {
   "cell_type": "code",
   "execution_count": null,
   "metadata": {},
   "outputs": [],
   "source": [
    "def plot_missing_pts(df_first,col,ylabel='Point Count'):\n",
    "    # Prints the histogram of col for each of: all points, after single miss pts, and after multiple miss pts\n",
    "    # Avg Scan angle for missing pts vs regular\n",
    "    after_single_miss = df_first[df_first['scan_gap'].isin([-10,-11])]\n",
    "    after_multiple_miss = df_first[df_first['scan_gap'].isin([-21,-20,-15,-16])]\n",
    "    \n",
    "    \n",
    "    plt.figure(figsize=[20,5])\n",
    "\n",
    "    plt.subplot(1,3,1)\n",
    "    ax = df_first[col].hist(bins=100)\n",
    "    ax.set_xlabel(col)\n",
    "    ax.set_ylabel(ylabel)\n",
    "    ax.set_title(\"All points\")\n",
    "\n",
    "    plt.subplot(1,3,2)\n",
    "    ax = after_single_miss[col].hist(bins=100)\n",
    "    ax.set_xlabel(col)\n",
    "    ax.set_title(\"Single Missing Point\")\n",
    "\n",
    "    plt.subplot(1,3,3)\n",
    "    ax = after_multiple_miss[col].hist(bins=100)\n",
    "    ax.set_xlabel(col)\n",
    "    ax.set_title(\"Multiple Missing Points\")    \n",
    "    \n",
    "# Look into wave segments\n",
    "def plot_all_returns(pulse_number):\n",
    "    # Pulls the waveform and plots the outgoing pulse and 1 or multiple returns, depending on what's available.\n",
    "    a = pulsewave.get_waves(pulse_number).segments\n",
    "    plt.figure(figsize=[20,8])\n",
    "    for r in range(len(a)):\n",
    "        plt.subplot(1,len(a),r+1)\n",
    "\n",
    "        if r == 0:\n",
    "            plt.plot(a[r][3],range(len(a[r][3])),'r')\n",
    "            plt.title(\"Outgoing\",fontsize=13)\n",
    "            plt.ylabel(\"Sample Number\",fontsize=13)\n",
    "            plt.xlabel(\"Amplitude\",fontsize=13)\n",
    "            plt.xticks(fontsize=13)\n",
    "            plt.yticks(fontsize=13)\n",
    "        else:\n",
    "            plt.plot(a[r][3],range(len(a[r][3])),'b')\n",
    "            plt.title(\"Segment {}\".format(r),fontsize=13)\n",
    "            plt.xlabel(\"Amplitude\",fontsize=13)\n",
    "            plt.xticks(fontsize=13)\n",
    "            plt.yticks(fontsize=13)\n",
    "\n",
    "    plt.show()"
   ]
  },
  {
   "cell_type": "code",
   "execution_count": null,
   "metadata": {
    "scrolled": false
   },
   "outputs": [],
   "source": [
    "for i in range(4714066,4714066+5):\n",
    "    print(\"Pulse {}\".format(i))\n",
    "    plot_all_returns(i)"
   ]
  },
  {
   "cell_type": "code",
   "execution_count": null,
   "metadata": {
    "scrolled": false
   },
   "outputs": [],
   "source": [
    "for p in range(4714066,4714066+5):\n",
    "    pls = pulsewave.get_pulse(4754061)\n",
    "    print(len(pulsewave.vlrs[pls.pulse_descriptor].sampling_records))"
   ]
  },
  {
   "cell_type": "code",
   "execution_count": null,
   "metadata": {},
   "outputs": [],
   "source": [
    "# Do any pulses have more than 2 returns?\n",
    "more = []\n",
    "for i in range(4000000,4714061):\n",
    "    if len(pulsewave.get_waves(int(i)).segments) > 3:\n",
    "        print(\"Yes: \",i)\n",
    "        more.append(i)"
   ]
  },
  {
   "cell_type": "markdown",
   "metadata": {},
   "source": [
    "### Missing point streaks\n",
    "A single scan line through 3 missing point streaks, in both the pulse file and point file."
   ]
  },
  {
   "cell_type": "code",
   "execution_count": 30,
   "metadata": {},
   "outputs": [
    {
     "data": {
      "text/html": [
       "<div>\n",
       "<style scoped>\n",
       "    .dataframe tbody tr th:only-of-type {\n",
       "        vertical-align: middle;\n",
       "    }\n",
       "\n",
       "    .dataframe tbody tr th {\n",
       "        vertical-align: top;\n",
       "    }\n",
       "\n",
       "    .dataframe thead th {\n",
       "        text-align: right;\n",
       "    }\n",
       "</style>\n",
       "<table border=\"1\" class=\"dataframe\">\n",
       "  <thead>\n",
       "    <tr style=\"text-align: right;\">\n",
       "      <th></th>\n",
       "      <th>index</th>\n",
       "      <th>X</th>\n",
       "      <th>Y</th>\n",
       "      <th>Z</th>\n",
       "      <th>intensity</th>\n",
       "      <th>flag_byte</th>\n",
       "      <th>classification_flags</th>\n",
       "      <th>classification_byte</th>\n",
       "      <th>user_data</th>\n",
       "      <th>scan_angle</th>\n",
       "      <th>...</th>\n",
       "      <th>gps_time</th>\n",
       "      <th>x_scaled</th>\n",
       "      <th>y_scaled</th>\n",
       "      <th>z_scaled</th>\n",
       "      <th>adj_gps_time</th>\n",
       "      <th>num_returns</th>\n",
       "      <th>return_num</th>\n",
       "      <th>scan_gap</th>\n",
       "      <th>scan_angle_deg</th>\n",
       "      <th>pulse_index</th>\n",
       "    </tr>\n",
       "  </thead>\n",
       "  <tbody>\n",
       "    <tr>\n",
       "      <th>6454906</th>\n",
       "      <td>6783070</td>\n",
       "      <td>-433071</td>\n",
       "      <td>215487</td>\n",
       "      <td>13945</td>\n",
       "      <td>1711</td>\n",
       "      <td>17</td>\n",
       "      <td>0</td>\n",
       "      <td>0</td>\n",
       "      <td>0</td>\n",
       "      <td>-3893</td>\n",
       "      <td>...</td>\n",
       "      <td>65355.483923</td>\n",
       "      <td>976566.929</td>\n",
       "      <td>173215.487</td>\n",
       "      <td>13.945</td>\n",
       "      <td>35.952738</td>\n",
       "      <td>1</td>\n",
       "      <td>1</td>\n",
       "      <td>-5.0</td>\n",
       "      <td>-23.358</td>\n",
       "      <td>5767866</td>\n",
       "    </tr>\n",
       "    <tr>\n",
       "      <th>6454907</th>\n",
       "      <td>6783071</td>\n",
       "      <td>-432607</td>\n",
       "      <td>215064</td>\n",
       "      <td>14075</td>\n",
       "      <td>1462</td>\n",
       "      <td>17</td>\n",
       "      <td>0</td>\n",
       "      <td>0</td>\n",
       "      <td>0</td>\n",
       "      <td>-3898</td>\n",
       "      <td>...</td>\n",
       "      <td>65355.483926</td>\n",
       "      <td>976567.393</td>\n",
       "      <td>173215.064</td>\n",
       "      <td>14.075</td>\n",
       "      <td>35.952741</td>\n",
       "      <td>1</td>\n",
       "      <td>1</td>\n",
       "      <td>-5.0</td>\n",
       "      <td>-23.388</td>\n",
       "      <td>5767867</td>\n",
       "    </tr>\n",
       "    <tr>\n",
       "      <th>6454908</th>\n",
       "      <td>6783072</td>\n",
       "      <td>-432038</td>\n",
       "      <td>214559</td>\n",
       "      <td>14047</td>\n",
       "      <td>1497</td>\n",
       "      <td>17</td>\n",
       "      <td>0</td>\n",
       "      <td>0</td>\n",
       "      <td>0</td>\n",
       "      <td>-3904</td>\n",
       "      <td>...</td>\n",
       "      <td>65355.483929</td>\n",
       "      <td>976567.962</td>\n",
       "      <td>173214.559</td>\n",
       "      <td>14.047</td>\n",
       "      <td>35.952744</td>\n",
       "      <td>1</td>\n",
       "      <td>1</td>\n",
       "      <td>-6.0</td>\n",
       "      <td>-23.424</td>\n",
       "      <td>0</td>\n",
       "    </tr>\n",
       "    <tr>\n",
       "      <th>6454909</th>\n",
       "      <td>6783073</td>\n",
       "      <td>-431506</td>\n",
       "      <td>214094</td>\n",
       "      <td>13929</td>\n",
       "      <td>1529</td>\n",
       "      <td>17</td>\n",
       "      <td>0</td>\n",
       "      <td>0</td>\n",
       "      <td>0</td>\n",
       "      <td>-3909</td>\n",
       "      <td>...</td>\n",
       "      <td>65355.483931</td>\n",
       "      <td>976568.494</td>\n",
       "      <td>173214.094</td>\n",
       "      <td>13.929</td>\n",
       "      <td>35.952746</td>\n",
       "      <td>1</td>\n",
       "      <td>1</td>\n",
       "      <td>-5.0</td>\n",
       "      <td>-23.454</td>\n",
       "      <td>5767869</td>\n",
       "    </tr>\n",
       "    <tr>\n",
       "      <th>6454910</th>\n",
       "      <td>6783074</td>\n",
       "      <td>-430917</td>\n",
       "      <td>213579</td>\n",
       "      <td>13807</td>\n",
       "      <td>1961</td>\n",
       "      <td>17</td>\n",
       "      <td>0</td>\n",
       "      <td>0</td>\n",
       "      <td>0</td>\n",
       "      <td>-3914</td>\n",
       "      <td>...</td>\n",
       "      <td>65355.483934</td>\n",
       "      <td>976569.083</td>\n",
       "      <td>173213.579</td>\n",
       "      <td>13.807</td>\n",
       "      <td>35.952749</td>\n",
       "      <td>1</td>\n",
       "      <td>1</td>\n",
       "      <td>-5.0</td>\n",
       "      <td>-23.484</td>\n",
       "      <td>5767870</td>\n",
       "    </tr>\n",
       "    <tr>\n",
       "      <th>...</th>\n",
       "      <td>...</td>\n",
       "      <td>...</td>\n",
       "      <td>...</td>\n",
       "      <td>...</td>\n",
       "      <td>...</td>\n",
       "      <td>...</td>\n",
       "      <td>...</td>\n",
       "      <td>...</td>\n",
       "      <td>...</td>\n",
       "      <td>...</td>\n",
       "      <td>...</td>\n",
       "      <td>...</td>\n",
       "      <td>...</td>\n",
       "      <td>...</td>\n",
       "      <td>...</td>\n",
       "      <td>...</td>\n",
       "      <td>...</td>\n",
       "      <td>...</td>\n",
       "      <td>...</td>\n",
       "      <td>...</td>\n",
       "      <td>...</td>\n",
       "    </tr>\n",
       "    <tr>\n",
       "      <th>6455062</th>\n",
       "      <td>6783226</td>\n",
       "      <td>-340243</td>\n",
       "      <td>132851</td>\n",
       "      <td>15321</td>\n",
       "      <td>1664</td>\n",
       "      <td>17</td>\n",
       "      <td>0</td>\n",
       "      <td>0</td>\n",
       "      <td>0</td>\n",
       "      <td>-4791</td>\n",
       "      <td>...</td>\n",
       "      <td>65355.484371</td>\n",
       "      <td>976659.757</td>\n",
       "      <td>173132.851</td>\n",
       "      <td>15.321</td>\n",
       "      <td>35.953186</td>\n",
       "      <td>1</td>\n",
       "      <td>1</td>\n",
       "      <td>-11.0</td>\n",
       "      <td>-28.746</td>\n",
       "      <td>5768016</td>\n",
       "    </tr>\n",
       "    <tr>\n",
       "      <th>6455063</th>\n",
       "      <td>6783227</td>\n",
       "      <td>-339674</td>\n",
       "      <td>132346</td>\n",
       "      <td>15324</td>\n",
       "      <td>1683</td>\n",
       "      <td>17</td>\n",
       "      <td>0</td>\n",
       "      <td>0</td>\n",
       "      <td>0</td>\n",
       "      <td>-4796</td>\n",
       "      <td>...</td>\n",
       "      <td>65355.484373</td>\n",
       "      <td>976660.326</td>\n",
       "      <td>173132.346</td>\n",
       "      <td>15.324</td>\n",
       "      <td>35.953188</td>\n",
       "      <td>1</td>\n",
       "      <td>1</td>\n",
       "      <td>-5.0</td>\n",
       "      <td>-28.776</td>\n",
       "      <td>0</td>\n",
       "    </tr>\n",
       "    <tr>\n",
       "      <th>6455064</th>\n",
       "      <td>6783228</td>\n",
       "      <td>-339178</td>\n",
       "      <td>131901</td>\n",
       "      <td>15364</td>\n",
       "      <td>1706</td>\n",
       "      <td>17</td>\n",
       "      <td>0</td>\n",
       "      <td>0</td>\n",
       "      <td>0</td>\n",
       "      <td>-4801</td>\n",
       "      <td>...</td>\n",
       "      <td>65355.484376</td>\n",
       "      <td>976660.822</td>\n",
       "      <td>173131.901</td>\n",
       "      <td>15.364</td>\n",
       "      <td>35.953191</td>\n",
       "      <td>1</td>\n",
       "      <td>1</td>\n",
       "      <td>-5.0</td>\n",
       "      <td>-28.806</td>\n",
       "      <td>5768017</td>\n",
       "    </tr>\n",
       "    <tr>\n",
       "      <th>6455065</th>\n",
       "      <td>6783229</td>\n",
       "      <td>-338528</td>\n",
       "      <td>131328</td>\n",
       "      <td>15281</td>\n",
       "      <td>1727</td>\n",
       "      <td>17</td>\n",
       "      <td>0</td>\n",
       "      <td>0</td>\n",
       "      <td>0</td>\n",
       "      <td>-4806</td>\n",
       "      <td>...</td>\n",
       "      <td>65355.484378</td>\n",
       "      <td>976661.472</td>\n",
       "      <td>173131.328</td>\n",
       "      <td>15.281</td>\n",
       "      <td>35.953193</td>\n",
       "      <td>1</td>\n",
       "      <td>1</td>\n",
       "      <td>-5.0</td>\n",
       "      <td>-28.836</td>\n",
       "      <td>5768018</td>\n",
       "    </tr>\n",
       "    <tr>\n",
       "      <th>6455066</th>\n",
       "      <td>6783230</td>\n",
       "      <td>-337952</td>\n",
       "      <td>130816</td>\n",
       "      <td>15304</td>\n",
       "      <td>1660</td>\n",
       "      <td>17</td>\n",
       "      <td>0</td>\n",
       "      <td>0</td>\n",
       "      <td>0</td>\n",
       "      <td>-4812</td>\n",
       "      <td>...</td>\n",
       "      <td>65355.484381</td>\n",
       "      <td>976662.048</td>\n",
       "      <td>173130.816</td>\n",
       "      <td>15.304</td>\n",
       "      <td>35.953196</td>\n",
       "      <td>1</td>\n",
       "      <td>1</td>\n",
       "      <td>-6.0</td>\n",
       "      <td>-28.872</td>\n",
       "      <td>5768019</td>\n",
       "    </tr>\n",
       "  </tbody>\n",
       "</table>\n",
       "<p>161 rows × 21 columns</p>\n",
       "</div>"
      ],
      "text/plain": [
       "           index       X       Y      Z  intensity  flag_byte  \\\n",
       "6454906  6783070 -433071  215487  13945       1711         17   \n",
       "6454907  6783071 -432607  215064  14075       1462         17   \n",
       "6454908  6783072 -432038  214559  14047       1497         17   \n",
       "6454909  6783073 -431506  214094  13929       1529         17   \n",
       "6454910  6783074 -430917  213579  13807       1961         17   \n",
       "...          ...     ...     ...    ...        ...        ...   \n",
       "6455062  6783226 -340243  132851  15321       1664         17   \n",
       "6455063  6783227 -339674  132346  15324       1683         17   \n",
       "6455064  6783228 -339178  131901  15364       1706         17   \n",
       "6455065  6783229 -338528  131328  15281       1727         17   \n",
       "6455066  6783230 -337952  130816  15304       1660         17   \n",
       "\n",
       "         classification_flags  classification_byte  user_data  scan_angle  \\\n",
       "6454906                     0                    0          0       -3893   \n",
       "6454907                     0                    0          0       -3898   \n",
       "6454908                     0                    0          0       -3904   \n",
       "6454909                     0                    0          0       -3909   \n",
       "6454910                     0                    0          0       -3914   \n",
       "...                       ...                  ...        ...         ...   \n",
       "6455062                     0                    0          0       -4791   \n",
       "6455063                     0                    0          0       -4796   \n",
       "6455064                     0                    0          0       -4801   \n",
       "6455065                     0                    0          0       -4806   \n",
       "6455066                     0                    0          0       -4812   \n",
       "\n",
       "         ...      gps_time    x_scaled    y_scaled  z_scaled  adj_gps_time  \\\n",
       "6454906  ...  65355.483923  976566.929  173215.487    13.945     35.952738   \n",
       "6454907  ...  65355.483926  976567.393  173215.064    14.075     35.952741   \n",
       "6454908  ...  65355.483929  976567.962  173214.559    14.047     35.952744   \n",
       "6454909  ...  65355.483931  976568.494  173214.094    13.929     35.952746   \n",
       "6454910  ...  65355.483934  976569.083  173213.579    13.807     35.952749   \n",
       "...      ...           ...         ...         ...       ...           ...   \n",
       "6455062  ...  65355.484371  976659.757  173132.851    15.321     35.953186   \n",
       "6455063  ...  65355.484373  976660.326  173132.346    15.324     35.953188   \n",
       "6455064  ...  65355.484376  976660.822  173131.901    15.364     35.953191   \n",
       "6455065  ...  65355.484378  976661.472  173131.328    15.281     35.953193   \n",
       "6455066  ...  65355.484381  976662.048  173130.816    15.304     35.953196   \n",
       "\n",
       "         num_returns  return_num  scan_gap  scan_angle_deg  pulse_index  \n",
       "6454906            1           1      -5.0         -23.358      5767866  \n",
       "6454907            1           1      -5.0         -23.388      5767867  \n",
       "6454908            1           1      -6.0         -23.424            0  \n",
       "6454909            1           1      -5.0         -23.454      5767869  \n",
       "6454910            1           1      -5.0         -23.484      5767870  \n",
       "...              ...         ...       ...             ...          ...  \n",
       "6455062            1           1     -11.0         -28.746      5768016  \n",
       "6455063            1           1      -5.0         -28.776            0  \n",
       "6455064            1           1      -5.0         -28.806      5768017  \n",
       "6455065            1           1      -5.0         -28.836      5768018  \n",
       "6455066            1           1      -6.0         -28.872      5768019  \n",
       "\n",
       "[161 rows x 21 columns]"
      ]
     },
     "execution_count": 30,
     "metadata": {},
     "output_type": "execute_result"
    }
   ],
   "source": [
    "scan_pts = first_return_df[(first_return_df['gps_time']>65355.483922)&(first_return_df['gps_time']<65355.484383)]\n",
    "scan_pls = pls_anchor_df[(pls_anchor_df['adj_gps_time']>35.952737)&(pls_anchor_df['adj_gps_time']<35.953197)]\n",
    "scan_pts"
   ]
  },
  {
   "cell_type": "code",
   "execution_count": 32,
   "metadata": {},
   "outputs": [],
   "source": [
    "# Left side of scan\n",
    "scan_pts = first_return_df[(first_return_df['adj_gps_time']>36.78871)&(first_return_df['adj_gps_time']<36.789215)]\n",
    "scan_pls = pls_anchor_df[(pls_anchor_df['adj_gps_time']>36.78871)&(pls_anchor_df['adj_gps_time']<36.789215)]"
   ]
  },
  {
   "cell_type": "code",
   "execution_count": null,
   "metadata": {},
   "outputs": [],
   "source": [
    "# diff = 2.5e-6 * 5\n",
    "first_return_df[(first_return_df['gps_time']>65356.319892)&(first_return_df['gps_time']<65356.319899)]"
   ]
  },
  {
   "cell_type": "code",
   "execution_count": null,
   "metadata": {},
   "outputs": [],
   "source": [
    "# scan_pts[scan_pts['adj_gps_time']>36.788726].iloc[:15]\n",
    "scan_pls.iloc[:15]"
   ]
  },
  {
   "cell_type": "code",
   "execution_count": 33,
   "metadata": {},
   "outputs": [
    {
     "data": {
      "text/plain": [
       "([<matplotlib.axis.YTick at 0x7f4aea34e6d8>,\n",
       "  <matplotlib.axis.YTick at 0x7f4aea313f60>,\n",
       "  <matplotlib.axis.YTick at 0x7f4aea63be80>,\n",
       "  <matplotlib.axis.YTick at 0x7f4aea957160>,\n",
       "  <matplotlib.axis.YTick at 0x7f4aea9575c0>,\n",
       "  <matplotlib.axis.YTick at 0x7f4aea957b00>,\n",
       "  <matplotlib.axis.YTick at 0x7f4aea957dd8>,\n",
       "  <matplotlib.axis.YTick at 0x7f4aea96c390>,\n",
       "  <matplotlib.axis.YTick at 0x7f4aea96c908>,\n",
       "  <matplotlib.axis.YTick at 0x7f4aea96ce80>,\n",
       "  <matplotlib.axis.YTick at 0x7f4aea979438>,\n",
       "  <matplotlib.axis.YTick at 0x7f4aea9799b0>,\n",
       "  <matplotlib.axis.YTick at 0x7f4aea979f28>,\n",
       "  <matplotlib.axis.YTick at 0x7f4aea9534e0>,\n",
       "  <matplotlib.axis.YTick at 0x7f4aea979400>,\n",
       "  <matplotlib.axis.YTick at 0x7f4aea96c438>,\n",
       "  <matplotlib.axis.YTick at 0x7f4aea953438>,\n",
       "  <matplotlib.axis.YTick at 0x7f4aea7db0b8>,\n",
       "  <matplotlib.axis.YTick at 0x7f4aea7db5f8>,\n",
       "  <matplotlib.axis.YTick at 0x7f4aea7dbb70>],\n",
       " <a list of 20 Text yticklabel objects>)"
      ]
     },
     "execution_count": 33,
     "metadata": {},
     "output_type": "execute_result"
    },
    {
     "data": {
      "image/png": "[encoded data removed]",
      "text/plain": [
       "<Figure size 1800x360 with 1 Axes>"
      ]
     },
     "metadata": {
      "needs_background": "light"
     },
     "output_type": "display_data"
    }
   ],
   "source": [
    "plt.figure(figsize=[25,5])\n",
    "plt.plot(scan_pts['adj_gps_time'],np.ones(scan_pts.shape[0]),'.')\n",
    "plt.plot(scan_pls['adj_gps_time'],1.1*np.ones(scan_pls.shape[0]),'.')\n",
    "plt.yticks(np.arange(0,2,0.1))"
   ]
  },
  {
   "cell_type": "code",
   "execution_count": null,
   "metadata": {
    "scrolled": true
   },
   "outputs": [],
   "source": [
    "j=0\n",
    "print(\"All pulses for one scan line through a missing point streak\")\n",
    "print(\"*\"*60,\"\\n\")\n",
    "for i in np.arange(5767871+25,5767871+45):\n",
    "    try:\n",
    "        num_cloud_returns = int(first_return_df[first_return_df['pulse_index']==i]['num_returns'])\n",
    "    except TypeError:\n",
    "        num_cloud_returns = \"Timestamps did not line up\"\n",
    "    print(\"Pulse {} \\nAdjusted time: {:2.6f}\".format(i,pls_anchor_df.loc[i]['adj_gps_time']))\n",
    "    print(\"Number of point cloud returns: {}\".format(num_cloud_returns))\n",
    "    print(\"Number of Pulsewave returns: {}\".format(len(pulsewave.get_waves(int(i)).segments)-1))\n",
    "    plot_all_returns(int(i))\n",
    "#     if len(pulsewave.get_waves(int(i)).segments)>2:\n",
    "#         print(j)\n",
    "#         j+=1\n",
    "    "
   ]
  },
  {
   "cell_type": "markdown",
   "metadata": {},
   "source": [
    "### Do all the multi-returns fall along the dx/dy/dz line?\n",
    "Yes, it looks like they do.  Example is below."
   ]
  },
  {
   "cell_type": "code",
   "execution_count": null,
   "metadata": {},
   "outputs": [],
   "source": [
    "'''Do all the multi-returns fall along the dx/dy/dz line?\n",
    "Pulse 4714061\n",
    "Point index (first return) 5304263\n",
    "Num returns: 5\n",
    "'''\n",
    "# Collect all 5 points associated with that pulse\n",
    "mr = las_df[(las_df['gps_time']>65350.854972)&(las_df['gps_time']<65350.854975)]\n",
    "\n",
    "# Calculate the time diffs\n",
    "x_diff = np.array(mr['x_scaled'][:4]) - np.array(mr['x_scaled'][1:])\n",
    "y_diff = np.array(mr['y_scaled'][:4]) - np.array(mr['y_scaled'][1:])\n",
    "z_diff = np.array(mr['z_scaled'][:4]) - np.array(mr['z_scaled'][1:])\n",
    "\n",
    "# X,Y, and Z are proportional, \n",
    "print(\"z/y: \",np.divide(z_diff,y_diff))\n",
    "print(\"x/y: \",np.divide(x_diff,y_diff))\n",
    "print(\"z/x: \",np.divide(z_diff,x_diff))\n",
    "\n",
    "# Not sure why there are only 2 segments in the fwf, maybe I'm misaligning the fwf?\n",
    "w = pulsewave.get_waves(4714061)\n",
    "len(w.segments)"
   ]
  },
  {
   "cell_type": "code",
   "execution_count": null,
   "metadata": {},
   "outputs": [],
   "source": [
    "w = pulsewave.get_waves(4714061)\n",
    "len(w.segments)"
   ]
  },
  {
   "cell_type": "code",
   "execution_count": null,
   "metadata": {
    "scrolled": false
   },
   "outputs": [],
   "source": [
    "# 4128165 high on wall\n",
    "# 4124759 low on wall\n",
    "\n",
    "plt.figure(figsize=[7,12])\n",
    "heights = [(a-9)/3.28084 for a in [99.721,53.669,13.376]]\n",
    "for i,p in enumerate([2915445,2915424,2915403]):\n",
    "    a = pulsewave.get_waves(int(p)).segments\n",
    "    print(\"Max amplitude: {:2.4f}\".format(max(a[1][3])))\n",
    "    plt.subplot(3,1,i+1)\n",
    "    plt.plot(a[1][3],range(len(a[1][3])),'b',label='Wall Height = {:2.1f}m'.format(heights[i]))\n",
    "    plt.xlim([0,220])\n",
    "    plt.xticks(fontsize=18)\n",
    "    plt.yticks(fontsize=18)\n",
    "    plt.legend(loc='upper right',fontsize=18)\n",
    "    if i == 2:\n",
    "        plt.xlabel(\"Amplitude\",fontsize=18)\n"
   ]
  },
  {
   "cell_type": "code",
   "execution_count": null,
   "metadata": {},
   "outputs": [],
   "source": [
    "# Print the waves from the windows on the Army Terminal Bldg\n",
    "\n",
    "for i in np.arange(0,20):\n",
    "    p = int(follow_pt.iloc[i]['pulse_index'])\n",
    "    print(\"Pulse {} adjusted time: {:2.8f}\".format(p, \\\n",
    "                                                   pls_anchor_df.loc[i]['adj_gps_time']+60205.194250-25.532044))\n",
    "    print(\"Number of point cloud returns: {}\".format(int(follow_pt.iloc[i]['num_returns'])))\n",
    "    print(\"Number of Pulsewave returns: {}\".format(len(pulsewave.get_waves(p).segments)-1))\n",
    "    plot_all_returns(p)"
   ]
  },
  {
   "cell_type": "code",
   "execution_count": null,
   "metadata": {
    "scrolled": false
   },
   "outputs": [],
   "source": [
    "import warnings\n",
    "import matplotlib.cbook\n",
    "warnings.filterwarnings(\"ignore\",category=matplotlib.cbook.mplDeprecation)\n",
    "\n",
    "plt.figure(figsize=[20,10])\n",
    "# for i in np.arange(3775808,3775808+30):\n",
    "for i in np.arange(5761020-200,5761020-100):\n",
    "    s = pulsewave.get_waves(int(i)).segments\n",
    "    for r in range(1,len(s)):\n",
    "        ax1 = plt.subplot(1,3,1)\n",
    "        ax1.plot(s[r][0],label=[i,r])\n",
    "        ax1.set_title(\"X\")\n",
    "        ax2 = plt.subplot(1,3,2)\n",
    "        ax2.plot(s[r][1],label=[i,r])\n",
    "        ax2.set_title(\"Y\")\n",
    "        ax3 = plt.subplot(1,3,3)\n",
    "        ax3.plot(s[r][2],label=[i,r])\n",
    "        ax3.set_title(\"Z\")\n",
    "\n",
    "# plt.legend(loc='best')\n",
    "plt.show()"
   ]
  },
  {
   "cell_type": "code",
   "execution_count": null,
   "metadata": {},
   "outputs": [],
   "source": [
    "\n",
    "plt.plot(b[1][0],'bo',label=822)\n",
    "plt.plot(b[2][0],'ro',label=822_2)\n",
    "plt.plot(c[1][0],'yx',label=823)\n",
    "plt.plot(a[1][0],'gx',label=821)\n",
    "plt.legend()"
   ]
  },
  {
   "cell_type": "code",
   "execution_count": null,
   "metadata": {},
   "outputs": [],
   "source": [
    "pls_anchor_df.loc[335]"
   ]
  },
  {
   "cell_type": "code",
   "execution_count": null,
   "metadata": {},
   "outputs": [],
   "source": [
    "pulsewave.t_scale"
   ]
  },
  {
   "cell_type": "markdown",
   "metadata": {},
   "source": [
    "## Time between returns\n",
    "Looking at the typical timing between first, second, nth returns for the same pulse.  \n",
    "Result: All associated returns have the exact same timestamp!  "
   ]
  },
  {
   "cell_type": "code",
   "execution_count": null,
   "metadata": {},
   "outputs": [],
   "source": [
    "returns_from_same_pulse = las_df.iloc[336020:336028]\n",
    "print(\"Timestamp range of 8 returns for same pulse: {:2.5f} seconds\".format(returns_from_same_pulse['gps_time'].max()-returns_from_same_pulse['gps_time'].min()))\n",
    "las_df.iloc[336020:336028][['num_returns','return_num','gps_time']] "
   ]
  },
  {
   "cell_type": "code",
   "execution_count": null,
   "metadata": {},
   "outputs": [],
   "source": [
    "# Q: Are multi-return points less likely to line up with a pulse?\n",
    "# A: No.\n",
    "print(\"Mean number of returns for points \\nwith/without a corresponding pulse\\n\"+\"*\"*40)\n",
    "print(\"Points with no pulse: {:2.4f} returns\".format(no_pulse['num_returns'].mean()))\n",
    "print(\"Points with pulse: {:2.4f} returns\".format(with_pulse['num_returns'].mean()))\n",
    "print(\"Overall: {:2.4f} returns\".format(first_return_df['num_returns'].mean()))"
   ]
  },
  {
   "cell_type": "code",
   "execution_count": null,
   "metadata": {},
   "outputs": [],
   "source": [
    "# Q: Are pulses without a point more likely to be noisy (anchor above or below expected helicopter altitude)?  \n",
    "# A: No they are not\n",
    "print(\"All pulses, % that are noisy:: {:2.4%}\".format((sum(pls_anchor_df['z']>1100) + sum(pls_anchor_df['z']< 600))/pls_anchor_df.shape[0]))\n",
    "print(\"Pulses with points: {:2.4%}\".format((sum(pulse_with_point['z']>1100) + sum(pulse_with_point['z']< 600))/pulse_with_point.shape[0]))\n",
    "print(\"Pulses without points: {:2.4%}\".format((sum(pulse_without_point['z']>1100) + sum(pulse_without_point['z']< 600))/pulse_without_point.shape[0]))   \n"
   ]
  },
  {
   "cell_type": "markdown",
   "metadata": {},
   "source": [
    "## Temporal Distribution Plotting\n",
    "Tooling, then comparing temporal distribution of points with and without a corresponding pulse."
   ]
  },
  {
   "cell_type": "code",
   "execution_count": null,
   "metadata": {},
   "outputs": [],
   "source": [
    "def create_bins(df,ms_per_bin,time_field='adj_gps_time'):\n",
    "    '''Function returns a numpy array of bin edges, \n",
    "    where the number of bins = (max_time - min_time)*1e/ms_per_bin \n",
    "    where time is in seconds.'''\n",
    "    min_val = int(np.floor(df[time_field]*1e3).min())\n",
    "    max_val = int(np.ceil(df[time_field]*1e3).max())\n",
    "    bin_range = range(min_val,max_val,ms_per_bin)\n",
    "    bin_arr = np.array(bin_range)/1e3\n",
    "    return bin_arr\n",
    "\n",
    "def plot_range(df,first_point,last_point,ms_per_bin):\n",
    "    '''\n",
    "    Plots the temporal density and the specific points within the [first_point,last_point] range.\n",
    "    Vertical lines are the bin edges\n",
    "    Red dots are the points within the bin edges\n",
    "    Blue is the distribution of the points\n",
    "    '''\n",
    "    bin_plot = create_bins(df[first_point:last_point],ms_per_bin)\n",
    "    hist_plot,_ = np.histogram(df['adj_gps_time'][first_point:last_point],bin_plot)\n",
    "    plt.figure(figsize=[18,12])\n",
    "    plt.plot(df['adj_gps_time'][first_point:last_point], \\\n",
    "             hist_plot.mean()*np.ones(last_point-first_point), \"x\",markersize=8,label=\"Points\")\n",
    "    plt.plot(bin_plot[:-1]+(ms_per_bin/2000),hist_plot,\"ro\",markersize=12,label=\"Points in bin\")\n",
    "    plt.vlines(bin_plot,hist_plot.min(),hist_plot.max(),linestyle=\":\",color='coral',label=\"Bin edges\")\n",
    "    \n",
    "    plt.xlabel(\"Time in Seconds\",fontsize=15)\n",
    "    plt.ylabel(\"Points per {}ms bin\".format(ms_per_bin),fontsize=15)\n",
    "    plt.xticks(fontsize=15)\n",
    "    plt.yticks(fontsize=15)\n",
    "    plt.legend()\n",
    "\n",
    "def points_per_scan(scan_angle):\n",
    "    '''takes scan_angle as Series, counts the number of \"jumps\" in the scan angle, indicating start of a new scan\n",
    "    then divides the number of points in scan_angle to return points / scan'''\n",
    "    delta_angle = [scan_angle.iloc[i+1]-scan_angle.iloc[i] for i in range(len(scan_angle)-1)]\n",
    "    print(\"Done\")\n",
    "    scan_count = sum(abs(np.array(delta_angle)) > scan_angle.max())\n",
    "    print(\"Number of scans: {}\".format(scan_count))\n",
    "    print(\"Points per scan: {:2.2f}\".format(len(scan_angle)/scan_count))    \n",
    "    return len(scan_angle)/scan_count, scan_count\n",
    "\n",
    "def scan_temporal_profile(df):\n",
    "    '''\n",
    "    Identifies each scan by the reset in scan_angle, calculates mean and SD for each of: \n",
    "    - time of each scan\n",
    "    - time of each gap\n",
    "    - points in each scan \n",
    "    Input: Full points dataframe\n",
    "    '''\n",
    "    df.reset_index(inplace=True)\n",
    "    delta_angle=[0]\n",
    "    delta_angle.extend([df['scan_angle'].iloc[i+1]-df['scan_angle'].iloc[i] for i in range(df.shape[0]-1)])\n",
    "    df['delta_angle'] = delta_angle\n",
    "    first_pts = df[abs(df['delta_angle'])>df['scan_angle'].max()]\n",
    "    fpi = first_pts.index\n",
    "    \n",
    "    gap_times = np.array(df.iloc[fpi]['adj_gps_time']) - np.array(df.iloc[fpi-1]['adj_gps_time'])\n",
    "    total_cycle_times = np.array(df.iloc[fpi[1:]]['adj_gps_time']) - np.array(df.iloc[fpi[:-1]]['adj_gps_time'])\n",
    "    scan_times = total_cycle_times - gap_times[:-1]\n",
    "    print(\"Gap Time Mean (ms): \",gap_times.mean()*1000)\n",
    "    print(\"Gap Time StdDev (ms): \",gap_times.std()*1000)    \n",
    "    print(\"Scan Time Mean (ms): \",scan_times.mean()*1000)\n",
    "    print(\"Scan Time StdDev (ms): \",scan_times.std()*1000)    \n",
    "\n",
    "    # Pts per scan distribution\n",
    "    pts_per_scan = np.array([fpi[i] - fpi[i-1] for i in range(1,len(fpi))])\n",
    "    print(\"Points per Scan Mean: \",pts_per_scan.mean())\n",
    "    print(\"Points per Scan StdDev: \",pts_per_scan.std())    "
   ]
  },
  {
   "cell_type": "code",
   "execution_count": null,
   "metadata": {},
   "outputs": [],
   "source": [
    "# Profiling the cycles while over land\n",
    "scan_temporal_profile(first_return_df[:500000])"
   ]
  },
  {
   "cell_type": "code",
   "execution_count": null,
   "metadata": {
    "scrolled": false
   },
   "outputs": [],
   "source": [
    "# Plots the window/cycle phasing problem\n",
    "first_point = 681048\n",
    "last_point =  first_point+13000\n",
    "\n",
    "plot_range(first_return_df,first_point,last_point,ms_per_bin=10)"
   ]
  },
  {
   "cell_type": "code",
   "execution_count": null,
   "metadata": {},
   "outputs": [],
   "source": [
    "# Create the bin edges\n",
    "bin_arr = create_bins(first_return_df,ms_per_bin=45)\n",
    "\n",
    "# Use np.histogram to find the number of points per bin\n",
    "hist,_ = np.histogram(first_return_df['adj_gps_time'],bin_arr)\n",
    "hist_no_pulse,_ = np.histogram(no_pulse['adj_gps_time'],bin_arr)\n",
    "hist_with_pulse,_ = np.histogram(with_pulse['adj_gps_time'],bin_arr)\n",
    "# Same for Pulses\n",
    "hist_pulse,_ = np.histogram(pls_anchor_df['adj_gps_time'],bin_arr)\n",
    "hist_pls_with_pt,_ = np.histogram(pulse_with_point['adj_gps_time'],bin_arr)\n",
    "hist_pls_no_pt,_ = np.histogram(pulse_without_point['adj_gps_time'],bin_arr)"
   ]
  },
  {
   "cell_type": "code",
   "execution_count": null,
   "metadata": {},
   "outputs": [],
   "source": [
    "# This plots the time distribution of points\n",
    "one_scan = first_return_df[(first_return_df['adj_gps_time'] > 2.66)&(first_return_df['adj_gps_time'] < 2.671)]\n",
    "plt.figure(figsize=[15,2])\n",
    "plt.plot(one_scan['adj_gps_time'],np.ones(len(one_scan)),'x')\n",
    "plt.title(\"Scan pattern - Points over time\")\n",
    "plt.xlabel(\"Time in Seconds\")\n",
    "plt.tick_params(\n",
    "    axis='y',          \n",
    "    which='both',    \n",
    "    left=False,      \n",
    "    labelleft=False)"
   ]
  },
  {
   "cell_type": "code",
   "execution_count": null,
   "metadata": {
    "scrolled": false
   },
   "outputs": [],
   "source": [
    "# Plot all points, points w/ pulse, and points w/o pulse in subplots\n",
    "plt.figure(figsize=(20,30))\n",
    "plt.subplot(3, 1, 1)\n",
    "plt.plot(bin_arr[:-1],hist,'+')\n",
    "plt.xlabel(\"Seconds\",fontsize=15)\n",
    "plt.ylabel(\"Points per 10 miliseconds\",fontsize=15)\n",
    "plt.title(\"All points\",fontsize=15)\n",
    "\n",
    "plt.subplot(3, 1, 2)\n",
    "plt.plot(bin_arr[:-1],hist_with_pulse,'+')\n",
    "plt.xlabel(\"Seconds\",fontsize=15)\n",
    "plt.ylabel(\"Points per 10 miliseconds\",fontsize=15)\n",
    "plt.title(\"Points with a pulse\",fontsize=15)\n",
    "\n",
    "plt.subplot(3, 1, 3)\n",
    "plt.plot(bin_arr[:-1],hist_no_pulse,'+')\n",
    "plt.xlabel(\"Seconds\",fontsize=15)\n",
    "plt.ylabel(\"Points per 10 miliseconds\",fontsize=15)\n",
    "plt.title(\"Points without a pulse\",fontsize=15)"
   ]
  },
  {
   "cell_type": "code",
   "execution_count": null,
   "metadata": {},
   "outputs": [],
   "source": [
    "# Plot all points, and decomposed into with/without a corresponding pulse.  Also includes points with no pulse.\n",
    "\n",
    "plt.figure(figsize=(20,17))\n",
    "\n",
    "plt.plot(bin_arr[:-1],hist,'g+',label=\"All points\")\n",
    "plt.plot(bin_arr[:-1],hist_with_pulse,'y+',label=\"With pulse\")\n",
    "plt.plot(bin_arr[:-1],hist_no_pulse,'r+',label=\"No pulse\")\n",
    "plt.plot(bin_arr[:-1],hist_pls_no_pt,'b+',label=\"Pulse w/o point\")\n",
    "\n",
    "plt.xlabel(\"Seconds\",fontsize=15)\n",
    "plt.ylabel(\"Points per 50 miliseconds\",fontsize=15)\n",
    "plt.legend(fontsize=15)\n",
    "plt.title(\"Temporal distribution of points/pulses from one flight\",fontsize=18)"
   ]
  },
  {
   "cell_type": "code",
   "execution_count": null,
   "metadata": {},
   "outputs": [],
   "source": [
    "# Plot all pulses, and decomposed into with/without a corresponding point\n",
    "plt.figure(figsize=(20,17))\n",
    "\n",
    "\n",
    "plt.plot(bin_arr[:-1],hist_pulse,'g+',label=\"All pulses\")\n",
    "plt.plot(bin_arr[:-1],hist_pls_with_pt,'k+',label=\"With point\")\n",
    "plt.plot(bin_arr[:-1],hist_pls_no_pt,'b+',label=\"Without point\")\n",
    "\n",
    "plt.xlabel(\"Seconds\",fontsize=15)\n",
    "plt.ylabel(\"Points per 50 miliseconds\",fontsize=15)\n",
    "plt.legend(fontsize=15)\n",
    "plt.title(\"Temporal distribution of pulses from one flight\",fontsize=18)"
   ]
  },
  {
   "cell_type": "code",
   "execution_count": null,
   "metadata": {
    "scrolled": false
   },
   "outputs": [],
   "source": [
    "# Plot all the points, full flight path\n",
    "plt.figure(figsize=(20,17))\n",
    "\n",
    "plt.plot(bin_arr[:-1],hist,'g+',label=\"All points\")\n",
    "plt.xticks(fontsize=15)\n",
    "plt.yticks(fontsize=15)\n",
    "plt.xlabel(\"Seconds\",fontsize=15)\n",
    "plt.ylabel(\"Points per 45 miliseconds\",fontsize=15)\n",
    "plt.title(\"Temporal distribution of points from one flight\",fontsize=18)"
   ]
  },
  {
   "cell_type": "code",
   "execution_count": null,
   "metadata": {},
   "outputs": [],
   "source": []
  },
  {
   "cell_type": "code",
   "execution_count": null,
   "metadata": {},
   "outputs": [],
   "source": []
  },
  {
   "cell_type": "code",
   "execution_count": null,
   "metadata": {},
   "outputs": [],
   "source": []
  }
 ],
 "metadata": {
  "kernelspec": {
   "display_name": "Python 3",
   "language": "python",
   "name": "python3"
  },
  "language_info": {
   "codemirror_mode": {
    "name": "ipython",
    "version": 3
   },
   "file_extension": ".py",
   "mimetype": "text/x-python",
   "name": "python",
   "nbconvert_exporter": "python",
   "pygments_lexer": "ipython3",
   "version": "3.6.9"
  }
 },
 "nbformat": 4,
 "nbformat_minor": 2
}
