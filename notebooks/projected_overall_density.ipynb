{
 "cells": [
  {
   "cell_type": "markdown",
   "metadata": {},
   "source": [
    "# Calculate overall density\n",
    "Calculates projected density for a given LAS file.  \n",
    "\n",
    "Approach:  \n",
    "* Select point near center of dataset\n",
    "* Count all the points within a given radius in the xy plane. This should count all points in a cylinder regardless of z coordinate (hence, projected density)."
   ]
  },
  {
   "cell_type": "code",
   "execution_count": 1,
   "metadata": {},
   "outputs": [
    {
     "name": "stderr",
     "output_type": "stream",
     "text": [
      "/home/michael/python-virtual-environments/data/lib/python3.6/site-packages/requests/__init__.py:91: RequestsDependencyWarning:\n",
      "\n",
      "urllib3 (1.25.10) or chardet (3.0.4) doesn't match a supported version!\n",
      "\n",
      "/home/michael/python-virtual-environments/data/lib/python3.6/site-packages/IPython/utils/traitlets.py:5: UserWarning:\n",
      "\n",
      "IPython.utils.traitlets has moved to a top-level traitlets package.\n",
      "\n"
     ]
    }
   ],
   "source": [
    "import numpy as np\n",
    "import pandas as pd\n",
    "from scipy import stats\n",
    "from laspy.file import File\n",
    "import matplotlib.pyplot as plt\n",
    "from mpl_toolkits import mplot3d\n",
    "import plotly.graph_objects as go\n",
    "import plotly.express as px\n",
    "import seaborn as sns\n",
    "\n",
    "import sys\n",
    "\n",
    "sys.path.insert(0,'..') # So we can import point_density_functions from parent directory\n",
    "from point_density_functions import *\n",
    "%load_ext autoreload\n",
    "%matplotlib notebook"
   ]
  },
  {
   "cell_type": "code",
   "execution_count": 3,
   "metadata": {},
   "outputs": [],
   "source": [
    "# Laefer\n",
    "file_dir = '../../Data/parking_lot/'\n",
    "filenames =list(pd.read_csv(file_dir+\"filenames.txt\",header=None)[0])\n",
    "pt_files = list(pd.read_csv(file_dir+\"pt_files.txt\",header=None)[0])\n",
    "\n",
    "columns_dublin_pt_cloud = [\n",
    "    'X',\n",
    "    'Y',\n",
    "    'Z',\n",
    "    'intensity',\n",
    "    'return_number_byte',\n",
    "    'classification_byte',\n",
    "    'scan_angle',\n",
    "    'user_data',\n",
    "    'pt_src_id',\n",
    "    'gps_time']\n",
    "\n",
    "columns_point_cloud = [\n",
    "    'X','Y','Z',\n",
    "    'intensity',\n",
    "    'flag_byte',\n",
    "    'classification_flags',\n",
    "    'classification_byte',\n",
    "    'user_data',\n",
    "    'scan_angle',\n",
    "    'pt_src_id',\n",
    "    'gps_time']"
   ]
  },
  {
   "cell_type": "markdown",
   "metadata": {},
   "source": [
    "## Total points (and total first points)"
   ]
  },
  {
   "cell_type": "code",
   "execution_count": null,
   "metadata": {},
   "outputs": [],
   "source": [
    "first_points_list,total_points_list=[],[]\n",
    "\n",
    "# for pick in ['las_points_164445.lz']:\n",
    "for pick in pt_files:\n",
    "    las_points = pd.read_hdf(file_dir+pick)\n",
    "    first_las_points, las_points = label_returns(las_points)\n",
    "    first_points = first_las_points.shape[0]\n",
    "    total_points = las_points.shape[0]\n",
    "    first_points_list.append(first_points)\n",
    "    total_points_list.append(total_points)"
   ]
  },
  {
   "cell_type": "code",
   "execution_count": null,
   "metadata": {},
   "outputs": [],
   "source": [
    "np.sum(first_points_list)"
   ]
  },
  {
   "cell_type": "code",
   "execution_count": null,
   "metadata": {},
   "outputs": [],
   "source": [
    "np.sum(total_points_list)/1e6"
   ]
  },
  {
   "cell_type": "code",
   "execution_count": null,
   "metadata": {},
   "outputs": [],
   "source": []
  },
  {
   "cell_type": "code",
   "execution_count": null,
   "metadata": {},
   "outputs": [],
   "source": []
  },
  {
   "cell_type": "markdown",
   "metadata": {},
   "source": [
    "### Old work"
   ]
  },
  {
   "cell_type": "code",
   "execution_count": null,
   "metadata": {},
   "outputs": [],
   "source": [
    "# inFile = File(\"../../Data/Estonia/583538_2014_madal.laz\", mode='r')\n",
    "# inFile = File(\"../../Data/Estonia/589541_2014_madal.laz\", mode='r')\n",
    "inFile = File(\"../../Data/Estonia/583538_2019_madal.laz\", mode='r')\n",
    "#raw = inFile.get_points()\n",
    "#las_points = raw_to_df(raw,columns_dublin_pt_cloud)\n",
    "#las_points = scale_and_offset(las_points,inFile.header,append_to_df=True)"
   ]
  },
  {
   "cell_type": "code",
   "execution_count": null,
   "metadata": {
    "scrolled": true
   },
   "outputs": [],
   "source": [
    "#Estonia\n",
    "# pt_x,pt_y = 538507.55,6583533.49\n",
    "# feet_from_point = 200\n",
    "\n",
    "# Second swath\n",
    "\n",
    "feet_from_point = 200\n"
   ]
  },
  {
   "cell_type": "code",
   "execution_count": null,
   "metadata": {},
   "outputs": [],
   "source": [
    "total_points = las_points[(las_points['x_scaled'] < pt_x + feet_from_point) \\\n",
    "        &(las_points['x_scaled'] > pt_x - feet_from_point) \\\n",
    "        &(las_points['y_scaled'] < pt_y + feet_from_point) \\\n",
    "        &(las_points['y_scaled'] > pt_y - feet_from_point)].shape[0]\n",
    "\n",
    "print(\"Point count in new square from {:s}: {:d}\".format(\"598541\",total_points))\n",
    "total_points_list.append(total_points)\n",
    "    \n",
    "print(\"Total point count in square: {:d}\".format(np.sum(total_points_list)))\n",
    "print(\"Size of square: {:2.2f} sq ft\".format(size_of_square))\n",
    "print(\"Point density: {:2.2f} points / sq ft\".format(np.sum(total_points_list)/size_of_square))"
   ]
  },
  {
   "cell_type": "code",
   "execution_count": null,
   "metadata": {},
   "outputs": [],
   "source": [
    "# las_points = pd.read_hdf(\"../../Data/USGS/las_points_18TWK820985.lz\")\n",
    "las_points = pd.read_hdf(\"../../Data/USGS/las_points_18TWK820985.lz\")\n",
    "las_points.shape"
   ]
  },
  {
   "cell_type": "code",
   "execution_count": null,
   "metadata": {},
   "outputs": [],
   "source": [
    "# For USGS\n",
    "pt_x,pt_y = 977251.99,173322.9\n",
    "\n",
    "feet_from_point = 800\n",
    "size_of_square = (2*feet_from_point)**2\n",
    "square_points = pd.DataFrame()\n",
    "first_points_list,total_points_list=[],[]\n",
    "\n",
    "total_points = las_points[(las_points['x_scaled'] < pt_x + feet_from_point) \\\n",
    "        &(las_points['x_scaled'] > pt_x - feet_from_point) \\\n",
    "        &(las_points['y_scaled'] < pt_y + feet_from_point) \\\n",
    "        &(las_points['y_scaled'] > pt_y - feet_from_point)]\n",
    "    \n",
    "total_points.shape"
   ]
  },
  {
   "cell_type": "code",
   "execution_count": null,
   "metadata": {},
   "outputs": [],
   "source": [
    "las_points[['x_scaled','y_scaled','z_scaled','intensity']].to_csv(\"usgs_14.pts\")"
   ]
  },
  {
   "cell_type": "code",
   "execution_count": null,
   "metadata": {},
   "outputs": [],
   "source": [
    "# East from army terminal\n",
    "pt_x,pt_y = 977251.99,173322.9\n",
    "\n",
    "feet_from_point = 300\n",
    "size_of_square = (2*feet_from_point)**2\n",
    "square_points = pd.DataFrame()\n",
    "first_points_list,total_points_list=[],[]\n",
    "\n",
    "# for pick in ['las_points_164445.lz']:\n",
    "for pick in pt_files:\n",
    "    las_points = pd.read_hdf(file_dir+pick)\n",
    "    first_las_points, las_points = label_returns(las_points)\n",
    "    first_points = first_las_points[(first_las_points['x_scaled'] < pt_x + feet_from_point) \\\n",
    "            &(first_las_points['x_scaled'] > pt_x - feet_from_point) \\\n",
    "            &(first_las_points['y_scaled'] < pt_y + feet_from_point) \\\n",
    "            &(first_las_points['y_scaled'] > pt_y - feet_from_point)].shape[0]\n",
    "    \n",
    "    total_points = las_points[(las_points['x_scaled'] < pt_x + feet_from_point) \\\n",
    "            &(las_points['x_scaled'] > pt_x - feet_from_point) \\\n",
    "            &(las_points['y_scaled'] < pt_y + feet_from_point) \\\n",
    "            &(las_points['y_scaled'] > pt_y - feet_from_point)].shape[0]\n",
    "          \n",
    "    print(\"Point count in new square from {:s}: {:d}\".format(pick,first_points))\n",
    "    first_points_list.append(first_points)\n",
    "    total_points_list.append(total_points)\n",
    "    \n",
    "print(\"Total point count in square: {:d}\".format(np.sum(total_points_list)))\n",
    "print(\"First return count in square: {:d}\".format(np.sum(first_points_list)))\n",
    "\n",
    "print(\"Size of square: {:2.2f} sq ft\".format(size_of_square))\n",
    "print(\"Point density: {:2.2f} points / sq ft\".format(np.sum(total_points_list)/size_of_square))\n",
    "print(\"First return density: {:2.2f} points / sq ft\".format(np.sum(first_points_list)/size_of_square))"
   ]
  },
  {
   "cell_type": "code",
   "execution_count": null,
   "metadata": {},
   "outputs": [],
   "source": [
    "print(\"First return density for 1 square kilometer around\\nthe central point of the Brooklyn flights\\n\"+\"*\"*30)\n",
    "print(\"Density: {:2.4f}pts/m^2\".format(np.sum(first_points_list)/(size_of_square/10.7639)))"
   ]
  },
  {
   "cell_type": "code",
   "execution_count": null,
   "metadata": {},
   "outputs": [],
   "source": [
    "print(\"Point density for 1 square kilometer around\\nthe central point of the Brooklyn flights\\n\"+\"*\"*30)\n",
    "print(\"Density: {:2.4f}pts/m^2\".format(np.sum(total_points_list)/(size_of_square/10.7639)))"
   ]
  },
  {
   "cell_type": "code",
   "execution_count": null,
   "metadata": {},
   "outputs": [],
   "source": [
    "for pick in ['las_points_164445.lz']:\n",
    "# for pick in pt_files:\n",
    "    las_points = pd.read_hdf(file_dir+pick)\n",
    "    first_las_points, las_points = label_returns(las_points)\n",
    "    first_\n",
    "    print(\"Point count in new square from {:s}: {:d}\".format(pick,total_points))\n",
    "    total_points_list.append(total_points)"
   ]
  }
 ],
 "metadata": {
  "kernelspec": {
   "display_name": "Python 3",
   "language": "python",
   "name": "python3"
  },
  "language_info": {
   "codemirror_mode": {
    "name": "ipython",
    "version": 3
   },
   "file_extension": ".py",
   "mimetype": "text/x-python",
   "name": "python",
   "nbconvert_exporter": "python",
   "pygments_lexer": "ipython3",
   "version": "3.6.9"
  }
 },
 "nbformat": 4,
 "nbformat_minor": 2
}
