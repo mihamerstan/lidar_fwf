{
 "cells": [
  {
   "cell_type": "code",
   "execution_count": 2,
   "metadata": {},
   "outputs": [],
   "source": [
    "import numpy as np\n",
    "import pandas as pd\n",
    "from scipy import stats\n",
    "from laspy.file import File\n",
    "import matplotlib.pyplot as plt\n",
    "from mpl_toolkits import mplot3d\n",
    "import plotly.graph_objects as go\n",
    "import plotly.express as px\n",
    "import seaborn as sns\n",
    "\n",
    "import sys\n",
    "\n",
    "sys.path.insert(0,'..') # So we can import point_density_functions from parent directory\n",
    "from point_density_functions import *\n",
    "%load_ext autoreload\n",
    "%matplotlib notebook"
   ]
  },
  {
   "cell_type": "code",
   "execution_count": 3,
   "metadata": {},
   "outputs": [],
   "source": [
    "# Laefer\n",
    "file_dir = '../../Data/parking_lot/'\n",
    "filenames =list(pd.read_csv(file_dir+\"filenames.txt\",header=None)[0])\n",
    "pt_files = list(pd.read_csv(file_dir+\"pt_files.txt\",header=None)[0])\n",
    "\n",
    "columns_dublin_pt_cloud = [\n",
    "    'X',\n",
    "    'Y',\n",
    "    'Z',\n",
    "    'intensity',\n",
    "    'return_number_byte',\n",
    "    'classification_byte',\n",
    "    'scan_angle',\n",
    "    'user_data',\n",
    "    'pt_src_id',\n",
    "    'gps_time']\n",
    "\n",
    "columns_point_cloud = [\n",
    "    'X','Y','Z',\n",
    "    'intensity',\n",
    "    'flag_byte',\n",
    "    'classification_flags',\n",
    "    'classification_byte',\n",
    "    'user_data',\n",
    "    'scan_angle',\n",
    "    'pt_src_id',\n",
    "    'gps_time']"
   ]
  },
  {
   "cell_type": "code",
   "execution_count": 4,
   "metadata": {
    "scrolled": true
   },
   "outputs": [],
   "source": [
    "# Center point of dataset\n",
    "pt_x,pt_y = 977466.18,173337.84\n",
    "feet_from_point = 1500"
   ]
  },
  {
   "cell_type": "code",
   "execution_count": 9,
   "metadata": {},
   "outputs": [
    {
     "name": "stdout",
     "output_type": "stream",
     "text": [
      "Point count in new square from las_points_161348.lz: 0\n",
      "Point count in new square from las_points_161518.lz: 0\n",
      "Point count in new square from las_points_161726.lz: 0\n",
      "Point count in new square from las_points_161905.lz: 52102\n",
      "Point count in new square from las_points_162124.lz: 1254907\n",
      "Point count in new square from las_points_162306.lz: 3332959\n",
      "Point count in new square from las_points_162537.lz: 5473545\n",
      "Point count in new square from las_points_162730.lz: 7456883\n",
      "Point count in new square from las_points_162957.lz: 12036153\n",
      "Point count in new square from las_points_163206.lz: 9310042\n",
      "Point count in new square from las_points_163425.lz: 10680114\n",
      "Point count in new square from las_points_163824.lz: 9253097\n",
      "Point count in new square from las_points_164039.lz: 10517727\n",
      "Point count in new square from las_points_164239.lz: 8985733\n",
      "Point count in new square from las_points_164445.lz: 10729062\n",
      "Point count in new square from las_points_164640.lz: 8614455\n",
      "Point count in new square from las_points_164845.lz: 10019805\n",
      "Point count in new square from las_points_165019.lz: 5175108\n",
      "Point count in new square from las_points_165210.lz: 4172418\n",
      "Point count in new square from las_points_165342.lz: 1823659\n",
      "Point count in new square from las_points_165523.lz: 174550\n",
      "Point count in new square from las_points_165636.lz: 1\n",
      "Point count in new square from las_points_165850.lz: 0\n",
      "Point count in new square from las_points_170032.lz: 0\n",
      "Point count in new square from las_points_170204.lz: 31115\n",
      "Point count in new square from las_points_170324.lz: 1773326\n",
      "Point count in new square from las_points_170520.lz: 4410208\n",
      "Point count in new square from las_points_170643.lz: 6975087\n",
      "Point count in new square from las_points_170840.lz: 10474886\n",
      "Point count in new square from las_points_171015.lz: 10948132\n",
      "Point count in new square from las_points_171225.lz: 10391730\n",
      "Point count in new square from las_points_171553.lz: 11810691\n",
      "Point count in new square from las_points_171754.lz: 10598576\n",
      "Point count in new square from las_points_172007.lz: 9377632\n",
      "Point count in new square from las_points_172201.lz: 9149434\n",
      "Point count in new square from las_points_172416.lz: 9080409\n",
      "Point count in new square from las_points_172558.lz: 7692005\n",
      "Point count in new square from las_points_172753.lz: 6752888\n",
      "Point count in new square from las_points_172928.lz: 3682211\n",
      "Point count in new square from las_points_173110.lz: 2735066\n",
      "Point count in new square from las_points_173238.lz: 1018381\n",
      "Point count in new square from las_points_173415.lz: 33\n",
      "Point count in new square from las_points_173536.lz: 0\n",
      "Point count in new square from las_points_174133.lz: 320230\n",
      "Point count in new square from las_points_174333.lz: 1053738\n",
      "Point count in new square from las_points_174515.lz: 2179939\n",
      "Point count in new square from las_points_174725.lz: 4433616\n",
      "Point count in new square from las_points_174919.lz: 5273698\n",
      "Point count in new square from las_points_175125.lz: 8391937\n",
      "Point count in new square from las_points_175315.lz: 8817373\n",
      "Point count in new square from las_points_175503.lz: 11968468\n",
      "Point count in new square from las_points_175659.lz: 10912646\n",
      "Point count in new square from las_points_175842.lz: 16181719\n",
      "Point count in new square from las_points_180048.lz: 9207697\n",
      "Point count in new square from las_points_180231.lz: 12741237\n",
      "Point count in new square from las_points_180428.lz: 11262177\n",
      "Point count in new square from las_points_180632.lz: 7913228\n",
      "Point count in new square from las_points_180819.lz: 5448102\n",
      "Point count in new square from las_points_181004.lz: 3815047\n",
      "Point count in new square from las_points_181155.lz: 1769839\n",
      "Point count in new square from las_points_194702.lz: 4725728\n",
      "Point count in new square from las_points_194904.lz: 5514237\n",
      "Point count in new square from las_points_195058.lz: 7243046\n",
      "Point count in new square from las_points_195235.lz: 9443618\n",
      "Point count in new square from las_points_195448.lz: 10197083\n",
      "Point count in new square from las_points_195634.lz: 10769243\n",
      "Point count in new square from las_points_195833.lz: 11581287\n",
      "Point count in new square from las_points_200024.lz: 9021237\n",
      "Point count in new square from las_points_200212.lz: 8327160\n",
      "Point count in new square from las_points_200348.lz: 9356183\n",
      "Point count in new square from las_points_200600.lz: 7000252\n",
      "Point count in new square from las_points_200742.lz: 5432978\n",
      "Point count in new square from las_points_200938.lz: 4286244\n",
      "Point count in new square from las_points_201120.lz: 3852312\n",
      "Point count in new square from las_points_201329.lz: 2397080\n",
      "Point count in new square from las_points_201532.lz: 993683\n",
      "Total point count in square: 467796192\n",
      "Size of square: 9000000.00 sq ft\n",
      "Point density: 51.98 points / sq ft\n"
     ]
    },
    {
     "ename": "SyntaxError",
     "evalue": "'return' outside function (<ipython-input-9-497319280114>, line 19)",
     "output_type": "error",
     "traceback": [
      "\u001b[0;36m  File \u001b[0;32m\"<ipython-input-9-497319280114>\"\u001b[0;36m, line \u001b[0;32m19\u001b[0m\n\u001b[0;31m    return square_points\u001b[0m\n\u001b[0m                        ^\u001b[0m\n\u001b[0;31mSyntaxError\u001b[0m\u001b[0;31m:\u001b[0m 'return' outside function\n"
     ]
    }
   ],
   "source": [
    "size_of_square = (2*feet_from_point)**2\n",
    "square_points = pd.DataFrame()\n",
    "total_points_list=[]\n",
    "\n",
    "for pick in pt_files:\n",
    "    las_points = pd.read_hdf(file_dir+pick)\n",
    "    total_points = las_points[(las_points['x_scaled'] < pt_x + feet_from_point) \\\n",
    "            &(las_points['x_scaled'] > pt_x - feet_from_point) \\\n",
    "            &(las_points['y_scaled'] < pt_y + feet_from_point) \\\n",
    "            &(las_points['y_scaled'] > pt_y - feet_from_point)].shape[0]\n",
    "          \n",
    "    print(\"Point count in new square from {:s}: {:d}\".format(pick,total_points))\n",
    "    total_points_list.append(total_points)\n",
    "    \n",
    "print(\"Total point count in square: {:d}\".format(np.sum(total_points_list)))\n",
    "print(\"Size of square: {:2.2f} sq ft\".format(size_of_square))\n",
    "print(\"Point density: {:2.2f} points / sq ft\".format(np.sum(total_points_list)/size_of_square))"
   ]
  },
  {
   "cell_type": "code",
   "execution_count": 10,
   "metadata": {},
   "outputs": [
    {
     "name": "stdout",
     "output_type": "stream",
     "text": [
      "Total point count in square: 467796192\n",
      "Size of square: 9000000.00 sq ft\n",
      "Point density: 51.98 points / sq ft\n"
     ]
    }
   ],
   "source": [
    "print(\"Total point count in square: {:d}\".format(np.sum(total_points_list)))\n",
    "print(\"Size of square: {:2.2f} sq ft\".format(size_of_square))\n",
    "print(\"Point density: {:2.2f} points / sq ft\".format(np.sum(total_points_list)/size_of_square))"
   ]
  },
  {
   "cell_type": "code",
   "execution_count": 19,
   "metadata": {},
   "outputs": [
    {
     "name": "stdout",
     "output_type": "stream",
     "text": [
      "Point density for 1 square kilometer around\n",
      "the central point of the Brooklyn flights\n",
      "******************************\n",
      "Density: 559.4790pts/m^2\n"
     ]
    }
   ],
   "source": [
    "print(\"Point density for 1 square kilometer around\\nthe central point of the Brooklyn flights\\n\"+\"*\"*30)\n",
    "print(\"Density: {:2.4f}pts/m^2\".format(np.sum(total_points_list)/(size_of_square/10.7639)))"
   ]
  },
  {
   "cell_type": "code",
   "execution_count": null,
   "metadata": {},
   "outputs": [],
   "source": []
  }
 ],
 "metadata": {
  "kernelspec": {
   "display_name": "Python 3",
   "language": "python",
   "name": "python3"
  },
  "language_info": {
   "codemirror_mode": {
    "name": "ipython",
    "version": 3
   },
   "file_extension": ".py",
   "mimetype": "text/x-python",
   "name": "python",
   "nbconvert_exporter": "python",
   "pygments_lexer": "ipython3",
   "version": "3.6.9"
  }
 },
 "nbformat": 4,
 "nbformat_minor": 2
}
