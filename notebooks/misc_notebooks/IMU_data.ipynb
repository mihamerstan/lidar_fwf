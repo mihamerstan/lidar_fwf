{
 "cells": [
  {
   "cell_type": "markdown",
   "metadata": {},
   "source": [
    "# IMU Data Parsing\n",
    "This notebook takes initial steps to parsing the IMU data accompanying the Sunset Park 2019 scan (https://archive.nyu.edu/handle/2451/60458). This work is not utilized in the paper."
   ]
  },
  {
   "cell_type": "code",
   "execution_count": null,
   "metadata": {},
   "outputs": [],
   "source": [
    "import numpy as np\n",
    "import pandas as pd\n",
    "\n",
    "import matplotlib.pyplot as plt"
   ]
  },
  {
   "cell_type": "code",
   "execution_count": null,
   "metadata": {},
   "outputs": [],
   "source": [
    "# load the data\n",
    "columns = ['time',\n",
    " 'distance',\n",
    " 'easting',\n",
    " 'northing',\n",
    " 'ellipsoid_height',\n",
    " 'latitude',\n",
    " 'longitude',\n",
    " 'ellipsoid_height_1',\n",
    " 'roll',\n",
    " 'pitch',\n",
    " 'heading',\n",
    " 'east_velocity',\n",
    " 'north_velocity',\n",
    " 'up_velocity',\n",
    " 'east_sd',\n",
    " 'north_sd',\n",
    " 'height_sd',\n",
    " 'roll_sd',\n",
    " 'pitch_sd',\n",
    " 'heading_sd']\n",
    "\n",
    "imu_df = pd.read_csv(\"../../Data/imu_data/export_Mission_2.txt\", \n",
    "                     sep='[ ]+',\n",
    "                     engine='python',\n",
    "                     skiprows=28,\n",
    "                     header=None,\n",
    "                     names=columns)"
   ]
  },
  {
   "cell_type": "code",
   "execution_count": null,
   "metadata": {},
   "outputs": [],
   "source": [
    "# Import anchor pickle\n",
    "anchors = pd.read_pickle(\"../../Data/pickles/anchor_points_164239_just_xyz.pkl\")\n",
    "anchors_df = pd.DataFrame(anchors,columns=['gps_time'])"
   ]
  },
  {
   "cell_type": "code",
   "execution_count": null,
   "metadata": {},
   "outputs": [],
   "source": [
    "def slice_imu(imu_df,lidar_df,imu_time_name = 'time',lidar_time_name='gps_time'):\n",
    "    #Function slices imu_df for the points that fall within the GPS timeframe of the provided lidar_df.\n",
    "    \n",
    "    # Determine gps timeframe for lidar\n",
    "    lidar_range = (lidar_df[lidar_time_name].min(),lidar_df[lidar_time_name].max())\n",
    "    print(\"Timespan of LiDAR data: {:2.2f} seconds\".format(lidar_range[1]-lidar_range[0]))\n",
    "    \n",
    "    # Slide of IMU data within lidar_range\n",
    "    in_slice = (imu_df[imu_time_name]>=lidar_range[0]) & (imu_df[imu_time_name]<=lidar_range[1])\n",
    "    imu_slice = imu_df[in_slice]\n",
    "    print(\"IMU points in timespan: {:d}\".format(imu_slice.shape[0]))\n",
    "    return imu_slice"
   ]
  },
  {
   "cell_type": "code",
   "execution_count": null,
   "metadata": {},
   "outputs": [],
   "source": [
    "# Create IMU slice\n",
    "imu_slice = slice_imu(imu_df,anchors_df)"
   ]
  },
  {
   "cell_type": "code",
   "execution_count": null,
   "metadata": {
    "scrolled": true
   },
   "outputs": [],
   "source": [
    "%time\n",
    "a = np.zeros(len(anchors_df))\n",
    "for i,time in enumerate(imu_slice['time']):\n",
    "    a = [time if time <= pt else a[i] for i,pt in enumerate(anchors_df['gps_time'])]\n",
    "    if i%10 == 0:\n",
    "        print(\"Iteration count: \",i)\n",
    "    \n",
    "anchors_df['imu_time'] = a"
   ]
  },
  {
   "cell_type": "code",
   "execution_count": null,
   "metadata": {},
   "outputs": [],
   "source": [
    "# Plot some IMU data\n",
    "keys = ['time','distance','latitude','longitude','ellipsoid_height','roll','pitch','heading','up_velocity']\n",
    "font = {'family': 'serif',\n",
    "        'color':  'darkred',\n",
    "        'weight': 'normal',\n",
    "        'size': 16,\n",
    "        }\n",
    "\n",
    "plt.figure(figsize=(20,25))\n",
    "for i, key in enumerate(keys):\n",
    "    plt.subplot(3,3, (i+1))\n",
    "    plt.plot(imu_slice['time'],imu_slice[key],'xr')\n",
    "    plt.title(str(key),fontdict=font)\n",
    "    if i >= 6:\n",
    "        plt.xlabel(\"GPS Time (s)\",fontdict=font)"
   ]
  },
  {
   "cell_type": "code",
   "execution_count": null,
   "metadata": {},
   "outputs": [],
   "source": [
    "field = 'pitch'\n",
    "plt.figure(figsize=(20,25))\n",
    "plt.plot(imu_slice['time'],imu_slice[field],'xr')\n",
    "plt.ylabel(field)\n",
    "plt.xlabel(\"GPS Time\")"
   ]
  },
  {
   "cell_type": "markdown",
   "metadata": {},
   "source": [
    "### Find a specific Lat/Lon\n",
    "40°38'38.8\"N 74°01'33.0\"W"
   ]
  },
  {
   "cell_type": "code",
   "execution_count": null,
   "metadata": {},
   "outputs": [],
   "source": [
    "def convert_lat_lon_to_dec(degrees,minutes,seconds):\n",
    "    return degrees + (minutes/60) + (seconds/3600)\n",
    "lat = convert_lat_lon_to_dec(40,38,38.8)\n",
    "lon = convert_lat_lon_to_dec(74,1,33.0)*-1\n",
    "print(\"Latitude: {:2.4f}\".format(lat))\n",
    "print(\"Longitude: {:2.4f}\".format(lon))"
   ]
  },
  {
   "cell_type": "code",
   "execution_count": null,
   "metadata": {},
   "outputs": [],
   "source": [
    "# Sort by nearest lat-lon ()\n",
    "np.argmin(abs(imu_df['latitude']+imu_df['longitude']-lat-lon))"
   ]
  },
  {
   "cell_type": "code",
   "execution_count": null,
   "metadata": {},
   "outputs": [],
   "source": [
    "imu_df['latitude'][222005]"
   ]
  },
  {
   "cell_type": "code",
   "execution_count": null,
   "metadata": {},
   "outputs": [],
   "source": [
    "imu_df['longitude'][222005]"
   ]
  },
  {
   "cell_type": "code",
   "execution_count": null,
   "metadata": {},
   "outputs": [],
   "source": [
    "imu_df.head()"
   ]
  },
  {
   "cell_type": "code",
   "execution_count": null,
   "metadata": {},
   "outputs": [],
   "source": []
  }
 ],
 "metadata": {
  "kernelspec": {
   "display_name": "Python 3",
   "language": "python",
   "name": "python3"
  },
  "language_info": {
   "codemirror_mode": {
    "name": "ipython",
    "version": 3
   },
   "file_extension": ".py",
   "mimetype": "text/x-python",
   "name": "python",
   "nbconvert_exporter": "python",
   "pygments_lexer": "ipython3",
   "version": "3.6.9"
  }
 },
 "nbformat": 4,
 "nbformat_minor": 2
}
