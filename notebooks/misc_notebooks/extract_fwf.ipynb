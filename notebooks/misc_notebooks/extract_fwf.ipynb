{
 "cells": [
  {
   "cell_type": "markdown",
   "metadata": {},
   "source": [
    "# Full Waveform: PLS -> CSV files\n",
    "This notebook extracts a .pls and accompanying .wvs file into two csv files.  \n",
    "It relies on the updated pypwaves file, pypwaves_updated.py"
   ]
  },
  {
   "cell_type": "code",
   "execution_count": null,
   "metadata": {},
   "outputs": [],
   "source": [
    "import numpy as np\n",
    "import pandas as pd\n",
    "import matplotlib.pyplot as plt\n",
    "import csv \n",
    "\n",
    "%matplotlib inline\n",
    "# Necessary to import pypwaves_updated.py from parent directory\n",
    "import sys\n",
    "sys.path.append('../')\n",
    "import pypwaves_updated as pw"
   ]
  },
  {
   "cell_type": "markdown",
   "metadata": {},
   "source": [
    "## Flatten pls file"
   ]
  },
  {
   "cell_type": "code",
   "execution_count": null,
   "metadata": {},
   "outputs": [],
   "source": [
    "# Load pulsewave object from file\n",
    "pls_file = \"../../Data/fwf_data/F_150326_155833_T_315500_234000.pls\"\n",
    "pulsewave = pw.openPLS(pls_file)\n",
    "flight = 'F_150326_155833_T_315500_234000'\n",
    "pulse_filename = flight+'_pulse_record.csv'\n",
    "wave_filename = flight+'_waves.csv'\n"
   ]
  },
  {
   "cell_type": "code",
   "execution_count": null,
   "metadata": {},
   "outputs": [],
   "source": [
    "df = pd.DataFrame(columns = ['gps_timestamp', \n",
    "                                'offset_to_waves', \n",
    "                                'x_anchor', \n",
    "                                'y_anchor', \n",
    "                                'z_anchor', \n",
    "                                'x_target', \n",
    "                                'y_target', \n",
    "                                'z_target', \n",
    "                                'first_return', \n",
    "                                'last_return', \n",
    "                                'pulse_number', \n",
    "                                'pulse_descriptor', \n",
    "                                'reserved', \n",
    "                                'edge', \n",
    "                                'scan_direction', \n",
    "                                'facet', \n",
    "                                'intensity', \n",
    "                                'classification', \n",
    "                                'dx', \n",
    "                                'dy', \n",
    "                                'dz'])\n",
    "# Create header\n",
    "pr = pulsewave.get_pulse(5)\n",
    "pr_dict = pr.table_to_dict()"
   ]
  },
  {
   "cell_type": "code",
   "execution_count": null,
   "metadata": {},
   "outputs": [],
   "source": [
    "## Write PulseRecord file\n",
    "# opening the csv file in 'w' mode \n",
    "file = open(pulse_filename, 'w', newline ='') \n",
    "  \n",
    "with file: \n",
    "    # identifying header   \n",
    "    header = pr_dict.keys()\n",
    "    writer = csv.DictWriter(file, fieldnames = header) \n",
    "      \n",
    "    writer.writeheader() \n",
    "    for pulse_num in range(pulsewave.num_pulses):\n",
    "        pr = pulsewave.get_pulse(pulse_num)\n",
    "        pr_dict = pr.table_to_dict()\n",
    "        writer.writerow(pr_dict) \n",
    "file.close()"
   ]
  },
  {
   "cell_type": "code",
   "execution_count": null,
   "metadata": {},
   "outputs": [],
   "source": [
    "# Write the wave file\n",
    "wave_file = open(wave_filename, 'w', newline ='') \n",
    "with wave_file: \n",
    "    writer = csv.writer(wave_file)\n",
    "    header = ['PulseNumber','SamplingNumber','SegmentNumber','Samples']\n",
    "    writer.writerow(header)\n",
    "    for pulse_num in range(pulsewave.num_pulses):\n",
    "        pr = pulsewave.get_pulse(pulse_num)\n",
    "        wv = pulsewave.get_waves(pr)\n",
    "        for i in wv.segments:\n",
    "            row = list(wv.segments[i][-1])\n",
    "            if i == 2:\n",
    "                row.insert(0,1)\n",
    "            else:\n",
    "                row.insert(0,0)\n",
    "            row.insert(0,i)\n",
    "            row.insert(0,pulse_num)\n",
    "            writer.writerow(row)\n",
    "wave_file.close()"
   ]
  }
 ],
 "metadata": {
  "kernelspec": {
   "display_name": "Python 3",
   "language": "python",
   "name": "python3"
  },
  "language_info": {
   "codemirror_mode": {
    "name": "ipython",
    "version": 3
   },
   "file_extension": ".py",
   "mimetype": "text/x-python",
   "name": "python",
   "nbconvert_exporter": "python",
   "pygments_lexer": "ipython3",
   "version": "3.6.9"
  }
 },
 "nbformat": 4,
 "nbformat_minor": 2
}
