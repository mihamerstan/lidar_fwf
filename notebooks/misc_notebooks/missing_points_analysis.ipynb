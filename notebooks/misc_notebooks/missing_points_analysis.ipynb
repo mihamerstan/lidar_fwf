{
 "cells": [
  {
   "cell_type": "markdown",
   "metadata": {},
   "source": [
    "# Missing Point analysis\n",
    "Initial (and largely unsuccessful) analysis of streaks of missing point streaks. The streaks exist in all flight passes in Sunset Park dataset, as well as at least some flight passes in the Dublin dataset."
   ]
  },
  {
   "cell_type": "code",
   "execution_count": null,
   "metadata": {},
   "outputs": [],
   "source": [
    "import numpy as np\n",
    "import pandas as pd\n",
    "from scipy import stats\n",
    "from laspy.file import File\n",
    "import matplotlib.pyplot as plt\n",
    "\n",
    "import sys\n",
    "\n",
    "sys.path.insert(0,'..') # So we can import point_density_functions from parent directory\n",
    "from point_density_functions import *\n",
    "%load_ext autoreload\n",
    "%matplotlib notebook"
   ]
  },
  {
   "cell_type": "code",
   "execution_count": null,
   "metadata": {},
   "outputs": [],
   "source": [
    "def pull_first_scan_gap(df):\n",
    "    # Separate return num, only keep the first returns, add scan_gap, sort\n",
    "    df['num_returns'] = np.floor(df['flag_byte']/16).astype(int)\n",
    "    df['return_num'] = df['flag_byte']%16\n",
    "    \n",
    "    first_return_wall = df[df['return_num']==1]\n",
    "    first_return_wall.sort_values(by=['gps_time'],inplace=True)\n",
    "    first_return_wall.reset_index(inplace=True)\n",
    "    first_return_wall.loc[1:,'scan_gap'] = [first_return_wall.loc[i+1,'scan_angle'] - first_return_wall.loc[i,'scan_angle'] for i in range(first_return_wall.shape[0]-1)]\n",
    "    first_return_wall.loc[0,'scan_gap'] = 0\n",
    "    first_return_wall['scan_angle_deg'] = first_return_wall['scan_angle']*.006\n",
    "    return first_return_wall"
   ]
  },
  {
   "cell_type": "code",
   "execution_count": null,
   "metadata": {},
   "outputs": [],
   "source": [
    "flight_id = '180819'\n",
    "las_points = pd.read_hdf(\"../../Data/parking_lot/las_points_180819.lz\")\n",
    "df_first = pull_first_scan_gap(las_points)"
   ]
  },
  {
   "cell_type": "code",
   "execution_count": null,
   "metadata": {},
   "outputs": [],
   "source": [
    "# Scan gap of -4,-5,-6 is normal, -10,-11,-15 are a missed point\n",
    "w_df = pd.DataFrame(df_first['scan_gap'].value_counts())\n",
    "w_df.head(20)"
   ]
  },
  {
   "cell_type": "code",
   "execution_count": null,
   "metadata": {},
   "outputs": [],
   "source": [
    "def missing_pct(df_first):\n",
    "    # Prints out the ratio of scan_angle_gap at 2x or 3x the expected to the number of expected\n",
    "    w = dict(df_first['scan_gap'].value_counts())\n",
    "    normal = np.sum([w[i] for i in [-4,-5,-6]])\n",
    "    missing = np.sum([w[i] for i in [-10,-11,-16,-15]])\n",
    "    print(\"Miss Pct: {:2.4f}\".format(missing/normal))\n",
    "missing_pct(df_first)"
   ]
  },
  {
   "cell_type": "code",
   "execution_count": null,
   "metadata": {},
   "outputs": [],
   "source": [
    "# Avg Scan angle for missing pts vs regular\n",
    "after_single_miss = df_first[df_first['scan_gap'].isin([-10,-11])]\n",
    "after_multiple_miss = df_first[df_first['scan_gap'].isin([-21,-20,-15,-16])]\n",
    "\n",
    "print(\"Overall avg scan angle:\\t\\t\\t {:2.4f}\".format(df_first['intensity'].mean()))\n",
    "print(\"Missing point avg scan angle:\\t\\t {:2.4f}\".format(after_single_miss['intensity'].mean()))\n",
    "print(\"Missing multiple pts avg scan angle: \\t {:2.4f}\".format(after_multiple_miss['intensity'].mean()))\n",
    "print(\"Before miss pt scan angle:\\t\\t {:2.4f}\".format(df_first.loc[after_single_miss.index-1]['intensity'].mean()))"
   ]
  },
  {
   "cell_type": "code",
   "execution_count": null,
   "metadata": {},
   "outputs": [],
   "source": [
    "def plot_missing_pts(df_first,col,ylabel='Point Count'):\n",
    "    # Prints the histogram of col for each of: all points, after single miss pts, and after multiple miss pts\n",
    "    # Avg Scan angle for missing pts vs regular\n",
    "    after_single_miss = df_first[df_first['scan_gap'].isin([-10,-11])]\n",
    "    after_multiple_miss = df_first[df_first['scan_gap'].isin([-21,-20,-15,-16])]\n",
    "    \n",
    "    \n",
    "    plt.figure(figsize=[20,5])\n",
    "\n",
    "    plt.subplot(1,3,1)\n",
    "    ax = df_first[col].hist(bins=100)\n",
    "    ax.set_xlabel(col)\n",
    "    ax.set_ylabel(ylabel)\n",
    "    ax.set_title(\"All points\")\n",
    "\n",
    "    plt.subplot(1,3,2)\n",
    "    ax = after_single_miss[col].hist(bins=100)\n",
    "    ax.set_xlabel(col)\n",
    "    ax.set_title(\"Single Missing Point\")\n",
    "\n",
    "    plt.subplot(1,3,3)\n",
    "    ax = after_multiple_miss[col].hist(bins=100)\n",
    "    ax.set_xlabel(col)\n",
    "    ax.set_title(\"Multiple Missing Points\")"
   ]
  },
  {
   "cell_type": "code",
   "execution_count": null,
   "metadata": {},
   "outputs": [],
   "source": [
    "plot_missing_pts(df_first,'scan_angle_deg','Flight 181004')\n",
    "plot_missing_pts(df_first,'intensity')"
   ]
  },
  {
   "cell_type": "code",
   "execution_count": null,
   "metadata": {},
   "outputs": [],
   "source": [
    "horiz = pd.read_pickle(\"../../Data/parking_lot/rectangle_points_laefer.pkl\")\n",
    "vert = pd.read_pickle(\"../../Data/parking_lot/wall_points_laefer.pkl\")\n",
    "horiz_first = pull_first_scan_gap(horiz[horiz['flight_id']==flight_id])\n",
    "vert_first = pull_first_scan_gap(vert[vert['flight_id']==flight_id])"
   ]
  },
  {
   "cell_type": "code",
   "execution_count": null,
   "metadata": {},
   "outputs": [],
   "source": [
    "plot_missing_pts(df_first,'scan_angle_deg','Total Flight')\n",
    "plot_missing_pts(horiz_first,'scan_angle_deg','Horizontal')\n",
    "plot_missing_pts(vert_first,'scan_angle_deg','Vertical')"
   ]
  },
  {
   "cell_type": "code",
   "execution_count": null,
   "metadata": {},
   "outputs": [],
   "source": [
    "mid_scan = df_first[df_first['scan_angle_deg']<-16]\n",
    "w_df = pd.DataFrame(mid_scan['scan_gap'].value_counts())\n",
    "w_df.head(20)"
   ]
  },
  {
   "cell_type": "code",
   "execution_count": null,
   "metadata": {},
   "outputs": [],
   "source": [
    "plot_missing_pts(df_first,'intensity','Total Flight')\n",
    "plot_missing_pts(horiz_first,'intensity','Horizontal')\n",
    "plot_missing_pts(vert_first,'intensity','Vertical')"
   ]
  },
  {
   "cell_type": "code",
   "execution_count": null,
   "metadata": {},
   "outputs": [],
   "source": [
    "plot_missing_pts(df_first,'x_scaled','Total Flight')"
   ]
  },
  {
   "cell_type": "code",
   "execution_count": null,
   "metadata": {},
   "outputs": [],
   "source": [
    "plot_missing_pts(df_first,'y_scaled','Total Flight')"
   ]
  },
  {
   "cell_type": "code",
   "execution_count": null,
   "metadata": {},
   "outputs": [],
   "source": [
    "# vv = pull_first_scan_gap(vert)\n",
    "vv[vv['scan_gap'].isin([-10,-11])]['flight_id'].value_counts()"
   ]
  },
  {
   "cell_type": "code",
   "execution_count": null,
   "metadata": {},
   "outputs": [],
   "source": [
    "hh = pull_first_scan_gap(horiz)\n",
    "hh[hh['scan_gap'].isin([-10,-11])]['flight_id'].value_counts()"
   ]
  },
  {
   "cell_type": "code",
   "execution_count": null,
   "metadata": {},
   "outputs": [],
   "source": [
    "regular = w_df.loc[-5]+w_df.loc[-6]+w_df.loc[-4]\n",
    "one_miss = w_df.loc[-10]+w_df.loc[-11]+w_df.loc[-9]\n",
    "multiple_miss = w_df.loc[-15]+w_df.loc[-16]+w_df.loc[-20]+w_df.loc[-21]+w_df.loc[-26]+w_df.loc[-31]+w_df.loc[-36]"
   ]
  },
  {
   "cell_type": "code",
   "execution_count": null,
   "metadata": {},
   "outputs": [],
   "source": [
    "print(regular['scan_gap'])\n",
    "print(one_miss['scan_gap'])\n",
    "print(multiple_miss['scan_gap'])\n",
    "print(\"multiple / one: {:2.4f}\".format(multiple_miss['scan_gap']/one_miss['scan_gap']))"
   ]
  },
  {
   "cell_type": "code",
   "execution_count": null,
   "metadata": {},
   "outputs": [],
   "source": []
  }
 ],
 "metadata": {
  "kernelspec": {
   "display_name": "Python 3",
   "language": "python",
   "name": "python3"
  },
  "language_info": {
   "codemirror_mode": {
    "name": "ipython",
    "version": 3
   },
   "file_extension": ".py",
   "mimetype": "text/x-python",
   "name": "python",
   "nbconvert_exporter": "python",
   "pygments_lexer": "ipython3",
   "version": "3.6.9"
  }
 },
 "nbformat": 4,
 "nbformat_minor": 2
}
