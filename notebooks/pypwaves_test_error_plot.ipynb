{
 "cells": [
  {
   "cell_type": "code",
   "execution_count": 1,
   "metadata": {},
   "outputs": [],
   "source": [
    "import numpy as np\n",
    "import pandas as pd\n",
    "import matplotlib.pyplot as plt\n",
    "%matplotlib inline\n",
    "\n",
    "# Necessary to import pypwaves_updated.py from parent directory\n",
    "import sys\n",
    "sys.path.append('../')\n",
    "import pypwaves_updated as pw"
   ]
  },
  {
   "cell_type": "code",
   "execution_count": 2,
   "metadata": {
    "scrolled": false
   },
   "outputs": [],
   "source": [
    "# Load data - Choose one\n",
    "\n",
    "#Dublin data\n",
    "pls_file_dublin = \"../../Data/dublin_sample/F_150326_125917.pls\"\n",
    "pulsewave = pw.openPLS(pls_file_dublin)\n",
    "\n",
    "#Brooklyn data\n",
    "#pls_file_laptop = \"../../Data/164239_pls/10552_NYU_M2_Pulse_Waves_MTA_Resolved - Scanner 1 - 190511_164239_1 - originalpoints.pls\"\n",
    "#pulsewave = pw.openPLS(pls_file_laptop)\n",
    "\n",
    "#pls_file_linux = \"../../Data/200348_pls/10552_NYU_M3_Pulse_Waves_MTA_Resolved - Scanner 1 - 190511_200348_1 - originalpoints.pls\"\n",
    "#pulsewave = pw.openPLS(pls_file_linux)\n",
    "pickle_name = \"dublin_anchors_125917.pkl\"\n"
   ]
  },
  {
   "cell_type": "markdown",
   "metadata": {},
   "source": [
    "### Looking at anchor points\n",
    "I'm trying to determine whether or not anchor points indicate the location of the emitter when the pulse is sent/received, or is an arbitrary point."
   ]
  },
  {
   "cell_type": "code",
   "execution_count": 3,
   "metadata": {},
   "outputs": [],
   "source": [
    "def pull_pulses(pulsewave,pulse_count=None):\n",
    "    '''this function extracts full pulse records into a dataframe'''\n",
    "    pass\n",
    "\n",
    "def pull_anchors(pulsewave,pulse_count=None):\n",
    "    '''this function collects the x,y, and z anchors for each point in the pulsewave object.'''\n",
    "    # Extract all the anchor points in each dimension\n",
    "    if pulse_count == None:\n",
    "        x_anchors = [pulsewave.get_pulse(i).x_anchor for i in range(pulsewave.num_pulses)]\n",
    "        y_anchors = [pulsewave.get_pulse(i).y_anchor for i in range(pulsewave.num_pulses)]\n",
    "        z_anchors = [pulsewave.get_pulse(i).z_anchor for i in range(pulsewave.num_pulses)]\n",
    "        gps_time = [pulsewave.get_pulse(i).gps_timestamp for i in range(pulsewave.num_pulses)]\n",
    "    else:\n",
    "        x_anchors = [pulsewave.get_pulse(i).x_anchor for i in range(1000,pulse_count+1000)]\n",
    "        y_anchors = [pulsewave.get_pulse(i).y_anchor for i in range(1000,pulse_count+1000)]\n",
    "        z_anchors = [pulsewave.get_pulse(i).z_anchor for i in range(1000,pulse_count+1000)]\n",
    "        gps_time = [pulsewave.get_pulse(i).gps_timestamp for i in range(1000,pulse_count+1000)]\n",
    "\n",
    "    # Create numpy array and pandas DF for easier manipulation\n",
    "    anchor_arr = np.array([gps_time,x_anchors,y_anchors,z_anchors])\n",
    "    anchor_df = pd.DataFrame(anchor_arr.T,columns=['gps_time','x','y','z'])\n",
    "    return anchor_df\n",
    "\n",
    "def denoise(df,low_quantile,high_quantile):\n",
    "    '''takes the output of pull_anchors function, removes the outliers based on quantiles.'''\n",
    "    quantile_10 = df.quantile(low_quantile)\n",
    "    quantile_90 = df.quantile(high_quantile)\n",
    "    df_denoised = df[df['x']>=quantile_10['x']]\n",
    "    df_denoised = df_denoised[df_denoised['y']>=quantile_10['y']]\n",
    "    df_denoised = df_denoised[df_denoised['z']>=quantile_10['z']]\n",
    "    df_denoised = df_denoised[df_denoised['x']<=quantile_90['x']]\n",
    "    df_denoised = df_denoised[df_denoised['y']<=quantile_90['y']]\n",
    "    df_denoised = df_denoised[df_denoised['z']<=quantile_90['z']]\n",
    "    return df_denoised"
   ]
  },
  {
   "cell_type": "code",
   "execution_count": 17,
   "metadata": {},
   "outputs": [],
   "source": [
    "# anchor_df = pull_anchors(pulsewave)\n",
    "# anchor_df.to_pickle(pickle_name)\n",
    "pickle_name = \"anchors_200348.pkl\"\n",
    "anchor_df = pd.read_pickle(\"../../Data/pickles/\"+pickle_name)"
   ]
  },
  {
   "cell_type": "code",
   "execution_count": 12,
   "metadata": {},
   "outputs": [
    {
     "data": {
      "text/plain": [
       "(6104083, 4)"
      ]
     },
     "execution_count": 12,
     "metadata": {},
     "output_type": "execute_result"
    }
   ],
   "source": [
    "# I'm comparing the min and max to the 0.1 and 0.9 quantiles...\n",
    "anchor_df.shape"
   ]
  },
  {
   "cell_type": "code",
   "execution_count": 6,
   "metadata": {},
   "outputs": [
    {
     "data": {
      "text/plain": [
       "145.70326099998783"
      ]
     },
     "execution_count": 6,
     "metadata": {},
     "output_type": "execute_result"
    }
   ],
   "source": [
    "anchor_df['gps_time'].max() - anchor_df['gps_time'].min()"
   ]
  },
  {
   "cell_type": "code",
   "execution_count": null,
   "metadata": {},
   "outputs": [],
   "source": [
    "anchor_df.quantile([.01,.1,.2,.3,.4,.5,.6,.7,.8,.9])"
   ]
  },
  {
   "cell_type": "markdown",
   "metadata": {},
   "source": [
    "## Dublin Data"
   ]
  },
  {
   "cell_type": "code",
   "execution_count": null,
   "metadata": {},
   "outputs": [],
   "source": [
    "# Extract all the timestamps\n",
    "# gps_time = [pulsewave.get_pulse(i).gps_timestamp for i in range(300000,500000)]\n",
    "# x_anchor = [pulsewave.get_pulse(i).x_anchor for i in range(300000,500000)]\n",
    "# y_anchor = [pulsewave.get_pulse(i).y_anchor for i in range(300000,500000)]\n",
    "# z_anchor = [pulsewave.get_pulse(i).z_anchor for i in range(300000,500000)]\n",
    "\n",
    "# gps_arr = np.array([gps_time,x_anchor,y_anchor,z_anchor])\n",
    "# gps_df = pd.DataFrame(gps_arr.T,columns=['gps_time','x_anchor','y_anchor','z_anchor'])\n",
    "#gps_df.to_pickle(\"gps_time_164239.pkl\")\n",
    "\n",
    "# # Sort dataframe by gps_time\n",
    "# gps_sorted = gps_df.sort_values(by=['gps_time'])\n",
    "\n",
    "# # Plot GPS Time, X,Y,Z anchor coordinates for a portion of the file\n",
    "# plt.figure(figsize=(20,20))\n",
    "# plt.subplot(4, 1, 1)\n",
    "# plt.plot(range(200000),gps_sorted['gps_time'])\n",
    "# plt.ylabel(\"GPS Time\")\n",
    "# plt.title(\"Dublin sample run\")\n",
    "\n",
    "# plt.subplot(4, 1, 2)\n",
    "# plt.plot(gps_sorted['gps_time'],gps_sorted['x_anchor'])\n",
    "# plt.ylabel(\"X Anchor\")\n",
    "\n",
    "# plt.subplot(4, 1, 3)\n",
    "# plt.plot(gps_sorted['gps_time'],gps_sorted['y_anchor'])\n",
    "# plt.ylabel(\"Y Anchor\")\n",
    "# plt.xlabel(\"Pulse Record\")\n",
    "\n",
    "# plt.subplot(4, 1, 4)\n",
    "# plt.plot(gps_sorted['gps_time'],gps_sorted['z_anchor'])\n",
    "# plt.ylabel(\"Z Anchor\")\n",
    "# plt.xlabel(\"Pulse Record\")"
   ]
  },
  {
   "cell_type": "markdown",
   "metadata": {},
   "source": [
    "## Brooklyn Data"
   ]
  },
  {
   "cell_type": "code",
   "execution_count": 18,
   "metadata": {},
   "outputs": [],
   "source": [
    "#anchors = pd.read_pickle(pickle_name)\n",
    "anchor_df.sort_values(by=['gps_time'],inplace=True)"
   ]
  },
  {
   "cell_type": "code",
   "execution_count": null,
   "metadata": {},
   "outputs": [],
   "source": [
    "pulsewave.get_pulse(381).print_table()"
   ]
  },
  {
   "cell_type": "code",
   "execution_count": null,
   "metadata": {
    "scrolled": true
   },
   "outputs": [],
   "source": []
  },
  {
   "cell_type": "code",
   "execution_count": 19,
   "metadata": {},
   "outputs": [
    {
     "name": "stdout",
     "output_type": "stream",
     "text": [
      "Max time:  590688.525255\n",
      "Min time:  590631.066332\n",
      "Time spread:  57.458923000027426\n"
     ]
    }
   ],
   "source": [
    "print(\"Max time: \",anchor_df['gps_time'].max())\n",
    "print(\"Min time: \",anchor_df['gps_time'].min())\n",
    "print(\"Time spread: \",anchor_df['gps_time'].max() - anchor_df['gps_time'].min())"
   ]
  },
  {
   "cell_type": "code",
   "execution_count": 26,
   "metadata": {},
   "outputs": [
    {
     "data": {
      "text/plain": [
       "Text(0.5, 0, 'GPS Time')"
      ]
     },
     "execution_count": 26,
     "metadata": {},
     "output_type": "execute_result"
    },
    {
     "data": {
      "image/png": "[encoded data removed]",
      "text/plain": [
       "<Figure size 1440x1800 with 4 Axes>"
      ]
     },
     "metadata": {
      "needs_background": "light"
     },
     "output_type": "display_data"
    }
   ],
   "source": [
    "first_pulse = 100330\n",
    "last_pulse =  100480\n",
    "\n",
    "anchors_plot = anchor_df[first_pulse:last_pulse]\n",
    "\n",
    "plt.figure(figsize=(20,25))\n",
    "plt.subplot(4, 1, 1)\n",
    "plt.plot(range(len(anchors_plot)),anchors_plot['gps_time'],'xr')\n",
    "plt.ylabel(\"GPS Time\")\n",
    "plt.xlabel(\"Pulse Record\")\n",
    "plt.title(\"Brooklyn run: {:,d} pulses\".format(last_pulse-first_pulse))\n",
    "\n",
    "plt.subplot(4, 1, 2)\n",
    "plt.plot(anchors_plot['gps_time'],anchors_plot['x'],'xb')\n",
    "plt.ylabel(\"X Anchor\")\n",
    "plt.xlabel(\"GPS Time\")\n",
    "\n",
    "plt.subplot(4, 1, 3)\n",
    "plt.plot(anchors_plot['gps_time'],anchors_plot['y'],'xb')\n",
    "plt.ylabel(\"Y Anchor\")\n",
    "plt.xlabel(\"GPS Time\")\n",
    "\n",
    "plt.subplot(4, 1, 4)\n",
    "plt.plot(anchors_plot['gps_time'],anchors_plot['z'],'xb')\n",
    "plt.ylabel(\"Z Anchor\")\n",
    "plt.xlabel(\"GPS Time\")"
   ]
  },
  {
   "cell_type": "code",
   "execution_count": null,
   "metadata": {},
   "outputs": [],
   "source": [
    "print(\"anchors shape: \",anchor_df.shape)\n",
    "less = sum(anchor_df['z']<600)\n",
    "more = sum(anchor_df['z']>600)\n",
    "waymore = sum(anchor_df['z']>1200)\n",
    "print(less)\n",
    "print(more)\n",
    "print(waymore)\n",
    "print(less+more)\n",
    "print(\"Percent below 600: {:2.2%}\".format(less/(less+more)))\n",
    "print(\"Percent above 1200: {:2.2%}\".format(waymore/(less+more)))\n",
    "print(\"Percent outlier: {:2.2%}\".format((less+waymore)/(less+more)))"
   ]
  },
  {
   "cell_type": "code",
   "execution_count": null,
   "metadata": {},
   "outputs": [],
   "source": [
    "# Outlier\n",
    "pulsewave.get_pulse(8777438).print_table()"
   ]
  },
  {
   "cell_type": "code",
   "execution_count": null,
   "metadata": {},
   "outputs": [],
   "source": [
    "# Outlier\n",
    "pulsewave.get_pulse(2777439).print_table()"
   ]
  },
  {
   "cell_type": "code",
   "execution_count": null,
   "metadata": {},
   "outputs": [],
   "source": [
    "pulsewave.get_pulse(8777440).print_table()"
   ]
  },
  {
   "cell_type": "markdown",
   "metadata": {},
   "source": [
    "## Comparing with LAS file\n",
    "GPS timestamps kind of line up...the overall timeframe is identical to ~5 digits, but the offset is very different and the points don't line up exactly.  Also the point counts don't align, even accounting for pulses with multiple returns in the .las file."
   ]
  },
  {
   "cell_type": "code",
   "execution_count": null,
   "metadata": {},
   "outputs": [],
   "source": [
    "las_df = pd.read_pickle(\"../../Data/pickles/200348_points.pkl\")"
   ]
  },
  {
   "cell_type": "code",
   "execution_count": null,
   "metadata": {},
   "outputs": [],
   "source": [
    "print(\"Num points: \",las_df.shape[0])\n",
    "print(\"High: \",sum(las_df['z_scaled']>200))\n",
    "print(\"Low: \",sum(las_df['z_scaled']<-200))"
   ]
  },
  {
   "cell_type": "code",
   "execution_count": null,
   "metadata": {},
   "outputs": [],
   "source": [
    "las_min = las_df['gps_time'].min()\n",
    "anchor_min = anchor_df['gps_time'].min()"
   ]
  },
  {
   "cell_type": "code",
   "execution_count": null,
   "metadata": {},
   "outputs": [],
   "source": [
    "las_df['gps_time_adj'] = las_df['gps_time']-las_min\n",
    "anchor_df['gps_time_adj'] = anchor_df['gps_time']-anchor_min"
   ]
  },
  {
   "cell_type": "code",
   "execution_count": null,
   "metadata": {},
   "outputs": [],
   "source": [
    "# Noise points from anchor\n",
    "noise_gps_times = anchor_df[anchor_df['z']<600]['gps_time_adj']\n",
    "for time in noise_gps_times[:10000]:\n",
    "    if time in las_df['gps_time_adj']:\n",
    "        print(\"Yes!\")"
   ]
  },
  {
   "cell_type": "code",
   "execution_count": null,
   "metadata": {},
   "outputs": [],
   "source": [
    "noise_gps_times[1000:1010]"
   ]
  },
  {
   "cell_type": "code",
   "execution_count": null,
   "metadata": {},
   "outputs": [],
   "source": [
    "las_df[las_df['gps_time_adj']>.37391][:10]"
   ]
  },
  {
   "cell_type": "code",
   "execution_count": null,
   "metadata": {},
   "outputs": [],
   "source": [
    "las_df.iloc[1390:1408]"
   ]
  },
  {
   "cell_type": "code",
   "execution_count": null,
   "metadata": {},
   "outputs": [],
   "source": [
    "plt.figure(figsize=(20,30))\n",
    "plt.subplot(4, 1, 1)\n",
    "plt.plot(las_df['x_scaled'][1390:1408])\n",
    "\n",
    "plt.subplot(4, 1, 2)\n",
    "plt.plot(las_df['y_scaled'][1390:1408])\n",
    "\n",
    "plt.subplot(4, 1, 3)\n",
    "plt.plot(las_df['z_scaled'][1390:1408])\n",
    "\n",
    "plt.subplot(4, 1, 4)\n",
    "plt.plot(las_df['intensity'][1390:1408])"
   ]
  },
  {
   "cell_type": "markdown",
   "metadata": {},
   "source": [
    "### Wave plotting"
   ]
  },
  {
   "cell_type": "code",
   "execution_count": 9,
   "metadata": {},
   "outputs": [
    {
     "name": "stdout",
     "output_type": "stream",
     "text": [
      "bits per sample:  8\n",
      "num samples:  24\n",
      "bits anchor:  32\n",
      "bits per sample:  8\n",
      "num samples:  60\n",
      "bits anchor:  32\n"
     ]
    },
    {
     "data": {
      "image/png": "[encoded data removed]",
      "text/plain": [
       "<Figure size 432x288 with 2 Axes>"
      ]
     },
     "metadata": {
      "needs_background": "light"
     },
     "output_type": "display_data"
    }
   ],
   "source": [
    "wave = pulsewave.get_waves(500)\n",
    "wave.plot()"
   ]
  },
  {
   "cell_type": "code",
   "execution_count": null,
   "metadata": {},
   "outputs": [],
   "source": [
    "wave.smooth(7,3)\n",
    "wave.plot()"
   ]
  },
  {
   "cell_type": "code",
   "execution_count": null,
   "metadata": {},
   "outputs": [],
   "source": [
    "wave = pulsewave.get_waves(50)\n",
    "type(wave)"
   ]
  },
  {
   "cell_type": "code",
   "execution_count": null,
   "metadata": {},
   "outputs": [],
   "source": [
    "# pulse = pulsewave.get_pulse(10000)\n",
    "# pulse.x_target"
   ]
  },
  {
   "cell_type": "code",
   "execution_count": null,
   "metadata": {},
   "outputs": [],
   "source": [
    "# for key in pulsewave.vlrs[34735].record.key_entry_dict.keys():\n",
    "#     print(pulsewave.vlrs[34735].record.key_entry_dict[key])"
   ]
  },
  {
   "cell_type": "code",
   "execution_count": null,
   "metadata": {},
   "outputs": [],
   "source": [
    "# for key in pulsewave.vlrs[34735].record.key_entry_dict:\n",
    "#     tiff_tag = pulsewave.vlrs[34735].record.key_entry_dict[key].tiff_tag_location\n",
    "#     if tiff_tag == 34736:\n",
    "#         offset_6 = pulsewave.vlrs[34735].record.key_entry_dict[key].value_offset\n",
    "#         value_6 = pulsewave.vlrs[34736].record[offset_6]\n",
    "#         pulsewave.vlrs[34735].record.key_entry_dict[key].value = value_6\n",
    "#     elif tiff_tag == 34737:\n",
    "#         offset_7 = pulsewave.vlrs[34735].record.key_entry_dict[key].value_offset\n",
    "#         len_7 = pulsewave.vlrs[34735].record.key_entry_dict[key].count\n",
    "#         value_7 = pulsewave.vlrs[34737].record[offset_7:(offset_7+len_7)]\n",
    "#         pulsewave.vlrs[34735].record.key_entry_dict[key].value = value_7\n",
    "#     else:\n",
    "#         pulsewave.vlrs[34735].record.key_entry_dict[key].value = pulsewave.vlrs[34735].record.key_entry_dict[key].value_offset"
   ]
  },
  {
   "cell_type": "code",
   "execution_count": null,
   "metadata": {},
   "outputs": [],
   "source": [
    "# for key in pulsewave.vlrs[34735].record.key_entry_dict:\n",
    "#     print(pulsewave.vlrs[34735].record.key_entry_dict[key].value)"
   ]
  },
  {
   "cell_type": "code",
   "execution_count": null,
   "metadata": {},
   "outputs": [],
   "source": [
    "header_attrs = ['filename',\n",
    "'file_sig',\n",
    "'global_params',\n",
    "'file_id',\n",
    "'proj_GUID1',\n",
    "'proj_GUID2',\n",
    "'proj_GUID3',\n",
    "'proj_GUID3',\n",
    "'sys_id',\n",
    "'software',\n",
    "'file_day',\n",
    "'file_year',\n",
    "'version_maj',\n",
    "'version_min',\n",
    "'header_size',\n",
    "'offset_to_pulses',\n",
    "'num_pulses',\n",
    "'pulse_format',\n",
    "'pulse_attr',\n",
    "'pulse_size',\n",
    "'pulse_compression',\n",
    "'reserved',\n",
    "'num_vlr',\n",
    "'num_avlr',\n",
    "'t_scale',\n",
    "'t_offset',\n",
    "'t_min',\n",
    "'t_max',\n",
    "'x_scale',\n",
    "'y_scale',\n",
    "'z_scale',\n",
    "'x_offset',\n",
    "'y_offset',\n",
    "'z_offset',\n",
    "'x_min',\n",
    "'x_max',\n",
    "'y_min',\n",
    "'y_max',\n",
    "'z_min',\n",
    "'z_max',]\n",
    "\n",
    "def print_pulsewaves_header(pulsewave,header_attrs):\n",
    "    '''prints all the header attribtes of a PulseWaves class.'''\n",
    "    for attr in header_attrs:\n",
    "        print(attr,\": \",getattr(pulsewave,attr))"
   ]
  },
  {
   "cell_type": "code",
   "execution_count": null,
   "metadata": {},
   "outputs": [],
   "source": [
    "print_header(pulsewave,header_attrs)"
   ]
  },
  {
   "cell_type": "code",
   "execution_count": null,
   "metadata": {},
   "outputs": [],
   "source": []
  },
  {
   "cell_type": "code",
   "execution_count": null,
   "metadata": {},
   "outputs": [],
   "source": [
    "pulse_record_attrs = ['gps_timestamp', \n",
    "'offset_to_waves', \n",
    "'x_anchor', \n",
    "'y_anchor', \n",
    "'z_anchor', \n",
    "'x_target', \n",
    "'y_target', \n",
    "'z_target', \n",
    "'first_return', \n",
    "'last_return', \n",
    "'pulse_number', \n",
    "'pulse_descriptor', \n",
    "'reserved', \n",
    "'edge', \n",
    "'scan_direction', \n",
    "'facet', \n",
    "'intensity', \n",
    "'classification', \n",
    "'dx', \n",
    "'dy', \n",
    "'dz']\n",
    "pulse = pulsewave.get_pulse(123)"
   ]
  },
  {
   "cell_type": "code",
   "execution_count": null,
   "metadata": {},
   "outputs": [],
   "source": [
    "for attr in pulse_record_attrs:\n",
    "    print(attr,\": \",getattr(pulse,attr))"
   ]
  },
  {
   "cell_type": "code",
   "execution_count": null,
   "metadata": {},
   "outputs": [],
   "source": [
    "pulse = pulsewave.get_pulse(123)"
   ]
  },
  {
   "cell_type": "code",
   "execution_count": null,
   "metadata": {},
   "outputs": [],
   "source": [
    "pulse.print_table()"
   ]
  },
  {
   "cell_type": "code",
   "execution_count": null,
   "metadata": {},
   "outputs": [],
   "source": []
  }
 ],
 "metadata": {
  "kernelspec": {
   "display_name": "Python 3",
   "language": "python",
   "name": "python3"
  },
  "language_info": {
   "codemirror_mode": {
    "name": "ipython",
    "version": 3
   },
   "file_extension": ".py",
   "mimetype": "text/x-python",
   "name": "python",
   "nbconvert_exporter": "python",
   "pygments_lexer": "ipython3",
   "version": "3.6.9"
  }
 },
 "nbformat": 4,
 "nbformat_minor": 2
}
