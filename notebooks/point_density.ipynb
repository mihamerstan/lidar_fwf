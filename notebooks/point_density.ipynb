{
 "cells": [
  {
   "cell_type": "code",
   "execution_count": null,
   "metadata": {},
   "outputs": [],
   "source": [
    "import numpy as np\n",
    "import pandas as pd\n",
    "from scipy import stats\n",
    "from laspy.file import File\n",
    "import matplotlib.pyplot as plt\n",
    "from mpl_toolkits import mplot3d\n",
    "import plotly.graph_objects as go\n",
    "import plotly.express as px\n",
    "import seaborn as sns\n",
    "\n",
    "import sys\n",
    "sys.path.insert(0,'..')\n",
    "from point_density_functions import *\n",
    "\n",
    "%matplotlib notebook"
   ]
  },
  {
   "cell_type": "code",
   "execution_count": null,
   "metadata": {},
   "outputs": [],
   "source": [
    "file_dir = '../../Data/parking_lot/'\n",
    "filenames =[\n",
    "#             '10552_NYU_M2 - Scanner 1 - 190511_164039_1 - originalpoints.laz',\n",
    "#             '10552_NYU_M2 - Scanner 1 - 190511_164239_1 - originalpoints.laz',\n",
    "#             '10552_NYU_M2 - Scanner 1 - 190511_164445_1 - originalpoints.laz',\n",
    "#             '10552_NYU_M2 - Scanner 1 - 190511_172558_1 - originalpoints.laz',\n",
    "#             '10552_NYU_M2 - Scanner 1 - 190511_172753_1 - originalpoints.laz',    \n",
    "#             '10552_NYU_M2 - Scanner 1 - 190511_172928_1 - originalpoints.laz',\n",
    "#             '10552_NYU_M2 - Scanner 1 - 190511_180428_1 - originalpoints.laz',\n",
    "#             '10552_NYU_M2 - Scanner 1 - 190511_180632_1 - originalpoints.laz',\n",
    "#             '10552_NYU_M2 - Scanner 1 - 190511_180819_1 - originalpoints.laz',\n",
    "#             '10552_NYU_M3 - Scanner 1 - 190511_200348_1 - originalpoints.laz',\n",
    "#             '10552_NYU_M3 - Scanner 1 - 190511_200600_1 - originalpoints.laz',\n",
    "#             '10552_NYU_M3 - Scanner 1 - 190511_200742_1 - originalpoints.laz',\n",
    "#             '10552_NYU_M2 - Scanner 1 - 190511_163824_1 - originalpoints.laz',\n",
    "#             '10552_NYU_M2 - Scanner 1 - 190511_164640_1 - originalpoints.laz',\n",
    "#             '10552_NYU_M2 - Scanner 1 - 190511_172416_1 - originalpoints.laz',\n",
    "#             '10552_NYU_M2 - Scanner 1 - 190511_173110_1 - originalpoints.laz',\n",
    "#             '10552_NYU_M2 - Scanner 1 - 190511_164845_1 - originalpoints.laz',\n",
    "#            '10552_NYU_M2 - Scanner 1 - 190511_172201_1 - originalpoints.laz',\n",
    "#            '10552_NYU_M2 - Scanner 1 - 190511_173238_1 - originalpoints.laz',\n",
    "#            '10552_NYU_M3 - Scanner 1 - 190511_200938_1 - originalpoints.laz',\n",
    "#            '10552_NYU_M3 - Scanner 1 - 190511_200212_1 - originalpoints.laz',\n",
    "#            '10552_NYU_M2 - Scanner 1 - 190511_181004_1 - originalpoints.laz',\n",
    "#            '10552_NYU_M2 - Scanner 1 - 190511_180231_1 - originalpoints.laz',\n",
    "#     '10552_NYU_M2 - Scanner 1 - 190511_175503_1 - originalpoints.laz',\n",
    "#     '10552_NYU_M2 - Scanner 1 - 190511_175659_1 - originalpoints.laz',\n",
    "#     '10552_NYU_M2 - Scanner 1 - 190511_175842_1 - originalpoints.laz',\n",
    "#     '10552_NYU_M2 - Scanner 1 - 190511_180048_1 - originalpoints.laz',\n",
    "#     '10552_NYU_M3 - Scanner 1 - 190511_195235_1 - originalpoints.laz',\n",
    "#     '10552_NYU_M3 - Scanner 1 - 190511_195634_1 - originalpoints.laz',\n",
    "#     '10552_NYU_M3 - Scanner 1 - 190511_195833_1 - originalpoints.laz',\n",
    "#     '10552_NYU_M3 - Scanner 1 - 190511_200024_1 - originalpoints.laz'\n",
    " ]\n",
    "\n",
    "\n",
    "pt_files = [   'las_points_163824.lz',\n",
    "                'las_points_164039.lz',\n",
    "                'las_points_164239.lz',\n",
    "                'las_points_164445.lz',\n",
    "                'las_points_164640.lz',\n",
    "                'las_points_164845.lz',\n",
    "                'las_points_172201.lz',\n",
    "                'las_points_172416.lz',\n",
    "                'las_points_172558.lz',\n",
    "                'las_points_172753.lz',\n",
    "                'las_points_172928.lz',\n",
    "                'las_points_173110.lz',\n",
    "                'las_points_173238.lz',\n",
    "                'las_points_175503.lz',\n",
    "                'las_points_175659.lz',\n",
    "                'las_points_175842.lz',\n",
    "                'las_points_180048.lz',\n",
    "                'las_points_180231.lz',\n",
    "                'las_points_180428.lz',\n",
    "                'las_points_180632.lz',\n",
    "                'las_points_180819.lz',\n",
    "                'las_points_181004.lz',\n",
    "                'las_points_195235.lz',\n",
    "                'las_points_195634.lz',\n",
    "                'las_points_195833.lz',\n",
    "                'las_points_200024.lz',\n",
    "                'las_points_200212.lz',\n",
    "                'las_points_200348.lz',\n",
    "                'las_points_200600.lz',\n",
    "                'las_points_200742.lz',\n",
    "                'las_points_200938.lz']\n",
    "\n",
    "# Corresponds to LAS 1.2 Point Data Record Format 1\n",
    "columns_dublin_pt_cloud = [\n",
    "    'X',\n",
    "    'Y',\n",
    "    'Z',\n",
    "    'intensity',\n",
    "    'return_number_byte',\n",
    "    'classification_byte',\n",
    "    'scan_angle',\n",
    "    'user_data',\n",
    "    'pt_src_id',\n",
    "    'gps_time']\n",
    "\n",
    "columns_point_cloud = [\n",
    "    'X','Y','Z',\n",
    "    'intensity',\n",
    "    'flag_byte',\n",
    "    'classification_flags',\n",
    "    'classification_byte',\n",
    "    'user_data',\n",
    "    'scan_angle',\n",
    "    'pt_src_id',\n",
    "    'gps_time']"
   ]
  },
  {
   "cell_type": "code",
   "execution_count": null,
   "metadata": {
    "scrolled": true
   },
   "outputs": [],
   "source": [
    "# Extract points within a square around the desired point\n",
    "\n",
    "# Parking Lot\n",
    "# pt_x = 977037.343\n",
    "# pt_y = 174586.034\n",
    "\n",
    "# Corner of building\n",
    "# pt_x_bldg = 977229.375\n",
    "# pt_y_bldg = 174579.42\n",
    "\n",
    "# Top of building\n",
    "# pt_x = 977229.375\n",
    "# pt_y = 174579.42\n",
    "\n",
    "# Projects in back parking lot\n",
    "# pt_x = 977458.238\n",
    "# pt_y = 173302.388\n",
    "\n",
    "# Solar panel\n",
    "# pt_x = 977682.975\n",
    "# pt_y = 174148.192"
   ]
  },
  {
   "cell_type": "code",
   "execution_count": null,
   "metadata": {},
   "outputs": [],
   "source": [
    "# This works\n",
    "# for filename in filenames:\n",
    "#     create_df_hd5(file_dir,filename,columns_point_cloud)"
   ]
  },
  {
   "cell_type": "markdown",
   "metadata": {},
   "source": [
    "## Flat surface\n",
    "Identifying points in a parking lot to assess how consistently flat they are.  \n",
    "Center point: 40.645789, -74.025951  \n",
    "Easting - 977048.434  \n",
    "Northing - 174555.792"
   ]
  },
  {
   "cell_type": "code",
   "execution_count": null,
   "metadata": {},
   "outputs": [],
   "source": [
    "# Parking Lot\n",
    "pt_x = 977037.343\n",
    "pt_y = 174586.034\n",
    "feet_from_pt = 5\n",
    "nyc_file_dir = '../../Data/NYC_topo/'\n",
    "nyc_pt_file = ['las_points_NYC_975172.lz']\n",
    "square_points_laefer = grab_points(pt_files,file_dir,pt_x,pt_y,feet_from_pt)\n",
    "# Remove 3-point flight 200024\n",
    "square_points_laefer = square_points_laefer[square_points_laefer['flight_id']!='200024']\n",
    "square_points_nyc = grab_points(nyc_pt_file,nyc_file_dir,pt_x,pt_y,feet_from_pt)"
   ]
  },
  {
   "cell_type": "code",
   "execution_count": null,
   "metadata": {},
   "outputs": [],
   "source": [
    "# Fit a plane to each flight in laefer and nyc, and one overall plane\n",
    "total_plane_norm,total_points = plane_fit(square_points_laefer)[:2]\n",
    "nyc_plane_norm,nyc_points = plane_fit(square_points_nyc)[:2]\n",
    "flight_ids = square_points_laefer['flight_id'].unique()\n",
    "flight_plane_norms_dict ={}\n",
    "for flight_id in flight_ids:\n",
    "    flight_plane_norms_dict[flight_id] = plane_fit(square_points_laefer[square_points_laefer['flight_id']==flight_id])[:2]"
   ]
  },
  {
   "cell_type": "code",
   "execution_count": null,
   "metadata": {},
   "outputs": [],
   "source": [
    "# Compare the normal vectors...cosine similarity?\n",
    "# Dataframe of the cosine similarities\n",
    "cosine_simarlity_df = pd.DataFrame(index = flight_ids,columns = flight_ids,dtype=float)\n",
    "for flight_id_ix in flight_ids:\n",
    "    for flight_id_col in flight_ids:\n",
    "        cosine_simarlity_df.loc[flight_id_ix,flight_id_col] = float(flight_plane_norms_dict[flight_id_ix][0]@ \\\n",
    "                                                              flight_plane_norms_dict[flight_id_col][0])\n"
   ]
  },
  {
   "cell_type": "code",
   "execution_count": null,
   "metadata": {},
   "outputs": [],
   "source": [
    "sns.heatmap(cosine_simarlity_df)"
   ]
  },
  {
   "cell_type": "code",
   "execution_count": null,
   "metadata": {},
   "outputs": [],
   "source": [
    "# Calculate avg pt distance from flight plane and overall plane for each flight\n",
    "\n",
    "square_points_laefer['dist_from_total_plane'] = np.array([np.dot(point,np.array([0,0,1])) for point in total_points])\n",
    "square_points_nyc['dist_from_total_plane'] = np.array([np.dot(point,np.array([0,0,1])) for point in nyc_points])\n",
    "# Compare whole process to splitting the points randomly instead of by flight"
   ]
  },
  {
   "cell_type": "code",
   "execution_count": null,
   "metadata": {},
   "outputs": [],
   "source": [
    "print(\"Mean point distance from plane (laefer): {:2.4f}\".format(abs(square_points_laefer['dist_from_total_plane']).mean()))\n",
    "print(\"Mean point distance from plane (nyc): {:2.4f}\".format(abs(square_points_nyc['dist_from_total_plane']).mean()))"
   ]
  },
  {
   "cell_type": "code",
   "execution_count": null,
   "metadata": {},
   "outputs": [],
   "source": []
  },
  {
   "cell_type": "code",
   "execution_count": null,
   "metadata": {},
   "outputs": [],
   "source": []
  },
  {
   "cell_type": "code",
   "execution_count": null,
   "metadata": {},
   "outputs": [],
   "source": []
  },
  {
   "cell_type": "markdown",
   "metadata": {},
   "source": [
    "## Vertical density\n",
    "Identifying point at corner of building to quantify the vertical point density.  \n",
    "Center point: \t40.645854, \t-74.025299  \n",
    "Easting - 977229.375  \n",
    "Northing - 174579.42"
   ]
  },
  {
   "cell_type": "markdown",
   "metadata": {},
   "source": [
    "#### Laefer data"
   ]
  },
  {
   "cell_type": "code",
   "execution_count": null,
   "metadata": {},
   "outputs": [],
   "source": [
    "# Corner of building\n",
    "pt_x_bldg = 977222.375\n",
    "pt_y_bldg = 174577.42\n",
    "feet_from_pt = 20\n",
    "\n",
    "square_points_bldg = grab_points(pt_files,file_dir,pt_x_bldg,pt_y_bldg,feet_from_pt)\n",
    "\n",
    "# Remove one bad point if present in dataset\n",
    "if square_points_bldg['z_scaled'].min() < -50:\n",
    "    bad_point_ix = square_points_bldg['z_scaled'].argmin()\n",
    "    square_points_bldg = square_points_bldg.drop(bad_point_ix,axis=0)\n",
    "square_points_bldg,min_list = prep_square_for_plotting(square_points_bldg)"
   ]
  },
  {
   "cell_type": "markdown",
   "metadata": {},
   "source": [
    "#### NYC data"
   ]
  },
  {
   "cell_type": "code",
   "execution_count": null,
   "metadata": {},
   "outputs": [],
   "source": [
    "# Access the NYC header file\n",
    "#inFile = File(nyc_file_dir+'975172.las', mode='r')\n",
    "\n",
    "# Extract points within a square around the desired point\n",
    "# Use pt_[]_bldg and feet_from_pt from previous cell\n",
    "\n",
    "nyc_file_dir = '../../Data/NYC_topo/'\n",
    "nyc_pt_file = ['las_points_NYC_975172.lz']\n",
    "square_points_nyc = grab_points(nyc_pt_file,nyc_file_dir,pt_x_bldg,pt_y_bldg,feet_from_pt)\n",
    "# Use same min's from previous so points line up.\n",
    "square_points_nyc,_ = prep_square_for_plotting(square_points_nyc,min_list) "
   ]
  },
  {
   "cell_type": "markdown",
   "metadata": {},
   "source": [
    "#### 3D Plots"
   ]
  },
  {
   "cell_type": "code",
   "execution_count": null,
   "metadata": {},
   "outputs": [],
   "source": [
    "fig = px.scatter_3d(square_points_bldg, x='x_plot', y='y_plot', z='z_plot',\n",
    "              size='size_num',size_max = 12)\n",
    "\n",
    "fig.update_layout( \n",
    "    scene = dict(xaxis = dict(title=\"Easting (feet)\"),\n",
    "                 yaxis = dict(title=\"Northing (feet)\"),\n",
    "                 zaxis = dict(title=\"Vertical (feet)\"),\n",
    "                ),\n",
    "    width=900,\n",
    "    height=900,\n",
    "    margin=dict(r=20, l=10, b=10, t=10),\n",
    "    showlegend=False,\n",
    "    )\n",
    "fig.show()"
   ]
  },
  {
   "cell_type": "code",
   "execution_count": null,
   "metadata": {
    "scrolled": false
   },
   "outputs": [],
   "source": [
    "fig = px.scatter_3d(square_points_nyc, x='x_plot', y='y_plot', z='z_plot',\n",
    "              size='size_num',size_max = 12)\n",
    "\n",
    "fig.update_layout( \n",
    "    scene = dict(xaxis = dict(title=\"Easting (feet)\"),\n",
    "                 yaxis = dict(title=\"Northing (feet)\"),\n",
    "                 zaxis = dict(title=\"Vertical (feet)\"),\n",
    "                ),\n",
    "    width=900,\n",
    "    height=900,\n",
    "    margin=dict(r=20, l=10, b=10, t=10),\n",
    "    showlegend=False,\n",
    "    )\n",
    "fig.show()"
   ]
  },
  {
   "cell_type": "markdown",
   "metadata": {},
   "source": [
    "#### Extract the wall face, find normal vector, calculate vertical density"
   ]
  },
  {
   "cell_type": "code",
   "execution_count": null,
   "metadata": {},
   "outputs": [],
   "source": [
    "pt_1 = np.array([37.7,10.04])\n",
    "pt_2 = np.array([27.094,18.439])\n",
    "wall_pt = (31.77,14.90,43.00)\n",
    "\n",
    "# East? Facing Wall (farther from the little stump)\n",
    "# pt_1 = np.array([20.59,15.02])\n",
    "# pt_2 = np.array([10.34,2.93])\n",
    "# wall_pt = (19.414,12.379,73.863)\n",
    "\n",
    "wall_face = grab_wall_face(square_points_bldg,pt_1,pt_2,20,100,1e-2)\n",
    "wall_face_nyc = grab_wall_face(square_points_nyc,pt_1,pt_2,20,100,5e-2)"
   ]
  },
  {
   "cell_type": "code",
   "execution_count": null,
   "metadata": {
    "scrolled": true
   },
   "outputs": [],
   "source": [
    "wall_face.shape"
   ]
  },
  {
   "cell_type": "code",
   "execution_count": null,
   "metadata": {},
   "outputs": [],
   "source": [
    "wall_face_nyc.shape"
   ]
  },
  {
   "cell_type": "code",
   "execution_count": null,
   "metadata": {},
   "outputs": [],
   "source": [
    "norm_vector,points,wall_face,pts_on_plane = plane_fit(wall_face)"
   ]
  },
  {
   "cell_type": "code",
   "execution_count": null,
   "metadata": {},
   "outputs": [],
   "source": [
    "print(norm_vector)\n",
    "print(norm_vector_nyc)"
   ]
  },
  {
   "cell_type": "code",
   "execution_count": null,
   "metadata": {},
   "outputs": [],
   "source": [
    "norm_vector_nyc,points,wall_face_nyc,pts_on_plane_nyc = plane_fit(wall_face)"
   ]
  },
  {
   "cell_type": "code",
   "execution_count": null,
   "metadata": {},
   "outputs": [],
   "source": [
    "fig = px.scatter_3d(wall_face, x='x_plot', y='y_plot', z='z_plot',\n",
    "              color='flight_id',size='size_num',size_max = 12)\n",
    "\n",
    "fig.update_layout( \n",
    "    scene = dict(xaxis = dict(title=\"Easting (feet)\"),\n",
    "                 yaxis = dict(title=\"Northing (feet)\"),\n",
    "                 zaxis = dict(title=\"Vertical (feet)\"),\n",
    "                ),\n",
    "    width=900,\n",
    "    height=900,\n",
    "    margin=dict(r=20, l=10, b=10, t=10),\n",
    "    showlegend=False,\n",
    "    )\n",
    "fig.show()"
   ]
  },
  {
   "cell_type": "code",
   "execution_count": null,
   "metadata": {},
   "outputs": [],
   "source": [
    "# Point in middle of wall - in xyz_plot coordinates (less the min of each coordinate)\n",
    "# It's best to highlight a point in the plot above and use that.\n",
    "\n",
    "feet_from_pt = 3"
   ]
  },
  {
   "cell_type": "code",
   "execution_count": null,
   "metadata": {},
   "outputs": [],
   "source": [
    "# Calculate density for both datasets   \n",
    "vertical_point_density(square_points_nyc,norm_vector_nyc,wall_pt,feet_from_pt)\n",
    "vertical_point_density(square_points_bldg,norm_vector,wall_pt,feet_from_pt)"
   ]
  },
  {
   "cell_type": "code",
   "execution_count": null,
   "metadata": {
    "scrolled": false
   },
   "outputs": [],
   "source": [
    "fig = px.scatter_3d(vertical_square, x='x_plot', y='y_plot', z='z_plot',\n",
    "              color='flight_id', size='size_num',size_max = 8)\n",
    "\n",
    "fig.update_layout( \n",
    "    scene = dict(xaxis = dict(title=\"Easting (feet)\"),\n",
    "                 yaxis = dict(title=\"Northing (feet)\"),\n",
    "                 zaxis = dict(title=\"Vertical (feet)\"),\n",
    "                ),\n",
    "    width=900,\n",
    "    height=900,\n",
    "    margin=dict(r=20, l=10, b=10, t=10),\n",
    "    showlegend=False,\n",
    "    xaxis = {\"title\":{\"text\":\"Cat\"}})\n",
    "fig.show()"
   ]
  },
  {
   "cell_type": "markdown",
   "metadata": {},
   "source": [
    "## Plotting charts from previous updates"
   ]
  },
  {
   "cell_type": "code",
   "execution_count": null,
   "metadata": {},
   "outputs": [],
   "source": [
    "norm_vector,points,square_points,_ = plane_fit(square_points)\n",
    "\n",
    "# Add distance from flat plane with norm (x,y,z) = (0,0,1)\n",
    "square_points['dist_from_flat']=np.array([np.dot(point,np.array([0,0,1])) for point in points])\n",
    "\n",
    "# remove data points >5 feet below plane.\n",
    "outliers = square_points[square_points['dist_from_plane']<-5].index\n",
    "square_points = square_points.drop(outliers)"
   ]
  },
  {
   "cell_type": "code",
   "execution_count": null,
   "metadata": {},
   "outputs": [],
   "source": [
    "def plot_scan_angle_dist_from_plane(df,distance_metric):\n",
    "    x = abs(df['scan_angle'])*.006\n",
    "    y = df[distance_metric]\n",
    "    plt.figure(figsize=(15,15))\n",
    "    plt.plot(x,y,'xb')\n",
    "    z = np.polyfit(x, y, 1)\n",
    "    p = np.poly1d(z)\n",
    "    plt.plot(x,p(x),\"r--\")\n",
    "    plt.xlabel(\"Scan angle (degrees)\")\n",
    "    plt.ylabel(\"Point distance from plane\")\n",
    "    print(\"y={:2.8f}x+{:2.8f}\".format(z[0],z[1]))\n",
    "    plt.title(\"Scan Angle vs Distance to Fitted Plane\")\n",
    "plot_scan_angle_dist_from_plane(square_points,'dist_from_plane')"
   ]
  },
  {
   "cell_type": "code",
   "execution_count": null,
   "metadata": {},
   "outputs": [],
   "source": [
    "plt.plot(range(len(square_points)),square_points['scan_angle'],'x')"
   ]
  },
  {
   "cell_type": "code",
   "execution_count": null,
   "metadata": {},
   "outputs": [],
   "source": [
    "plot_scan_angle_dist_from_plane(square_points,'dist_from_flat')"
   ]
  },
  {
   "cell_type": "code",
   "execution_count": null,
   "metadata": {},
   "outputs": [],
   "source": [
    "# Chart from slides showing points per run\n",
    "labels = [pt[0][11:-4] for pt in pts_from_scan]\n",
    "num_points = [pt[1]+.01 for pt in pts_from_scan]\n",
    "plt.figure(figsize=(25,20))\n",
    "plt.bar(labels,num_points,)\n",
    "plt.xticks(rotation=45,fontsize=20)\n",
    "plt.yticks(np.arange(0, max(num_points), step=(max(num_points)/10)),fontsize=20)\n",
    "plt.ylabel(\"Number of points from run\",fontsize=20)\n",
    "plt.xlabel(\"Run ID\",fontsize=20)"
   ]
  }
 ],
 "metadata": {
  "kernelspec": {
   "display_name": "Python 3",
   "language": "python",
   "name": "python3"
  },
  "language_info": {
   "codemirror_mode": {
    "name": "ipython",
    "version": 3
   },
   "file_extension": ".py",
   "mimetype": "text/x-python",
   "name": "python",
   "nbconvert_exporter": "python",
   "pygments_lexer": "ipython3",
   "version": "3.7.3"
  }
 },
 "nbformat": 4,
 "nbformat_minor": 2
}
