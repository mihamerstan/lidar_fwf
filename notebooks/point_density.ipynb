{
 "cells": [
  {
   "cell_type": "code",
   "execution_count": 1,
   "metadata": {},
   "outputs": [],
   "source": [
    "import numpy as np\n",
    "import pandas as pd\n",
    "from scipy import stats\n",
    "from laspy.file import File\n",
    "import matplotlib.pyplot as plt\n",
    "from mpl_toolkits import mplot3d\n",
    "import plotly.graph_objects as go\n",
    "import plotly.express as px\n",
    "import seaborn as sns\n",
    "\n",
    "import sys\n",
    "\n",
    "sys.path.insert(0,'..') # So we can import point_density_functions from parent directory\n",
    "from point_density_functions import *\n",
    "%load_ext autoreload\n",
    "%matplotlib notebook"
   ]
  },
  {
   "cell_type": "code",
   "execution_count": 2,
   "metadata": {},
   "outputs": [],
   "source": [
    "# Laefer\n",
    "file_dir = '../../Data/parking_lot/'\n",
    "filenames =list(pd.read_csv(file_dir+\"filenames.txt\",header=None)[0])\n",
    "pt_files = list(pd.read_csv(file_dir+\"pt_files.txt\",header=None)[0])\n",
    "# NYC\n",
    "nyc_file_dir = '../../Data/NYC_topo/'\n",
    "nyc_pt_file = ['las_points_NYC_flightid_975172.lz']\n",
    "# USGS\n",
    "usgs_file_dir = '../../Data/USGS/'\n",
    "usgs_pt_files = ['las_points_flight_id_18TWK820985.lz']\n",
    "\n",
    "\n",
    "# Corresponds to LAS 1.2 Point Data Record Format 1\n",
    "columns_dublin_pt_cloud = [\n",
    "    'X',\n",
    "    'Y',\n",
    "    'Z',\n",
    "    'intensity',\n",
    "    'return_number_byte',\n",
    "    'classification_byte',\n",
    "    'scan_angle',\n",
    "    'user_data',\n",
    "    'pt_src_id',\n",
    "    'gps_time']\n",
    "\n",
    "columns_point_cloud = [\n",
    "    'X','Y','Z',\n",
    "    'intensity',\n",
    "    'flag_byte',\n",
    "    'classification_flags',\n",
    "    'classification_byte',\n",
    "    'user_data',\n",
    "    'scan_angle',\n",
    "    'pt_src_id',\n",
    "    'gps_time']"
   ]
  },
  {
   "cell_type": "code",
   "execution_count": null,
   "metadata": {
    "scrolled": true
   },
   "outputs": [],
   "source": [
    "# Extract points within a square around the desired point\n",
    "\n",
    "# Parking Lot\n",
    "# pt_x = 977037.343\n",
    "# pt_y = 174586.034\n",
    "\n",
    "# Corner of building\n",
    "# pt_x_bldg = 977229.375\n",
    "# pt_y_bldg = 174579.42\n",
    "\n",
    "# Top of building\n",
    "# pt_x = 977229.375\n",
    "# pt_y = 174579.42\n",
    "\n",
    "# Projects in back parking lot\n",
    "# pt_x = 977458.238\n",
    "# pt_y = 173302.388\n",
    "\n",
    "# Solar panel\n",
    "# pt_x = 977682.975\n",
    "# pt_y = 174148.192"
   ]
  },
  {
   "cell_type": "code",
   "execution_count": null,
   "metadata": {},
   "outputs": [],
   "source": [
    "# This works\n",
    "# for filename in filenames:\n",
    "#     create_df_hd5(file_dir,filename,columns_point_cloud)"
   ]
  },
  {
   "cell_type": "markdown",
   "metadata": {},
   "source": [
    "## Flat surface\n",
    "Identifying points in a parking lot to assess how consistently flat they are.  \n",
    "Center point: 40.645789, -74.025951  \n",
    "Easting - 977048.434  \n",
    "Northing - 174555.792"
   ]
  },
  {
   "cell_type": "markdown",
   "metadata": {},
   "source": [
    "### Point density - waterside parking lot"
   ]
  },
  {
   "cell_type": "code",
   "execution_count": 3,
   "metadata": {
    "scrolled": true
   },
   "outputs": [],
   "source": [
    "# Big parking lot rectangle\n",
    "def rectangle(pt1,pt2,y_length,x_length):\n",
    "    '''\n",
    "    Function returns uv_inv and w, for use in selecting points within the rectangle\n",
    "    Note: This function only works in 2D (horizontal plane)\n",
    "    Inputs:\n",
    "    pt1 - 2x1 numpy array with x and y coordinate for bottom point\n",
    "    pt2 - 2xy numpy array with x and y coordinate for top point\n",
    "    y_length - bottom-to-top length (positive is in direction of top from bottom point)\n",
    "    x_length - left-to-right length (positive means pts are on left border, negative means they're on right)\n",
    "    Outputs:\n",
    "    uv_inv: 2xy numpy array - u and v are the sides of the rectangle.  uv = [u v] is a matrix with u and v as columns.\n",
    "    w: 2x1 numpy array with (x,y) coordinates of reference (bottom) point.\n",
    "    \n",
    "    Reference: https://math.stackexchange.com/questions/190111/how-to-check-if-a-point-is-inside-a-rectangle\n",
    "    '''\n",
    "    unit_u = (pt2 - pt1)/np.linalg.norm(pt2-pt1)\n",
    "    unit_v = np.array([unit_u[1],-1*unit_u[0]])\n",
    "    u = unit_u*y_length\n",
    "    v = unit_v*x_length\n",
    "    uv = np.array([u,v]).T\n",
    "    uv_inv = np.linalg.inv(uv)\n",
    "    w = pt1\n",
    "    return uv_inv,w,unit_u,unit_v\n",
    "\n",
    "# rectangle_points_laefer = grab_points_big_rect(pt_files,file_dir,uv_inv,w)\n",
    "# rectangle_points_nyc = grab_points_big_rect(nyc_pt_file,nyc_file_dir,uv_inv,w)\n",
    "# rectangle_points_usgs = grab_points_big_rect(usgs_pt_files,usgs_file_dir,uv_inv,w)"
   ]
  },
  {
   "cell_type": "code",
   "execution_count": null,
   "metadata": {},
   "outputs": [],
   "source": [
    "def print_out(SampleFlightList,pt_density_laefer_list,pt_density_nyc_list,pt_density_usgs_list,feet_from_point):\n",
    "    # Laefer\n",
    "    sd_laefer_total = np.mean([ss.flight_list_laefer[0].sd_dist for ss in SampleFlightList])\n",
    "    sd_laefer_sample = np.mean([ss.flight_list_laefer[1].sd_dist for ss in SampleFlightList])\n",
    "    avg_flight_paths_laefer = np.mean([len(flight.flight_list_laefer) for flight in SampleFlightList])-2\n",
    "\n",
    "    phis_laefer_total = [ss.phi_laefer_total for ss in SampleFlightList]\n",
    "    phis_laefer_sample = [ss.phi_laefer_sample for ss in SampleFlightList]\n",
    "\n",
    "    print(\"2019 scan (Horizontal, {} samples): \\n\".format(len(SampleFlightList))+\"*\"*30)\n",
    "    print(\"Avg points per square: {:2.2f} points\".format((4 * feet_from_point**2)*np.mean(pt_density_laefer_list)))\n",
    "    print(\"Avg density: {:2.4f} pts/sqft (SD: {:2.4f})\".format(np.mean(pt_density_laefer_list),np.std(pt_density_laefer_list)))\n",
    "    print(\"Avg number of flight paths per square: {:2.2f}\".format(avg_flight_paths_laefer))\n",
    "    print(\"\\nphi_total: {:2.4f} (SD: {:2.4f})\".format(np.mean(phis_laefer_total),np.std(phis_laefer_total)))\n",
    "    print(\"phi_sample: {:2.4f} (SD: {:2.4f})\".format(np.mean(phis_laefer_sample),np.std(phis_laefer_sample)))\n",
    "    print(\"Total point dist from plane, SD: {:2.4f} feet\".format(sd_laefer_total))\n",
    "    print(\"Avg flight point dist from plane, SD: {:2.4f} feet\".format(sd_laefer_total/np.mean(phis_laefer_total)))\n",
    "\n",
    "    # NYC\n",
    "    phis_nyc_total = [ss.phi_nyc_total for ss in SampleFlightList]\n",
    "    phis_nyc_sample = [ss.phi_nyc_sample for ss in SampleFlightList]\n",
    "    avg_flight_paths_nyc = np.mean([len(flight.flight_list_nyc) for flight in SampleFlightList])-2\n",
    "\n",
    "    sd_nyc_total = np.mean([ss.flight_list_nyc[0].sd_dist for ss in SampleFlightList])\n",
    "    sd_nyc_sample = np.mean([ss.flight_list_nyc[1].sd_dist for ss in SampleFlightList])\n",
    "\n",
    "    print(\"\\n2017 scan (Horizontal, {} samples): \\n\".format(len(SampleFlightList))+\"*\"*30)\n",
    "    print(\"Avg points per square: {:2.2f} points\".format((4 * feet_from_point**2)*np.mean(pt_density_nyc_list)))\n",
    "    print(\"Avg density: {:2.4f} pts/sqft (SD: {:2.4f})\".format(np.mean(pt_density_nyc_list),np.std(pt_density_nyc_list)))\n",
    "    print(\"Avg number of flight paths per square: {:2.2f}\".format(avg_flight_paths_nyc))\n",
    "    print(\"\\nphi_total: {:2.4f} (SD: {:2.4f})\".format(np.mean(phis_nyc_total),np.std(phis_nyc_total)))\n",
    "    print(\"phi_sample: {:2.4f} (SD: {:2.4f})\".format(np.mean(phis_nyc_sample),np.std(phis_nyc_sample)))\n",
    "    print(\"Total point dist from plane, SD: {:2.4f} feet\".format(sd_nyc_total))\n",
    "    print(\"Avg flight point dist from plane, SD: {:2.4f} feet\".format(sd_nyc_total/np.mean(phis_nyc_total)))\n",
    "\n",
    "    # USGS\n",
    "    phis_usgs_total = [ss.phi_usgs_total for ss in SampleFlightList]\n",
    "    phis_usgs_sample = [ss.phi_usgs_sample for ss in SampleFlightList]\n",
    "    avg_flight_paths_usgs = np.mean([len(flight.flight_list_usgs) for flight in SampleFlightList])-2\n",
    "\n",
    "    sd_usgs_total = np.mean([ss.flight_list_usgs[0].sd_dist for ss in SampleFlightList])\n",
    "    sd_usgs_sample = np.mean([ss.flight_list_usgs[1].sd_dist for ss in SampleFlightList])\n",
    "\n",
    "    print(\"\\n2014 scan (Horizontal, {} samples): \\n\".format(len(SampleFlightList))+\"*\"*30)\n",
    "    print(\"Avg points per square: {:2.2f} points\".format((4 * feet_from_point**2)*np.mean(pt_density_usgs_list)))\n",
    "    print(\"Avg density: {:2.4f} pts/sqft (SD: {:2.4f})\".format(np.mean(pt_density_usgs_list),np.std(pt_density_usgs_list)))\n",
    "    print(\"Avg number of flight paths per square: {:2.2f}\".format(avg_flight_paths_usgs))\n",
    "    print(\"\\nphi_total: {:2.4f} (SD: {:2.4f})\".format(np.mean(phis_usgs_total),np.std(phis_usgs_total)))\n",
    "    print(\"phi_sample: {:2.4f} (SD: {:2.4f})\".format(np.mean(phis_usgs_sample),np.std(phis_usgs_sample)))\n",
    "    print(\"Total point dist from plane, SD: {:2.4f} feet\".format(sd_usgs_total))\n",
    "    print(\"Avg flight point dist from plane, SD: {:2.4f} feet\".format(sd_usgs_total/np.mean(phis_usgs_total)))"
   ]
  },
  {
   "cell_type": "code",
   "execution_count": null,
   "metadata": {},
   "outputs": [],
   "source": [
    "# Remove outliers and print the count: z < 0, z > 30\n",
    "def remove_vertical_outliers(rectangle_points,z_low,z_high):\n",
    "    outliers = rectangle_points[(rectangle_points['z_scaled']<z_low) | (rectangle_points['z_scaled']>z_high)].index\n",
    "    rectangle_points = rectangle_points.drop(outliers)\n",
    "    print(\"Number of outliers: {}\".format(len(outliers)))\n",
    "    return rectangle_points\n",
    "rectangle_points_laefer = remove_vertical_outliers(rectangle_points_laefer,0,30)\n",
    "rectangle_points_nyc = remove_vertical_outliers(rectangle_points_nyc,0,30)\n",
    "rectangle_points_usgs = remove_vertical_outliers(rectangle_points_usgs,0,30)"
   ]
  },
  {
   "cell_type": "markdown",
   "metadata": {},
   "source": [
    "## Sampling squares and Statistics"
   ]
  },
  {
   "cell_type": "markdown",
   "metadata": {},
   "source": [
    "### Horizontal Density"
   ]
  },
  {
   "cell_type": "code",
   "execution_count": null,
   "metadata": {},
   "outputs": [],
   "source": [
    "# Aggregators\n",
    "pt_density_usgs_list, pt_density_nyc_list, pt_density_laefer_list = [],[],[]\n",
    "avg_height_diff = []\n",
    "sd_height_usgs, sd_height_nyc, sd_height_laefer = [],[],[]\n",
    "SampleFlightList = []"
   ]
  },
  {
   "cell_type": "code",
   "execution_count": null,
   "metadata": {},
   "outputs": [],
   "source": [
    "# Water front parking lot\n",
    "pt1 = np.array([976534.92, 173979.05,0])\n",
    "pt2 = np.array([976863.17, 174360.18,0])\n",
    "u_length = np.linalg.norm(pt2-pt1)\n",
    "v_length = 80\n",
    "pt3 = np.array([976595.53720051, 173926.84315177,0]) # Backed into from previous 2D v calculation\n",
    "uv_inv,w,unit_u,unit_v = rectangle(pt1[:2],pt2[:2],500,80)\n",
    "\n",
    "rectangle_points_laefer = pd.read_pickle(file_dir+\"rectangle_points_laefer.pkl\")\n",
    "rectangle_points_nyc = pd.read_pickle(file_dir+\"rectangle_points_nyc.pkl\")\n",
    "rectangle_points_usgs = pd.read_pickle(usgs_file_dir+\"rectangle_points_usgs.pkl\")"
   ]
  },
  {
   "cell_type": "code",
   "execution_count": null,
   "metadata": {},
   "outputs": [],
   "source": [
    "# Create center_points\n",
    "feet_from_point = 3.281\n",
    "center_points = center_point_sample(5000,pt1,pt2,pt3,u_length=u_length,v_length=v_length,border=[0.05,0.05])\n",
    "mean_z = rectangle_points_laefer['z_scaled'].mean()\n",
    "pts_thrown_out = 0\n",
    "\n",
    "for center_point in center_points:\n",
    "    square_points_usgs = in_horizontal_square(rectangle_points_usgs,center_point[:2],feet_from_point)\n",
    "    square_points_nyc = in_horizontal_square(rectangle_points_nyc,center_point[:2],feet_from_point)\n",
    "    square_points_laefer = in_horizontal_square(rectangle_points_laefer,center_point[:2],feet_from_point)\n",
    "    \n",
    "    laefer_flight_count = len(square_points_laefer['flight_id'].unique())\n",
    "    nyc_flight_count = len(square_points_nyc['flight_id'].unique())\n",
    "    usgs_flight_count = len(square_points_usgs['flight_id'].unique())\n",
    "   \n",
    "    laefer_density = square_points_laefer.shape[0] / laefer_flight_count\n",
    "    nyc_density = square_points_nyc.shape[0]/nyc_flight_count\n",
    "    usgs_density = square_points_usgs.shape[0] / usgs_flight_count\n",
    "                        \n",
    "#     print(\"Laefer: \\n\"+\"*\"*30)\n",
    "#     print(\"Total points: {}\".format(square_points_laefer.shape[0]))\n",
    "#     print(\"Number of flights: {}\".format(laefer_flight_count))\n",
    "#     print(\"Points per flight: {}\".format(laefer_density))\n",
    "#     print(\"NYC: \\n\"+\"*\"*30)\n",
    "#     print(\"Total points (NYC): {}\".format(square_points_nyc.shape[0]))\n",
    "#     print(\"Number of flights (NYC): {}\".format(nyc_flight_count))\n",
    "#     print(\"Points per flight: {}\".format(nyc_density))    \n",
    "\n",
    "    # If z_max > 10, <6 for any dataset, skip it\n",
    "    if (square_points_nyc['z_scaled'].max()<mean_z+3) & \\\n",
    "       (square_points_usgs['z_scaled'].max()<mean_z+3) & \\\n",
    "       (square_points_laefer['z_scaled'].max()<mean_z+3):\n",
    "        # Statistics!\n",
    "                \n",
    "        # Point density\n",
    "        num_points_nyc = square_points_nyc.shape[0]\n",
    "        pt_density_nyc_list.append(num_points_nyc / (4 * feet_from_point**2))        \n",
    "        num_points_usgs = square_points_usgs.shape[0]\n",
    "        pt_density_usgs_list.append(num_points_usgs / (4 * feet_from_point**2))        \n",
    "        num_points_laefer = square_points_laefer.shape[0]\n",
    "        pt_density_laefer_list.append(num_points_laefer / (4 * feet_from_point**2))        \n",
    "\n",
    "        # Fit a plane\n",
    "        norm_vector_nyc,_,square_points_nyc,_ = plane_fit(square_points_nyc)\n",
    "        norm_vector_usgs,_,square_points_usgs,_ = plane_fit(square_points_usgs)\n",
    "        norm_vector_laefer,_,square_points_laefer,_ = plane_fit(square_points_laefer)\n",
    "\n",
    "        # Flight path specifics\n",
    "        laefer_flight_list = create_flight_list(square_points_laefer)\n",
    "        usgs_flight_list = create_flight_list(square_points_usgs)\n",
    "        nyc_flight_list = create_flight_list(square_points_nyc)\n",
    "        ss = SampleSquare(laefer_flight_list, nyc_flight_list,usgs_flight_list, x = center_point[0], \\\n",
    "                          y=center_point[1],feet_from_point=feet_from_point)\n",
    "        SampleFlightList.append(ss)\n",
    "        \n",
    "    else:\n",
    "        pts_thrown_out +=1"
   ]
  },
  {
   "cell_type": "code",
   "execution_count": null,
   "metadata": {},
   "outputs": [],
   "source": [
    "print_out(SampleFlightList,pt_density_laefer_list,pt_density_nyc_list,pt_density_usgs_list,feet_from_point)"
   ]
  },
  {
   "cell_type": "code",
   "execution_count": null,
   "metadata": {},
   "outputs": [],
   "source": [
    "# Back parking lot\n",
    "u_length = 200\n",
    "v_length = 40\n",
    "pt1 = np.array([977221.16,173403.09,0])\n",
    "pt2 = np.array([977345.97611538, 173559.36199794,0])\n",
    "uv_inv,w,unit_u,unit_v = rectangle(pt1[:2],pt2[:2],u_length,v_length)\n",
    "\n",
    "pt3 = np.concatenate((w + unit_v*v_length,np.zeros(1)))\n",
    "rectangle_points_laefer=pd.read_pickle(file_dir+\"rectangle_points_back_parking_laefer.pkl\")\n",
    "rectangle_points_nyc=pd.read_pickle(file_dir+\"rectangle_points_back_parking_nyc.pkl\")\n",
    "rectangle_points_usgs=pd.read_pickle(usgs_file_dir+\"rectangle_points_back_parking_usgs.pkl\")"
   ]
  },
  {
   "cell_type": "code",
   "execution_count": null,
   "metadata": {},
   "outputs": [],
   "source": [
    "# Create center_points\n",
    "feet_from_point = 3.281\n",
    "center_points = center_point_sample(5000,pt1,pt2,pt3,u_length=u_length,v_length=v_length,border=[0.05,0.05])\n",
    "mean_z = rectangle_points_laefer['z_scaled'].mean()\n",
    "pts_thrown_out = 0\n",
    "\n",
    "for center_point in center_points:\n",
    "    square_points_usgs = in_horizontal_square(rectangle_points_usgs,center_point[:2],feet_from_point)\n",
    "    square_points_nyc = in_horizontal_square(rectangle_points_nyc,center_point[:2],feet_from_point)\n",
    "    square_points_laefer = in_horizontal_square(rectangle_points_laefer,center_point[:2],feet_from_point)\n",
    "    \n",
    "    laefer_flight_count = len(square_points_laefer['flight_id'].unique())\n",
    "    nyc_flight_count = len(square_points_nyc['flight_id'].unique())\n",
    "    usgs_flight_count = len(square_points_usgs['flight_id'].unique())\n",
    "   \n",
    "    laefer_density = square_points_laefer.shape[0] / laefer_flight_count\n",
    "    nyc_density = square_points_nyc.shape[0]/nyc_flight_count\n",
    "    usgs_density = square_points_usgs.shape[0] / usgs_flight_count\n",
    "                        \n",
    "#     print(\"Laefer: \\n\"+\"*\"*30)\n",
    "#     print(\"Total points: {}\".format(square_points_laefer.shape[0]))\n",
    "#     print(\"Number of flights: {}\".format(laefer_flight_count))\n",
    "#     print(\"Points per flight: {}\".format(laefer_density))\n",
    "#     print(\"NYC: \\n\"+\"*\"*30)\n",
    "#     print(\"Total points (NYC): {}\".format(square_points_nyc.shape[0]))\n",
    "#     print(\"Number of flights (NYC): {}\".format(nyc_flight_count))\n",
    "#     print(\"Points per flight: {}\".format(nyc_density))    \n",
    "\n",
    "    # If z_max > 10, <6 for any dataset, skip it\n",
    "    if (square_points_nyc['z_scaled'].max()<mean_z+3) & \\\n",
    "       (square_points_usgs['z_scaled'].max()<mean_z+3) & \\\n",
    "       (square_points_laefer['z_scaled'].max()<mean_z+3):\n",
    "        # Statistics!\n",
    "                \n",
    "        # Point density\n",
    "        num_points_nyc = square_points_nyc.shape[0]\n",
    "        pt_density_nyc_list.append(num_points_nyc / (4 * feet_from_point**2))        \n",
    "        num_points_usgs = square_points_usgs.shape[0]\n",
    "        pt_density_usgs_list.append(num_points_usgs / (4 * feet_from_point**2))        \n",
    "        num_points_laefer = square_points_laefer.shape[0]\n",
    "        pt_density_laefer_list.append(num_points_laefer / (4 * feet_from_point**2))        \n",
    "\n",
    "        # Fit a plane\n",
    "        norm_vector_nyc,_,square_points_nyc,_ = plane_fit(square_points_nyc)\n",
    "        norm_vector_usgs,_,square_points_usgs,_ = plane_fit(square_points_usgs)\n",
    "        norm_vector_laefer,_,square_points_laefer,_ = plane_fit(square_points_laefer)\n",
    "\n",
    "        # Flight path specifics\n",
    "        laefer_flight_list = create_flight_list(square_points_laefer)\n",
    "        usgs_flight_list = create_flight_list(square_points_usgs)\n",
    "        nyc_flight_list = create_flight_list(square_points_nyc)\n",
    "        ss = SampleSquare(laefer_flight_list, nyc_flight_list,usgs_flight_list, x = center_point[0], \\\n",
    "                          y=center_point[1],feet_from_point=feet_from_point)\n",
    "        SampleFlightList.append(ss)\n",
    "        \n",
    "    else:\n",
    "        pts_thrown_out +=1"
   ]
  },
  {
   "cell_type": "code",
   "execution_count": null,
   "metadata": {},
   "outputs": [],
   "source": [
    "print_out(SampleFlightList,pt_density_laefer_list,pt_density_nyc_list,pt_density_usgs_list,feet_from_point)"
   ]
  },
  {
   "cell_type": "code",
   "execution_count": null,
   "metadata": {},
   "outputs": [],
   "source": [
    "# #Parking lot in between army terminal buildings\n",
    "# u_length = 200\n",
    "# v_length = 40\n",
    "# pt1 = np.array([976975.96, 173882.3,0])\n",
    "# pt2 = np.array([977107.27980512, 174033.14796579,0])\n",
    "# uv_inv,w,unit_u,unit_v = rectangle(pt1[:2],pt2[:2],u_length,v_length)\n",
    "\n",
    "# pt3 = np.concatenate((w + unit_v*v_length,np.zeros(1)))\n",
    "\n",
    "# rectangle_points_laefer = pd.read_pickle(file_dir+\"rectangle_points_middle_parking_laefer.pkl\")\n",
    "# rectangle_points_nyc = pd.read_pickle(file_dir+\"rectangle_points_middle_parking_nyc.pkl\")\n",
    "# rectangle_points_usgs = pd.read_pickle(usgs_file_dir+\"rectangle_points_middle_parking_usgs.pkl\")"
   ]
  },
  {
   "cell_type": "code",
   "execution_count": null,
   "metadata": {},
   "outputs": [],
   "source": [
    "# # Create center_points\n",
    "# feet_from_point = 3.281\n",
    "# center_points = center_point_sample(3000,pt1,pt2,pt3,u_length=u_length,v_length=v_length,border=[0.05,0.05])\n",
    "# mean_z = rectangle_points_laefer['z_scaled'].mean()\n",
    "# pts_thrown_out = 0\n",
    "\n",
    "# for center_point in center_points:\n",
    "#     square_points_usgs = in_horizontal_square(rectangle_points_usgs,center_point[:2],feet_from_point)\n",
    "#     square_points_nyc = in_horizontal_square(rectangle_points_nyc,center_point[:2],feet_from_point)\n",
    "#     square_points_laefer = in_horizontal_square(rectangle_points_laefer,center_point[:2],feet_from_point)\n",
    "    \n",
    "#     laefer_flight_count = len(square_points_laefer['flight_id'].unique())\n",
    "#     nyc_flight_count = len(square_points_nyc['flight_id'].unique())\n",
    "#     usgs_flight_count = len(square_points_usgs['flight_id'].unique())\n",
    "   \n",
    "#     laefer_density = square_points_laefer.shape[0] / laefer_flight_count\n",
    "#     nyc_density = square_points_nyc.shape[0]/nyc_flight_count\n",
    "#     usgs_density = square_points_usgs.shape[0] / usgs_flight_count\n",
    "                        \n",
    "# #     print(\"Laefer: \\n\"+\"*\"*30)\n",
    "# #     print(\"Total points: {}\".format(square_points_laefer.shape[0]))\n",
    "# #     print(\"Number of flights: {}\".format(laefer_flight_count))\n",
    "# #     print(\"Points per flight: {}\".format(laefer_density))\n",
    "# #     print(\"NYC: \\n\"+\"*\"*30)\n",
    "# #     print(\"Total points (NYC): {}\".format(square_points_nyc.shape[0]))\n",
    "# #     print(\"Number of flights (NYC): {}\".format(nyc_flight_count))\n",
    "# #     print(\"Points per flight: {}\".format(nyc_density))    \n",
    "\n",
    "#     # If z_max > 10, <6 for any dataset, skip it\n",
    "#     if (square_points_nyc['z_scaled'].max()<mean_z+3) & \\\n",
    "#        (square_points_usgs['z_scaled'].max()<mean_z+3) & \\\n",
    "#        (square_points_laefer['z_scaled'].max()<mean_z+3):\n",
    "#         # Statistics!\n",
    "                \n",
    "#         # Point density\n",
    "#         num_points_nyc = square_points_nyc.shape[0]\n",
    "#         pt_density_nyc_list.append(num_points_nyc / (4 * feet_from_point**2))        \n",
    "#         num_points_usgs = square_points_usgs.shape[0]\n",
    "#         pt_density_usgs_list.append(num_points_usgs / (4 * feet_from_point**2))        \n",
    "#         num_points_laefer = square_points_laefer.shape[0]\n",
    "#         pt_density_laefer_list.append(num_points_laefer / (4 * feet_from_point**2))        \n",
    "\n",
    "#         # Fit a plane\n",
    "#         norm_vector_nyc,_,square_points_nyc,_ = plane_fit(square_points_nyc)\n",
    "#         norm_vector_usgs,_,square_points_usgs,_ = plane_fit(square_points_usgs)\n",
    "#         norm_vector_laefer,_,square_points_laefer,_ = plane_fit(square_points_laefer)\n",
    "\n",
    "#         # Flight path specifics\n",
    "#         laefer_flight_list = create_flight_list(square_points_laefer)\n",
    "#         usgs_flight_list = create_flight_list(square_points_usgs)\n",
    "#         nyc_flight_list = create_flight_list(square_points_nyc)\n",
    "#         ss = SampleSquare(laefer_flight_list, nyc_flight_list,usgs_flight_list, x = center_point[0], \\\n",
    "#                           y=center_point[1],feet_from_point=feet_from_point)\n",
    "#         SampleFlightList.append(ss)\n",
    "        \n",
    "#     else:\n",
    "#         pts_thrown_out +=1"
   ]
  },
  {
   "cell_type": "code",
   "execution_count": null,
   "metadata": {
    "scrolled": false
   },
   "outputs": [],
   "source": [
    "# print_out(SampleFlightList,pt_density_laefer_list,pt_density_nyc_list,pt_density_usgs_list,feet_from_point)"
   ]
  },
  {
   "cell_type": "code",
   "execution_count": null,
   "metadata": {},
   "outputs": [],
   "source": [
    "# print(\"Horizontal point density over {:d} samples\".format(len(pt_density_laefer_list)))\n",
    "# print(\"*\"*30)\n",
    "# print(\"USGS avg density: {:2.4f} (SD: {:2.4f})\".format(np.mean(pt_density_usgs_list),np.std(pt_density_usgs_list)))\n",
    "# print(\"NYC avg density: {:2.4f} (SD: {:2.4f})\".format(np.mean(pt_density_nyc_list),np.std(pt_density_nyc_list)))\n",
    "# print(\"Laefer avg density: {:2.4f} (SD: {:2.4f})\".format(np.mean(pt_density_laefer_list),np.std(pt_density_laefer_list)))\n",
    "# print(\"Points thrown out: {} ({:2.2%})\".format(pts_thrown_out,pts_thrown_out/len(center_points)))"
   ]
  },
  {
   "cell_type": "markdown",
   "metadata": {},
   "source": [
    "## Vertical density\n",
    "Identifying point at corner of building to quantify the vertical point density.  \n",
    "Center point: \t40.645854, \t-74.025299  \n",
    "Easting - 977229.375  \n",
    "Northing - 174579.42"
   ]
  },
  {
   "cell_type": "markdown",
   "metadata": {},
   "source": [
    "#### Laefer data"
   ]
  },
  {
   "cell_type": "code",
   "execution_count": null,
   "metadata": {},
   "outputs": [],
   "source": [
    "# Extract from all files, the points within feet_from_pt in the xy-plane of the middle wall point\n",
    "# square_points_vertical_laefer = grab_points(pt_files,file_dir,middle_pt[0],middle_pt[1],feet_from_pt)\n",
    "# square_points_vertical_nyc = grab_points(nyc_pt_file,nyc_file_dir,middle_pt[0],middle_pt[1],feet_from_pt)\n",
    "# square_points_vertical_usgs = grab_points(usgs_pt_files,usgs_file_dir,middle_pt[0],middle_pt[1],feet_from_pt)"
   ]
  },
  {
   "cell_type": "code",
   "execution_count": 4,
   "metadata": {},
   "outputs": [],
   "source": [
    "# Other side of the windows\n",
    "middle_pt = np.array([977214.86,174562.64,58.762])\n",
    "right_pt = np.array([977213.577,174561.01,111.614])\n",
    "left_pt = np.array([977217.294, 174565.64, 33.483])\n",
    "bottom_left_pt= np.array([977217.09,174565.64,25.809])\n",
    "top_left_pt = np.array([977217.09,174565.64,115.80])\n",
    "bottom_right_pt = np.array([977213.026,174560.064,25.809])\n",
    "feet_from_pt = 3.5\n",
    "\n",
    "# Right vertical wall\n",
    "square_points_vertical_laefer = pd.read_pickle(\"../../Data/parking_lot/right_wall_vertical_laefer.pkl\")\n",
    "square_points_vertical_nyc = pd.read_pickle(\"../../Data/parking_lot/right_wall_vertical_nyc.pkl\")\n",
    "square_points_vertical_usgs = pd.read_pickle(\"../../Data/parking_lot/right_wall_vertical_usgs.pkl\")"
   ]
  },
  {
   "cell_type": "code",
   "execution_count": 5,
   "metadata": {
    "scrolled": true
   },
   "outputs": [
    {
     "name": "stderr",
     "output_type": "stream",
     "text": [
      "/home/michael/python-virtual-environments/data/lib/python3.6/site-packages/pandas/core/indexing.py:376: SettingWithCopyWarning:\n",
      "\n",
      "\n",
      "A value is trying to be set on a copy of a slice from a DataFrame.\n",
      "Try using .loc[row_indexer,col_indexer] = value instead\n",
      "\n",
      "See the caveats in the documentation: http://pandas.pydata.org/pandas-docs/stable/user_guide/indexing.html#returning-a-view-versus-a-copy\n",
      "\n",
      "/home/michael/python-virtual-environments/data/lib/python3.6/site-packages/pandas/core/indexing.py:494: SettingWithCopyWarning:\n",
      "\n",
      "\n",
      "A value is trying to be set on a copy of a slice from a DataFrame.\n",
      "Try using .loc[row_indexer,col_indexer] = value instead\n",
      "\n",
      "See the caveats in the documentation: http://pandas.pydata.org/pandas-docs/stable/user_guide/indexing.html#returning-a-view-versus-a-copy\n",
      "\n"
     ]
    }
   ],
   "source": [
    "# Calculate norm_vector from 3 points, to define plane and extract the wall face\n",
    "norm = np.cross(middle_pt - right_pt,(left_pt-right_pt))\n",
    "norm = norm / np.linalg.norm(norm)\n",
    "\n",
    "# Extract the wall face, above 15ft and below 120ft to avoid roof and grouund points\n",
    "wall_face_laefer = grab_wall_face(square_points_vertical_laefer,norm, middle_pt,15,120,5e-1)\n",
    "wall_face_nyc = grab_wall_face(square_points_vertical_nyc,norm, middle_pt,15,120,5e-1)\n",
    "wall_face_usgs = grab_wall_face(square_points_vertical_usgs,norm, middle_pt,15,120,5e-1)\n",
    "\n",
    "# Fit a plane, create norm_vector, calculate dist_from_plane\n",
    "norm_vector_laefer,_,wall_face_laefer,_ = plane_fit(wall_face_laefer) \n",
    "norm_vector_nyc,_,wall_face_nyc,_ = plane_fit(wall_face_nyc) \n",
    "norm_vector_usgs,_,wall_face_usgs,_ = plane_fit(wall_face_usgs) "
   ]
  },
  {
   "cell_type": "code",
   "execution_count": 6,
   "metadata": {},
   "outputs": [],
   "source": [
    "# Calculate the rectangle side length, based on points\n",
    "u_length = np.linalg.norm(bottom_left_pt-top_left_pt)\n",
    "v_length = np.linalg.norm(bottom_left_pt-bottom_right_pt)\n",
    "\n",
    "# Sample points in wall\n",
    "#Note 0.28 border_v comes from: (3.5/2) (half-meter feet_from_point) / v_length (with some buffer)\n",
    "feet_from_pt_v = 3.5/2\n",
    "feet_from_pt_u = 7\n",
    "border = [0,0]\n",
    "border[0] = 1.08*(feet_from_pt_u / u_length)\n",
    "border[1] = 1.08*(feet_from_pt_v / v_length)\n",
    "# For density up the wall below\n",
    "try:\n",
    "    center_points_old = center_points\n",
    "except:\n",
    "    pass\n",
    "center_points = center_point_sample(5000,\n",
    "                    bottom_left_pt,top_left_pt,bottom_right_pt,\n",
    "                    u_length=u_length,v_length=v_length,border=border)"
   ]
  },
  {
   "cell_type": "code",
   "execution_count": 7,
   "metadata": {},
   "outputs": [],
   "source": [
    "# Aggregators\n",
    "pt_density_usgs_list, pt_density_nyc_list, pt_density_laefer_list = [],[], []\n",
    "avg_wall_dist_diff = []\n",
    "sd_wall_dist_usgs, sd_wall_dist_nyc, sd_wall_dist_laefer = [],[], []\n",
    "SampleFlightList = []"
   ]
  },
  {
   "cell_type": "code",
   "execution_count": 8,
   "metadata": {
    "scrolled": false
   },
   "outputs": [
    {
     "name": "stderr",
     "output_type": "stream",
     "text": [
      "../point_density_functions.py:335: RuntimeWarning:\n",
      "\n",
      "invalid value encountered in double_scalars\n",
      "\n",
      "../point_density_functions.py:333: RuntimeWarning:\n",
      "\n",
      "invalid value encountered in double_scalars\n",
      "\n",
      "../point_density_functions.py:234: RuntimeWarning:\n",
      "\n",
      "invalid value encountered in true_divide\n",
      "\n"
     ]
    }
   ],
   "source": [
    "pts_thrown_out = 0\n",
    "\n",
    "for center_point in center_points:\n",
    "    square_points_usgs,pt_density_usgs = in_vertical_square(wall_face_usgs,\n",
    "                                                norm_vector_usgs,\n",
    "                                                center_point,\n",
    "                                                feet_from_pt_v,\n",
    "                                                feet_from_pt_u)\n",
    "    square_points_nyc,pt_density_nyc = in_vertical_square(wall_face_nyc,\n",
    "                                                norm_vector_nyc,\n",
    "                                                center_point,\n",
    "                                                feet_from_pt_v,\n",
    "                                                feet_from_pt_u)\n",
    "    square_points_laefer,pt_density_laefer = in_vertical_square(wall_face_laefer,\n",
    "                                                norm_vector_laefer,\n",
    "                                                center_point,\n",
    "                                                feet_from_pt_v,\n",
    "                                                feet_from_pt_u)\n",
    "    laefer_flight_count = len(square_points_laefer['flight_id'].unique())\n",
    "    nyc_flight_count = len(square_points_nyc['flight_id'].unique())\n",
    "    usgs_flight_count = len(square_points_usgs['flight_id'].unique())\n",
    "\n",
    "#     try:\n",
    "#         laefer_density = square_points_laefer.shape[0] / laefer_flight_count\n",
    "#     except ZeroDivisionError:\n",
    "#         laefer_density = 0\n",
    "#     try:\n",
    "#         nyc_density = square_points_nyc.shape[0]/nyc_flight_count\n",
    "#     except ZeroDivisionError:\n",
    "#         nyc_density = 0\n",
    "#     try:\n",
    "#         usgs_density = square_points_usgs.shape[0]/usgs_flight_count\n",
    "#     except ZeroDivisionError:\n",
    "#         usgs_density = 0\n",
    "\n",
    "#     print(\"Laefer: \\n\"+\"*\"*30)\n",
    "#     print(\"Total points: {}\".format(square_points_laefer.shape[0]))\n",
    "#     print(\"Number of flights: {}\".format(laefer_flight_count))\n",
    "#     print(\"Points per flight: {}\".format(laefer_density))\n",
    "#     print(\"\\nNYC: \\n\"+\"*\"*30)\n",
    "#     print(\"Total points (NYC): {}\".format(square_points_nyc.shape[0]))\n",
    "#     print(\"Number of flights (NYC): {}\".format(nyc_flight_count))\n",
    "#     print(\"Points per flight: {}\\n\\n\".format(nyc_density)) \n",
    "    \n",
    "    # Note: Leaving the outlier (\"car\") logic out of the vertical, as we're avoiding the windows\n",
    "    # Statistics!\n",
    "\n",
    "    # Point density\n",
    "    num_points_usgs = square_points_usgs.shape[0]\n",
    "    pt_density_usgs_list.append(pt_density_usgs)        \n",
    "    num_points_nyc = square_points_nyc.shape[0]\n",
    "    pt_density_nyc_list.append(pt_density_nyc)        \n",
    "    num_points_laefer = square_points_laefer.shape[0]\n",
    "    pt_density_laefer_list.append(pt_density_laefer)        \n",
    "\n",
    "    # Fit a plane\n",
    "    norm_vector_laefer,_,square_points_laefer,_ = plane_fit(square_points_laefer)\n",
    "    laefer_flight_list = create_flight_list(square_points_laefer)\n",
    "\n",
    "    if square_points_nyc.shape[0] > 0:\n",
    "        norm_vector_nyc,_,square_points_nyc,_ = plane_fit(square_points_nyc)\n",
    "        nyc_flight_list = create_flight_list(square_points_nyc)\n",
    "    else:\n",
    "        nyc_flight_list=None\n",
    "\n",
    "    if square_points_usgs.shape[0] > 0:\n",
    "        norm_vector_usgs,_,square_points_usgs,_ = plane_fit(square_points_usgs)\n",
    "        usgs_flight_list = create_flight_list(square_points_usgs)\n",
    "    else:\n",
    "        usgs_flight_list=None\n",
    "    # Flight path specifics\n",
    "    ss = SampleSquare(laefer_flight_list, nyc_flight_list,usgs_flight_list, x = center_point[0], \\\n",
    "                      y=center_point[1],feet_from_point=[feet_from_pt_v,feet_from_pt_u])\n",
    "    SampleFlightList.append(ss)    "
   ]
  },
  {
   "cell_type": "code",
   "execution_count": 9,
   "metadata": {},
   "outputs": [
    {
     "name": "stdout",
     "output_type": "stream",
     "text": [
      "Pts in Laefer: 4926\n",
      "Pts in NYC: 52\n",
      "Pts in USGS: 10\n"
     ]
    }
   ],
   "source": [
    "print(\"Pts in Laefer: {}\".format(wall_face_laefer.shape[0]))\n",
    "print(\"Pts in NYC: {}\".format(wall_face_nyc.shape[0]))\n",
    "print(\"Pts in USGS: {}\".format(wall_face_usgs.shape[0]))"
   ]
  },
  {
   "cell_type": "code",
   "execution_count": 10,
   "metadata": {
    "scrolled": true
   },
   "outputs": [
    {
     "name": "stdout",
     "output_type": "stream",
     "text": [
      "Vertical face point density over 5000 samples\n",
      "******************************\n",
      "USGS avg density: 0.0163 (SD: 0.0104)\n",
      "NYC avg density: 0.0496 (SD: 0.1541)\n",
      "Laefer avg density: 5.4966 (SD: 0.3112)\n"
     ]
    }
   ],
   "source": [
    "print(\"Vertical face point density over {:d} samples\".format(len(pt_density_laefer_list)))\n",
    "print(\"*\"*30)\n",
    "print(\"USGS avg density: {:2.4f} (SD: {:2.4f})\".format(np.mean(pt_density_usgs_list),np.std(pt_density_usgs_list)))\n",
    "print(\"NYC avg density: {:2.4f} (SD: {:2.4f})\".format(np.mean(pt_density_nyc_list),np.std(pt_density_nyc_list)))\n",
    "print(\"Laefer avg density: {:2.4f} (SD: {:2.4f})\".format(np.mean(pt_density_laefer_list),np.std(pt_density_laefer_list)))"
   ]
  },
  {
   "cell_type": "code",
   "execution_count": 11,
   "metadata": {},
   "outputs": [
    {
     "name": "stdout",
     "output_type": "stream",
     "text": [
      "2019 scan (Vertical, 5000 samples)\n",
      "******************************\n",
      "Avg points per square: 269.33 points\n",
      "Avg density: 5.4966 pts/sqft (SD: 0.3112)\n",
      "Avg number of flight paths per square: 10.12\n",
      "\n",
      "phi_total: 3.1027 (SD: 0.5114)\n",
      "phi_sample: 2.8702 (SD: 0.5114)\n",
      "\n",
      "Total point dist from plane, SD: 0.1048 feet\n",
      "Avg flight point dist from plane, SD: 0.0338 feet\n"
     ]
    }
   ],
   "source": [
    "# Laefer\n",
    "sd_laefer_total = np.mean([ss.flight_list_laefer[0].sd_dist for ss in SampleFlightList])\n",
    "sd_laefer_sample = np.mean([ss.flight_list_laefer[1].sd_dist for ss in SampleFlightList])\n",
    "avg_flight_paths_laefer = np.mean([len(flight.flight_list_laefer) for flight in SampleFlightList])-2\n",
    "\n",
    "phis_laefer_total = [ss.phi_laefer_total for ss in SampleFlightList]\n",
    "phis_laefer_sample = [ss.phi_laefer_sample for ss in SampleFlightList]\n",
    "\n",
    "print(\"2019 scan (Vertical, {:d} samples)\\n\".format(len(pt_density_laefer_list))+\"*\"*30)\n",
    "print(\"Avg points per square: {:2.2f} points\".format((3.5*14)*np.mean(pt_density_laefer_list)))\n",
    "print(\"Avg density: {:2.4f} pts/sqft (SD: {:2.4f})\".format(np.mean(pt_density_laefer_list),np.std(pt_density_laefer_list)))\n",
    "print(\"Avg number of flight paths per square: {:2.2f}\".format(avg_flight_paths_laefer))\n",
    "\n",
    "print(\"\\nphi_total: {:2.4f} (SD: {:2.4f})\".format(np.mean(phis_laefer_total),np.std(phis_laefer_total)))\n",
    "print(\"phi_sample: {:2.4f} (SD: {:2.4f})\".format(np.mean(phis_laefer_sample),np.std(phis_laefer_total)))\n",
    "print(\"\\nTotal point dist from plane, SD: {:2.4f} feet\".format(sd_laefer_total))\n",
    "print(\"Avg flight point dist from plane, SD: {:2.4f} feet\".format(sd_laefer_total/np.mean(phis_laefer_total)))\n",
    "\n",
    "# phis_nyc_total = [ss.phi_nyc_total for ss in SampleFlightList]\n",
    "# phis_nyc_sample = [ss.phi_nyc_sample for ss in SampleFlightList]\n",
    "\n",
    "# sd_nyc_total = np.mean([ss.flight_list_nyc[0].sd_dist for ss in SampleFlightList])\n",
    "# sd_nyc_sample = np.mean([ss.flight_list_nyc[1].sd_dist for ss in SampleFlightList])\n"
   ]
  },
  {
   "cell_type": "code",
   "execution_count": 12,
   "metadata": {},
   "outputs": [],
   "source": [
    "# Outer wall\n",
    "middle_pt = np.array([977223.71,174573.7,75.141])\n",
    "right_pt = np.array([977221.44, 174571.037, 68.44])\n",
    "left_pt = np.array([977226.47, 174577.23, 36.958])\n",
    "bottom_left_pt = np.array([977225.752, 174576.37, 25.393])\n",
    "top_left_pt = np.array([977225.752, 174576.37, 117.937])\n",
    "bottom_right_pt = np.array([977221.605,174571.074,25.393])\n",
    "feet_from_pt = 3.5\n",
    "\n",
    "# Left vertical wall\n",
    "square_points_vertical_laefer = pd.read_pickle(\"../../Data/parking_lot/left_wall_vertical_laefer.pkl\")\n",
    "square_points_vertical_nyc = pd.read_pickle(\"../../Data/parking_lot/left_wall_vertical_nyc.pkl\")\n",
    "square_points_vertical_usgs = pd.read_pickle(\"../../Data/parking_lot/left_wall_vertical_usgs.pkl\")"
   ]
  },
  {
   "cell_type": "code",
   "execution_count": 13,
   "metadata": {
    "scrolled": true
   },
   "outputs": [
    {
     "name": "stderr",
     "output_type": "stream",
     "text": [
      "/home/michael/python-virtual-environments/data/lib/python3.6/site-packages/pandas/core/indexing.py:376: SettingWithCopyWarning:\n",
      "\n",
      "\n",
      "A value is trying to be set on a copy of a slice from a DataFrame.\n",
      "Try using .loc[row_indexer,col_indexer] = value instead\n",
      "\n",
      "See the caveats in the documentation: http://pandas.pydata.org/pandas-docs/stable/user_guide/indexing.html#returning-a-view-versus-a-copy\n",
      "\n",
      "/home/michael/python-virtual-environments/data/lib/python3.6/site-packages/pandas/core/indexing.py:494: SettingWithCopyWarning:\n",
      "\n",
      "\n",
      "A value is trying to be set on a copy of a slice from a DataFrame.\n",
      "Try using .loc[row_indexer,col_indexer] = value instead\n",
      "\n",
      "See the caveats in the documentation: http://pandas.pydata.org/pandas-docs/stable/user_guide/indexing.html#returning-a-view-versus-a-copy\n",
      "\n"
     ]
    }
   ],
   "source": [
    "# Calculate norm_vector from 3 points, to define plane and extract the wall face\n",
    "norm = np.cross(middle_pt - right_pt,(left_pt-right_pt))\n",
    "norm = norm / np.linalg.norm(norm)\n",
    "\n",
    "# Extract the wall face, above 15ft and below 120ft to avoid roof and grouund points\n",
    "wall_face_laefer = grab_wall_face(square_points_vertical_laefer,norm, middle_pt,15,120,5e-1)\n",
    "wall_face_nyc = grab_wall_face(square_points_vertical_nyc,norm, middle_pt,15,120,5e-1)\n",
    "wall_face_usgs = grab_wall_face(square_points_vertical_usgs,norm, middle_pt,15,120,5e-1)\n",
    "\n",
    "# Fit a plane, create norm_vector, calculate dist_from_plane\n",
    "norm_vector_laefer,_,wall_face_laefer,_ = plane_fit(wall_face_laefer) \n",
    "norm_vector_nyc,_,wall_face_nyc,_ = plane_fit(wall_face_nyc) \n",
    "norm_vector_usgs,_,wall_face_usgs,_ = plane_fit(wall_face_usgs) "
   ]
  },
  {
   "cell_type": "code",
   "execution_count": 14,
   "metadata": {},
   "outputs": [],
   "source": [
    "# Calculate the rectangle side length, based on points\n",
    "u_length = np.linalg.norm(bottom_left_pt-top_left_pt)\n",
    "v_length = np.linalg.norm(bottom_left_pt-bottom_right_pt)\n",
    "\n",
    "# Sample points in wall\n",
    "#Note 0.28 border_v comes from: (3.5/2) (half-meter feet_from_point) / v_length (with some buffer)\n",
    "feet_from_pt_v = 3.5/2\n",
    "feet_from_pt_u = 7\n",
    "border = [0,0]\n",
    "border[0] = 1.08*(feet_from_pt_u / u_length)\n",
    "border[1] = 1.08*(feet_from_pt_v / v_length)\n",
    "# For density up the wall below\n",
    "try:\n",
    "    center_points_old = center_points\n",
    "except:\n",
    "    pass\n",
    "center_points = center_point_sample(5000,\n",
    "                    bottom_left_pt,top_left_pt,bottom_right_pt,\n",
    "                    u_length=u_length,v_length=v_length,border=border)"
   ]
  },
  {
   "cell_type": "code",
   "execution_count": 15,
   "metadata": {
    "scrolled": false
   },
   "outputs": [
    {
     "name": "stderr",
     "output_type": "stream",
     "text": [
      "../point_density_functions.py:335: RuntimeWarning:\n",
      "\n",
      "invalid value encountered in double_scalars\n",
      "\n",
      "../point_density_functions.py:333: RuntimeWarning:\n",
      "\n",
      "invalid value encountered in double_scalars\n",
      "\n",
      "../point_density_functions.py:234: RuntimeWarning:\n",
      "\n",
      "invalid value encountered in true_divide\n",
      "\n",
      "../point_density_functions.py:335: RuntimeWarning:\n",
      "\n",
      "divide by zero encountered in double_scalars\n",
      "\n",
      "../point_density_functions.py:333: RuntimeWarning:\n",
      "\n",
      "divide by zero encountered in double_scalars\n",
      "\n"
     ]
    }
   ],
   "source": [
    "pts_thrown_out = 0\n",
    "\n",
    "for center_point in center_points:\n",
    "    square_points_usgs,pt_density_usgs = in_vertical_square(wall_face_usgs,\n",
    "                                                norm_vector_usgs,\n",
    "                                                center_point,\n",
    "                                                feet_from_pt_v,\n",
    "                                                feet_from_pt_u)\n",
    "    square_points_nyc,pt_density_nyc = in_vertical_square(wall_face_nyc,\n",
    "                                                norm_vector_nyc,\n",
    "                                                center_point,\n",
    "                                                feet_from_pt_v,\n",
    "                                                feet_from_pt_u)\n",
    "    square_points_laefer,pt_density_laefer = in_vertical_square(wall_face_laefer,\n",
    "                                                norm_vector_laefer,\n",
    "                                                center_point,\n",
    "                                                feet_from_pt_v,\n",
    "                                                feet_from_pt_u)\n",
    "    laefer_flight_count = len(square_points_laefer['flight_id'].unique())\n",
    "    nyc_flight_count = len(square_points_nyc['flight_id'].unique())\n",
    "    usgs_flight_count = len(square_points_usgs['flight_id'].unique())\n",
    "\n",
    "#     try:\n",
    "#         laefer_density = square_points_laefer.shape[0] / laefer_flight_count\n",
    "#     except ZeroDivisionError:\n",
    "#         laefer_density = 0\n",
    "#     try:\n",
    "#         nyc_density = square_points_nyc.shape[0]/nyc_flight_count\n",
    "#     except ZeroDivisionError:\n",
    "#         nyc_density = 0\n",
    "#     try:\n",
    "#         usgs_density = square_points_usgs.shape[0]/usgs_flight_count\n",
    "#     except ZeroDivisionError:\n",
    "#         usgs_density = 0\n",
    "\n",
    "#     print(\"Laefer: \\n\"+\"*\"*30)\n",
    "#     print(\"Total points: {}\".format(square_points_laefer.shape[0]))\n",
    "#     print(\"Number of flights: {}\".format(laefer_flight_count))\n",
    "#     print(\"Points per flight: {}\".format(laefer_density))\n",
    "#     print(\"\\nNYC: \\n\"+\"*\"*30)\n",
    "#     print(\"Total points (NYC): {}\".format(square_points_nyc.shape[0]))\n",
    "#     print(\"Number of flights (NYC): {}\".format(nyc_flight_count))\n",
    "#     print(\"Points per flight: {}\\n\\n\".format(nyc_density)) \n",
    "    \n",
    "    # Note: Leaving the outlier (\"car\") logic out of the vertical, as we're avoiding the windows\n",
    "    # Statistics!\n",
    "\n",
    "    # Point density\n",
    "    num_points_usgs = square_points_usgs.shape[0]\n",
    "    pt_density_usgs_list.append(pt_density_usgs)        \n",
    "    num_points_nyc = square_points_nyc.shape[0]\n",
    "    pt_density_nyc_list.append(pt_density_nyc)        \n",
    "    num_points_laefer = square_points_laefer.shape[0]\n",
    "    pt_density_laefer_list.append(pt_density_laefer)        \n",
    "\n",
    "    # Fit a plane\n",
    "    norm_vector_laefer,_,square_points_laefer,_ = plane_fit(square_points_laefer)\n",
    "    laefer_flight_list = create_flight_list(square_points_laefer)\n",
    "\n",
    "    if square_points_nyc.shape[0] > 0:\n",
    "        norm_vector_nyc,_,square_points_nyc,_ = plane_fit(square_points_nyc)\n",
    "        nyc_flight_list = create_flight_list(square_points_nyc)\n",
    "    else:\n",
    "        nyc_flight_list=None\n",
    "\n",
    "    if square_points_usgs.shape[0] > 0:\n",
    "        norm_vector_usgs,_,square_points_usgs,_ = plane_fit(square_points_usgs)\n",
    "        usgs_flight_list = create_flight_list(square_points_usgs)\n",
    "    else:\n",
    "        usgs_flight_list=None\n",
    "    # Flight path specifics\n",
    "    ss = SampleSquare(laefer_flight_list, nyc_flight_list,usgs_flight_list, x = center_point[0], \\\n",
    "                      y=center_point[1],feet_from_point=[feet_from_pt_v,feet_from_pt_u])\n",
    "    SampleFlightList.append(ss)    "
   ]
  },
  {
   "cell_type": "code",
   "execution_count": 16,
   "metadata": {},
   "outputs": [
    {
     "name": "stdout",
     "output_type": "stream",
     "text": [
      "Pts in Laefer: 4758\n",
      "Pts in NYC: 101\n",
      "Pts in USGS: 17\n"
     ]
    }
   ],
   "source": [
    "print(\"Pts in Laefer: {}\".format(wall_face_laefer.shape[0]))\n",
    "print(\"Pts in NYC: {}\".format(wall_face_nyc.shape[0]))\n",
    "print(\"Pts in USGS: {}\".format(wall_face_usgs.shape[0]))"
   ]
  },
  {
   "cell_type": "code",
   "execution_count": 17,
   "metadata": {
    "scrolled": true
   },
   "outputs": [
    {
     "name": "stdout",
     "output_type": "stream",
     "text": [
      "Vertical face point density over 10000 samples\n",
      "******************************\n",
      "USGS avg density: 0.0132 (SD: 0.0111)\n",
      "NYC avg density: 0.1280 (SD: 0.2297)\n",
      "Laefer avg density: 5.2260 (SD: 0.4328)\n"
     ]
    }
   ],
   "source": [
    "print(\"Vertical face point density over {:d} samples\".format(len(pt_density_laefer_list)))\n",
    "print(\"*\"*30)\n",
    "print(\"USGS avg density: {:2.4f} (SD: {:2.4f})\".format(np.mean(pt_density_usgs_list),np.std(pt_density_usgs_list)))\n",
    "print(\"NYC avg density: {:2.4f} (SD: {:2.4f})\".format(np.mean(pt_density_nyc_list),np.std(pt_density_nyc_list)))\n",
    "print(\"Laefer avg density: {:2.4f} (SD: {:2.4f})\".format(np.mean(pt_density_laefer_list),np.std(pt_density_laefer_list)))"
   ]
  },
  {
   "cell_type": "code",
   "execution_count": 18,
   "metadata": {},
   "outputs": [
    {
     "name": "stdout",
     "output_type": "stream",
     "text": [
      "2019 scan (Vertical, 10000 samples)\n",
      "******************************\n",
      "Avg points per square: 256.07 points\n",
      "Avg density: 5.2260 pts/sqft (SD: 0.4328)\n",
      "Avg number of flight paths per square: 10.04\n",
      "\n",
      "phi_total: 3.3755 (SD: 0.6319)\n",
      "phi_sample: 3.1009 (SD: 0.6319)\n",
      "\n",
      "Total point dist from plane, SD: 0.1042 feet\n",
      "Avg flight point dist from plane, SD: 0.0309 feet\n"
     ]
    }
   ],
   "source": [
    "# Laefer\n",
    "sd_laefer_total = np.mean([ss.flight_list_laefer[0].sd_dist for ss in SampleFlightList])\n",
    "sd_laefer_sample = np.mean([ss.flight_list_laefer[1].sd_dist for ss in SampleFlightList])\n",
    "avg_flight_paths_laefer = np.mean([len(flight.flight_list_laefer) for flight in SampleFlightList])-2\n",
    "\n",
    "phis_laefer_total = [ss.phi_laefer_total for ss in SampleFlightList]\n",
    "phis_laefer_sample = [ss.phi_laefer_sample for ss in SampleFlightList]\n",
    "\n",
    "print(\"2019 scan (Vertical, {:d} samples)\\n\".format(len(pt_density_laefer_list))+\"*\"*30)\n",
    "print(\"Avg points per square: {:2.2f} points\".format((3.5*14)*np.mean(pt_density_laefer_list)))\n",
    "print(\"Avg density: {:2.4f} pts/sqft (SD: {:2.4f})\".format(np.mean(pt_density_laefer_list),np.std(pt_density_laefer_list)))\n",
    "print(\"Avg number of flight paths per square: {:2.2f}\".format(avg_flight_paths_laefer))\n",
    "\n",
    "print(\"\\nphi_total: {:2.4f} (SD: {:2.4f})\".format(np.mean(phis_laefer_total),np.std(phis_laefer_total)))\n",
    "print(\"phi_sample: {:2.4f} (SD: {:2.4f})\".format(np.mean(phis_laefer_sample),np.std(phis_laefer_total)))\n",
    "print(\"\\nTotal point dist from plane, SD: {:2.4f} feet\".format(sd_laefer_total))\n",
    "print(\"Avg flight point dist from plane, SD: {:2.4f} feet\".format(sd_laefer_total/np.mean(phis_laefer_total)))\n",
    "\n",
    "# phis_nyc_total = [ss.phi_nyc_total for ss in SampleFlightList]\n",
    "# phis_nyc_sample = [ss.phi_nyc_sample for ss in SampleFlightList]\n",
    "\n",
    "# sd_nyc_total = np.mean([ss.flight_list_nyc[0].sd_dist for ss in SampleFlightList])\n",
    "# sd_nyc_sample = np.mean([ss.flight_list_nyc[1].sd_dist for ss in SampleFlightList])\n"
   ]
  },
  {
   "cell_type": "code",
   "execution_count": null,
   "metadata": {},
   "outputs": [],
   "source": []
  },
  {
   "cell_type": "code",
   "execution_count": null,
   "metadata": {},
   "outputs": [],
   "source": []
  },
  {
   "cell_type": "code",
   "execution_count": null,
   "metadata": {},
   "outputs": [],
   "source": []
  },
  {
   "cell_type": "code",
   "execution_count": null,
   "metadata": {},
   "outputs": [],
   "source": []
  },
  {
   "cell_type": "markdown",
   "metadata": {},
   "source": [
    "### Density up and down the wall"
   ]
  },
  {
   "cell_type": "code",
   "execution_count": 19,
   "metadata": {},
   "outputs": [],
   "source": [
    "try:\n",
    "    center_points_total = np.concatenate((center_points_old,center_points),axis=0)\n",
    "except NameError:\n",
    "    center_points_total = center_points\n",
    "center_points_df = pd.DataFrame(center_points_total,columns=['x','y','z'])"
   ]
  },
  {
   "cell_type": "code",
   "execution_count": 20,
   "metadata": {},
   "outputs": [],
   "source": [
    "center_points_df['usgs'] = pt_density_usgs_list\n",
    "center_points_df['nyc'] = pt_density_nyc_list\n",
    "center_points_df['laefer'] = pt_density_laefer_list"
   ]
  },
  {
   "cell_type": "code",
   "execution_count": 21,
   "metadata": {},
   "outputs": [
    {
     "data": {
      "text/html": [
       "<div>\n",
       "<style scoped>\n",
       "    .dataframe tbody tr th:only-of-type {\n",
       "        vertical-align: middle;\n",
       "    }\n",
       "\n",
       "    .dataframe tbody tr th {\n",
       "        vertical-align: top;\n",
       "    }\n",
       "\n",
       "    .dataframe thead th {\n",
       "        text-align: right;\n",
       "    }\n",
       "</style>\n",
       "<table border=\"1\" class=\"dataframe\">\n",
       "  <thead>\n",
       "    <tr style=\"text-align: right;\">\n",
       "      <th></th>\n",
       "      <th>x</th>\n",
       "      <th>y</th>\n",
       "      <th>z</th>\n",
       "      <th>usgs</th>\n",
       "      <th>nyc</th>\n",
       "      <th>laefer</th>\n",
       "      <th>z_quant</th>\n",
       "    </tr>\n",
       "  </thead>\n",
       "  <tbody>\n",
       "    <tr>\n",
       "      <th>0</th>\n",
       "      <td>977215.458082</td>\n",
       "      <td>174563.400932</td>\n",
       "      <td>48.930413</td>\n",
       "      <td>0.020408</td>\n",
       "      <td>0.000000</td>\n",
       "      <td>5.836735</td>\n",
       "      <td>48</td>\n",
       "    </tr>\n",
       "    <tr>\n",
       "      <th>1</th>\n",
       "      <td>977215.571610</td>\n",
       "      <td>174563.556698</td>\n",
       "      <td>103.857584</td>\n",
       "      <td>0.020408</td>\n",
       "      <td>0.000000</td>\n",
       "      <td>5.142857</td>\n",
       "      <td>103</td>\n",
       "    </tr>\n",
       "    <tr>\n",
       "      <th>2</th>\n",
       "      <td>977214.613535</td>\n",
       "      <td>174562.242173</td>\n",
       "      <td>65.819994</td>\n",
       "      <td>0.020408</td>\n",
       "      <td>0.000000</td>\n",
       "      <td>5.571429</td>\n",
       "      <td>65</td>\n",
       "    </tr>\n",
       "    <tr>\n",
       "      <th>3</th>\n",
       "      <td>977215.776959</td>\n",
       "      <td>174563.838446</td>\n",
       "      <td>98.641246</td>\n",
       "      <td>0.000000</td>\n",
       "      <td>0.000000</td>\n",
       "      <td>5.183673</td>\n",
       "      <td>98</td>\n",
       "    </tr>\n",
       "    <tr>\n",
       "      <th>4</th>\n",
       "      <td>977215.959047</td>\n",
       "      <td>174564.088279</td>\n",
       "      <td>75.819981</td>\n",
       "      <td>0.020408</td>\n",
       "      <td>0.000000</td>\n",
       "      <td>5.489796</td>\n",
       "      <td>75</td>\n",
       "    </tr>\n",
       "    <tr>\n",
       "      <th>5</th>\n",
       "      <td>977215.027228</td>\n",
       "      <td>174562.809779</td>\n",
       "      <td>51.031217</td>\n",
       "      <td>0.020408</td>\n",
       "      <td>0.000000</td>\n",
       "      <td>5.836735</td>\n",
       "      <td>51</td>\n",
       "    </tr>\n",
       "    <tr>\n",
       "      <th>6</th>\n",
       "      <td>977215.760689</td>\n",
       "      <td>174563.816123</td>\n",
       "      <td>34.236719</td>\n",
       "      <td>0.020408</td>\n",
       "      <td>0.612245</td>\n",
       "      <td>5.673469</td>\n",
       "      <td>34</td>\n",
       "    </tr>\n",
       "    <tr>\n",
       "      <th>7</th>\n",
       "      <td>977215.074929</td>\n",
       "      <td>174562.875228</td>\n",
       "      <td>79.557708</td>\n",
       "      <td>0.020408</td>\n",
       "      <td>0.000000</td>\n",
       "      <td>5.326531</td>\n",
       "      <td>79</td>\n",
       "    </tr>\n",
       "    <tr>\n",
       "      <th>8</th>\n",
       "      <td>977215.334959</td>\n",
       "      <td>174563.232001</td>\n",
       "      <td>40.655533</td>\n",
       "      <td>0.020408</td>\n",
       "      <td>0.183673</td>\n",
       "      <td>5.693878</td>\n",
       "      <td>40</td>\n",
       "    </tr>\n",
       "    <tr>\n",
       "      <th>9</th>\n",
       "      <td>977214.783897</td>\n",
       "      <td>174562.475918</td>\n",
       "      <td>51.214742</td>\n",
       "      <td>0.020408</td>\n",
       "      <td>0.000000</td>\n",
       "      <td>5.938776</td>\n",
       "      <td>51</td>\n",
       "    </tr>\n",
       "    <tr>\n",
       "      <th>10</th>\n",
       "      <td>977215.226275</td>\n",
       "      <td>174563.082881</td>\n",
       "      <td>66.425690</td>\n",
       "      <td>0.020408</td>\n",
       "      <td>0.000000</td>\n",
       "      <td>5.877551</td>\n",
       "      <td>66</td>\n",
       "    </tr>\n",
       "    <tr>\n",
       "      <th>11</th>\n",
       "      <td>977215.681581</td>\n",
       "      <td>174563.707583</td>\n",
       "      <td>59.808327</td>\n",
       "      <td>0.000000</td>\n",
       "      <td>0.000000</td>\n",
       "      <td>5.469388</td>\n",
       "      <td>59</td>\n",
       "    </tr>\n",
       "  </tbody>\n",
       "</table>\n",
       "</div>"
      ],
      "text/plain": [
       "                x              y           z      usgs       nyc    laefer  \\\n",
       "0   977215.458082  174563.400932   48.930413  0.020408  0.000000  5.836735   \n",
       "1   977215.571610  174563.556698  103.857584  0.020408  0.000000  5.142857   \n",
       "2   977214.613535  174562.242173   65.819994  0.020408  0.000000  5.571429   \n",
       "3   977215.776959  174563.838446   98.641246  0.000000  0.000000  5.183673   \n",
       "4   977215.959047  174564.088279   75.819981  0.020408  0.000000  5.489796   \n",
       "5   977215.027228  174562.809779   51.031217  0.020408  0.000000  5.836735   \n",
       "6   977215.760689  174563.816123   34.236719  0.020408  0.612245  5.673469   \n",
       "7   977215.074929  174562.875228   79.557708  0.020408  0.000000  5.326531   \n",
       "8   977215.334959  174563.232001   40.655533  0.020408  0.183673  5.693878   \n",
       "9   977214.783897  174562.475918   51.214742  0.020408  0.000000  5.938776   \n",
       "10  977215.226275  174563.082881   66.425690  0.020408  0.000000  5.877551   \n",
       "11  977215.681581  174563.707583   59.808327  0.000000  0.000000  5.469388   \n",
       "\n",
       "    z_quant  \n",
       "0        48  \n",
       "1       103  \n",
       "2        65  \n",
       "3        98  \n",
       "4        75  \n",
       "5        51  \n",
       "6        34  \n",
       "7        79  \n",
       "8        40  \n",
       "9        51  \n",
       "10       66  \n",
       "11       59  "
      ]
     },
     "execution_count": 21,
     "metadata": {},
     "output_type": "execute_result"
    }
   ],
   "source": [
    "center_points_df['z_quant'] = [int(np.floor(center_points_df.loc[i,'z'])) for i in range(center_points_df.shape[0])]\n",
    "center_points_df.head(12)"
   ]
  },
  {
   "cell_type": "code",
   "execution_count": 22,
   "metadata": {},
   "outputs": [],
   "source": [
    "quantized = center_points_df.groupby('z_quant').mean()"
   ]
  },
  {
   "cell_type": "code",
   "execution_count": 23,
   "metadata": {},
   "outputs": [
    {
     "ename": "KeyError",
     "evalue": "'z_quant'",
     "output_type": "error",
     "traceback": [
      "\u001b[0;31m---------------------------------------------------------------------------\u001b[0m",
      "\u001b[0;31mKeyError\u001b[0m                                  Traceback (most recent call last)",
      "\u001b[0;32m~/python-virtual-environments/data/lib/python3.6/site-packages/pandas/core/indexes/base.py\u001b[0m in \u001b[0;36mget_loc\u001b[0;34m(self, key, method, tolerance)\u001b[0m\n\u001b[1;32m   2896\u001b[0m             \u001b[0;32mtry\u001b[0m\u001b[0;34m:\u001b[0m\u001b[0;34m\u001b[0m\u001b[0;34m\u001b[0m\u001b[0m\n\u001b[0;32m-> 2897\u001b[0;31m                 \u001b[0;32mreturn\u001b[0m \u001b[0mself\u001b[0m\u001b[0;34m.\u001b[0m\u001b[0m_engine\u001b[0m\u001b[0;34m.\u001b[0m\u001b[0mget_loc\u001b[0m\u001b[0;34m(\u001b[0m\u001b[0mkey\u001b[0m\u001b[0;34m)\u001b[0m\u001b[0;34m\u001b[0m\u001b[0;34m\u001b[0m\u001b[0m\n\u001b[0m\u001b[1;32m   2898\u001b[0m             \u001b[0;32mexcept\u001b[0m \u001b[0mKeyError\u001b[0m\u001b[0;34m:\u001b[0m\u001b[0;34m\u001b[0m\u001b[0;34m\u001b[0m\u001b[0m\n",
      "\u001b[0;32mpandas/_libs/index.pyx\u001b[0m in \u001b[0;36mpandas._libs.index.IndexEngine.get_loc\u001b[0;34m()\u001b[0m\n",
      "\u001b[0;32mpandas/_libs/index.pyx\u001b[0m in \u001b[0;36mpandas._libs.index.IndexEngine.get_loc\u001b[0;34m()\u001b[0m\n",
      "\u001b[0;32mpandas/_libs/hashtable_class_helper.pxi\u001b[0m in \u001b[0;36mpandas._libs.hashtable.PyObjectHashTable.get_item\u001b[0;34m()\u001b[0m\n",
      "\u001b[0;32mpandas/_libs/hashtable_class_helper.pxi\u001b[0m in \u001b[0;36mpandas._libs.hashtable.PyObjectHashTable.get_item\u001b[0;34m()\u001b[0m\n",
      "\u001b[0;31mKeyError\u001b[0m: 'z_quant'",
      "\nDuring handling of the above exception, another exception occurred:\n",
      "\u001b[0;31mKeyError\u001b[0m                                  Traceback (most recent call last)",
      "\u001b[0;32m<ipython-input-23-6c2e3fe3f00b>\u001b[0m in \u001b[0;36m<module>\u001b[0;34m\u001b[0m\n\u001b[1;32m      2\u001b[0m \u001b[0mquantized\u001b[0m\u001b[0;34m[\u001b[0m\u001b[0;34m'rho_trend'\u001b[0m\u001b[0;34m]\u001b[0m \u001b[0;34m=\u001b[0m \u001b[0mnp\u001b[0m\u001b[0;34m.\u001b[0m\u001b[0mzeros\u001b[0m\u001b[0;34m(\u001b[0m\u001b[0mquantized\u001b[0m\u001b[0;34m.\u001b[0m\u001b[0mshape\u001b[0m\u001b[0;34m[\u001b[0m\u001b[0;36m0\u001b[0m\u001b[0;34m]\u001b[0m\u001b[0;34m)\u001b[0m\u001b[0;34m\u001b[0m\u001b[0;34m\u001b[0m\u001b[0m\n\u001b[1;32m      3\u001b[0m \u001b[0;34m\u001b[0m\u001b[0m\n\u001b[0;32m----> 4\u001b[0;31m \u001b[0mquantized\u001b[0m\u001b[0;34m[\u001b[0m\u001b[0mabs\u001b[0m\u001b[0;34m(\u001b[0m\u001b[0mquantized\u001b[0m\u001b[0;34m[\u001b[0m\u001b[0;34m'z_quant'\u001b[0m\u001b[0;34m]\u001b[0m\u001b[0;34m-\u001b[0m\u001b[0;36m50\u001b[0m\u001b[0;34m)\u001b[0m\u001b[0;34m<\u001b[0m\u001b[0;36m10\u001b[0m\u001b[0;34m]\u001b[0m\u001b[0;34m\u001b[0m\u001b[0;34m\u001b[0m\u001b[0m\n\u001b[0m",
      "\u001b[0;32m~/python-virtual-environments/data/lib/python3.6/site-packages/pandas/core/frame.py\u001b[0m in \u001b[0;36m__getitem__\u001b[0;34m(self, key)\u001b[0m\n\u001b[1;32m   2993\u001b[0m             \u001b[0;32mif\u001b[0m \u001b[0mself\u001b[0m\u001b[0;34m.\u001b[0m\u001b[0mcolumns\u001b[0m\u001b[0;34m.\u001b[0m\u001b[0mnlevels\u001b[0m \u001b[0;34m>\u001b[0m \u001b[0;36m1\u001b[0m\u001b[0;34m:\u001b[0m\u001b[0;34m\u001b[0m\u001b[0;34m\u001b[0m\u001b[0m\n\u001b[1;32m   2994\u001b[0m                 \u001b[0;32mreturn\u001b[0m \u001b[0mself\u001b[0m\u001b[0;34m.\u001b[0m\u001b[0m_getitem_multilevel\u001b[0m\u001b[0;34m(\u001b[0m\u001b[0mkey\u001b[0m\u001b[0;34m)\u001b[0m\u001b[0;34m\u001b[0m\u001b[0;34m\u001b[0m\u001b[0m\n\u001b[0;32m-> 2995\u001b[0;31m             \u001b[0mindexer\u001b[0m \u001b[0;34m=\u001b[0m \u001b[0mself\u001b[0m\u001b[0;34m.\u001b[0m\u001b[0mcolumns\u001b[0m\u001b[0;34m.\u001b[0m\u001b[0mget_loc\u001b[0m\u001b[0;34m(\u001b[0m\u001b[0mkey\u001b[0m\u001b[0;34m)\u001b[0m\u001b[0;34m\u001b[0m\u001b[0;34m\u001b[0m\u001b[0m\n\u001b[0m\u001b[1;32m   2996\u001b[0m             \u001b[0;32mif\u001b[0m \u001b[0mis_integer\u001b[0m\u001b[0;34m(\u001b[0m\u001b[0mindexer\u001b[0m\u001b[0;34m)\u001b[0m\u001b[0;34m:\u001b[0m\u001b[0;34m\u001b[0m\u001b[0;34m\u001b[0m\u001b[0m\n\u001b[1;32m   2997\u001b[0m                 \u001b[0mindexer\u001b[0m \u001b[0;34m=\u001b[0m \u001b[0;34m[\u001b[0m\u001b[0mindexer\u001b[0m\u001b[0;34m]\u001b[0m\u001b[0;34m\u001b[0m\u001b[0;34m\u001b[0m\u001b[0m\n",
      "\u001b[0;32m~/python-virtual-environments/data/lib/python3.6/site-packages/pandas/core/indexes/base.py\u001b[0m in \u001b[0;36mget_loc\u001b[0;34m(self, key, method, tolerance)\u001b[0m\n\u001b[1;32m   2897\u001b[0m                 \u001b[0;32mreturn\u001b[0m \u001b[0mself\u001b[0m\u001b[0;34m.\u001b[0m\u001b[0m_engine\u001b[0m\u001b[0;34m.\u001b[0m\u001b[0mget_loc\u001b[0m\u001b[0;34m(\u001b[0m\u001b[0mkey\u001b[0m\u001b[0;34m)\u001b[0m\u001b[0;34m\u001b[0m\u001b[0;34m\u001b[0m\u001b[0m\n\u001b[1;32m   2898\u001b[0m             \u001b[0;32mexcept\u001b[0m \u001b[0mKeyError\u001b[0m\u001b[0;34m:\u001b[0m\u001b[0;34m\u001b[0m\u001b[0;34m\u001b[0m\u001b[0m\n\u001b[0;32m-> 2899\u001b[0;31m                 \u001b[0;32mreturn\u001b[0m \u001b[0mself\u001b[0m\u001b[0;34m.\u001b[0m\u001b[0m_engine\u001b[0m\u001b[0;34m.\u001b[0m\u001b[0mget_loc\u001b[0m\u001b[0;34m(\u001b[0m\u001b[0mself\u001b[0m\u001b[0;34m.\u001b[0m\u001b[0m_maybe_cast_indexer\u001b[0m\u001b[0;34m(\u001b[0m\u001b[0mkey\u001b[0m\u001b[0;34m)\u001b[0m\u001b[0;34m)\u001b[0m\u001b[0;34m\u001b[0m\u001b[0;34m\u001b[0m\u001b[0m\n\u001b[0m\u001b[1;32m   2900\u001b[0m         \u001b[0mindexer\u001b[0m \u001b[0;34m=\u001b[0m \u001b[0mself\u001b[0m\u001b[0;34m.\u001b[0m\u001b[0mget_indexer\u001b[0m\u001b[0;34m(\u001b[0m\u001b[0;34m[\u001b[0m\u001b[0mkey\u001b[0m\u001b[0;34m]\u001b[0m\u001b[0;34m,\u001b[0m \u001b[0mmethod\u001b[0m\u001b[0;34m=\u001b[0m\u001b[0mmethod\u001b[0m\u001b[0;34m,\u001b[0m \u001b[0mtolerance\u001b[0m\u001b[0;34m=\u001b[0m\u001b[0mtolerance\u001b[0m\u001b[0;34m)\u001b[0m\u001b[0;34m\u001b[0m\u001b[0;34m\u001b[0m\u001b[0m\n\u001b[1;32m   2901\u001b[0m         \u001b[0;32mif\u001b[0m \u001b[0mindexer\u001b[0m\u001b[0;34m.\u001b[0m\u001b[0mndim\u001b[0m \u001b[0;34m>\u001b[0m \u001b[0;36m1\u001b[0m \u001b[0;32mor\u001b[0m \u001b[0mindexer\u001b[0m\u001b[0;34m.\u001b[0m\u001b[0msize\u001b[0m \u001b[0;34m>\u001b[0m \u001b[0;36m1\u001b[0m\u001b[0;34m:\u001b[0m\u001b[0;34m\u001b[0m\u001b[0;34m\u001b[0m\u001b[0m\n",
      "\u001b[0;32mpandas/_libs/index.pyx\u001b[0m in \u001b[0;36mpandas._libs.index.IndexEngine.get_loc\u001b[0;34m()\u001b[0m\n",
      "\u001b[0;32mpandas/_libs/index.pyx\u001b[0m in \u001b[0;36mpandas._libs.index.IndexEngine.get_loc\u001b[0;34m()\u001b[0m\n",
      "\u001b[0;32mpandas/_libs/hashtable_class_helper.pxi\u001b[0m in \u001b[0;36mpandas._libs.hashtable.PyObjectHashTable.get_item\u001b[0;34m()\u001b[0m\n",
      "\u001b[0;32mpandas/_libs/hashtable_class_helper.pxi\u001b[0m in \u001b[0;36mpandas._libs.hashtable.PyObjectHashTable.get_item\u001b[0;34m()\u001b[0m\n",
      "\u001b[0;31mKeyError\u001b[0m: 'z_quant'"
     ]
    }
   ],
   "source": [
    "# Trendline\n",
    "quantized['rho_trend'] = np.zeros(quantized.shape[0])\n",
    "\n",
    "quantized[abs(quantized['z_quant']-50)<10]"
   ]
  },
  {
   "cell_type": "code",
   "execution_count": 24,
   "metadata": {},
   "outputs": [],
   "source": [
    "a = quantized.index.min()\n",
    "b = quantized.index.max()\n",
    "\n",
    "quantized['trend'] = [quantized.loc[max(0,i-10):min(b,i+10),'laefer'].mean() for i in np.arange(a,b+1)]"
   ]
  },
  {
   "cell_type": "code",
   "execution_count": 25,
   "metadata": {},
   "outputs": [
    {
     "data": {
      "text/plain": [
       "(array([ 5., 10., 15., 20., 25., 30., 35.]),\n",
       " <a list of 7 Text yticklabel objects>)"
      ]
     },
     "execution_count": 25,
     "metadata": {},
     "output_type": "execute_result"
    },
    {
     "data": {
      "image/png": "[encoded data removed]",
      "text/plain": [
       "<Figure size 1080x1080 with 1 Axes>"
      ]
     },
     "metadata": {
      "needs_background": "light"
     },
     "output_type": "display_data"
    }
   ],
   "source": [
    "quantized.head()\n",
    "plt.figure(figsize=[15,15])\n",
    "plt.plot(quantized['laefer']/0.092903,quantized.index/3.28084,'o')\n",
    "plt.plot(quantized['trend']/0.092903,quantized.index/3.28084)\n",
    "plt.ylabel(\"Height on wall (m)\",fontsize=18)\n",
    "plt.xlabel(\"Vertical density (pts/m^2)\",fontsize=18)\n",
    "plt.xticks(fontsize=18)\n",
    "plt.yticks(fontsize=18)"
   ]
  },
  {
   "cell_type": "code",
   "execution_count": null,
   "metadata": {},
   "outputs": [],
   "source": []
  },
  {
   "cell_type": "code",
   "execution_count": null,
   "metadata": {},
   "outputs": [],
   "source": []
  },
  {
   "cell_type": "code",
   "execution_count": null,
   "metadata": {},
   "outputs": [],
   "source": []
  },
  {
   "cell_type": "code",
   "execution_count": null,
   "metadata": {},
   "outputs": [],
   "source": []
  },
  {
   "cell_type": "code",
   "execution_count": null,
   "metadata": {},
   "outputs": [],
   "source": [
    "print(\"\\n\\n2017 scan (Horizontal, 10,000 samples): \\n\"+\"*\"*30)\n",
    "print(\"Avg points per square: {:2.2f}\".format((4 * feet_from_point**2)*np.mean(pt_density_nyc_list)))\n",
    "print(\"Avg density: {:2.4f} pts/sqft (SD: {:2.4f})\".format(np.mean(pt_density_nyc_list),np.std(pt_density_nyc_list)))\n",
    "print(\"Avg number of flight paths per square: {:2.2f}\".format(avg_flight_paths_nyc))\n",
    "print(\"]nphi_total: {:2.4f} (SD: {:2.4f})\".format(np.mean(phis_nyc_total),np.std(phis_nyc_total)))\n",
    "print(\"phi_sample: {:2.4f} (SD: {:2.4f})\".format(np.mean(phis_nyc_sample),np.std(phis_nyc_sample)))\n",
    "print(\"Total point dist from plane, SD: {:2.4f} feet\".format(sd_nyc_total))\n",
    "print(\"Avg flight point dist from plane, SD: {:2.4f} feet\".format(sd_nyc_total/np.mean(phis_nyc_total)))"
   ]
  },
  {
   "cell_type": "code",
   "execution_count": null,
   "metadata": {
    "scrolled": true
   },
   "outputs": [],
   "source": [
    "# Plotting\n",
    "plotting_laefer,_ = prep_square_for_plotting(wall_face_nyc)\n",
    "fig = px.scatter_3d(plotting_laefer, x='x_scaled', y='y_scaled', z='z_scaled',\n",
    "              size = 'size_num',size_max = 12)\n",
    "\n",
    "fig.update_layout( \n",
    "    scene = dict(xaxis = dict(title=\"Easting (feet)\"),\n",
    "                 yaxis = dict(title=\"Northing (feet)\"),\n",
    "                 zaxis = dict(title=\"Vertical (feet)\"),\n",
    "                ),\n",
    "    width=900,\n",
    "    height=900,\n",
    "    margin=dict(r=20, l=10, b=10, t=10),\n",
    "    showlegend=False,\n",
    "    )\n",
    "fig.show()"
   ]
  },
  {
   "cell_type": "markdown",
   "metadata": {},
   "source": [
    "#### NYC data"
   ]
  },
  {
   "cell_type": "code",
   "execution_count": null,
   "metadata": {},
   "outputs": [],
   "source": [
    "'''\n",
    "Random sample of horizonal density from front parking lot\n",
    "Laefer: \n",
    "******************************\n",
    "SD total: 0.0389\n",
    "SD sample: 0.0382\n",
    "mean of phi_total: 1.2279\n",
    "SD of phi_total:   0.1140\n",
    "mean of phi_sample: 1.2030\n",
    "SD of phi_sample:   0.2304\n",
    "\n",
    "NYC: \n",
    "******************************\n",
    "SD total: 0.0602\n",
    "SD sample: 0.0544\n",
    "mean of phi_total: 1.3172\n",
    "SD of phi_total:   0.2091\n",
    "mean of phi_sample: 1.2021\n",
    "SD of phi_sample:   0.3375\n",
    "'''"
   ]
  },
  {
   "cell_type": "code",
   "execution_count": null,
   "metadata": {},
   "outputs": [],
   "source": [
    "# Access the NYC header file\n",
    "#inFileNYC = File(nyc_file_dir+'975172.las', mode='r')\n",
    "\n",
    "# Extract points within a square around the desired point\n",
    "# Use pt_[]_bldg and feet_from_pt from previous cell\n",
    "\n",
    "# Use same min's from previous so points line up.\n",
    "#square_points_nyc,_ = prep_square_for_plotting(square_points_nyc,min_list) "
   ]
  },
  {
   "cell_type": "markdown",
   "metadata": {},
   "source": [
    "#### 3D Plots"
   ]
  },
  {
   "cell_type": "code",
   "execution_count": null,
   "metadata": {},
   "outputs": [],
   "source": [
    "fig = px.scatter_3d(square_points_bldg, x='x_plot', y='y_plot', z='z_plot',\n",
    "              size='size_num',size_max = 12)\n",
    "\n",
    "fig.update_layout( \n",
    "    scene = dict(xaxis = dict(title=\"Easting (feet)\"),\n",
    "                 yaxis = dict(title=\"Northing (feet)\"),\n",
    "                 zaxis = dict(title=\"Vertical (feet)\"),\n",
    "                ),\n",
    "    width=900,\n",
    "    height=900,\n",
    "    margin=dict(r=20, l=10, b=10, t=10),\n",
    "    showlegend=False,\n",
    "    )\n",
    "fig.show()"
   ]
  },
  {
   "cell_type": "code",
   "execution_count": null,
   "metadata": {
    "scrolled": false
   },
   "outputs": [],
   "source": [
    "fig = px.scatter_3d(square_points_nyc, x='x_plot', y='y_plot', z='z_plot',\n",
    "              size='size_num',size_max = 12)\n",
    "\n",
    "fig.update_layout( \n",
    "    scene = dict(xaxis = dict(title=\"Easting (feet)\"),\n",
    "                 yaxis = dict(title=\"Northing (feet)\"),\n",
    "                 zaxis = dict(title=\"Vertical (feet)\"),\n",
    "                ),\n",
    "    width=900,\n",
    "    height=900,\n",
    "    margin=dict(r=20, l=10, b=10, t=10),\n",
    "    showlegend=False,\n",
    "    )\n",
    "fig.show()"
   ]
  },
  {
   "cell_type": "markdown",
   "metadata": {},
   "source": [
    "#### Extract the wall face, find normal vector, calculate vertical density"
   ]
  },
  {
   "cell_type": "code",
   "execution_count": null,
   "metadata": {},
   "outputs": [],
   "source": [
    "pt_1 = np.array([37.7,10.04])\n",
    "pt_2 = np.array([27.094,18.439])\n",
    "wall_pt = (31.77,14.90,43.00)\n",
    "\n",
    "# East? Facing Wall (farther from the little stump)\n",
    "# pt_1 = np.array([20.59,15.02])\n",
    "# pt_2 = np.array([10.34,2.93])\n",
    "# wall_pt = (19.414,12.379,73.863)\n",
    "\n",
    "wall_face = grab_wall_face(square_points_bldg,pt_1,pt_2,20,100,1e-2)\n",
    "wall_face_nyc = grab_wall_face(square_points_nyc,pt_1,pt_2,20,100,5e-2)"
   ]
  },
  {
   "cell_type": "code",
   "execution_count": null,
   "metadata": {
    "scrolled": true
   },
   "outputs": [],
   "source": [
    "wall_face.shape"
   ]
  },
  {
   "cell_type": "code",
   "execution_count": null,
   "metadata": {},
   "outputs": [],
   "source": [
    "wall_face_nyc.shape"
   ]
  },
  {
   "cell_type": "code",
   "execution_count": null,
   "metadata": {},
   "outputs": [],
   "source": [
    "norm_vector,points,wall_face,pts_on_plane = plane_fit(wall_face)"
   ]
  },
  {
   "cell_type": "code",
   "execution_count": null,
   "metadata": {},
   "outputs": [],
   "source": [
    "print(norm_vector)\n",
    "print(norm_vector_nyc)"
   ]
  },
  {
   "cell_type": "code",
   "execution_count": null,
   "metadata": {},
   "outputs": [],
   "source": [
    "norm_vector_nyc,points,wall_face_nyc,pts_on_plane_nyc = plane_fit(wall_face)"
   ]
  },
  {
   "cell_type": "code",
   "execution_count": null,
   "metadata": {},
   "outputs": [],
   "source": [
    "fig = px.scatter_3d(wall_face, x='x_plot', y='y_plot', z='z_plot',\n",
    "              color='flight_id',size='size_num',size_max = 12)\n",
    "\n",
    "fig.update_layout( \n",
    "    scene = dict(xaxis = dict(title=\"Easting (feet)\"),\n",
    "                 yaxis = dict(title=\"Northing (feet)\"),\n",
    "                 zaxis = dict(title=\"Vertical (feet)\"),\n",
    "                ),\n",
    "    width=900,\n",
    "    height=900,\n",
    "    margin=dict(r=20, l=10, b=10, t=10),\n",
    "    showlegend=False,\n",
    "    )\n",
    "fig.show()"
   ]
  },
  {
   "cell_type": "code",
   "execution_count": null,
   "metadata": {},
   "outputs": [],
   "source": [
    "# Point in middle of wall - in xyz_plot coordinates (less the min of each coordinate)\n",
    "# It's best to highlight a point in the plot above and use that.\n",
    "\n",
    "feet_from_pt = 3"
   ]
  },
  {
   "cell_type": "code",
   "execution_count": null,
   "metadata": {},
   "outputs": [],
   "source": [
    "# Calculate density for both datasets   \n",
    "vertical_point_density(square_points_nyc,norm_vector_nyc,wall_pt,feet_from_pt)\n",
    "vertical_point_density(square_points_bldg,norm_vector,wall_pt,feet_from_pt)"
   ]
  },
  {
   "cell_type": "code",
   "execution_count": null,
   "metadata": {
    "scrolled": false
   },
   "outputs": [],
   "source": [
    "fig = px.scatter_3d(vertical_square, x='x_plot', y='y_plot', z='z_plot',\n",
    "              color='flight_id', size='size_num',size_max = 8)\n",
    "\n",
    "fig.update_layout( \n",
    "    scene = dict(xaxis = dict(title=\"Easting (feet)\"),\n",
    "                 yaxis = dict(title=\"Northing (feet)\"),\n",
    "                 zaxis = dict(title=\"Vertical (feet)\"),\n",
    "                ),\n",
    "    width=900,\n",
    "    height=900,\n",
    "    margin=dict(r=20, l=10, b=10, t=10),\n",
    "    showlegend=False,\n",
    "    xaxis = {\"title\":{\"text\":\"Cat\"}})\n",
    "fig.show()"
   ]
  },
  {
   "cell_type": "markdown",
   "metadata": {},
   "source": [
    "### Writing LAS file"
   ]
  },
  {
   "cell_type": "code",
   "execution_count": null,
   "metadata": {},
   "outputs": [],
   "source": [
    "# Write square_points_bldg to file\n",
    "inFile = File(file_dir+'10552_NYU_M2 - Scanner 1 - 190511_164039_1 - originalpoints.laz', mode='r')\n",
    "# Convert DF into tuples that laspy wants\n",
    "void = [(tuple(r[columns_point_cloud]),) for i,r in square_points_laefer.iterrows()]\n",
    "# Export\n",
    "outFile1 = File(\"../../Data/parking_lot/flat_parking_lot_laefer.las\", mode = \"w\",header = inFile.header)\n",
    "outFile1.points = void\n",
    "outFile1.close()"
   ]
  },
  {
   "cell_type": "code",
   "execution_count": null,
   "metadata": {},
   "outputs": [],
   "source": [
    "# NYC data\n",
    "# Write square_points_bldg to file\n",
    "inFile_nyc = File(nyc_file_dir+'975172.las', mode='r')\n",
    "# Convert DF into tuples that laspy wants\n",
    "void = [(tuple(r[columns_point_cloud]),) for i,r in square_points_nyc.iterrows()]\n",
    "# Export\n",
    "outFile1 = File(\"../../Data/parking_lot/flat_parking_lot_nyc.las\", mode = \"w\",header = inFile.header)\n",
    "outFile1.points = void\n",
    "outFile1.close()"
   ]
  },
  {
   "cell_type": "markdown",
   "metadata": {},
   "source": [
    "## Plotting charts from previous updates"
   ]
  },
  {
   "cell_type": "code",
   "execution_count": null,
   "metadata": {},
   "outputs": [],
   "source": [
    "norm_vector,points,square_points,_ = plane_fit(square_points)\n",
    "\n",
    "# Add distance from flat plane with norm (x,y,z) = (0,0,1)\n",
    "square_points['dist_from_flat']=np.array([np.dot(point,np.array([0,0,1])) for point in points])\n",
    "\n",
    "# remove data points >5 feet below plane.\n",
    "outliers = square_points[square_points['dist_from_plane']<-5].index\n",
    "square_points = square_points.drop(outliers)"
   ]
  },
  {
   "cell_type": "code",
   "execution_count": null,
   "metadata": {},
   "outputs": [],
   "source": [
    "def plot_scan_angle_dist_from_plane(df,distance_metric):\n",
    "    x = abs(df['scan_angle'])*.006\n",
    "    y = df[distance_metric]\n",
    "    plt.figure(figsize=(15,15))\n",
    "    plt.plot(x,y,'xb')\n",
    "    z = np.polyfit(x, y, 1)\n",
    "    p = np.poly1d(z)\n",
    "    plt.plot(x,p(x),\"r--\")\n",
    "    plt.xlabel(\"Scan angle (degrees)\")\n",
    "    plt.ylabel(\"Point distance from plane\")\n",
    "    print(\"y={:2.8f}x+{:2.8f}\".format(z[0],z[1]))\n",
    "    plt.title(\"Scan Angle vs Distance to Fitted Plane\")\n",
    "plot_scan_angle_dist_from_plane(square_points,'dist_from_plane')"
   ]
  },
  {
   "cell_type": "code",
   "execution_count": null,
   "metadata": {},
   "outputs": [],
   "source": [
    "plt.plot(range(len(square_points)),square_points['scan_angle'],'x')"
   ]
  },
  {
   "cell_type": "code",
   "execution_count": null,
   "metadata": {},
   "outputs": [],
   "source": [
    "plot_scan_angle_dist_from_plane(square_points,'dist_from_flat')"
   ]
  },
  {
   "cell_type": "code",
   "execution_count": null,
   "metadata": {},
   "outputs": [],
   "source": [
    "# Chart from slides showing points per run\n",
    "labels = [pt[0][11:-4] for pt in pts_from_scan]\n",
    "num_points = [pt[1]+.01 for pt in pts_from_scan]\n",
    "plt.figure(figsize=(25,20))\n",
    "plt.bar(labels,num_points,)\n",
    "plt.xticks(rotation=45,fontsize=20)\n",
    "plt.yticks(np.arange(0, max(num_points), step=(max(num_points)/10)),fontsize=20)\n",
    "plt.ylabel(\"Number of points from run\",fontsize=20)\n",
    "plt.xlabel(\"Run ID\",fontsize=20)"
   ]
  },
  {
   "cell_type": "markdown",
   "metadata": {},
   "source": [
    "### USGS: Converting Lat-Lon and adding flight id's"
   ]
  },
  {
   "cell_type": "code",
   "execution_count": null,
   "metadata": {},
   "outputs": [],
   "source": [
    "# Converting lat-lon to state plane\n",
    "from pyproj import Proj, transform\n",
    "y1 = np.array(usgs_square_points['x_scaled'])\n",
    "x1 = np.array(usgs_square_points['y_scaled'])\n",
    "inProj = Proj('epsg:4269')\n",
    "outProj = Proj('epsg:3628')\n",
    "x2,y2 = transform(inProj,outProj,x1,y1)\n",
    "usgs_square_points['latitude'] = usgs_square_points['y_scaled'].copy()\n",
    "usgs_square_points['longitude'] = usgs_square_points['x_scaled'].copy()\n",
    "usgs_square_points['x_scaled'] = x2\n",
    "usgs_square_points['y_scaled'] = y2"
   ]
  },
  {
   "cell_type": "code",
   "execution_count": null,
   "metadata": {},
   "outputs": [],
   "source": []
  }
 ],
 "metadata": {
  "kernelspec": {
   "display_name": "Python 3",
   "language": "python",
   "name": "python3"
  },
  "language_info": {
   "codemirror_mode": {
    "name": "ipython",
    "version": 3
   },
   "file_extension": ".py",
   "mimetype": "text/x-python",
   "name": "python",
   "nbconvert_exporter": "python",
   "pygments_lexer": "ipython3",
   "version": "3.6.9"
  }
 },
 "nbformat": 4,
 "nbformat_minor": 2
}
