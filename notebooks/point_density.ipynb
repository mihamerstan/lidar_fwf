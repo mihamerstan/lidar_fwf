{
 "cells": [
  {
   "cell_type": "code",
   "execution_count": 1,
   "metadata": {},
   "outputs": [],
   "source": [
    "import numpy as np\n",
    "import pandas as pd\n",
    "from scipy import stats\n",
    "from laspy.file import File\n",
    "import matplotlib.pyplot as plt\n",
    "from mpl_toolkits import mplot3d\n",
    "import plotly.graph_objects as go\n",
    "import plotly.express as px\n",
    "import seaborn as sns\n",
    "\n",
    "import sys\n",
    "sys.path.insert(0,'..')\n",
    "from point_density_functions import *\n",
    "\n",
    "%matplotlib notebook"
   ]
  },
  {
   "cell_type": "code",
   "execution_count": 2,
   "metadata": {},
   "outputs": [],
   "source": [
    "file_dir = '../../Data/parking_lot/'\n",
    "\n",
    "filenames =list(pd.read_csv(file_dir+\"filenames.txt\",header=None)[0])\n",
    "pt_files = list(pd.read_csv(file_dir+\"pt_files.txt\",header=None)[0])\n",
    "\n",
    "nyc_file_dir = '../../Data/NYC_topo/'\n",
    "nyc_pt_file = ['las_points_NYC_975172.lz']\n",
    "\n",
    "# Corresponds to LAS 1.2 Point Data Record Format 1\n",
    "columns_dublin_pt_cloud = [\n",
    "    'X',\n",
    "    'Y',\n",
    "    'Z',\n",
    "    'intensity',\n",
    "    'return_number_byte',\n",
    "    'classification_byte',\n",
    "    'scan_angle',\n",
    "    'user_data',\n",
    "    'pt_src_id',\n",
    "    'gps_time']\n",
    "\n",
    "columns_point_cloud = [\n",
    "    'X','Y','Z',\n",
    "    'intensity',\n",
    "    'flag_byte',\n",
    "    'classification_flags',\n",
    "    'classification_byte',\n",
    "    'user_data',\n",
    "    'scan_angle',\n",
    "    'pt_src_id',\n",
    "    'gps_time']"
   ]
  },
  {
   "cell_type": "code",
   "execution_count": 3,
   "metadata": {
    "scrolled": true
   },
   "outputs": [],
   "source": [
    "# Extract points within a square around the desired point\n",
    "\n",
    "# Parking Lot\n",
    "# pt_x = 977037.343\n",
    "# pt_y = 174586.034\n",
    "\n",
    "# Corner of building\n",
    "# pt_x_bldg = 977229.375\n",
    "# pt_y_bldg = 174579.42\n",
    "\n",
    "# Top of building\n",
    "# pt_x = 977229.375\n",
    "# pt_y = 174579.42\n",
    "\n",
    "# Projects in back parking lot\n",
    "# pt_x = 977458.238\n",
    "# pt_y = 173302.388\n",
    "\n",
    "# Solar panel\n",
    "# pt_x = 977682.975\n",
    "# pt_y = 174148.192"
   ]
  },
  {
   "cell_type": "code",
   "execution_count": 4,
   "metadata": {},
   "outputs": [],
   "source": [
    "# This works\n",
    "# for filename in filenames:\n",
    "#     create_df_hd5(file_dir,filename,columns_point_cloud)"
   ]
  },
  {
   "cell_type": "markdown",
   "metadata": {},
   "source": [
    "## Flat surface\n",
    "Identifying points in a parking lot to assess how consistently flat they are.  \n",
    "Center point: 40.645789, -74.025951  \n",
    "Easting - 977048.434  \n",
    "Northing - 174555.792"
   ]
  },
  {
   "cell_type": "markdown",
   "metadata": {},
   "source": [
    "### Point density - waterside parking lot"
   ]
  },
  {
   "cell_type": "code",
   "execution_count": 5,
   "metadata": {
    "scrolled": true
   },
   "outputs": [
    {
     "name": "stdout",
     "output_type": "stream",
     "text": [
      "Point count in new square from las_points_161348.lz: 0\n",
      "Point count in new square from las_points_161518.lz: 0\n",
      "Point count in new square from las_points_161726.lz: 0\n",
      "Point count in new square from las_points_161905.lz: 0\n",
      "Point count in new square from las_points_162124.lz: 0\n",
      "Point count in new square from las_points_162306.lz: 0\n",
      "Point count in new square from las_points_162537.lz: 0\n",
      "Point count in new square from las_points_162730.lz: 0\n",
      "Point count in new square from las_points_162957.lz: 0\n",
      "Point count in new square from las_points_163206.lz: 0\n",
      "Point count in new square from las_points_163425.lz: 0\n",
      "Point count in new square from las_points_163824.lz: 0\n",
      "Point count in new square from las_points_164039.lz: 81892\n",
      "Point count in new square from las_points_164239.lz: 134380\n",
      "Point count in new square from las_points_164445.lz: 193394\n",
      "Point count in new square from las_points_164640.lz: 143754\n",
      "Point count in new square from las_points_164845.lz: 154601\n",
      "Point count in new square from las_points_165019.lz: 45810\n",
      "Point count in new square from las_points_165210.lz: 1\n",
      "Point count in new square from las_points_165342.lz: 0\n",
      "Point count in new square from las_points_165523.lz: 0\n",
      "Point count in new square from las_points_165636.lz: 0\n",
      "Point count in new square from las_points_165850.lz: 0\n",
      "Point count in new square from las_points_170032.lz: 0\n",
      "Point count in new square from las_points_170204.lz: 0\n",
      "Point count in new square from las_points_170324.lz: 0\n",
      "Point count in new square from las_points_170520.lz: 0\n",
      "Point count in new square from las_points_170643.lz: 0\n",
      "Point count in new square from las_points_170840.lz: 0\n",
      "Point count in new square from las_points_171015.lz: 0\n",
      "Point count in new square from las_points_171225.lz: 0\n",
      "Point count in new square from las_points_171553.lz: 0\n",
      "Point count in new square from las_points_171754.lz: 1\n",
      "Point count in new square from las_points_172007.lz: 43718\n",
      "Point count in new square from las_points_172201.lz: 92215\n",
      "Point count in new square from las_points_172416.lz: 160871\n",
      "Point count in new square from las_points_172558.lz: 145230\n",
      "Point count in new square from las_points_172753.lz: 154374\n",
      "Point count in new square from las_points_172928.lz: 77160\n",
      "Point count in new square from las_points_173110.lz: 14391\n",
      "Point count in new square from las_points_173238.lz: 0\n",
      "Point count in new square from las_points_173415.lz: 0\n",
      "Point count in new square from las_points_173536.lz: 0\n",
      "Point count in new square from las_points_174133.lz: 0\n",
      "Point count in new square from las_points_174333.lz: 0\n",
      "Point count in new square from las_points_174515.lz: 0\n",
      "Point count in new square from las_points_174725.lz: 0\n",
      "Point count in new square from las_points_174919.lz: 0\n",
      "Point count in new square from las_points_175125.lz: 0\n",
      "Point count in new square from las_points_175315.lz: 0\n",
      "Point count in new square from las_points_175503.lz: 0\n",
      "Point count in new square from las_points_175659.lz: 0\n",
      "Point count in new square from las_points_175842.lz: 0\n",
      "Point count in new square from las_points_180048.lz: 2\n",
      "Point count in new square from las_points_180231.lz: 35256\n",
      "Point count in new square from las_points_180428.lz: 195055\n",
      "Point count in new square from las_points_180632.lz: 182624\n",
      "Point count in new square from las_points_180819.lz: 165938\n",
      "Point count in new square from las_points_181004.lz: 151272\n",
      "Point count in new square from las_points_181155.lz: 4803\n",
      "Point count in new square from las_points_194702.lz: 0\n",
      "Point count in new square from las_points_194904.lz: 0\n",
      "Point count in new square from las_points_195058.lz: 0\n",
      "Point count in new square from las_points_195235.lz: 9109\n",
      "Point count in new square from las_points_195448.lz: 0\n",
      "Point count in new square from las_points_195634.lz: 34517\n",
      "Point count in new square from las_points_195833.lz: 149048\n",
      "Point count in new square from las_points_200024.lz: 132907\n",
      "Point count in new square from las_points_200212.lz: 140975\n",
      "Point count in new square from las_points_200348.lz: 225936\n",
      "Point count in new square from las_points_200600.lz: 77020\n",
      "Point count in new square from las_points_200742.lz: 37094\n",
      "Point count in new square from las_points_200938.lz: 7358\n",
      "Point count in new square from las_points_201120.lz: 0\n",
      "Point count in new square from las_points_201329.lz: 0\n",
      "Point count in new square from las_points_201532.lz: 0\n",
      "Total point count in square: 2990706\n",
      "Point count in new square from las_points_NYC_975172.lz: 73793\n",
      "Total point count in square: 73793\n"
     ]
    }
   ],
   "source": [
    "# Big parking lot rectangle\n",
    "def rectangle(pt1,pt2,y_length,x_length):\n",
    "    '''\n",
    "    Inputs:\n",
    "    pt1 - 2x1 numpy array with x and y coordinate for bottom point\n",
    "    pt2 - 2xy numpy array with x and y coordinate for top point\n",
    "    y_length - bottom-to-top length (positive is in direction of top from bottom point)\n",
    "    x_length - left-to-right length (positive means pts are on left border, negative means they're on right)\n",
    "    '''\n",
    "    unit_u = (pt2 - pt1)/np.linalg.norm(pt2-pt1)\n",
    "    unit_v = np.array([unit_u[1],-1*unit_u[0]])\n",
    "    u = unit_u*y_length\n",
    "    v = unit_v*x_length\n",
    "    uv = np.array([u,v]).T\n",
    "    uv_inv = np.linalg.inv(uv)\n",
    "    w = pt1\n",
    "    return uv_inv,w\n",
    "\n",
    "pt1 = np.array([976600.43, 173886.11])\n",
    "pt2 = np.array([976774.81, 174083.03])\n",
    "uv_inv,w = rectangle(pt1,pt2,800,-80)\n",
    "\n",
    "\n",
    "rectangle_points_laefer = grab_points_big_rect(pt_files,file_dir,uv_inv,w)\n",
    "rectangle_points_nyc = grab_points_big_rect(nyc_pt_file,nyc_file_dir,uv_inv,w)"
   ]
  },
  {
   "cell_type": "code",
   "execution_count": 6,
   "metadata": {},
   "outputs": [
    {
     "name": "stdout",
     "output_type": "stream",
     "text": [
      "Number of outliers: 389\n",
      "Number of outliers: 1004\n"
     ]
    }
   ],
   "source": [
    "# Remove outliers and print the count: z < 0, z > 30\n",
    "def remove_vertical_outliers(rectangle_points,z_low,z_high):\n",
    "    outliers = rectangle_points[(rectangle_points['z_scaled']<z_low) | (rectangle_points['z_scaled']>z_high)].index\n",
    "    rectangle_points = rectangle_points.drop(outliers)\n",
    "    print(\"Number of outliers: {}\".format(len(outliers)))\n",
    "    return rectangle_points\n",
    "rectangle_points_nyc = remove_vertical_outliers(rectangle_points_nyc,0,30)\n",
    "rectangle_points_laefer = remove_vertical_outliers(rectangle_points_laefer,0,30)"
   ]
  },
  {
   "cell_type": "code",
   "execution_count": 28,
   "metadata": {},
   "outputs": [],
   "source": [
    "def random_rectangle_points(num_points,pt1,pt2,y_length,x_length,border=0.05):\n",
    "    '''\n",
    "    Inputs:\n",
    "    pt1 - 2x1 numpy array with x and y coordinate for bottom point\n",
    "    pt2 - 2xy numpy array with x and y coordinate for top point\n",
    "    y_length - bottom-to-top length (positive is in direction of top from bottom point)\n",
    "    x_length - left-to-right length (positive means pts are on left border, negative means they're on right)\n",
    "    border - portion of unit square on each edge to avoid\n",
    "    \n",
    "    Output:\n",
    "    num_points x 2 numpy array of (x,y) values\n",
    "    '''\n",
    "    # Calculate uv and w for use in translation\n",
    "    unit_u = (pt2 - pt1)/np.linalg.norm(pt2-pt1)\n",
    "    unit_v = np.array([unit_u[1],-1*unit_u[0]])\n",
    "    u = unit_u*y_length\n",
    "    v = unit_v*x_length\n",
    "    uv = np.array([u,v]).T\n",
    "    w = pt1\n",
    "    \n",
    "    # Select random point on unit square within border\n",
    "    square_side = 1 - (2*border)\n",
    "    st = border + (square_side)*np.random.rand(2,num_points)\n",
    "    return (uv @ st + w.reshape((2,1))).T\n",
    "\n",
    "def in_square(rectangle_points,center_point,feet_from_point):\n",
    "    '''\n",
    "    Filters dataframe for points less than feet_from_point from center_point\n",
    "    Inputs:\n",
    "    rectangle_points - (n x 3+) dataframe with fields x_scaled, y_scaled, and z_scaled\n",
    "    center_point - 2x1 (x,y) point within rectangle\n",
    "    feet_from_point - scalar\n",
    "    \n",
    "    Output:\n",
    "    square_points - (n x 3+) filtered dataframe\n",
    "    '''\n",
    "    square_points = rectangle_points[ (rectangle_points['x_scaled'] < center_point[0] + feet_from_point)\n",
    "            &(rectangle_points['x_scaled'] > center_point[0] - feet_from_point) \n",
    "            &(rectangle_points['y_scaled'] < center_point[1] + feet_from_point)\n",
    "            &(rectangle_points['y_scaled'] > center_point[1] - feet_from_point)\n",
    "          ]\n",
    "    return square_points\n",
    "\n",
    "\n",
    "feet_from_point = 2\n",
    "center_points = random_rectangle_points(1000,pt1,pt2,800,-80,border=0.05)\n",
    "\n",
    "# Aggregators\n",
    "pt_density_nyc_list, pt_density_laefer_list = [],[]\n",
    "avg_height_diff = []\n",
    "sd_height_nyc, sd_height_laefer = [],[]\n",
    "pts_thrown_out = 0\n",
    "for center_point in center_points:\n",
    "    square_points_nyc = in_square(rectangle_points_nyc,center_point,feet_from_point)\n",
    "    square_points_laefer = in_square(rectangle_points_laefer,center_point,feet_from_point)\n",
    "    \n",
    "    # If z_max > 10, <6 for either dataset, skip it\n",
    "    if (square_points_nyc['z_scaled'].max()<10) & (square_points_nyc['z_scaled'].min()>6) & \\\n",
    "       (square_points_laefer['z_scaled'].max()<10) & (square_points_laefer['z_scaled'].min()>6):\n",
    "        # Statistics!\n",
    "        \n",
    "        # Point density\n",
    "        num_points_nyc = square_points_nyc.shape[0]\n",
    "        pt_density_nyc_list.append(num_points_nyc / (4 * feet_from_point))        \n",
    "        num_points_laefer = square_points_laefer.shape[0]\n",
    "        pt_density_laefer_list.append(num_points_laefer / (4 * feet_from_point))        \n",
    "\n",
    "        # Average height, SD from height\n",
    "        avg_height_nyc = square_points_nyc['z_scaled'].mean()\n",
    "        avg_height_laefer = square_points_laefer['z_scaled'].mean()\n",
    "        avg_height_diff.append(avg_height_nyc-avg_height_laefer)\n",
    "        sd_height_nyc.append(np.std(square_points_nyc['z_scaled']))\n",
    "        sd_height_laefer.append(np.std(square_points_laefer['z_scaled']))\n",
    "    else:\n",
    "        pts_thrown_out +=1"
   ]
  },
  {
   "cell_type": "code",
   "execution_count": 34,
   "metadata": {},
   "outputs": [
    {
     "name": "stdout",
     "output_type": "stream",
     "text": [
      "NYC avg density: 2.3196 (SD: 0.6697)\n",
      "Laefer avg density: 93.3051 (SD: 7.7874)\n",
      "Points thrown out: 258 (25.80%)\n",
      "\n",
      "\n",
      "Mean and Std of avg height difference: 0.12 (SD: 0.11)\n"
     ]
    }
   ],
   "source": [
    "print(\"NYC avg density: {:2.4f} (SD: {:2.4f})\".format(np.mean(pt_density_nyc_list),np.std(pt_density_nyc_list)))\n",
    "print(\"Laefer avg density: {:2.4f} (SD: {:2.4f})\".format(np.mean(pt_density_laefer_list),np.std(pt_density_laefer_list)))\n",
    "print(\"Points thrown out: {} ({:2.2%})\".format(pts_thrown_out,pts_thrown_out/len(center_points)))\n",
    "print(\"\\n\")\n",
    "print(\"Mean and Std of avg height difference: {:2.2f} (SD: {:2.2f})\".format(np.mean(avg_height_diff),np.std(avg_height_diff)))"
   ]
  },
  {
   "cell_type": "code",
   "execution_count": 35,
   "metadata": {},
   "outputs": [],
   "source": [
    "rectangle_points_laefer.to_pickle(\"../../Data/parking_lot/rectangle_points_laefer.pkl\")\n",
    "rectangle_points_nyc.to_pickle(\"../../Data/parking_lot/rectangle_points_nyc.pkl\")"
   ]
  },
  {
   "cell_type": "code",
   "execution_count": null,
   "metadata": {},
   "outputs": [],
   "source": [
    "# Parking Lot\n",
    "pt_x = 977037.343\n",
    "pt_y = 174586.034\n",
    "feet_from_pt = 5\n",
    "# square_points_laefer = grab_points(pt_files,file_dir,pt_x,pt_y,feet_from_pt)\n",
    "# Remove 3-point flight 200024\n",
    "# square_points_laefer = square_points_laefer[square_points_laefer['flight_id']!='200024']\n",
    "square_points_nyc = grab_points(nyc_pt_file,nyc_file_dir,pt_x,pt_y,feet_from_pt)"
   ]
  },
  {
   "cell_type": "code",
   "execution_count": null,
   "metadata": {},
   "outputs": [],
   "source": [
    "# Fit a plane to each flight in laefer and nyc, and one overall plane\n",
    "total_plane_norm,total_points = plane_fit(square_points_laefer)[:2]\n",
    "nyc_plane_norm,nyc_points = plane_fit(square_points_nyc)[:2]\n",
    "flight_ids = square_points_laefer['flight_id'].unique()\n",
    "flight_plane_norms_dict ={}\n",
    "for flight_id in flight_ids:\n",
    "    flight_plane_norms_dict[flight_id] = plane_fit(square_points_laefer[square_points_laefer['flight_id']==flight_id])[:2]"
   ]
  },
  {
   "cell_type": "code",
   "execution_count": null,
   "metadata": {},
   "outputs": [],
   "source": [
    "# Compare the normal vectors...cosine similarity?\n",
    "# Dataframe of the cosine similarities\n",
    "cosine_simarlity_df = pd.DataFrame(index = flight_ids,columns = flight_ids,dtype=float)\n",
    "for flight_id_ix in flight_ids:\n",
    "    for flight_id_col in flight_ids:\n",
    "        cosine_simarlity_df.loc[flight_id_ix,flight_id_col] = float(flight_plane_norms_dict[flight_id_ix][0]@ \\\n",
    "                                                              flight_plane_norms_dict[flight_id_col][0])\n"
   ]
  },
  {
   "cell_type": "code",
   "execution_count": null,
   "metadata": {},
   "outputs": [],
   "source": [
    "sns.heatmap(cosine_simarlity_df)"
   ]
  },
  {
   "cell_type": "code",
   "execution_count": null,
   "metadata": {},
   "outputs": [],
   "source": [
    "# Calculate avg pt distance from flight plane and overall plane for each flight\n",
    "\n",
    "square_points_laefer['dist_from_total_plane'] = np.array([np.dot(point,np.array([0,0,1])) for point in total_points])\n",
    "square_points_nyc['dist_from_total_plane'] = np.array([np.dot(point,np.array([0,0,1])) for point in nyc_points])\n",
    "# Compare whole process to splitting the points randomly instead of by flight"
   ]
  },
  {
   "cell_type": "code",
   "execution_count": null,
   "metadata": {},
   "outputs": [],
   "source": [
    "print(\"Mean point distance from plane (laefer): {:2.4f}\".format(abs(square_points_laefer['dist_from_total_plane']).mean()))\n",
    "print(\"Mean point distance from plane (nyc): {:2.4f}\".format(abs(square_points_nyc['dist_from_total_plane']).mean()))"
   ]
  },
  {
   "cell_type": "code",
   "execution_count": null,
   "metadata": {},
   "outputs": [],
   "source": []
  },
  {
   "cell_type": "code",
   "execution_count": null,
   "metadata": {},
   "outputs": [],
   "source": []
  },
  {
   "cell_type": "code",
   "execution_count": null,
   "metadata": {},
   "outputs": [],
   "source": []
  },
  {
   "cell_type": "markdown",
   "metadata": {},
   "source": [
    "## Vertical density\n",
    "Identifying point at corner of building to quantify the vertical point density.  \n",
    "Center point: \t40.645854, \t-74.025299  \n",
    "Easting - 977229.375  \n",
    "Northing - 174579.42"
   ]
  },
  {
   "cell_type": "markdown",
   "metadata": {},
   "source": [
    "#### Laefer data"
   ]
  },
  {
   "cell_type": "code",
   "execution_count": null,
   "metadata": {},
   "outputs": [],
   "source": [
    "# Corner of building\n",
    "pt_x_bldg = 977222.375\n",
    "pt_y_bldg = 174577.42\n",
    "feet_from_pt = 20\n",
    "\n",
    "square_points_bldg = grab_points(pt_files,file_dir,pt_x_bldg,pt_y_bldg,feet_from_pt)\n",
    "\n",
    "# Remove one bad point if present in dataset\n",
    "if square_points_bldg['z_scaled'].min() < -50:\n",
    "    bad_point_ix = square_points_bldg['z_scaled'].argmin()\n",
    "    square_points_bldg = square_points_bldg.drop(bad_point_ix,axis=0)\n",
    "square_points_bldg,min_list = prep_square_for_plotting(square_points_bldg)"
   ]
  },
  {
   "cell_type": "markdown",
   "metadata": {},
   "source": [
    "#### NYC data"
   ]
  },
  {
   "cell_type": "code",
   "execution_count": null,
   "metadata": {},
   "outputs": [],
   "source": [
    "# Access the NYC header file\n",
    "#inFile = File(nyc_file_dir+'975172.las', mode='r')\n",
    "\n",
    "# Extract points within a square around the desired point\n",
    "# Use pt_[]_bldg and feet_from_pt from previous cell\n",
    "\n",
    "nyc_file_dir = '../../Data/NYC_topo/'\n",
    "nyc_pt_file = ['las_points_NYC_975172.lz']\n",
    "square_points_nyc = grab_points(nyc_pt_file,nyc_file_dir,pt_x_bldg,pt_y_bldg,feet_from_pt)\n",
    "# Use same min's from previous so points line up.\n",
    "square_points_nyc,_ = prep_square_for_plotting(square_points_nyc,min_list) "
   ]
  },
  {
   "cell_type": "markdown",
   "metadata": {},
   "source": [
    "#### 3D Plots"
   ]
  },
  {
   "cell_type": "code",
   "execution_count": null,
   "metadata": {},
   "outputs": [],
   "source": [
    "fig = px.scatter_3d(square_points_bldg, x='x_plot', y='y_plot', z='z_plot',\n",
    "              size='size_num',size_max = 12)\n",
    "\n",
    "fig.update_layout( \n",
    "    scene = dict(xaxis = dict(title=\"Easting (feet)\"),\n",
    "                 yaxis = dict(title=\"Northing (feet)\"),\n",
    "                 zaxis = dict(title=\"Vertical (feet)\"),\n",
    "                ),\n",
    "    width=900,\n",
    "    height=900,\n",
    "    margin=dict(r=20, l=10, b=10, t=10),\n",
    "    showlegend=False,\n",
    "    )\n",
    "fig.show()"
   ]
  },
  {
   "cell_type": "code",
   "execution_count": null,
   "metadata": {
    "scrolled": false
   },
   "outputs": [],
   "source": [
    "fig = px.scatter_3d(square_points_nyc, x='x_plot', y='y_plot', z='z_plot',\n",
    "              size='size_num',size_max = 12)\n",
    "\n",
    "fig.update_layout( \n",
    "    scene = dict(xaxis = dict(title=\"Easting (feet)\"),\n",
    "                 yaxis = dict(title=\"Northing (feet)\"),\n",
    "                 zaxis = dict(title=\"Vertical (feet)\"),\n",
    "                ),\n",
    "    width=900,\n",
    "    height=900,\n",
    "    margin=dict(r=20, l=10, b=10, t=10),\n",
    "    showlegend=False,\n",
    "    )\n",
    "fig.show()"
   ]
  },
  {
   "cell_type": "markdown",
   "metadata": {},
   "source": [
    "#### Extract the wall face, find normal vector, calculate vertical density"
   ]
  },
  {
   "cell_type": "code",
   "execution_count": null,
   "metadata": {},
   "outputs": [],
   "source": [
    "pt_1 = np.array([37.7,10.04])\n",
    "pt_2 = np.array([27.094,18.439])\n",
    "wall_pt = (31.77,14.90,43.00)\n",
    "\n",
    "# East? Facing Wall (farther from the little stump)\n",
    "# pt_1 = np.array([20.59,15.02])\n",
    "# pt_2 = np.array([10.34,2.93])\n",
    "# wall_pt = (19.414,12.379,73.863)\n",
    "\n",
    "wall_face = grab_wall_face(square_points_bldg,pt_1,pt_2,20,100,1e-2)\n",
    "wall_face_nyc = grab_wall_face(square_points_nyc,pt_1,pt_2,20,100,5e-2)"
   ]
  },
  {
   "cell_type": "code",
   "execution_count": null,
   "metadata": {
    "scrolled": true
   },
   "outputs": [],
   "source": [
    "wall_face.shape"
   ]
  },
  {
   "cell_type": "code",
   "execution_count": null,
   "metadata": {},
   "outputs": [],
   "source": [
    "wall_face_nyc.shape"
   ]
  },
  {
   "cell_type": "code",
   "execution_count": null,
   "metadata": {},
   "outputs": [],
   "source": [
    "norm_vector,points,wall_face,pts_on_plane = plane_fit(wall_face)"
   ]
  },
  {
   "cell_type": "code",
   "execution_count": null,
   "metadata": {},
   "outputs": [],
   "source": [
    "print(norm_vector)\n",
    "print(norm_vector_nyc)"
   ]
  },
  {
   "cell_type": "code",
   "execution_count": null,
   "metadata": {},
   "outputs": [],
   "source": [
    "norm_vector_nyc,points,wall_face_nyc,pts_on_plane_nyc = plane_fit(wall_face)"
   ]
  },
  {
   "cell_type": "code",
   "execution_count": null,
   "metadata": {},
   "outputs": [],
   "source": [
    "fig = px.scatter_3d(wall_face, x='x_plot', y='y_plot', z='z_plot',\n",
    "              color='flight_id',size='size_num',size_max = 12)\n",
    "\n",
    "fig.update_layout( \n",
    "    scene = dict(xaxis = dict(title=\"Easting (feet)\"),\n",
    "                 yaxis = dict(title=\"Northing (feet)\"),\n",
    "                 zaxis = dict(title=\"Vertical (feet)\"),\n",
    "                ),\n",
    "    width=900,\n",
    "    height=900,\n",
    "    margin=dict(r=20, l=10, b=10, t=10),\n",
    "    showlegend=False,\n",
    "    )\n",
    "fig.show()"
   ]
  },
  {
   "cell_type": "code",
   "execution_count": null,
   "metadata": {},
   "outputs": [],
   "source": [
    "# Point in middle of wall - in xyz_plot coordinates (less the min of each coordinate)\n",
    "# It's best to highlight a point in the plot above and use that.\n",
    "\n",
    "feet_from_pt = 3"
   ]
  },
  {
   "cell_type": "code",
   "execution_count": null,
   "metadata": {},
   "outputs": [],
   "source": [
    "# Calculate density for both datasets   \n",
    "vertical_point_density(square_points_nyc,norm_vector_nyc,wall_pt,feet_from_pt)\n",
    "vertical_point_density(square_points_bldg,norm_vector,wall_pt,feet_from_pt)"
   ]
  },
  {
   "cell_type": "code",
   "execution_count": null,
   "metadata": {
    "scrolled": false
   },
   "outputs": [],
   "source": [
    "fig = px.scatter_3d(vertical_square, x='x_plot', y='y_plot', z='z_plot',\n",
    "              color='flight_id', size='size_num',size_max = 8)\n",
    "\n",
    "fig.update_layout( \n",
    "    scene = dict(xaxis = dict(title=\"Easting (feet)\"),\n",
    "                 yaxis = dict(title=\"Northing (feet)\"),\n",
    "                 zaxis = dict(title=\"Vertical (feet)\"),\n",
    "                ),\n",
    "    width=900,\n",
    "    height=900,\n",
    "    margin=dict(r=20, l=10, b=10, t=10),\n",
    "    showlegend=False,\n",
    "    xaxis = {\"title\":{\"text\":\"Cat\"}})\n",
    "fig.show()"
   ]
  },
  {
   "cell_type": "markdown",
   "metadata": {},
   "source": [
    "### Writing LAS file"
   ]
  },
  {
   "cell_type": "code",
   "execution_count": null,
   "metadata": {},
   "outputs": [],
   "source": [
    "# Write square_points_bldg to file\n",
    "inFile = File(file_dir+'10552_NYU_M2 - Scanner 1 - 190511_164039_1 - originalpoints.laz', mode='r')\n",
    "# Convert DF into tuples that laspy wants\n",
    "void = [(tuple(r[columns_point_cloud]),) for i,r in square_points_laefer.iterrows()]\n",
    "# Export\n",
    "outFile1 = File(\"../../Data/parking_lot/flat_parking_lot_laefer.las\", mode = \"w\",header = inFile.header)\n",
    "outFile1.points = void\n",
    "outFile1.close()"
   ]
  },
  {
   "cell_type": "code",
   "execution_count": null,
   "metadata": {},
   "outputs": [],
   "source": [
    "# NYC data\n",
    "# Write square_points_bldg to file\n",
    "inFile_nyc = File(nyc_file_dir+'975172.las', mode='r')\n",
    "# Convert DF into tuples that laspy wants\n",
    "void = [(tuple(r[columns_point_cloud]),) for i,r in square_points_nyc.iterrows()]\n",
    "# Export\n",
    "outFile1 = File(\"../../Data/parking_lot/flat_parking_lot_nyc.las\", mode = \"w\",header = inFile.header)\n",
    "outFile1.points = void\n",
    "outFile1.close()"
   ]
  },
  {
   "cell_type": "markdown",
   "metadata": {},
   "source": [
    "## Plotting charts from previous updates"
   ]
  },
  {
   "cell_type": "code",
   "execution_count": null,
   "metadata": {},
   "outputs": [],
   "source": [
    "norm_vector,points,square_points,_ = plane_fit(square_points)\n",
    "\n",
    "# Add distance from flat plane with norm (x,y,z) = (0,0,1)\n",
    "square_points['dist_from_flat']=np.array([np.dot(point,np.array([0,0,1])) for point in points])\n",
    "\n",
    "# remove data points >5 feet below plane.\n",
    "outliers = square_points[square_points['dist_from_plane']<-5].index\n",
    "square_points = square_points.drop(outliers)"
   ]
  },
  {
   "cell_type": "code",
   "execution_count": null,
   "metadata": {},
   "outputs": [],
   "source": [
    "def plot_scan_angle_dist_from_plane(df,distance_metric):\n",
    "    x = abs(df['scan_angle'])*.006\n",
    "    y = df[distance_metric]\n",
    "    plt.figure(figsize=(15,15))\n",
    "    plt.plot(x,y,'xb')\n",
    "    z = np.polyfit(x, y, 1)\n",
    "    p = np.poly1d(z)\n",
    "    plt.plot(x,p(x),\"r--\")\n",
    "    plt.xlabel(\"Scan angle (degrees)\")\n",
    "    plt.ylabel(\"Point distance from plane\")\n",
    "    print(\"y={:2.8f}x+{:2.8f}\".format(z[0],z[1]))\n",
    "    plt.title(\"Scan Angle vs Distance to Fitted Plane\")\n",
    "plot_scan_angle_dist_from_plane(square_points,'dist_from_plane')"
   ]
  },
  {
   "cell_type": "code",
   "execution_count": null,
   "metadata": {},
   "outputs": [],
   "source": [
    "plt.plot(range(len(square_points)),square_points['scan_angle'],'x')"
   ]
  },
  {
   "cell_type": "code",
   "execution_count": null,
   "metadata": {},
   "outputs": [],
   "source": [
    "plot_scan_angle_dist_from_plane(square_points,'dist_from_flat')"
   ]
  },
  {
   "cell_type": "code",
   "execution_count": null,
   "metadata": {},
   "outputs": [],
   "source": [
    "# Chart from slides showing points per run\n",
    "labels = [pt[0][11:-4] for pt in pts_from_scan]\n",
    "num_points = [pt[1]+.01 for pt in pts_from_scan]\n",
    "plt.figure(figsize=(25,20))\n",
    "plt.bar(labels,num_points,)\n",
    "plt.xticks(rotation=45,fontsize=20)\n",
    "plt.yticks(np.arange(0, max(num_points), step=(max(num_points)/10)),fontsize=20)\n",
    "plt.ylabel(\"Number of points from run\",fontsize=20)\n",
    "plt.xlabel(\"Run ID\",fontsize=20)"
   ]
  },
  {
   "cell_type": "code",
   "execution_count": null,
   "metadata": {},
   "outputs": [],
   "source": []
  }
 ],
 "metadata": {
  "kernelspec": {
   "display_name": "Python 3",
   "language": "python",
   "name": "python3"
  },
  "language_info": {
   "codemirror_mode": {
    "name": "ipython",
    "version": 3
   },
   "file_extension": ".py",
   "mimetype": "text/x-python",
   "name": "python",
   "nbconvert_exporter": "python",
   "pygments_lexer": "ipython3",
   "version": "3.6.9"
  }
 },
 "nbformat": 4,
 "nbformat_minor": 2
}
