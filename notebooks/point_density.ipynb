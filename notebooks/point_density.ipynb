{
 "cells": [
  {
   "cell_type": "code",
   "execution_count": null,
   "metadata": {},
   "outputs": [],
   "source": [
    "import numpy as np\n",
    "import pandas as pd\n",
    "from scipy import stats\n",
    "from laspy.file import File\n",
    "import matplotlib.pyplot as plt\n",
    "from mpl_toolkits import mplot3d\n",
    "import plotly.graph_objects as go\n",
    "import plotly.express as px\n",
    "import seaborn as sns\n",
    "\n",
    "import sys\n",
    "\n",
    "sys.path.insert(0,'..')\n",
    "from point_density_functions import *\n",
    "%load_ext autoreload\n",
    "%matplotlib notebook"
   ]
  },
  {
   "cell_type": "code",
   "execution_count": null,
   "metadata": {},
   "outputs": [],
   "source": [
    "file_dir = '../../Data/parking_lot/'\n",
    "\n",
    "filenames =list(pd.read_csv(file_dir+\"filenames.txt\",header=None)[0])\n",
    "pt_files = list(pd.read_csv(file_dir+\"pt_files.txt\",header=None)[0])\n",
    "\n",
    "nyc_file_dir = '../../Data/NYC_topo/'\n",
    "nyc_pt_file = ['las_points_NYC_flightid_975172.lz']\n",
    "\n",
    "# Corresponds to LAS 1.2 Point Data Record Format 1\n",
    "columns_dublin_pt_cloud = [\n",
    "    'X',\n",
    "    'Y',\n",
    "    'Z',\n",
    "    'intensity',\n",
    "    'return_number_byte',\n",
    "    'classification_byte',\n",
    "    'scan_angle',\n",
    "    'user_data',\n",
    "    'pt_src_id',\n",
    "    'gps_time']\n",
    "\n",
    "columns_point_cloud = [\n",
    "    'X','Y','Z',\n",
    "    'intensity',\n",
    "    'flag_byte',\n",
    "    'classification_flags',\n",
    "    'classification_byte',\n",
    "    'user_data',\n",
    "    'scan_angle',\n",
    "    'pt_src_id',\n",
    "    'gps_time']"
   ]
  },
  {
   "cell_type": "code",
   "execution_count": null,
   "metadata": {
    "scrolled": true
   },
   "outputs": [],
   "source": [
    "# Extract points within a square around the desired point\n",
    "\n",
    "# Parking Lot\n",
    "# pt_x = 977037.343\n",
    "# pt_y = 174586.034\n",
    "\n",
    "# Corner of building\n",
    "# pt_x_bldg = 977229.375\n",
    "# pt_y_bldg = 174579.42\n",
    "\n",
    "# Top of building\n",
    "# pt_x = 977229.375\n",
    "# pt_y = 174579.42\n",
    "\n",
    "# Projects in back parking lot\n",
    "# pt_x = 977458.238\n",
    "# pt_y = 173302.388\n",
    "\n",
    "# Solar panel\n",
    "# pt_x = 977682.975\n",
    "# pt_y = 174148.192"
   ]
  },
  {
   "cell_type": "code",
   "execution_count": null,
   "metadata": {},
   "outputs": [],
   "source": [
    "# This works\n",
    "# for filename in filenames:\n",
    "#     create_df_hd5(file_dir,filename,columns_point_cloud)"
   ]
  },
  {
   "cell_type": "markdown",
   "metadata": {},
   "source": [
    "## Flat surface\n",
    "Identifying points in a parking lot to assess how consistently flat they are.  \n",
    "Center point: 40.645789, -74.025951  \n",
    "Easting - 977048.434  \n",
    "Northing - 174555.792"
   ]
  },
  {
   "cell_type": "markdown",
   "metadata": {},
   "source": [
    "### Point density - waterside parking lot"
   ]
  },
  {
   "cell_type": "code",
   "execution_count": null,
   "metadata": {
    "scrolled": true
   },
   "outputs": [],
   "source": [
    "# Big parking lot rectangle\n",
    "def rectangle(pt1,pt2,y_length,x_length):\n",
    "    '''\n",
    "    Function returns uv_inv and w, for use in selecting points within the rectangle\n",
    "    Note: This function only works in 2D (horizontal plane)\n",
    "    Inputs:\n",
    "    pt1 - 2x1 numpy array with x and y coordinate for bottom point\n",
    "    pt2 - 2xy numpy array with x and y coordinate for top point\n",
    "    y_length - bottom-to-top length (positive is in direction of top from bottom point)\n",
    "    x_length - left-to-right length (positive means pts are on left border, negative means they're on right)\n",
    "    Outputs:\n",
    "    uv_inv: 2xy numpy array - u and v are the sides of the rectangle.  uv = [u v] is a matrix with u and v as columns.\n",
    "    w: 2x1 numpy array with (x,y) coordinates of reference (bottom) point.\n",
    "    \n",
    "    Reference: https://math.stackexchange.com/questions/190111/how-to-check-if-a-point-is-inside-a-rectangle\n",
    "    '''\n",
    "    unit_u = (pt2 - pt1)/np.linalg.norm(pt2-pt1)\n",
    "    unit_v = np.array([unit_u[1],-1*unit_u[0]])\n",
    "    u = unit_u*y_length\n",
    "    v = unit_v*x_length\n",
    "    uv = np.array([u,v]).T\n",
    "    uv_inv = np.linalg.inv(uv)\n",
    "    w = pt1\n",
    "    return uv_inv,w\n",
    "\n",
    "pt1 = np.array([976600.43, 173886.11,0])\n",
    "pt2 = np.array([976774.81, 174083.03,0])\n",
    "pt3 = np.array([976606.419, 173880.806,0]) # Backed into from previous 2D v calculation\n",
    "uv_inv,w = rectangle(pt1[:2],pt2[:2],800,-80)\n",
    "\n",
    "\n",
    "#rectangle_points_laefer = grab_points_big_rect(pt_files,file_dir,uv_inv,w)\n",
    "#rectangle_points_nyc = grab_points_big_rect(nyc_pt_file,nyc_file_dir,uv_inv,w)"
   ]
  },
  {
   "cell_type": "code",
   "execution_count": null,
   "metadata": {},
   "outputs": [],
   "source": [
    "# Load the pre-pickled DF's\n",
    "rectangle_points_laefer = pd.read_pickle(file_dir+\"rectangle_points_laefer.pkl\")\n",
    "rectangle_points_nyc = pd.read_pickle(file_dir+\"rectangle_points_nyc.pkl\")"
   ]
  },
  {
   "cell_type": "code",
   "execution_count": null,
   "metadata": {},
   "outputs": [],
   "source": [
    "# Remove outliers and print the count: z < 0, z > 30\n",
    "def remove_vertical_outliers(rectangle_points,z_low,z_high):\n",
    "    outliers = rectangle_points[(rectangle_points['z_scaled']<z_low) | (rectangle_points['z_scaled']>z_high)].index\n",
    "    rectangle_points = rectangle_points.drop(outliers)\n",
    "    print(\"Number of outliers: {}\".format(len(outliers)))\n",
    "    return rectangle_points\n",
    "rectangle_points_laefer = remove_vertical_outliers(rectangle_points_laefer,0,30)\n",
    "rectangle_points_nyc = remove_vertical_outliers(rectangle_points_nyc,0,30)"
   ]
  },
  {
   "cell_type": "markdown",
   "metadata": {},
   "source": [
    "## Sampling squares and Statistics"
   ]
  },
  {
   "cell_type": "code",
   "execution_count": null,
   "metadata": {},
   "outputs": [],
   "source": [
    "def center_point_sample(num_points,\n",
    "                        bottom_left_pt,top_left_pt,bottom_right_pt=None,\n",
    "                        u_length=800,v_length=-80,\n",
    "                        border=[0.05,0.05]):\n",
    "    '''\n",
    "    Inputs:\n",
    "    bottom_left_pt - 3x1 numpy array with xyz coordinate \n",
    "    top_left_pt - 3x1 numpy array with xyz coordinate \n",
    "    bottom_right_pt - 3x1 numpy array with xyz coordinate\n",
    "    u_length - length in the u direction (bottom_left_pt -> top_left_pt)\n",
    "    v_length - length in the u direction (bottom_left_pt -> bottom_right_pt)\n",
    "    border - portion of unit square on each edge to avoid\n",
    "    \n",
    "    Output:\n",
    "    num_points x 2 numpy array of (x,y) values\n",
    "    '''\n",
    "    n_dim = len(bottom_left_pt)\n",
    "    \n",
    "    # 2-D case (xy plane)\n",
    "    if n_dim == 2:\n",
    "    # Calculate uv and w for use in translation\n",
    "        unit_u = (top_left_pt - bottom_left_pt)/np.linalg.norm(top_left_pt-bottom_left_pt)\n",
    "        unit_v = np.array([unit_u[1],-1*unit_u[0]])\n",
    "        u = unit_u*u_length\n",
    "        v = unit_v*v_length\n",
    "        print(\"V: \",v)\n",
    "        uv = np.array([u,v]).T\n",
    "        \n",
    "    if n_dim == 3:\n",
    "        unit_u = (top_left_pt - bottom_left_pt)/np.linalg.norm(top_left_pt-bottom_left_pt)\n",
    "        unit_v = (bottom_right_pt - bottom_left_pt)/np.linalg.norm(bottom_right_pt - bottom_left_pt)\n",
    "        u = unit_u*u_length\n",
    "        v = unit_v*v_length\n",
    "        uv = np.array([u,v]).T # Why the transpose?\n",
    "            \n",
    "    w = bottom_left_pt\n",
    "    # Select random point on unit square within border\n",
    "    border = np.array(border)\n",
    "    square_side = np.array([1 - (2*border[0]),1 - (2*border[1])])\n",
    "    st = border.reshape(2,1) + square_side.reshape(2,1)*np.random.rand(2,num_points)\n",
    "#     if n_dim ==3:\n",
    "#         st = np.concatenate((st,np.zeros(num_points).reshape(1,num_points)),axis=1)\n",
    "    return (uv @ st + w.reshape((n_dim,1))).T\n",
    "\n",
    "def in_square(rectangle_points,center_point,feet_from_point):\n",
    "    '''\n",
    "    Filters dataframe for points less than feet_from_point from center_point\n",
    "    Inputs:\n",
    "    rectangle_points - (n x 3+) dataframe with fields x_scaled, y_scaled, and z_scaled\n",
    "    center_point - 2x1 (x,y) point within rectangle\n",
    "    feet_from_point - scalar\n",
    "    \n",
    "    Output:\n",
    "    square_points - (n x 3+) filtered dataframe\n",
    "    '''\n",
    "    square_points = rectangle_points[ (rectangle_points['x_scaled'] < center_point[0] + feet_from_point)\n",
    "            &(rectangle_points['x_scaled'] > center_point[0] - feet_from_point) \n",
    "            &(rectangle_points['y_scaled'] < center_point[1] + feet_from_point)\n",
    "            &(rectangle_points['y_scaled'] > center_point[1] - feet_from_point)\n",
    "          ]\n",
    "    return square_points\n",
    "\n",
    "# feet_from_point = 3\n",
    "# center_points = center_point_sample(100,pt1,pt2,pt3,u_length=800,v_length=-80,border=0.05)\n",
    "# center_points = center_point_sample(100,pt1[:2],pt2[:2],u_length=800,v_length=-80,border=0.05)"
   ]
  },
  {
   "cell_type": "code",
   "execution_count": null,
   "metadata": {},
   "outputs": [],
   "source": [
    "class FlightPath(object):\n",
    "    '''\n",
    "    FlightPath is an object that stores data about a single flight path for a given sample square.\n",
    "    \n",
    "    Attributes:\n",
    "    flight_id - integer identifier of the flight (typically 0-40)\n",
    "    norm_vector - 3x1 numpy array of the xyz coordinates of the norm vector\n",
    "    avg_dist_from_plane - scalar average distance from fitted plane (fitted over all flight paths)\n",
    "        for all points in the flight path\n",
    "    \n",
    "    '''\n",
    "    def __init__(self,flight_id,norm_vector,avg_dist_from_plane=None):\n",
    "        self.flight_id = flight_id\n",
    "        self.norm_vector = norm_vector\n",
    "        self.avg_dist_from_plane = avg_dist_from_plane\n",
    "    \n",
    "    def sd_dist_from_plane(self,square_points):\n",
    "        self.sd_dist = np.std(square_points['dist_from_plane'])\n",
    "\n",
    "class SampleSquare(object):\n",
    "    '''\n",
    "    Object to store all statistics for one sample square.\n",
    "    \n",
    "    Attributes:\n",
    "    x,y - scalar coordinates of center point defining the square\n",
    "    feet_from_point - scalar 1/2 length of one side of square\n",
    "    nyc_/laefer_ flight_list - list of FlightPath objects from nyc or laefer dataset\n",
    "    delta_h_matrix - k x k numpy array, where k is the number of flight paths and the entries are the difference\n",
    "        in avg. point distance from the plane fit to the total point cloud \n",
    "    cosine_sim_matrix = k x k numpy array, where k is the number of flight paths and the entries are \n",
    "    cosine similarities between their normal vectors.\n",
    "    '''\n",
    "    def __init__(self, flight_list_laefer, flight_list_nyc ,x=None, y=None, feet_from_point=None):\n",
    "        self.x = x\n",
    "        self.y = y\n",
    "        self.feet_from_point = feet_from_point\n",
    "        self.flight_list_laefer = flight_list_laefer\n",
    "        self.flight_list_nyc = flight_list_nyc\n",
    "        self.delta_h_matrix_nyc = self.delta_h_internal(self.flight_list_nyc)\n",
    "        self.delta_h_matrix_laefer = self.delta_h_internal(self.flight_list_laefer)\n",
    "        self.cosine_sim_matrix_nyc = self.cosine_sim_internal(self.flight_list_nyc)\n",
    "        self.cosine_sim_matrix_laefer = self.cosine_sim_internal(self.flight_list_laefer)\n",
    "\n",
    "        self.phi_nyc_total = self.phi_internal(self.flight_list_nyc,sample=False)\n",
    "        self.phi_laefer_total = self.phi_internal(self.flight_list_laefer,sample=False)\n",
    "        self.phi_nyc_sample = self.phi_internal(self.flight_list_nyc,sample=True)\n",
    "        self.phi_laefer_sample = self.phi_internal(self.flight_list_laefer,sample=True)\n",
    "\n",
    "        \n",
    "    def delta_h_internal(self,flight_list):\n",
    "        # Calculates difference in avg dist from plane for all flight path pairs, returns a matrix\n",
    "        delta_h_matrix = np.zeros((len(flight_list)-2,len(flight_list)-2))\n",
    "        for i,flight_i in enumerate(flight_list[2:]): # Skip total and sampled\n",
    "            for j,flight_j in enumerate(flight_list[2:]): # Skip total and sampled\n",
    "                delta_h_matrix[i,j] = abs(flight_i.avg_dist_from_plane - flight_j.avg_dist_from_plane)\n",
    "        return delta_h_matrix\n",
    "\n",
    "    def cosine_sim_internal(self,flight_list):\n",
    "        # Calculates cosine similarity for normal vectors of all flight path pairs, returns a matrix\n",
    "        cosine_sim_matrix = np.zeros((len(flight_list)-2,len(flight_list)-2))\n",
    "        for i,flight_i in enumerate(flight_list[2:]): # Skip total and sampled\n",
    "            for j,flight_j in enumerate(flight_list[2:]): # Skip total and sampled\n",
    "                delta_h_matrix[i,j] = flight_i.norm_vector @ flight_j.norm_vector\n",
    "        return delta_h_matrix\n",
    "    \n",
    "    def phi_internal(self,flight_list,sample=False):\n",
    "        avg_flight_paths = np.mean([flight.sd_dist for flight in flight_list[2:]])\n",
    "        if sample:\n",
    "            phi = flight_list[1].sd_dist / avg_flight_paths\n",
    "        else:\n",
    "            phi = flight_list[0].sd_dist / avg_flight_paths\n",
    "        return phi"
   ]
  },
  {
   "cell_type": "code",
   "execution_count": null,
   "metadata": {},
   "outputs": [],
   "source": [
    "def create_flight_list(square_points):\n",
    "    '''\n",
    "    flight_list creates a list of FlightPath objects, \n",
    "    1 for each unique flight_id plus 2 more (total and total_sampled).\n",
    "    FlightPath object contains flight_id, norm_vector, std deviation of point distance from fitted plane.\n",
    "    flight_id = -100: Full dataset\n",
    "    flight_id = -200: Full dataset, sampled to the avg number of points in a single flight path\n",
    "    \n",
    "    Input:\n",
    "    square_points: Dataframe for the square-around-a-point, including x_scaled,y_scaled, and z_scaled\n",
    "    \n",
    "    Output:\n",
    "    flight_list (described above)\n",
    "    '''\n",
    "    \n",
    "    # fit a plane for each flight\n",
    "    flight_list = []\n",
    "\n",
    "    # Full dataset\n",
    "    norm_vector,_,square_points_total,_ = plane_fit(square_points)\n",
    "    flightpath = FlightPath(-100,norm_vector)\n",
    "    flightpath.sd_dist_from_plane(square_points_total)\n",
    "    flight_list.append(flightpath)\n",
    "\n",
    "    # Full dataset, sampled down\n",
    "    flight_count = len(square_points['flight_id'].unique())\n",
    "    density = square_points.shape[0] / flight_count\n",
    "    square_points_sampled = square_points.sample(n=int(density))\n",
    "\n",
    "    norm_vector,_,square_points_sample,_ = plane_fit(square_points_sampled)\n",
    "    flightpath = FlightPath(-200,norm_vector)\n",
    "    flightpath.sd_dist_from_plane(square_points_sampled)\n",
    "    flight_list.append(flightpath)\n",
    "\n",
    "\n",
    "    for flight_id in square_points['flight_id'].unique():\n",
    "        # Avg distance from total point cloud plane - filtering square_points_total\n",
    "        avg_dist_from_plane = square_points_total[square_points_total['flight_id']==flight_id]['dist_from_plane'].mean()\n",
    "\n",
    "        norm_vector,_,square_points_flight,_ = plane_fit( \\\n",
    "                                               square_points[square_points['flight_id']==flight_id])\n",
    "        flightpath = FlightPath(flight_id,norm_vector,avg_dist_from_plane)\n",
    "        flightpath.sd_dist_from_plane(square_points_flight)\n",
    "        flight_list.append(flightpath)       \n",
    "        \n",
    "    return flight_list"
   ]
  },
  {
   "cell_type": "code",
   "execution_count": null,
   "metadata": {},
   "outputs": [],
   "source": [
    "# Aggregators\n",
    "pt_density_nyc_list, pt_density_laefer_list = [],[]\n",
    "avg_height_diff = []\n",
    "sd_height_nyc, sd_height_laefer = [],[]\n",
    "pts_thrown_out = 0\n",
    "SampleFlightList = []\n",
    "for center_point in center_points:\n",
    "    square_points_nyc = in_square(rectangle_points_nyc,center_point[:2],feet_from_point)\n",
    "    square_points_laefer = in_square(rectangle_points_laefer,center_point[:2],feet_from_point)\n",
    "    \n",
    "    laefer_flight_count = len(square_points_laefer['flight_id'].unique())\n",
    "    nyc_flight_count = len(square_points_nyc['flight_id'].unique())\n",
    "    laefer_density = square_points_laefer.shape[0] / laefer_flight_count\n",
    "    nyc_density = square_points_nyc.shape[0]/nyc_flight_count\n",
    "                            \n",
    "#     print(\"Laefer: \\n\"+\"*\"*30)\n",
    "#     print(\"Total points: {}\".format(square_points_laefer.shape[0]))\n",
    "#     print(\"Number of flights: {}\".format(laefer_flight_count))\n",
    "#     print(\"Points per flight: {}\".format(laefer_density))\n",
    "#     print(\"NYC: \\n\"+\"*\"*30)\n",
    "#     print(\"Total points (NYC): {}\".format(square_points_nyc.shape[0]))\n",
    "#     print(\"Number of flights (NYC): {}\".format(nyc_flight_count))\n",
    "#     print(\"Points per flight: {}\".format(nyc_density))    \n",
    "\n",
    "    # If z_max > 10, <6 for either dataset, skip it\n",
    "    if (square_points_nyc['z_scaled'].max()<10) & (square_points_nyc['z_scaled'].min()>6) & \\\n",
    "       (square_points_laefer['z_scaled'].max()<10) & (square_points_laefer['z_scaled'].min()>6):\n",
    "        # Statistics!\n",
    "                \n",
    "        # Point density\n",
    "        num_points_nyc = square_points_nyc.shape[0]\n",
    "        pt_density_nyc_list.append(num_points_nyc / (4 * feet_from_point**2))        \n",
    "        num_points_laefer = square_points_laefer.shape[0]\n",
    "        pt_density_laefer_list.append(num_points_laefer / (4 * feet_from_point**2))        \n",
    "\n",
    "        # Fit a plane\n",
    "        norm_vector_nyc,_,square_points_nyc,_ = plane_fit(square_points_nyc)\n",
    "        norm_vector_laefer,_,square_points_laefer,_ = plane_fit(square_points_laefer)\n",
    "\n",
    "        # Flight path specifics\n",
    "        laefer_flight_list = create_flight_list(square_points_laefer)\n",
    "        nyc_flight_list = create_flight_list(square_points_nyc)\n",
    "        ss = SampleSquare(laefer_flight_list, nyc_flight_list, x = center_point[0], \\\n",
    "                          y=center_point[1],feet_from_point=feet_from_point)\n",
    "        SampleFlightList.append(ss)\n",
    "        \n",
    "    else:\n",
    "        pts_thrown_out +=1"
   ]
  },
  {
   "cell_type": "code",
   "execution_count": null,
   "metadata": {},
   "outputs": [],
   "source": [
    "sd_laefer_total = np.mean([ss.flight_list_laefer[0].sd_dist for ss in SampleFlightList])\n",
    "sd_laefer_sample = np.mean([ss.flight_list_laefer[1].sd_dist for ss in SampleFlightList])\n",
    "\n",
    "phis_laefer_total = [ss.phi_laefer_total for ss in SampleFlightList]\n",
    "phis_laefer_sample = [ss.phi_laefer_sample for ss in SampleFlightList]\n",
    "\n",
    "print(\"Laefer: \\n\"+\"*\"*30)\n",
    "print(\"SD total: {:2.4f}\".format(sd_laefer_total))\n",
    "print(\"SD sample: {:2.4f}\".format(sd_laefer_sample))\n",
    "print(\"mean of phi_total: {:2.4f}\".format(np.mean(phis_laefer_total)))\n",
    "print(\"SD of phi_total:   {:2.4f}\".format(np.std(phis_laefer_total)))\n",
    "print(\"mean of phi_sample: {:2.4f}\".format(np.mean(phis_laefer_sample)))\n",
    "print(\"SD of phi_sample:   {:2.4f}\".format(np.std(phis_laefer_sample)))\n",
    "\n",
    "phis_nyc_total = [ss.phi_nyc_total for ss in SampleFlightList]\n",
    "phis_nyc_sample = [ss.phi_nyc_sample for ss in SampleFlightList]\n",
    "\n",
    "sd_nyc_total = np.mean([ss.flight_list_nyc[0].sd_dist for ss in SampleFlightList])\n",
    "sd_nyc_sample = np.mean([ss.flight_list_nyc[1].sd_dist for ss in SampleFlightList])\n",
    "\n",
    "print(\"\\nNYC: \\n\"+\"*\"*30)\n",
    "print(\"SD total: {:2.4f}\".format(sd_nyc_total))\n",
    "print(\"SD sample: {:2.4f}\".format(sd_nyc_sample))\n",
    "print(\"mean of phi_total: {:2.4f}\".format(np.mean(phis_nyc_total)))\n",
    "print(\"SD of phi_total:   {:2.4f}\".format(np.std(phis_nyc_total)))\n",
    "print(\"mean of phi_sample: {:2.4f}\".format(np.mean(phis_nyc_sample)))\n",
    "print(\"SD of phi_sample:   {:2.4f}\".format(np.std(phis_nyc_sample)))"
   ]
  },
  {
   "cell_type": "code",
   "execution_count": null,
   "metadata": {},
   "outputs": [],
   "source": [
    "'''\n",
    "Laefer: \n",
    "******************************\n",
    "SD total: 0.0389\n",
    "SD sample: 0.0382\n",
    "mean of phi_total: 1.2279\n",
    "SD of phi_total:   0.1140\n",
    "mean of phi_sample: 1.2030\n",
    "SD of phi_sample:   0.2304\n",
    "\n",
    "NYC: \n",
    "******************************\n",
    "SD total: 0.0602\n",
    "SD sample: 0.0544\n",
    "mean of phi_total: 1.3172\n",
    "SD of phi_total:   0.2091\n",
    "mean of phi_sample: 1.2021\n",
    "SD of phi_sample:   0.3375\n",
    "'''"
   ]
  },
  {
   "cell_type": "code",
   "execution_count": null,
   "metadata": {},
   "outputs": [],
   "source": [
    "print(\"NYC avg density: {:2.4f} (SD: {:2.4f})\".format(np.mean(pt_density_nyc_list),np.std(pt_density_nyc_list)))\n",
    "print(\"Laefer avg density: {:2.4f} (SD: {:2.4f})\".format(np.mean(pt_density_laefer_list),np.std(pt_density_laefer_list)))\n",
    "print(\"Points thrown out: {} ({:2.2%})\".format(pts_thrown_out,pts_thrown_out/len(center_points)))"
   ]
  },
  {
   "cell_type": "code",
   "execution_count": null,
   "metadata": {},
   "outputs": [],
   "source": []
  },
  {
   "cell_type": "code",
   "execution_count": null,
   "metadata": {},
   "outputs": [],
   "source": [
    "# Pickle the points in the big rectangle\n",
    "#rectangle_points_laefer.to_pickle(\"../../Data/parking_lot/rectangle_points_laefer.pkl\")\n",
    "rectangle_points_nyc.to_pickle(\"../../Data/parking_lot/rectangle_points_nyc.pkl\")"
   ]
  },
  {
   "cell_type": "code",
   "execution_count": null,
   "metadata": {},
   "outputs": [],
   "source": [
    "# Parking Lot\n",
    "pt_x = 977037.343\n",
    "pt_y = 174586.034\n",
    "feet_from_pt = 5\n",
    "# square_points_laefer = grab_points(pt_files,file_dir,pt_x,pt_y,feet_from_pt)\n",
    "# Remove 3-point flight 200024\n",
    "# square_points_laefer = square_points_laefer[square_points_laefer['flight_id']!='200024']\n",
    "square_points_nyc = grab_points(nyc_pt_file,nyc_file_dir,pt_x,pt_y,feet_from_pt)"
   ]
  },
  {
   "cell_type": "code",
   "execution_count": null,
   "metadata": {},
   "outputs": [],
   "source": [
    "# Fit a plane to each flight in laefer and nyc, and one overall plane\n",
    "total_plane_norm,total_points = plane_fit(square_points_laefer)[:2]\n",
    "nyc_plane_norm,nyc_points = plane_fit(square_points_nyc)[:2]\n",
    "flight_ids = square_points_laefer['flight_id'].unique()\n",
    "flight_plane_norms_dict ={}\n",
    "for flight_id in flight_ids:\n",
    "    flight_plane_norms_dict[flight_id] = plane_fit(square_points_laefer[square_points_laefer['flight_id']==flight_id])[:2]"
   ]
  },
  {
   "cell_type": "code",
   "execution_count": null,
   "metadata": {},
   "outputs": [],
   "source": [
    "# Compare the normal vectors...cosine similarity?\n",
    "# Dataframe of the cosine similarities\n",
    "cosine_simarlity_df = pd.DataFrame(index = flight_ids,columns = flight_ids,dtype=float)\n",
    "for flight_id_ix in flight_ids:\n",
    "    for flight_id_col in flight_ids:\n",
    "        cosine_simarlity_df.loc[flight_id_ix,flight_id_col] = float(flight_plane_norms_dict[flight_id_ix][0]@ \\\n",
    "                                                              flight_plane_norms_dict[flight_id_col][0])\n"
   ]
  },
  {
   "cell_type": "code",
   "execution_count": null,
   "metadata": {},
   "outputs": [],
   "source": [
    "sns.heatmap(cosine_simarlity_df)"
   ]
  },
  {
   "cell_type": "code",
   "execution_count": null,
   "metadata": {},
   "outputs": [],
   "source": [
    "# Calculate avg pt distance from flight plane and overall plane for each flight\n",
    "\n",
    "square_points_laefer['dist_from_total_plane'] = np.array([np.dot(point,np.array([0,0,1])) for point in total_points])\n",
    "square_points_nyc['dist_from_total_plane'] = np.array([np.dot(point,np.array([0,0,1])) for point in nyc_points])\n",
    "# Compare whole process to splitting the points randomly instead of by flight"
   ]
  },
  {
   "cell_type": "code",
   "execution_count": null,
   "metadata": {},
   "outputs": [],
   "source": [
    "print(\"Mean point distance from plane (laefer): {:2.4f}\".format(abs(square_points_laefer['dist_from_total_plane']).mean()))\n",
    "print(\"Mean point distance from plane (nyc): {:2.4f}\".format(abs(square_points_nyc['dist_from_total_plane']).mean()))"
   ]
  },
  {
   "cell_type": "code",
   "execution_count": null,
   "metadata": {},
   "outputs": [],
   "source": []
  },
  {
   "cell_type": "code",
   "execution_count": null,
   "metadata": {},
   "outputs": [],
   "source": []
  },
  {
   "cell_type": "markdown",
   "metadata": {},
   "source": [
    "## Vertical density\n",
    "Identifying point at corner of building to quantify the vertical point density.  \n",
    "Center point: \t40.645854, \t-74.025299  \n",
    "Easting - 977229.375  \n",
    "Northing - 174579.42"
   ]
  },
  {
   "cell_type": "markdown",
   "metadata": {},
   "source": [
    "#### Laefer data"
   ]
  },
  {
   "cell_type": "code",
   "execution_count": null,
   "metadata": {
    "scrolled": true
   },
   "outputs": [],
   "source": [
    "%autoreload\n",
    "\n",
    "# Outer wall\n",
    "middle_pt = np.array([977223.71,174573.7,75.141])\n",
    "right_pt = np.array([977221.44, 174571.037, 68.44])\n",
    "left_pt = np.array([977226.47, 174577.23, 36.958])\n",
    "bottom_left_pt = np.array([977225.752, 174576.37, 26.393])\n",
    "top_left_pt = np.array([977225.752, 174576.37, 117.937])\n",
    "bottom_right_pt = np.array([977221.605,174571.074,26.393])\n",
    "feet_from_pt = 3.5\n",
    "\n",
    "# Other side of the windows\n",
    "# middle_pt = np.array([977214.86,174562.64,58.762])\n",
    "# right_pt = np.array([977213.577,174561.01,111.614])\n",
    "# left_pt = np.array([977217.294, 174565.64, 33.483])\n",
    "# feet_from_pt = 3.5\n",
    "\n",
    "# Extract from all files, the points within feet_from_pt in the xy-plane of the middle wall point\n",
    "# square_points_vertical_laefer = grab_points(pt_files,file_dir,middle_pt[0],middle_pt[1],feet_from_pt)\n",
    "# square_points_vertical_nyc = grab_points(nyc_pt_file,nyc_file_dir,middle_pt[0],middle_pt[1],feet_from_pt)\n",
    "\n",
    "# Calculate norm_vector from 3 points, to define plane and extract the wall face\n",
    "norm = np.cross(middle_pt - right_pt,(left_pt-right_pt))\n",
    "norm = norm / np.linalg.norm(norm)\n",
    "\n",
    "# Extract the wall face, above 15ft and below 120ft to avoid roof and grouund points\n",
    "wall_face_laefer = grab_wall_face(square_points_vertical_laefer,norm, middle_pt,27,120,1)\n",
    "wall_face_nyc = grab_wall_face(square_points_vertical_nyc,norm, middle_pt,27,120,1e-1)\n",
    "\n",
    "# Fit a plane, create norm_vector, calculate dist_from_plane\n",
    "norm_vector_laefer,_,wall_face_laefer,_ = plane_fit(wall_face_laefer) \n",
    "norm_vector_nyc,_,wall_face_nyc,_ = plane_fit(wall_face_nyc) "
   ]
  },
  {
   "cell_type": "code",
   "execution_count": null,
   "metadata": {},
   "outputs": [],
   "source": [
    "print(\"Pts in Laefer: {}\".format(wall_face_laefer.shape[0]))\n",
    "print(\"Pts in NYC: {}\".format(wall_face_nyc.shape[0]))"
   ]
  },
  {
   "cell_type": "code",
   "execution_count": null,
   "metadata": {},
   "outputs": [],
   "source": [
    "# Calculate the rectangle side length, based on points\n",
    "u_length = np.linalg.norm(bottom_left_pt-top_left_pt)\n",
    "v_length = np.linalg.norm(bottom_left_pt-bottom_right_pt)\n",
    "\n",
    "# Sample points in wall\n",
    "center_points = center_point_sample(100,\n",
    "                    bottom_left_pt,top_left_pt,bottom_right_pt,\n",
    "                    u_length=117.937-26.393,v_length=v_length,border=[0.08,0.28])"
   ]
  },
  {
   "cell_type": "code",
   "execution_count": null,
   "metadata": {},
   "outputs": [],
   "source": [
    "for center_point in center_points:\n",
    "    vert_square_points_nyc = in_vertical_square(wall_face_nyc,norm_vector_nyc,center_point,3.5/2,3.5)\n",
    "    vert_square_points_laefer = in_vertical_square(wall_face_laefer,norm_vector_laefer,center_point,3.5/2,3.5)"
   ]
  },
  {
   "cell_type": "code",
   "execution_count": null,
   "metadata": {
    "scrolled": false
   },
   "outputs": [],
   "source": [
    "# Plotting\n",
    "plotting_laefer,_ = prep_square_for_plotting(wall_face_nyc)\n",
    "fig = px.scatter_3d(plotting_laefer, x='x_scaled', y='y_scaled', z='z_scaled',\n",
    "              size = 'size_num',size_max = 12)\n",
    "\n",
    "fig.update_layout( \n",
    "    scene = dict(xaxis = dict(title=\"Easting (feet)\"),\n",
    "                 yaxis = dict(title=\"Northing (feet)\"),\n",
    "                 zaxis = dict(title=\"Vertical (feet)\"),\n",
    "                ),\n",
    "    width=900,\n",
    "    height=900,\n",
    "    margin=dict(r=20, l=10, b=10, t=10),\n",
    "    showlegend=False,\n",
    "    )\n",
    "fig.show()"
   ]
  },
  {
   "cell_type": "code",
   "execution_count": null,
   "metadata": {},
   "outputs": [],
   "source": [
    "xy_norm = []\n",
    "for index, pt in proj_on_plane.iterrows():\n",
    "    norm = np.linalg.norm(pt[['x_scaled','y_scaled']] - center_points[25,:2])\n",
    "    xy_norm.append(norm)\n",
    "np.mean(xy_norm)"
   ]
  },
  {
   "cell_type": "code",
   "execution_count": null,
   "metadata": {},
   "outputs": [],
   "source": [
    "vs_2.shape"
   ]
  },
  {
   "cell_type": "code",
   "execution_count": null,
   "metadata": {},
   "outputs": [],
   "source": [
    "5.306*24.5"
   ]
  },
  {
   "cell_type": "code",
   "execution_count": null,
   "metadata": {},
   "outputs": [],
   "source": [
    "'''\n",
    "def in_square(rectangle_points,center_point,feet_from_point):\n",
    "    '''\n",
    "    Filters dataframe for points less than feet_from_point from center_point\n",
    "    Inputs:\n",
    "    rectangle_points - (n x 3+) dataframe with fields x_scaled, y_scaled, and z_scaled\n",
    "    center_point - 2x1 (x,y) point within rectangle\n",
    "    feet_from_point - scalar\n",
    "    \n",
    "    Output:\n",
    "    square_points - (n x 3+) filtered dataframe\n",
    "    '''\n",
    "    square_points = rectangle_points[ (rectangle_points['x_scaled'] < center_point[0] + feet_from_point)\n",
    "            &(rectangle_points['x_scaled'] > center_point[0] - feet_from_point) \n",
    "            &(rectangle_points['y_scaled'] < center_point[1] + feet_from_point)\n",
    "            &(rectangle_points['y_scaled'] > center_point[1] - feet_from_point)\n",
    "          ]\n",
    "    return square_points\n",
    "    '''"
   ]
  },
  {
   "cell_type": "markdown",
   "metadata": {},
   "source": [
    "#### NYC data"
   ]
  },
  {
   "cell_type": "code",
   "execution_count": null,
   "metadata": {},
   "outputs": [],
   "source": [
    "# Access the NYC header file\n",
    "#inFile = File(nyc_file_dir+'975172.las', mode='r')\n",
    "\n",
    "# Extract points within a square around the desired point\n",
    "# Use pt_[]_bldg and feet_from_pt from previous cell\n",
    "\n",
    "# Use same min's from previous so points line up.\n",
    "square_points_nyc,_ = prep_square_for_plotting(square_points_nyc,min_list) "
   ]
  },
  {
   "cell_type": "markdown",
   "metadata": {},
   "source": [
    "#### 3D Plots"
   ]
  },
  {
   "cell_type": "code",
   "execution_count": null,
   "metadata": {},
   "outputs": [],
   "source": [
    "fig = px.scatter_3d(square_points_bldg, x='x_plot', y='y_plot', z='z_plot',\n",
    "              size='size_num',size_max = 12)\n",
    "\n",
    "fig.update_layout( \n",
    "    scene = dict(xaxis = dict(title=\"Easting (feet)\"),\n",
    "                 yaxis = dict(title=\"Northing (feet)\"),\n",
    "                 zaxis = dict(title=\"Vertical (feet)\"),\n",
    "                ),\n",
    "    width=900,\n",
    "    height=900,\n",
    "    margin=dict(r=20, l=10, b=10, t=10),\n",
    "    showlegend=False,\n",
    "    )\n",
    "fig.show()"
   ]
  },
  {
   "cell_type": "code",
   "execution_count": null,
   "metadata": {
    "scrolled": false
   },
   "outputs": [],
   "source": [
    "fig = px.scatter_3d(square_points_nyc, x='x_plot', y='y_plot', z='z_plot',\n",
    "              size='size_num',size_max = 12)\n",
    "\n",
    "fig.update_layout( \n",
    "    scene = dict(xaxis = dict(title=\"Easting (feet)\"),\n",
    "                 yaxis = dict(title=\"Northing (feet)\"),\n",
    "                 zaxis = dict(title=\"Vertical (feet)\"),\n",
    "                ),\n",
    "    width=900,\n",
    "    height=900,\n",
    "    margin=dict(r=20, l=10, b=10, t=10),\n",
    "    showlegend=False,\n",
    "    )\n",
    "fig.show()"
   ]
  },
  {
   "cell_type": "markdown",
   "metadata": {},
   "source": [
    "#### Extract the wall face, find normal vector, calculate vertical density"
   ]
  },
  {
   "cell_type": "code",
   "execution_count": null,
   "metadata": {},
   "outputs": [],
   "source": [
    "pt_1 = np.array([37.7,10.04])\n",
    "pt_2 = np.array([27.094,18.439])\n",
    "wall_pt = (31.77,14.90,43.00)\n",
    "\n",
    "# East? Facing Wall (farther from the little stump)\n",
    "# pt_1 = np.array([20.59,15.02])\n",
    "# pt_2 = np.array([10.34,2.93])\n",
    "# wall_pt = (19.414,12.379,73.863)\n",
    "\n",
    "wall_face = grab_wall_face(square_points_bldg,pt_1,pt_2,20,100,1e-2)\n",
    "wall_face_nyc = grab_wall_face(square_points_nyc,pt_1,pt_2,20,100,5e-2)"
   ]
  },
  {
   "cell_type": "code",
   "execution_count": null,
   "metadata": {
    "scrolled": true
   },
   "outputs": [],
   "source": [
    "wall_face.shape"
   ]
  },
  {
   "cell_type": "code",
   "execution_count": null,
   "metadata": {},
   "outputs": [],
   "source": [
    "wall_face_nyc.shape"
   ]
  },
  {
   "cell_type": "code",
   "execution_count": null,
   "metadata": {},
   "outputs": [],
   "source": [
    "norm_vector,points,wall_face,pts_on_plane = plane_fit(wall_face)"
   ]
  },
  {
   "cell_type": "code",
   "execution_count": null,
   "metadata": {},
   "outputs": [],
   "source": [
    "print(norm_vector)\n",
    "print(norm_vector_nyc)"
   ]
  },
  {
   "cell_type": "code",
   "execution_count": null,
   "metadata": {},
   "outputs": [],
   "source": [
    "norm_vector_nyc,points,wall_face_nyc,pts_on_plane_nyc = plane_fit(wall_face)"
   ]
  },
  {
   "cell_type": "code",
   "execution_count": null,
   "metadata": {},
   "outputs": [],
   "source": [
    "fig = px.scatter_3d(wall_face, x='x_plot', y='y_plot', z='z_plot',\n",
    "              color='flight_id',size='size_num',size_max = 12)\n",
    "\n",
    "fig.update_layout( \n",
    "    scene = dict(xaxis = dict(title=\"Easting (feet)\"),\n",
    "                 yaxis = dict(title=\"Northing (feet)\"),\n",
    "                 zaxis = dict(title=\"Vertical (feet)\"),\n",
    "                ),\n",
    "    width=900,\n",
    "    height=900,\n",
    "    margin=dict(r=20, l=10, b=10, t=10),\n",
    "    showlegend=False,\n",
    "    )\n",
    "fig.show()"
   ]
  },
  {
   "cell_type": "code",
   "execution_count": null,
   "metadata": {},
   "outputs": [],
   "source": [
    "# Point in middle of wall - in xyz_plot coordinates (less the min of each coordinate)\n",
    "# It's best to highlight a point in the plot above and use that.\n",
    "\n",
    "feet_from_pt = 3"
   ]
  },
  {
   "cell_type": "code",
   "execution_count": null,
   "metadata": {},
   "outputs": [],
   "source": [
    "# Calculate density for both datasets   \n",
    "vertical_point_density(square_points_nyc,norm_vector_nyc,wall_pt,feet_from_pt)\n",
    "vertical_point_density(square_points_bldg,norm_vector,wall_pt,feet_from_pt)"
   ]
  },
  {
   "cell_type": "code",
   "execution_count": null,
   "metadata": {
    "scrolled": false
   },
   "outputs": [],
   "source": [
    "fig = px.scatter_3d(vertical_square, x='x_plot', y='y_plot', z='z_plot',\n",
    "              color='flight_id', size='size_num',size_max = 8)\n",
    "\n",
    "fig.update_layout( \n",
    "    scene = dict(xaxis = dict(title=\"Easting (feet)\"),\n",
    "                 yaxis = dict(title=\"Northing (feet)\"),\n",
    "                 zaxis = dict(title=\"Vertical (feet)\"),\n",
    "                ),\n",
    "    width=900,\n",
    "    height=900,\n",
    "    margin=dict(r=20, l=10, b=10, t=10),\n",
    "    showlegend=False,\n",
    "    xaxis = {\"title\":{\"text\":\"Cat\"}})\n",
    "fig.show()"
   ]
  },
  {
   "cell_type": "markdown",
   "metadata": {},
   "source": [
    "### Writing LAS file"
   ]
  },
  {
   "cell_type": "code",
   "execution_count": null,
   "metadata": {},
   "outputs": [],
   "source": [
    "# Write square_points_bldg to file\n",
    "inFile = File(file_dir+'10552_NYU_M2 - Scanner 1 - 190511_164039_1 - originalpoints.laz', mode='r')\n",
    "# Convert DF into tuples that laspy wants\n",
    "void = [(tuple(r[columns_point_cloud]),) for i,r in square_points_laefer.iterrows()]\n",
    "# Export\n",
    "outFile1 = File(\"../../Data/parking_lot/flat_parking_lot_laefer.las\", mode = \"w\",header = inFile.header)\n",
    "outFile1.points = void\n",
    "outFile1.close()"
   ]
  },
  {
   "cell_type": "code",
   "execution_count": null,
   "metadata": {},
   "outputs": [],
   "source": [
    "# NYC data\n",
    "# Write square_points_bldg to file\n",
    "inFile_nyc = File(nyc_file_dir+'975172.las', mode='r')\n",
    "# Convert DF into tuples that laspy wants\n",
    "void = [(tuple(r[columns_point_cloud]),) for i,r in square_points_nyc.iterrows()]\n",
    "# Export\n",
    "outFile1 = File(\"../../Data/parking_lot/flat_parking_lot_nyc.las\", mode = \"w\",header = inFile.header)\n",
    "outFile1.points = void\n",
    "outFile1.close()"
   ]
  },
  {
   "cell_type": "markdown",
   "metadata": {},
   "source": [
    "## Plotting charts from previous updates"
   ]
  },
  {
   "cell_type": "code",
   "execution_count": null,
   "metadata": {},
   "outputs": [],
   "source": [
    "norm_vector,points,square_points,_ = plane_fit(square_points)\n",
    "\n",
    "# Add distance from flat plane with norm (x,y,z) = (0,0,1)\n",
    "square_points['dist_from_flat']=np.array([np.dot(point,np.array([0,0,1])) for point in points])\n",
    "\n",
    "# remove data points >5 feet below plane.\n",
    "outliers = square_points[square_points['dist_from_plane']<-5].index\n",
    "square_points = square_points.drop(outliers)"
   ]
  },
  {
   "cell_type": "code",
   "execution_count": null,
   "metadata": {},
   "outputs": [],
   "source": [
    "def plot_scan_angle_dist_from_plane(df,distance_metric):\n",
    "    x = abs(df['scan_angle'])*.006\n",
    "    y = df[distance_metric]\n",
    "    plt.figure(figsize=(15,15))\n",
    "    plt.plot(x,y,'xb')\n",
    "    z = np.polyfit(x, y, 1)\n",
    "    p = np.poly1d(z)\n",
    "    plt.plot(x,p(x),\"r--\")\n",
    "    plt.xlabel(\"Scan angle (degrees)\")\n",
    "    plt.ylabel(\"Point distance from plane\")\n",
    "    print(\"y={:2.8f}x+{:2.8f}\".format(z[0],z[1]))\n",
    "    plt.title(\"Scan Angle vs Distance to Fitted Plane\")\n",
    "plot_scan_angle_dist_from_plane(square_points,'dist_from_plane')"
   ]
  },
  {
   "cell_type": "code",
   "execution_count": null,
   "metadata": {},
   "outputs": [],
   "source": [
    "plt.plot(range(len(square_points)),square_points['scan_angle'],'x')"
   ]
  },
  {
   "cell_type": "code",
   "execution_count": null,
   "metadata": {},
   "outputs": [],
   "source": [
    "plot_scan_angle_dist_from_plane(square_points,'dist_from_flat')"
   ]
  },
  {
   "cell_type": "code",
   "execution_count": null,
   "metadata": {},
   "outputs": [],
   "source": [
    "# Chart from slides showing points per run\n",
    "labels = [pt[0][11:-4] for pt in pts_from_scan]\n",
    "num_points = [pt[1]+.01 for pt in pts_from_scan]\n",
    "plt.figure(figsize=(25,20))\n",
    "plt.bar(labels,num_points,)\n",
    "plt.xticks(rotation=45,fontsize=20)\n",
    "plt.yticks(np.arange(0, max(num_points), step=(max(num_points)/10)),fontsize=20)\n",
    "plt.ylabel(\"Number of points from run\",fontsize=20)\n",
    "plt.xlabel(\"Run ID\",fontsize=20)"
   ]
  },
  {
   "cell_type": "code",
   "execution_count": null,
   "metadata": {},
   "outputs": [],
   "source": []
  }
 ],
 "metadata": {
  "kernelspec": {
   "display_name": "Python 3",
   "language": "python",
   "name": "python3"
  },
  "language_info": {
   "codemirror_mode": {
    "name": "ipython",
    "version": 3
   },
   "file_extension": ".py",
   "mimetype": "text/x-python",
   "name": "python",
   "nbconvert_exporter": "python",
   "pygments_lexer": "ipython3",
   "version": "3.6.9"
  }
 },
 "nbformat": 4,
 "nbformat_minor": 2
}
