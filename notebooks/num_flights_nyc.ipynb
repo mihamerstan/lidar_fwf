{
 "cells": [
  {
   "cell_type": "code",
   "execution_count": 1,
   "metadata": {},
   "outputs": [],
   "source": [
    "import numpy as np\n",
    "import pandas as pd\n",
    "from scipy import stats\n",
    "from laspy.file import File\n",
    "\n",
    "import sys\n",
    "sys.path.insert(0,'..')\n",
    "from point_density_functions import *"
   ]
  },
  {
   "cell_type": "code",
   "execution_count": 2,
   "metadata": {},
   "outputs": [],
   "source": [
    "# Load nyc dataframe\n",
    "nyc_file_dir = '../../Data/NYC_topo/'\n",
    "nyc_pt_file = ['las_points_NYC_975172.lz']\n",
    "nyc_df = pd.read_hdf(nyc_file_dir+nyc_pt_file[0])\n",
    "\n",
    "#Sort by gps_time\n",
    "nyc_df.sort_values(by=['gps_time'],inplace=True)"
   ]
  },
  {
   "cell_type": "code",
   "execution_count": null,
   "metadata": {
    "scrolled": false
   },
   "outputs": [],
   "source": [
    "plt.hist(nyc_df['scan_angle'][:10000000])"
   ]
  },
  {
   "cell_type": "code",
   "execution_count": 3,
   "metadata": {},
   "outputs": [],
   "source": [
    "def label_returns(las_df):\n",
    "    '''\n",
    "    Parses the flag_byte into number of returns and return number, adds these fields to las_df.\n",
    "    Input - las_df - dataframe from .laz or .lz file\n",
    "    Output - first_return_df - only the first return points from las_df.\n",
    "           - las_df - input dataframe with num_returns and return_num fields added \n",
    "    '''\n",
    "    \n",
    "    las_df['num_returns'] = np.floor(las_df['flag_byte']/16).astype(int)\n",
    "    las_df['return_num'] = las_df['flag_byte']%16\n",
    "    first_return_df = las_df[las_df['return_num']==1]\n",
    "    first_return_df = first_return_df.reset_index(drop=True)\n",
    "    return first_return_df, las_df\n",
    "# Note: this anlaysis doesn't really need this\n",
    "_,nyc_df = label_returns(nyc_df)"
   ]
  },
  {
   "cell_type": "code",
   "execution_count": 4,
   "metadata": {},
   "outputs": [],
   "source": [
    "gap_times = np.array(nyc_df.iloc[1:]['gps_time']) - np.array(nyc_df.iloc[:-1]['gps_time'])"
   ]
  },
  {
   "cell_type": "code",
   "execution_count": 5,
   "metadata": {},
   "outputs": [
    {
     "data": {
      "text/plain": [
       "53.93011730718944"
      ]
     },
     "execution_count": 5,
     "metadata": {},
     "output_type": "execute_result"
    }
   ],
   "source": [
    "# Largest time gap in days\n",
    "# Topographic vs. Bathymetric\n",
    "\n",
    "gap_times.max()/(60*60*24)"
   ]
  },
  {
   "cell_type": "code",
   "execution_count": 6,
   "metadata": {},
   "outputs": [
    {
     "data": {
      "text/plain": [
       "Index(['X', 'Y', 'Z', 'intensity', 'flag_byte', 'classification_flags',\n",
       "       'classification_byte', 'user_data', 'scan_angle', 'pt_src_id',\n",
       "       'gps_time', 'x_scaled', 'y_scaled', 'z_scaled', 'time_gap',\n",
       "       'num_returns', 'return_num'],\n",
       "      dtype='object')"
      ]
     },
     "execution_count": 6,
     "metadata": {},
     "output_type": "execute_result"
    }
   ],
   "source": [
    "nyc_df.columns"
   ]
  },
  {
   "cell_type": "code",
   "execution_count": 7,
   "metadata": {},
   "outputs": [
    {
     "data": {
      "text/plain": [
       "array([7.09614133e+02, 1.79690707e+02, 6.69055595e+02, 1.87644041e+02,\n",
       "       6.62764546e+02, 4.65956214e+06, 3.60791444e+02, 3.35617147e+02,\n",
       "       3.43717758e+02, 3.26562820e+02, 3.60826608e+02, 4.38196903e+02,\n",
       "       3.61490675e+02, 2.08452254e+02, 3.89018295e+02, 1.90233535e+03])"
      ]
     },
     "execution_count": 7,
     "metadata": {},
     "output_type": "execute_result"
    }
   ],
   "source": [
    "# Gaps between flights\n",
    "gap_times[gap_times>30]"
   ]
  },
  {
   "cell_type": "code",
   "execution_count": 8,
   "metadata": {},
   "outputs": [
    {
     "name": "stderr",
     "output_type": "stream",
     "text": [
      "/opt/anaconda3/lib/python3.7/site-packages/ipykernel_launcher.py:2: SettingWithCopyWarning: \n",
      "A value is trying to be set on a copy of a slice from a DataFrame.\n",
      "Try using .loc[row_indexer,col_indexer] = value instead\n",
      "\n",
      "See the caveats in the documentation: https://pandas.pydata.org/pandas-docs/stable/user_guide/indexing.html#returning-a-view-versus-a-copy\n",
      "  \n"
     ]
    }
   ],
   "source": [
    "nyc_df['scan_type'] = ['topographic']*nyc_df.shape[0]\n",
    "nyc_df.loc[5818507:]['scan_type'] = ['bathymetric']*nyc_df.loc[5818507:].shape[0]"
   ]
  },
  {
   "cell_type": "code",
   "execution_count": 9,
   "metadata": {},
   "outputs": [],
   "source": [
    "# Add flight_id for nyc flights based on time gaps\n",
    "nyc_df['flight_id'] = [0]*nyc_df.shape[0]\n",
    "flight_id = 0\n",
    "old_i = 0\n",
    "for i,gap in enumerate(gap_times):\n",
    "    if gap > 30:\n",
    "        nyc_df.loc[old_i:i+1,'flight_id'] = flight_id\n",
    "        flight_id+=1\n",
    "        old_i = i\n",
    "nyc_df.loc[old_i:,'flight_id'] = flight_id"
   ]
  },
  {
   "cell_type": "code",
   "execution_count": null,
   "metadata": {},
   "outputs": [],
   "source": [
    "# Create hdf file\n",
    "nyc_df.to_hdf(nyc_file_dir+'las_points_nyc_flight_id',key='df',complevel=1,complib='lzo')"
   ]
  },
  {
   "cell_type": "code",
   "execution_count": null,
   "metadata": {},
   "outputs": [],
   "source": [
    "nyc_df.sort_values(by=['gps_time'],inplace=True)\n",
    "nyc_df.reset"
   ]
  },
  {
   "cell_type": "code",
   "execution_count": null,
   "metadata": {},
   "outputs": [],
   "source": [
    "nyc_df['scan_type']"
   ]
  },
  {
   "cell_type": "code",
   "execution_count": null,
   "metadata": {},
   "outputs": [],
   "source": [
    "nn = File('../../Data/NYC_topo/975172.las',mode='r')"
   ]
  },
  {
   "cell_type": "code",
   "execution_count": null,
   "metadata": {},
   "outputs": [],
   "source": [
    "nyc_df.reset_index(inplace=True)\n",
    "for i in range(105068,1000000):\n",
    "    if abs(nyc_df['scan_angle'][i+1] - nyc_df['scan_angle'][i]) > 3000:\n",
    "        print(nyc_df.iloc[i])"
   ]
  },
  {
   "cell_type": "code",
   "execution_count": null,
   "metadata": {},
   "outputs": [],
   "source": [
    "plt.plot(nyc_df['scan_angle'][:1000000])"
   ]
  },
  {
   "cell_type": "code",
   "execution_count": null,
   "metadata": {},
   "outputs": [],
   "source": [
    "pt1 = nyc_df.iloc[a]\n",
    "pt2 = nyc_df.iloc[a+1]\n",
    "dist = np.sqrt((pt1['x_scaled']-pt2['x_scaled'])**2+(pt1['y_scaled']-pt2['y_scaled'])**2)\n",
    "dist/3.28"
   ]
  },
  {
   "cell_type": "code",
   "execution_count": 4,
   "metadata": {},
   "outputs": [
    {
     "data": {
      "text/html": [
       "<div>\n",
       "<style scoped>\n",
       "    .dataframe tbody tr th:only-of-type {\n",
       "        vertical-align: middle;\n",
       "    }\n",
       "\n",
       "    .dataframe tbody tr th {\n",
       "        vertical-align: top;\n",
       "    }\n",
       "\n",
       "    .dataframe thead th {\n",
       "        text-align: right;\n",
       "    }\n",
       "</style>\n",
       "<table border=\"1\" class=\"dataframe\">\n",
       "  <thead>\n",
       "    <tr style=\"text-align: right;\">\n",
       "      <th></th>\n",
       "      <th>X</th>\n",
       "      <th>Y</th>\n",
       "      <th>Z</th>\n",
       "      <th>intensity</th>\n",
       "      <th>flag_byte</th>\n",
       "      <th>classification_flags</th>\n",
       "      <th>classification_byte</th>\n",
       "      <th>user_data</th>\n",
       "      <th>scan_angle</th>\n",
       "      <th>pt_src_id</th>\n",
       "      <th>gps_time</th>\n",
       "      <th>x_scaled</th>\n",
       "      <th>y_scaled</th>\n",
       "      <th>z_scaled</th>\n",
       "      <th>time_gap</th>\n",
       "      <th>num_returns</th>\n",
       "      <th>return_num</th>\n",
       "    </tr>\n",
       "  </thead>\n",
       "  <tbody>\n",
       "    <tr>\n",
       "      <th>34185</th>\n",
       "      <td>97668434</td>\n",
       "      <td>17499927</td>\n",
       "      <td>650</td>\n",
       "      <td>16280</td>\n",
       "      <td>17</td>\n",
       "      <td>92</td>\n",
       "      <td>1</td>\n",
       "      <td>1</td>\n",
       "      <td>2272</td>\n",
       "      <td>1192</td>\n",
       "      <td>1.789515e+08</td>\n",
       "      <td>976684.34</td>\n",
       "      <td>174999.27</td>\n",
       "      <td>6.5</td>\n",
       "      <td>0.000000</td>\n",
       "      <td>1</td>\n",
       "      <td>1</td>\n",
       "    </tr>\n",
       "    <tr>\n",
       "      <th>34186</th>\n",
       "      <td>97668827</td>\n",
       "      <td>17499847</td>\n",
       "      <td>610</td>\n",
       "      <td>31181</td>\n",
       "      <td>17</td>\n",
       "      <td>28</td>\n",
       "      <td>1</td>\n",
       "      <td>1</td>\n",
       "      <td>2270</td>\n",
       "      <td>1192</td>\n",
       "      <td>1.789515e+08</td>\n",
       "      <td>976688.27</td>\n",
       "      <td>174998.47</td>\n",
       "      <td>6.1</td>\n",
       "      <td>0.000006</td>\n",
       "      <td>1</td>\n",
       "      <td>1</td>\n",
       "    </tr>\n",
       "    <tr>\n",
       "      <th>34187</th>\n",
       "      <td>97668766</td>\n",
       "      <td>17499690</td>\n",
       "      <td>640</td>\n",
       "      <td>25110</td>\n",
       "      <td>17</td>\n",
       "      <td>28</td>\n",
       "      <td>1</td>\n",
       "      <td>1</td>\n",
       "      <td>2272</td>\n",
       "      <td>1192</td>\n",
       "      <td>1.789515e+08</td>\n",
       "      <td>976687.66</td>\n",
       "      <td>174996.90</td>\n",
       "      <td>6.4</td>\n",
       "      <td>0.000006</td>\n",
       "      <td>1</td>\n",
       "      <td>1</td>\n",
       "    </tr>\n",
       "    <tr>\n",
       "      <th>34188</th>\n",
       "      <td>97668808</td>\n",
       "      <td>17499620</td>\n",
       "      <td>640</td>\n",
       "      <td>22627</td>\n",
       "      <td>17</td>\n",
       "      <td>92</td>\n",
       "      <td>1</td>\n",
       "      <td>1</td>\n",
       "      <td>2274</td>\n",
       "      <td>1192</td>\n",
       "      <td>1.789515e+08</td>\n",
       "      <td>976688.08</td>\n",
       "      <td>174996.20</td>\n",
       "      <td>6.4</td>\n",
       "      <td>0.000006</td>\n",
       "      <td>1</td>\n",
       "      <td>1</td>\n",
       "    </tr>\n",
       "    <tr>\n",
       "      <th>34189</th>\n",
       "      <td>97668876</td>\n",
       "      <td>17499797</td>\n",
       "      <td>620</td>\n",
       "      <td>27870</td>\n",
       "      <td>17</td>\n",
       "      <td>92</td>\n",
       "      <td>1</td>\n",
       "      <td>1</td>\n",
       "      <td>2271</td>\n",
       "      <td>1192</td>\n",
       "      <td>1.789515e+08</td>\n",
       "      <td>976688.76</td>\n",
       "      <td>174997.97</td>\n",
       "      <td>6.2</td>\n",
       "      <td>0.000006</td>\n",
       "      <td>1</td>\n",
       "      <td>1</td>\n",
       "    </tr>\n",
       "  </tbody>\n",
       "</table>\n",
       "</div>"
      ],
      "text/plain": [
       "              X         Y    Z  intensity  flag_byte  classification_flags  \\\n",
       "34185  97668434  17499927  650      16280         17                    92   \n",
       "34186  97668827  17499847  610      31181         17                    28   \n",
       "34187  97668766  17499690  640      25110         17                    28   \n",
       "34188  97668808  17499620  640      22627         17                    92   \n",
       "34189  97668876  17499797  620      27870         17                    92   \n",
       "\n",
       "       classification_byte  user_data  scan_angle  pt_src_id      gps_time  \\\n",
       "34185                    1          1        2272       1192  1.789515e+08   \n",
       "34186                    1          1        2270       1192  1.789515e+08   \n",
       "34187                    1          1        2272       1192  1.789515e+08   \n",
       "34188                    1          1        2274       1192  1.789515e+08   \n",
       "34189                    1          1        2271       1192  1.789515e+08   \n",
       "\n",
       "        x_scaled   y_scaled  z_scaled  time_gap  num_returns  return_num  \n",
       "34185  976684.34  174999.27       6.5  0.000000            1           1  \n",
       "34186  976688.27  174998.47       6.1  0.000006            1           1  \n",
       "34187  976687.66  174996.90       6.4  0.000006            1           1  \n",
       "34188  976688.08  174996.20       6.4  0.000006            1           1  \n",
       "34189  976688.76  174997.97       6.2  0.000006            1           1  "
      ]
     },
     "execution_count": 4,
     "metadata": {},
     "output_type": "execute_result"
    }
   ],
   "source": [
    "nyc_df.head()"
   ]
  },
  {
   "cell_type": "code",
   "execution_count": null,
   "metadata": {},
   "outputs": [],
   "source": []
  }
 ],
 "metadata": {
  "kernelspec": {
   "display_name": "Python 3",
   "language": "python",
   "name": "python3"
  },
  "language_info": {
   "codemirror_mode": {
    "name": "ipython",
    "version": 3
   },
   "file_extension": ".py",
   "mimetype": "text/x-python",
   "name": "python",
   "nbconvert_exporter": "python",
   "pygments_lexer": "ipython3",
   "version": "3.7.6"
  }
 },
 "nbformat": 4,
 "nbformat_minor": 2
}
