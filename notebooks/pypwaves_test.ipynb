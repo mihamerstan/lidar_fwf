{
 "cells": [
  {
   "cell_type": "code",
   "execution_count": 1,
   "metadata": {},
   "outputs": [],
   "source": [
    "import numpy as np\n",
    "import pandas as pd\n",
    "\n",
    "# Necessary to import pypwaves_updated.py from parent directory\n",
    "import sys\n",
    "sys.path.append('../')\n",
    "import pypwaves_updated as pw"
   ]
  },
  {
   "cell_type": "code",
   "execution_count": 2,
   "metadata": {
    "scrolled": false
   },
   "outputs": [
    {
     "name": "stdout",
     "output_type": "stream",
     "text": [
      "VLR record length:  216\n",
      "VLR record length:  72\n",
      "VLR record length:  130\n",
      "VLR record length:  248\n",
      "VLR record length:  1184\n",
      "Table size:  76\n",
      "LookupTable size:  84\n",
      "Inner table size:  1024\n",
      "num_entries:  256\n",
      "VLR record length:  1184\n",
      "Table size:  76\n",
      "LookupTable size:  84\n",
      "Inner table size:  1024\n",
      "num_entries:  256\n",
      "VLR record length:  196\n",
      "VLR record length:  300\n",
      "VLR record length:  404\n",
      "VLR record length:  300\n",
      "VLR record length:  404\n",
      "VLR record length:  404\n",
      "VLR record length:  300\n",
      "VLR record length:  404\n",
      "VLR record length:  404\n",
      "VLR record length:  404\n",
      "VLR record length:  404\n",
      "VLR record length:  300\n"
     ]
    }
   ],
   "source": [
    "# Load data \n",
    "pls_file = \"../../Data/Run_1_partial/10552_NYU_M2_Pulse_Waves_MTA_Resolved - Scanner 1 - 190511_162124_1 - originalpoints.pls\"\n",
    "pulsewave = pw.openPLS(pls_file)"
   ]
  },
  {
   "cell_type": "code",
   "execution_count": 11,
   "metadata": {},
   "outputs": [
    {
     "data": {
      "text/plain": [
       "1024"
      ]
     },
     "execution_count": 11,
     "metadata": {},
     "output_type": "execute_result"
    }
   ],
   "source": [
    "a = pulsewave.vlrs[300001].record.table_dict[0].full_table\n",
    "len(a)"
   ]
  },
  {
   "cell_type": "code",
   "execution_count": 20,
   "metadata": {},
   "outputs": [
    {
     "data": {
      "text/plain": [
       "b'amplitude conversion table for low channel\\x00'"
      ]
     },
     "execution_count": 20,
     "metadata": {},
     "output_type": "execute_result"
    }
   ],
   "source": [
    "a[:42]"
   ]
  },
  {
   "cell_type": "code",
   "execution_count": null,
   "metadata": {},
   "outputs": [],
   "source": [
    "wave = pulsewave.get_waves(5)\n",
    "wave.plot()"
   ]
  },
  {
   "cell_type": "code",
   "execution_count": null,
   "metadata": {},
   "outputs": [],
   "source": [
    "wave.smooth(7,3)\n",
    "wave.plot()"
   ]
  },
  {
   "cell_type": "code",
   "execution_count": null,
   "metadata": {},
   "outputs": [],
   "source": [
    "wave = pulsewave.get_waves(50)\n",
    "wave.plot()"
   ]
  },
  {
   "cell_type": "code",
   "execution_count": null,
   "metadata": {},
   "outputs": [],
   "source": [
    "# pulse = pulsewave.get_pulse(10000)\n",
    "# pulse.x_target"
   ]
  },
  {
   "cell_type": "code",
   "execution_count": null,
   "metadata": {},
   "outputs": [],
   "source": [
    "# for key in pulsewave.vlrs[34735].record.key_entry_dict.keys():\n",
    "#     print(pulsewave.vlrs[34735].record.key_entry_dict[key])"
   ]
  },
  {
   "cell_type": "code",
   "execution_count": null,
   "metadata": {},
   "outputs": [],
   "source": [
    "# for key in pulsewave.vlrs[34735].record.key_entry_dict:\n",
    "#     tiff_tag = pulsewave.vlrs[34735].record.key_entry_dict[key].tiff_tag_location\n",
    "#     if tiff_tag == 34736:\n",
    "#         offset_6 = pulsewave.vlrs[34735].record.key_entry_dict[key].value_offset\n",
    "#         value_6 = pulsewave.vlrs[34736].record[offset_6]\n",
    "#         pulsewave.vlrs[34735].record.key_entry_dict[key].value = value_6\n",
    "#     elif tiff_tag == 34737:\n",
    "#         offset_7 = pulsewave.vlrs[34735].record.key_entry_dict[key].value_offset\n",
    "#         len_7 = pulsewave.vlrs[34735].record.key_entry_dict[key].count\n",
    "#         value_7 = pulsewave.vlrs[34737].record[offset_7:(offset_7+len_7)]\n",
    "#         pulsewave.vlrs[34735].record.key_entry_dict[key].value = value_7\n",
    "#     else:\n",
    "#         pulsewave.vlrs[34735].record.key_entry_dict[key].value = pulsewave.vlrs[34735].record.key_entry_dict[key].value_offset"
   ]
  },
  {
   "cell_type": "code",
   "execution_count": null,
   "metadata": {},
   "outputs": [],
   "source": [
    "# for key in pulsewave.vlrs[34735].record.key_entry_dict:\n",
    "#     print(pulsewave.vlrs[34735].record.key_entry_dict[key].value)"
   ]
  },
  {
   "cell_type": "code",
   "execution_count": null,
   "metadata": {},
   "outputs": [],
   "source": []
  },
  {
   "cell_type": "code",
   "execution_count": null,
   "metadata": {},
   "outputs": [],
   "source": []
  },
  {
   "cell_type": "code",
   "execution_count": null,
   "metadata": {},
   "outputs": [],
   "source": []
  }
 ],
 "metadata": {
  "kernelspec": {
   "display_name": "Python 3",
   "language": "python",
   "name": "python3"
  },
  "language_info": {
   "codemirror_mode": {
    "name": "ipython",
    "version": 3
   },
   "file_extension": ".py",
   "mimetype": "text/x-python",
   "name": "python",
   "nbconvert_exporter": "python",
   "pygments_lexer": "ipython3",
   "version": "3.7.3"
  }
 },
 "nbformat": 4,
 "nbformat_minor": 2
}
