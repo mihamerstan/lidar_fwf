{
 "cells": [
  {
   "cell_type": "code",
   "execution_count": 41,
   "metadata": {},
   "outputs": [],
   "source": [
    "import numpy as np\n",
    "import pandas as pd\n",
    "import matplotlib.pyplot as plt\n",
    "%matplotlib inline\n",
    "\n",
    "# Necessary to import pypwaves_updated.py from parent directory\n",
    "import sys\n",
    "sys.path.append('../')\n",
    "import pypwaves_updated as pw"
   ]
  },
  {
   "cell_type": "code",
   "execution_count": 3,
   "metadata": {
    "scrolled": false
   },
   "outputs": [
    {
     "name": "stdout",
     "output_type": "stream",
     "text": [
      "VLR record length:  216\n",
      "VLR record length:  72\n",
      "VLR record length:  130\n",
      "VLR record length:  248\n",
      "VLR record length:  1184\n",
      "Table size:  76\n",
      "LookupTable size:  84\n",
      "Inner table size:  1024\n",
      "num_entries:  256\n",
      "VLR record length:  1184\n",
      "Table size:  76\n",
      "LookupTable size:  84\n",
      "Inner table size:  1024\n",
      "num_entries:  256\n",
      "VLR record length:  196\n",
      "VLR record length:  300\n",
      "VLR record length:  404\n",
      "VLR record length:  300\n",
      "VLR record length:  404\n",
      "VLR record length:  404\n",
      "VLR record length:  300\n",
      "VLR record length:  404\n",
      "VLR record length:  404\n",
      "VLR record length:  404\n",
      "VLR record length:  404\n",
      "VLR record length:  300\n"
     ]
    }
   ],
   "source": [
    "# Load data \n",
    "pls_file = \"../../Data/161726/10552_NYU_M2_Pulse_Waves_MTA_Resolved - Scanner 1 - 190511_161726_1 - originalpoints.pls\"\n",
    "pulsewave = pw.openPLS(pls_file)"
   ]
  },
  {
   "cell_type": "markdown",
   "metadata": {},
   "source": [
    "### Looking at anchor points\n",
    "I'm trying to determine whether or not anchor points indicate the location of the emitter when the pulse is sent/received, or is an arbitrary point."
   ]
  },
  {
   "cell_type": "code",
   "execution_count": 72,
   "metadata": {},
   "outputs": [],
   "source": [
    "def pull_anchors(pulsewave):\n",
    "    '''this function collects the x,y, and z anchors for each point in the pulsewave object.'''\n",
    "    # Extract all the anchor points in each dimension\n",
    "    x_anchors = [pulsewave.get_pulse(i).x_anchor for i in range(pulsewave.num_pulses)]\n",
    "    y_anchors = [pulsewave.get_pulse(i).y_anchor for i in range(pulsewave.num_pulses)]\n",
    "    z_anchors = [pulsewave.get_pulse(i).z_anchor for i in range(pulsewave.num_pulses)]\n",
    "\n",
    "    # Create numpy array and pandas DF for easier manipulation\n",
    "    anchor_arr = np.array([x_anchors,y_anchors,z_anchors])\n",
    "    anchor_df = pd.DataFrame(anchor_arr.T,columns=['x','y','z'])\n",
    "    return anchor_df\n",
    "\n",
    "def denoise(df,low_quantile,high_quantile):\n",
    "    '''takes the output of pull_anchors function, removes the outliers based on quantiles.'''\n",
    "    quantile_10 = df.quantile(low_quantile)\n",
    "    quantile_90 = df.quantile(high_quantile)\n",
    "    df_denoised = df[df['x']>=quantile_10['x']]\n",
    "    df_denoised = df_denoised[df_denoised['y']>=quantile_10['y']]\n",
    "    df_denoised = df_denoised[df_denoised['z']>=quantile_10['z']]\n",
    "    df_denoised = df_denoised[df_denoised['x']<=quantile_90['x']]\n",
    "    df_denoised = df_denoised[df_denoised['y']<=quantile_90['y']]\n",
    "    df_denoised = df_denoised[df_denoised['z']<=quantile_90['z']]\n",
    "    return df_denoised\n",
    "\n",
    "anchor_df = pull_anchors(pulsewave)\n",
    "df_denoised = denoise(anchor_df)"
   ]
  },
  {
   "cell_type": "code",
   "execution_count": 84,
   "metadata": {},
   "outputs": [
    {
     "data": {
      "text/html": [
       "<div>\n",
       "<style scoped>\n",
       "    .dataframe tbody tr th:only-of-type {\n",
       "        vertical-align: middle;\n",
       "    }\n",
       "\n",
       "    .dataframe tbody tr th {\n",
       "        vertical-align: top;\n",
       "    }\n",
       "\n",
       "    .dataframe thead th {\n",
       "        text-align: right;\n",
       "    }\n",
       "</style>\n",
       "<table border=\"1\" class=\"dataframe\">\n",
       "  <thead>\n",
       "    <tr style=\"text-align: right;\">\n",
       "      <th></th>\n",
       "      <th>x</th>\n",
       "      <th>y</th>\n",
       "      <th>z</th>\n",
       "    </tr>\n",
       "  </thead>\n",
       "  <tbody>\n",
       "    <tr>\n",
       "      <th>count</th>\n",
       "      <td>6.104083e+06</td>\n",
       "      <td>6.104083e+06</td>\n",
       "      <td>6.104083e+06</td>\n",
       "    </tr>\n",
       "    <tr>\n",
       "      <th>mean</th>\n",
       "      <td>9.799001e+05</td>\n",
       "      <td>1.734114e+05</td>\n",
       "      <td>1.075319e+03</td>\n",
       "    </tr>\n",
       "    <tr>\n",
       "      <th>std</th>\n",
       "      <td>5.149093e+01</td>\n",
       "      <td>7.107422e+02</td>\n",
       "      <td>2.545051e+02</td>\n",
       "    </tr>\n",
       "    <tr>\n",
       "      <th>min</th>\n",
       "      <td>9.795642e+05</td>\n",
       "      <td>1.722204e+05</td>\n",
       "      <td>3.840118e+02</td>\n",
       "    </tr>\n",
       "    <tr>\n",
       "      <th>25%</th>\n",
       "      <td>9.798937e+05</td>\n",
       "      <td>1.727913e+05</td>\n",
       "      <td>1.126587e+03</td>\n",
       "    </tr>\n",
       "    <tr>\n",
       "      <th>50%</th>\n",
       "      <td>9.798989e+05</td>\n",
       "      <td>1.733636e+05</td>\n",
       "      <td>1.144316e+03</td>\n",
       "    </tr>\n",
       "    <tr>\n",
       "      <th>75%</th>\n",
       "      <td>9.799062e+05</td>\n",
       "      <td>1.740203e+05</td>\n",
       "      <td>1.157218e+03</td>\n",
       "    </tr>\n",
       "    <tr>\n",
       "      <th>max</th>\n",
       "      <td>9.802322e+05</td>\n",
       "      <td>1.747260e+05</td>\n",
       "      <td>1.330578e+03</td>\n",
       "    </tr>\n",
       "  </tbody>\n",
       "</table>\n",
       "</div>"
      ],
      "text/plain": [
       "                  x             y             z\n",
       "count  6.104083e+06  6.104083e+06  6.104083e+06\n",
       "mean   9.799001e+05  1.734114e+05  1.075319e+03\n",
       "std    5.149093e+01  7.107422e+02  2.545051e+02\n",
       "min    9.795642e+05  1.722204e+05  3.840118e+02\n",
       "25%    9.798937e+05  1.727913e+05  1.126587e+03\n",
       "50%    9.798989e+05  1.733636e+05  1.144316e+03\n",
       "75%    9.799062e+05  1.740203e+05  1.157218e+03\n",
       "max    9.802322e+05  1.747260e+05  1.330578e+03"
      ]
     },
     "execution_count": 84,
     "metadata": {},
     "output_type": "execute_result"
    }
   ],
   "source": [
    "# I'm comparing the min and max to the 0.1 and 0.9 quantiles...\n",
    "anchor_df.describe()"
   ]
  },
  {
   "cell_type": "code",
   "execution_count": 62,
   "metadata": {},
   "outputs": [
    {
     "data": {
      "text/html": [
       "<div>\n",
       "<style scoped>\n",
       "    .dataframe tbody tr th:only-of-type {\n",
       "        vertical-align: middle;\n",
       "    }\n",
       "\n",
       "    .dataframe tbody tr th {\n",
       "        vertical-align: top;\n",
       "    }\n",
       "\n",
       "    .dataframe thead th {\n",
       "        text-align: right;\n",
       "    }\n",
       "</style>\n",
       "<table border=\"1\" class=\"dataframe\">\n",
       "  <thead>\n",
       "    <tr style=\"text-align: right;\">\n",
       "      <th></th>\n",
       "      <th>x</th>\n",
       "      <th>y</th>\n",
       "      <th>z</th>\n",
       "    </tr>\n",
       "  </thead>\n",
       "  <tbody>\n",
       "    <tr>\n",
       "      <th>0.01</th>\n",
       "      <td>979713.084115</td>\n",
       "      <td>172281.31766</td>\n",
       "      <td>403.863455</td>\n",
       "    </tr>\n",
       "    <tr>\n",
       "      <th>0.10</th>\n",
       "      <td>979870.898800</td>\n",
       "      <td>172469.72250</td>\n",
       "      <td>457.422750</td>\n",
       "    </tr>\n",
       "    <tr>\n",
       "      <th>0.20</th>\n",
       "      <td>979891.501750</td>\n",
       "      <td>172684.31190</td>\n",
       "      <td>1124.639250</td>\n",
       "    </tr>\n",
       "    <tr>\n",
       "      <th>0.30</th>\n",
       "      <td>979894.552000</td>\n",
       "      <td>172895.91625</td>\n",
       "      <td>1129.410000</td>\n",
       "    </tr>\n",
       "    <tr>\n",
       "      <th>0.40</th>\n",
       "      <td>979895.927750</td>\n",
       "      <td>173124.96065</td>\n",
       "      <td>1137.719500</td>\n",
       "    </tr>\n",
       "    <tr>\n",
       "      <th>0.50</th>\n",
       "      <td>979898.920250</td>\n",
       "      <td>173363.61975</td>\n",
       "      <td>1144.316250</td>\n",
       "    </tr>\n",
       "    <tr>\n",
       "      <th>0.60</th>\n",
       "      <td>979902.111000</td>\n",
       "      <td>173611.08630</td>\n",
       "      <td>1148.944500</td>\n",
       "    </tr>\n",
       "    <tr>\n",
       "      <th>0.70</th>\n",
       "      <td>979904.970250</td>\n",
       "      <td>173878.74400</td>\n",
       "      <td>1155.339750</td>\n",
       "    </tr>\n",
       "    <tr>\n",
       "      <th>0.80</th>\n",
       "      <td>979907.304000</td>\n",
       "      <td>174159.12070</td>\n",
       "      <td>1235.538250</td>\n",
       "    </tr>\n",
       "    <tr>\n",
       "      <th>0.90</th>\n",
       "      <td>979923.934750</td>\n",
       "      <td>174441.04245</td>\n",
       "      <td>1271.632750</td>\n",
       "    </tr>\n",
       "  </tbody>\n",
       "</table>\n",
       "</div>"
      ],
      "text/plain": [
       "                  x             y            z\n",
       "0.01  979713.084115  172281.31766   403.863455\n",
       "0.10  979870.898800  172469.72250   457.422750\n",
       "0.20  979891.501750  172684.31190  1124.639250\n",
       "0.30  979894.552000  172895.91625  1129.410000\n",
       "0.40  979895.927750  173124.96065  1137.719500\n",
       "0.50  979898.920250  173363.61975  1144.316250\n",
       "0.60  979902.111000  173611.08630  1148.944500\n",
       "0.70  979904.970250  173878.74400  1155.339750\n",
       "0.80  979907.304000  174159.12070  1235.538250\n",
       "0.90  979923.934750  174441.04245  1271.632750"
      ]
     },
     "execution_count": 62,
     "metadata": {},
     "output_type": "execute_result"
    }
   ],
   "source": [
    "anchor_df.quantile([.01,.1,.2,.3,.4,.5,.6,.7,.8,.9])"
   ]
  },
  {
   "cell_type": "code",
   "execution_count": 81,
   "metadata": {},
   "outputs": [
    {
     "data": {
      "text/plain": [
       "[<matplotlib.lines.Line2D at 0x7ff6c1726320>]"
      ]
     },
     "execution_count": 81,
     "metadata": {},
     "output_type": "execute_result"
    },
    {
     "data": {
      "image/png": "[encoded data removed]",
      "text/plain": [
       "<Figure size 432x288 with 1 Axes>"
      ]
     },
     "metadata": {
      "needs_background": "light"
     },
     "output_type": "display_data"
    }
   ],
   "source": [
    "plt.plot(df_denoised['x'][:300000])"
   ]
  },
  {
   "cell_type": "code",
   "execution_count": 6,
   "metadata": {},
   "outputs": [
    {
     "name": "stdout",
     "output_type": "stream",
     "text": [
      "bits per sample:  8\n",
      "num samples:  24\n",
      "bits anchor:  32\n",
      "bits per sample:  8\n",
      "num samples:  120\n",
      "bits anchor:  32\n"
     ]
    },
    {
     "data": {
      "image/png": "[encoded data removed]",
      "text/plain": [
       "<Figure size 432x288 with 2 Axes>"
      ]
     },
     "metadata": {
      "needs_background": "light"
     },
     "output_type": "display_data"
    }
   ],
   "source": [
    "wave = pulsewave.get_waves(5)\n",
    "wave.plot()"
   ]
  },
  {
   "cell_type": "code",
   "execution_count": null,
   "metadata": {},
   "outputs": [],
   "source": [
    "wave.smooth(7,3)\n",
    "wave.plot()"
   ]
  },
  {
   "cell_type": "code",
   "execution_count": 7,
   "metadata": {},
   "outputs": [
    {
     "name": "stdout",
     "output_type": "stream",
     "text": [
      "bits per sample:  8\n",
      "num samples:  24\n",
      "bits anchor:  32\n",
      "bits per sample:  8\n",
      "num samples:  60\n",
      "bits anchor:  32\n",
      "bits per sample:  8\n",
      "num samples:  60\n",
      "bits anchor:  32\n"
     ]
    },
    {
     "data": {
      "text/plain": [
       "pypwaves_updated.Waves"
      ]
     },
     "execution_count": 7,
     "metadata": {},
     "output_type": "execute_result"
    }
   ],
   "source": [
    "wave = pulsewave.get_waves(50)\n",
    "type(wave)"
   ]
  },
  {
   "cell_type": "code",
   "execution_count": null,
   "metadata": {},
   "outputs": [],
   "source": [
    "# pulse = pulsewave.get_pulse(10000)\n",
    "# pulse.x_target"
   ]
  },
  {
   "cell_type": "code",
   "execution_count": null,
   "metadata": {},
   "outputs": [],
   "source": [
    "# for key in pulsewave.vlrs[34735].record.key_entry_dict.keys():\n",
    "#     print(pulsewave.vlrs[34735].record.key_entry_dict[key])"
   ]
  },
  {
   "cell_type": "code",
   "execution_count": null,
   "metadata": {},
   "outputs": [],
   "source": [
    "# for key in pulsewave.vlrs[34735].record.key_entry_dict:\n",
    "#     tiff_tag = pulsewave.vlrs[34735].record.key_entry_dict[key].tiff_tag_location\n",
    "#     if tiff_tag == 34736:\n",
    "#         offset_6 = pulsewave.vlrs[34735].record.key_entry_dict[key].value_offset\n",
    "#         value_6 = pulsewave.vlrs[34736].record[offset_6]\n",
    "#         pulsewave.vlrs[34735].record.key_entry_dict[key].value = value_6\n",
    "#     elif tiff_tag == 34737:\n",
    "#         offset_7 = pulsewave.vlrs[34735].record.key_entry_dict[key].value_offset\n",
    "#         len_7 = pulsewave.vlrs[34735].record.key_entry_dict[key].count\n",
    "#         value_7 = pulsewave.vlrs[34737].record[offset_7:(offset_7+len_7)]\n",
    "#         pulsewave.vlrs[34735].record.key_entry_dict[key].value = value_7\n",
    "#     else:\n",
    "#         pulsewave.vlrs[34735].record.key_entry_dict[key].value = pulsewave.vlrs[34735].record.key_entry_dict[key].value_offset"
   ]
  },
  {
   "cell_type": "code",
   "execution_count": null,
   "metadata": {},
   "outputs": [],
   "source": [
    "# for key in pulsewave.vlrs[34735].record.key_entry_dict:\n",
    "#     print(pulsewave.vlrs[34735].record.key_entry_dict[key].value)"
   ]
  },
  {
   "cell_type": "code",
   "execution_count": 23,
   "metadata": {},
   "outputs": [],
   "source": [
    "header_attrs = ['filename',\n",
    "'file_sig',\n",
    "'global_params',\n",
    "'file_id',\n",
    "'proj_GUID1',\n",
    "'proj_GUID2',\n",
    "'proj_GUID3',\n",
    "'proj_GUID3',\n",
    "'sys_id',\n",
    "'software',\n",
    "'file_day',\n",
    "'file_year',\n",
    "'version_maj',\n",
    "'version_min',\n",
    "'header_size',\n",
    "'offset_to_pulses',\n",
    "'num_pulses',\n",
    "'pulse_format',\n",
    "'pulse_attr',\n",
    "'pulse_size',\n",
    "'pulse_compression',\n",
    "'reserved',\n",
    "'num_vlr',\n",
    "'num_avlr',\n",
    "'t_scale',\n",
    "'t_offset',\n",
    "'t_min',\n",
    "'t_max',\n",
    "'x_scale',\n",
    "'y_scale',\n",
    "'z_scale',\n",
    "'x_offset',\n",
    "'y_offset',\n",
    "'z_offset',\n",
    "'x_min',\n",
    "'x_max',\n",
    "'y_min',\n",
    "'y_max',\n",
    "'z_min',\n",
    "'z_max',]\n",
    "\n",
    "def print_pulsewaves_header(pulsewave,header_attrs):\n",
    "    '''prints all the header attribtes of a PulseWaves class.'''\n",
    "    for attr in header_attrs:\n",
    "        print(attr,\": \",getattr(pulsewave,attr))"
   ]
  },
  {
   "cell_type": "code",
   "execution_count": 24,
   "metadata": {},
   "outputs": [
    {
     "name": "stdout",
     "output_type": "stream",
     "text": [
      "filename :  ../../Data/161726/10552_NYU_M2_Pulse_Waves_MTA_Resolved - Scanner 1 - 190511_161726_1 - originalpoints.pls\n",
      "file_sig :  PulseWavesPulse\n",
      "global_params :  0\n",
      "file_id :  0\n",
      "proj_GUID1 :  1900857167\n",
      "proj_GUID2 :  41870\n",
      "proj_GUID3 :  138\n",
      "proj_GUID3 :  138\n",
      "sys_id :  RiPROCESS 1.8.5\n",
      "software :  PulseWaves DLL 0.3 r11 (150617) by rapidlasso\n",
      "file_day :  149\n",
      "file_year :  2019\n",
      "version_maj :  0\n",
      "version_min :  3\n",
      "header_size :  352\n",
      "offset_to_pulses :  9338\n",
      "num_pulses :  6104083\n",
      "pulse_format :  0\n",
      "pulse_attr :  0\n",
      "pulse_size :  48\n",
      "pulse_compression :  0\n",
      "reserved :  0\n",
      "num_vlr :  18\n",
      "num_avlr :  0\n",
      "t_scale :  1e-06\n",
      "t_offset :  0.0\n",
      "t_min :  577048595663\n",
      "t_max :  577077114980\n",
      "x_scale :  0.00025\n",
      "y_scale :  0.00025\n",
      "z_scale :  0.00025\n",
      "x_offset :  979895.0\n",
      "y_offset :  172379.0\n",
      "z_offset :  1139.0\n",
      "x_min :  979415.35275\n",
      "x_max :  980382.17575\n",
      "y_min :  172202.27225\n",
      "y_max :  174732.357\n",
      "z_min :  47.50549999999998\n",
      "z_max :  1406.8435\n"
     ]
    }
   ],
   "source": [
    "print_header(pulsewave,header_attrs)"
   ]
  },
  {
   "cell_type": "code",
   "execution_count": 18,
   "metadata": {},
   "outputs": [
    {
     "data": {
      "text/plain": [
       "18"
      ]
     },
     "execution_count": 18,
     "metadata": {},
     "output_type": "execute_result"
    }
   ],
   "source": [
    "\n"
   ]
  },
  {
   "cell_type": "code",
   "execution_count": null,
   "metadata": {},
   "outputs": [],
   "source": []
  }
 ],
 "metadata": {
  "kernelspec": {
   "display_name": "Python 3",
   "language": "python",
   "name": "python3"
  },
  "language_info": {
   "codemirror_mode": {
    "name": "ipython",
    "version": 3
   },
   "file_extension": ".py",
   "mimetype": "text/x-python",
   "name": "python",
   "nbconvert_exporter": "python",
   "pygments_lexer": "ipython3",
   "version": "3.6.9"
  }
 },
 "nbformat": 4,
 "nbformat_minor": 2
}
