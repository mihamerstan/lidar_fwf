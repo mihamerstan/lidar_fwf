{
 "cells": [
  {
   "cell_type": "code",
   "execution_count": 75,
   "metadata": {},
   "outputs": [],
   "source": [
    "import numpy as np\n",
    "import pandas as pd\n",
    "from scipy import stats\n",
    "from laspy.file import File\n",
    "import matplotlib.pyplot as plt\n",
    "from mpl_toolkits import mplot3d\n",
    "\n",
    "%matplotlib inline"
   ]
  },
  {
   "cell_type": "code",
   "execution_count": 2,
   "metadata": {},
   "outputs": [
    {
     "name": "stdout",
     "output_type": "stream",
     "text": [
      "Number of points, full waveform:  14542329\n"
     ]
    }
   ],
   "source": [
    "# Load the data using laspy\n",
    "#inFile_cloud = File('../../Data/164239/10552_NYU_M2 - Scanner 1 - 190511_164239_1 - originalpoints.las', mode='r')\n",
    "inFile_fwf = File('../../Data/164239/10552_NYU_M2 - Scanner 1 - 190511_164239_1 - originalpoints.las', mode='r')\n",
    "\n",
    "# raw is a 1-D numpy array, each entry is a point\n",
    "#raw_cloud = inFile_cloud.get_points()\n",
    "raw_fwf = inFile_fwf.get_points()\n",
    "#print(\"Number of points, point cloud: \",len(raw_cloud))\n",
    "print(\"Number of points, full waveform: \",len(raw_fwf))"
   ]
  },
  {
   "cell_type": "code",
   "execution_count": 3,
   "metadata": {},
   "outputs": [],
   "source": [
    "# Corresponds to LAS 1.4 Point Data Record Format 9\n",
    "# X coordinate of the point (must be adjusted by offset and scale factor)\n",
    "columns_fwf =[ \n",
    "    'X', \n",
    "    'Y',\n",
    "    'Z',\n",
    "    'intensity', #Intensity of the return, scaled to a 0-65,535 scale\n",
    "    'flag_byte', #Return number, # of returns, Scan direction flag (+ or -), Edge of flight line flag\n",
    "    'classification_flags', #Only if the point has been classified: vegetation, etc.\n",
    "    'classification_byte', #Various flags about the point\n",
    "    'user_data', \n",
    "    'scan_angle', # Down is 0.0, each unit is 0.006 degrees, \n",
    "    #so value between -30,000 and 30,000, or (180deg/0.006deg)\n",
    "    #Spec says this incorporates the roll of the aircraft\n",
    "    'pt_src_id', #Unique ID for the source of the point\n",
    "    'gps_time', #GPS Week Time (seconds, reset each week) or Adj Std GPS Time\n",
    "    'wave_packet_desc_index', # Indicates which waveform packet descriptor is applied.\n",
    "    'byte_offset_to_waveform_data', # Locates the WF data in EVLR or .wdp file.\n",
    "    'wavefm_pkt_size', # Size of the waveform packet\n",
    "    'return_point_waveform_loc', # Time in picoseconds \n",
    "    'x_t', # Form parametric location: X = X_0 + x_t*t\n",
    "    'y_t', # (X_0,Y_0,Z_0) is the anchor point associated with the waveform\n",
    "    'z_t' ]\n",
    "\n",
    "# Corresponds to LAS 1.4 Point Data Record Format 6\n",
    "columns_point_cloud = [\n",
    "    'X',\n",
    "    'Y',\n",
    "    'Z',\n",
    "    'intensity',\n",
    "    'flag_byte',\n",
    "    'classification_flags',\n",
    "    'classification_byte',\n",
    "    'user_data',\n",
    "    'scan_angle',\n",
    "    'pt_src_id',\n",
    "    'gps_time']"
   ]
  },
  {
   "cell_type": "code",
   "execution_count": 112,
   "metadata": {},
   "outputs": [],
   "source": [
    "def raw_to_df(raw,column_names):\n",
    "    '''function takes raw output of laspy.File.get_points() and column names, and returns a pandas Dataframe'''\n",
    "    raw_list = [a[0].tolist() for a in raw]\n",
    "    df = pd.DataFrame(raw_list,columns = column_names)\n",
    "    return df\n",
    "\n",
    "def scale_and_offset(df,header,append_to_df=False):\n",
    "    '''Function takes as input the dataframe output of raw_to_df and the laspy header file.\n",
    "       Output is a nx3 dataframe with adjusted X,Y, and Z coordinates, from the formula: \n",
    "       X_adj = X*X_scale + X_offset.\n",
    "       Brooklyn LiDAR readings appear to be in feet, and use NAVD 88 in the vertical and \n",
    "       New York Long Island State Plane Coordinate System NAD 33 in the horizontal.'''\n",
    "    offset = header.offset\n",
    "    scale = header.scale\n",
    "    scaled_xyz = df[['X','Y','Z']]*scale + offset\n",
    "    if append_to_df:\n",
    "        df['x_scaled'] = scaled_xyz['X']\n",
    "        df['y_scaled'] = scaled_xyz['Y']\n",
    "        df['z_scaled'] = scaled_xyz['Z'] \n",
    "        return df\n",
    "    else:\n",
    "        return scaled_xyz\n",
    "\n",
    "#INACTIVE FUNCTIONS\n",
    "def split_and_strip(raw):\n",
    "    '''Function takes the output ndarray of laspy File.get_points(), \n",
    "        splits each point on commas, \n",
    "        outputs a list of lists.'''\n",
    "    output_list = []\n",
    "    for row in raw:\n",
    "        stripped = [a.strip(\"( , )\") for a in str(row).split(',')]\n",
    "        output_list.append(stripped)\n",
    "    return output_list\n",
    "\n",
    "def row_clean(string_list):\n",
    "    '''Function takes as input a list of lists, the output of split_and_strip().  Cleans the entries for spaces,\n",
    "    returns a numpy array where each row is a point.'''\n",
    "    output_list = []\n",
    "    for row in string_list:        \n",
    "        output_list.append(list(map(float,row[:-1])))\n",
    "    output_arr = np.array(output_list)\n",
    "    return output_arr\n"
   ]
  },
  {
   "cell_type": "code",
   "execution_count": null,
   "metadata": {},
   "outputs": [],
   "source": [
    "# Create dataframes for point cloud and fwf\n",
    "#df_fwf = raw_to_df(raw_fwf,columns_fwf)\n",
    "#df_fwf = raw_to_df(raw_fwf,columns_fwf)\n",
    "\n",
    "# Generate adjusted coordinates for point cloud.  FWF is identical.\n",
    "las_points = scale_and_offset(df_fwf,inFile_fwf.header,append_to_df=True)"
   ]
  },
  {
   "cell_type": "code",
   "execution_count": 5,
   "metadata": {},
   "outputs": [],
   "source": [
    "#las_points.to_pickle(\"../../Data/pickles/las_points_164239.pkl\")\n",
    "las_points = pd.read_pickle(\"../../Data/pickles/las_points_164239.pkl\")"
   ]
  },
  {
   "cell_type": "markdown",
   "metadata": {},
   "source": [
    "## Nearby Points\n",
    "Looking at points around the end of the scan angle (nearby_df), as well points near the middle of the scan angle, directly down (down_df).  There seems to be some noise in the points at the end of the scan angle."
   ]
  },
  {
   "cell_type": "code",
   "execution_count": 88,
   "metadata": {},
   "outputs": [
    {
     "name": "stdout",
     "output_type": "stream",
     "text": [
      "Time range:  0.01502318200073205\n"
     ]
    }
   ],
   "source": [
    "# A handful of points at the end of the scan angle\n",
    "nearby_points = list(range(32645,32653))+list(range(33760,33767))+list(range(34870,34877))\n",
    "nearby_df = las_points.iloc[nearby_points]\n",
    "# Time range\n",
    "print(\"Time range: \",nearby_df['gps_time'].max() - nearby_df['gps_time'].min())"
   ]
  },
  {
   "cell_type": "code",
   "execution_count": 110,
   "metadata": {},
   "outputs": [],
   "source": [
    "# Filter for points between -1 and 1 degrees scan angle\n",
    "down_df = las_points[(las_points['scan_angle']<60)&(las_points['scan_angle']>-60)]"
   ]
  },
  {
   "cell_type": "code",
   "execution_count": 109,
   "metadata": {},
   "outputs": [
    {
     "data": {
      "text/plain": [
       "[<matplotlib.lines.Line2D at 0x1a4a5be2e8>]"
      ]
     },
     "execution_count": 109,
     "metadata": {},
     "output_type": "execute_result"
    },
    {
     "data": {
      "image/png": "[encoded data removed]",
      "text/plain": [
       "<Figure size 432x288 with 1 Axes>"
      ]
     },
     "metadata": {
      "needs_background": "light"
     },
     "output_type": "display_data"
    }
   ],
   "source": [
    "#Helicopter scan lines\n",
    "plt.plot(down_df['gps_time'][10000:10100],down_df['y_scaled'][10000:10100],'xb')"
   ]
  },
  {
   "cell_type": "code",
   "execution_count": 87,
   "metadata": {
    "scrolled": true
   },
   "outputs": [
    {
     "data": {
      "text/html": [
       "<div>\n",
       "<style scoped>\n",
       "    .dataframe tbody tr th:only-of-type {\n",
       "        vertical-align: middle;\n",
       "    }\n",
       "\n",
       "    .dataframe tbody tr th {\n",
       "        vertical-align: top;\n",
       "    }\n",
       "\n",
       "    .dataframe thead th {\n",
       "        text-align: right;\n",
       "    }\n",
       "</style>\n",
       "<table border=\"1\" class=\"dataframe\">\n",
       "  <thead>\n",
       "    <tr style=\"text-align: right;\">\n",
       "      <th></th>\n",
       "      <th>x_scaled</th>\n",
       "      <th>y_scaled</th>\n",
       "      <th>z_scaled</th>\n",
       "    </tr>\n",
       "  </thead>\n",
       "  <tbody>\n",
       "    <tr>\n",
       "      <th>32645</th>\n",
       "      <td>977635.746</td>\n",
       "      <td>176002.241</td>\n",
       "      <td>13.829</td>\n",
       "    </tr>\n",
       "    <tr>\n",
       "      <th>32646</th>\n",
       "      <td>977637.851</td>\n",
       "      <td>176001.788</td>\n",
       "      <td>10.914</td>\n",
       "    </tr>\n",
       "    <tr>\n",
       "      <th>32647</th>\n",
       "      <td>977638.523</td>\n",
       "      <td>176001.617</td>\n",
       "      <td>10.893</td>\n",
       "    </tr>\n",
       "    <tr>\n",
       "      <th>32648</th>\n",
       "      <td>977639.244</td>\n",
       "      <td>176001.435</td>\n",
       "      <td>10.899</td>\n",
       "    </tr>\n",
       "    <tr>\n",
       "      <th>32649</th>\n",
       "      <td>977638.468</td>\n",
       "      <td>176001.555</td>\n",
       "      <td>13.723</td>\n",
       "    </tr>\n",
       "    <tr>\n",
       "      <th>32650</th>\n",
       "      <td>977639.118</td>\n",
       "      <td>176001.385</td>\n",
       "      <td>13.838</td>\n",
       "    </tr>\n",
       "    <tr>\n",
       "      <th>32651</th>\n",
       "      <td>977639.887</td>\n",
       "      <td>176001.199</td>\n",
       "      <td>13.546</td>\n",
       "    </tr>\n",
       "    <tr>\n",
       "      <th>32652</th>\n",
       "      <td>977641.180</td>\n",
       "      <td>176000.908</td>\n",
       "      <td>12.255</td>\n",
       "    </tr>\n",
       "    <tr>\n",
       "      <th>33760</th>\n",
       "      <td>977639.160</td>\n",
       "      <td>176001.219</td>\n",
       "      <td>10.863</td>\n",
       "    </tr>\n",
       "    <tr>\n",
       "      <th>33761</th>\n",
       "      <td>977638.478</td>\n",
       "      <td>176001.316</td>\n",
       "      <td>13.584</td>\n",
       "    </tr>\n",
       "    <tr>\n",
       "      <th>33762</th>\n",
       "      <td>977639.810</td>\n",
       "      <td>176001.053</td>\n",
       "      <td>10.900</td>\n",
       "    </tr>\n",
       "    <tr>\n",
       "      <th>33763</th>\n",
       "      <td>977638.990</td>\n",
       "      <td>176001.181</td>\n",
       "      <td>13.802</td>\n",
       "    </tr>\n",
       "    <tr>\n",
       "      <th>33764</th>\n",
       "      <td>977639.675</td>\n",
       "      <td>176001.007</td>\n",
       "      <td>13.830</td>\n",
       "    </tr>\n",
       "    <tr>\n",
       "      <th>33765</th>\n",
       "      <td>977641.109</td>\n",
       "      <td>176000.685</td>\n",
       "      <td>12.341</td>\n",
       "    </tr>\n",
       "    <tr>\n",
       "      <th>33766</th>\n",
       "      <td>977641.801</td>\n",
       "      <td>176000.513</td>\n",
       "      <td>12.252</td>\n",
       "    </tr>\n",
       "    <tr>\n",
       "      <th>34870</th>\n",
       "      <td>977637.333</td>\n",
       "      <td>176000.720</td>\n",
       "      <td>13.814</td>\n",
       "    </tr>\n",
       "    <tr>\n",
       "      <th>34871</th>\n",
       "      <td>977638.085</td>\n",
       "      <td>176000.532</td>\n",
       "      <td>13.740</td>\n",
       "    </tr>\n",
       "    <tr>\n",
       "      <th>34872</th>\n",
       "      <td>977639.486</td>\n",
       "      <td>176000.256</td>\n",
       "      <td>10.916</td>\n",
       "    </tr>\n",
       "    <tr>\n",
       "      <th>34873</th>\n",
       "      <td>977639.776</td>\n",
       "      <td>176000.164</td>\n",
       "      <td>11.575</td>\n",
       "    </tr>\n",
       "    <tr>\n",
       "      <th>34874</th>\n",
       "      <td>977640.147</td>\n",
       "      <td>176000.051</td>\n",
       "      <td>12.261</td>\n",
       "    </tr>\n",
       "    <tr>\n",
       "      <th>34875</th>\n",
       "      <td>977640.164</td>\n",
       "      <td>176000.013</td>\n",
       "      <td>13.484</td>\n",
       "    </tr>\n",
       "    <tr>\n",
       "      <th>34876</th>\n",
       "      <td>977640.647</td>\n",
       "      <td>175999.881</td>\n",
       "      <td>13.828</td>\n",
       "    </tr>\n",
       "  </tbody>\n",
       "</table>\n",
       "</div>"
      ],
      "text/plain": [
       "         x_scaled    y_scaled  z_scaled\n",
       "32645  977635.746  176002.241    13.829\n",
       "32646  977637.851  176001.788    10.914\n",
       "32647  977638.523  176001.617    10.893\n",
       "32648  977639.244  176001.435    10.899\n",
       "32649  977638.468  176001.555    13.723\n",
       "32650  977639.118  176001.385    13.838\n",
       "32651  977639.887  176001.199    13.546\n",
       "32652  977641.180  176000.908    12.255\n",
       "33760  977639.160  176001.219    10.863\n",
       "33761  977638.478  176001.316    13.584\n",
       "33762  977639.810  176001.053    10.900\n",
       "33763  977638.990  176001.181    13.802\n",
       "33764  977639.675  176001.007    13.830\n",
       "33765  977641.109  176000.685    12.341\n",
       "33766  977641.801  176000.513    12.252\n",
       "34870  977637.333  176000.720    13.814\n",
       "34871  977638.085  176000.532    13.740\n",
       "34872  977639.486  176000.256    10.916\n",
       "34873  977639.776  176000.164    11.575\n",
       "34874  977640.147  176000.051    12.261\n",
       "34875  977640.164  176000.013    13.484\n",
       "34876  977640.647  175999.881    13.828"
      ]
     },
     "execution_count": 87,
     "metadata": {},
     "output_type": "execute_result"
    }
   ],
   "source": [
    "nearby_df[['x_scaled','y_scaled','z_scaled']]"
   ]
  },
  {
   "cell_type": "code",
   "execution_count": null,
   "metadata": {},
   "outputs": [],
   "source": []
  },
  {
   "cell_type": "code",
   "execution_count": null,
   "metadata": {},
   "outputs": [],
   "source": []
  },
  {
   "cell_type": "code",
   "execution_count": null,
   "metadata": {},
   "outputs": [],
   "source": []
  },
  {
   "cell_type": "code",
   "execution_count": null,
   "metadata": {},
   "outputs": [],
   "source": []
  },
  {
   "cell_type": "code",
   "execution_count": null,
   "metadata": {},
   "outputs": [],
   "source": []
  },
  {
   "cell_type": "code",
   "execution_count": null,
   "metadata": {},
   "outputs": [],
   "source": []
  },
  {
   "cell_type": "code",
   "execution_count": null,
   "metadata": {},
   "outputs": [],
   "source": []
  },
  {
   "cell_type": "code",
   "execution_count": null,
   "metadata": {},
   "outputs": [],
   "source": []
  },
  {
   "cell_type": "code",
   "execution_count": null,
   "metadata": {},
   "outputs": [],
   "source": []
  },
  {
   "cell_type": "code",
   "execution_count": null,
   "metadata": {},
   "outputs": [],
   "source": []
  }
 ],
 "metadata": {
  "kernelspec": {
   "display_name": "Python 3",
   "language": "python",
   "name": "python3"
  },
  "language_info": {
   "codemirror_mode": {
    "name": "ipython",
    "version": 3
   },
   "file_extension": ".py",
   "mimetype": "text/x-python",
   "name": "python",
   "nbconvert_exporter": "python",
   "pygments_lexer": "ipython3",
   "version": "3.7.3"
  }
 },
 "nbformat": 4,
 "nbformat_minor": 2
}
