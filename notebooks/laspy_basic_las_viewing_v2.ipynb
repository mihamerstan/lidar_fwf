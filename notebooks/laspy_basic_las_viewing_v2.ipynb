{
 "cells": [
  {
   "cell_type": "code",
   "execution_count": 1,
   "metadata": {},
   "outputs": [],
   "source": [
    "import numpy as np\n",
    "import pandas as pd\n",
    "from scipy import stats\n",
    "from laspy.file import File\n",
    "import matplotlib.pyplot as plt\n",
    "from mpl_toolkits import mplot3d\n",
    "\n",
    "%matplotlib inline"
   ]
  },
  {
   "cell_type": "code",
   "execution_count": null,
   "metadata": {},
   "outputs": [],
   "source": [
    "# Load the data using laspy\n",
    "#inFile_cloud = File('../../Data/164239/10552_NYU_M2 - Scanner 1 - 190511_164239_1 - originalpoints.las', mode='r')\n",
    "inFile_fwf = File('../../Data/172201/10552_NYU_M2 - Scanner 1 - 190511_172201_1 - originalpoints.las', mode='r')\n",
    "\n",
    "# raw is a 1-D numpy array, each entry is a point\n",
    "#raw_cloud = inFile_cloud.get_points()\n",
    "raw_fwf = inFile_fwf.get_points()\n",
    "#print(\"Number of points, point cloud: \",len(raw_cloud))\n",
    "print(\"Number of points, full waveform: \",len(raw_fwf))"
   ]
  },
  {
   "cell_type": "code",
   "execution_count": null,
   "metadata": {},
   "outputs": [],
   "source": [
    "inFile_fwf.header.min"
   ]
  },
  {
   "cell_type": "code",
   "execution_count": null,
   "metadata": {},
   "outputs": [],
   "source": []
  },
  {
   "cell_type": "code",
   "execution_count": 2,
   "metadata": {},
   "outputs": [],
   "source": [
    "# Corresponds to LAS 1.4 Point Data Record Format 9\n",
    "# X coordinate of the point (must be adjusted by offset and scale factor)\n",
    "columns_fwf =[ \n",
    "    'X', \n",
    "    'Y',\n",
    "    'Z',\n",
    "    'intensity', #Intensity of the return, scaled to a 0-65,535 scale\n",
    "    'flag_byte', #Return number, # of returns, Scan direction flag (+ or -), Edge of flight line flag\n",
    "    'classification_flags', #Only if the point has been classified: vegetation, etc.\n",
    "    'classification_byte', #Various flags about the point\n",
    "    'user_data', \n",
    "    'scan_angle', # Down is 0.0, each unit is 0.006 degrees, \n",
    "    #so value between -30,000 and 30,000, or (180deg/0.006deg)\n",
    "    #Spec says this incorporates the roll of the aircraft\n",
    "    'pt_src_id', #Unique ID for the source of the point\n",
    "    'gps_time', #GPS Week Time (seconds, reset each week) or Adj Std GPS Time\n",
    "    'wave_packet_desc_index', # Indicates which waveform packet descriptor is applied.\n",
    "    'byte_offset_to_waveform_data', # Locates the WF data in EVLR or .wdp file.\n",
    "    'wavefm_pkt_size', # Size of the waveform packet\n",
    "    'return_point_waveform_loc', # Time in picoseconds \n",
    "    'x_t', # Form parametric location: X = X_0 + x_t*t\n",
    "    'y_t', # (X_0,Y_0,Z_0) is the anchor point associated with the waveform\n",
    "    'z_t' ]\n",
    "\n",
    "# Corresponds to LAS 1.4 Point Data Record Format 6\n",
    "columns_point_cloud = [\n",
    "    'X',\n",
    "    'Y',\n",
    "    'Z',\n",
    "    'intensity',\n",
    "    'flag_byte',\n",
    "    'classification_flags',\n",
    "    'classification_byte',\n",
    "    'user_data',\n",
    "    'scan_angle',\n",
    "    'pt_src_id',\n",
    "    'gps_time']"
   ]
  },
  {
   "cell_type": "code",
   "execution_count": 3,
   "metadata": {},
   "outputs": [],
   "source": [
    "def raw_to_df(raw,column_names):\n",
    "    '''function takes raw output of laspy.File.get_points() and column names, and returns a pandas Dataframe'''\n",
    "    raw_list = [a[0].tolist() for a in raw]\n",
    "    df = pd.DataFrame(raw_list,columns = column_names)\n",
    "    return df\n",
    "\n",
    "def scale_and_offset(df,header,append_to_df=False):\n",
    "    '''Function takes as input the dataframe output of raw_to_df and the laspy header file.\n",
    "       Output is a nx3 dataframe with adjusted X,Y, and Z coordinates, from the formula: \n",
    "       X_adj = X*X_scale + X_offset.\n",
    "       Brooklyn LiDAR readings appear to be in feet, and use NAVD 88 in the vertical and \n",
    "       New York Long Island State Plane Coordinate System NAD 33 in the horizontal.'''\n",
    "    offset = header.offset\n",
    "    scale = header.scale\n",
    "    scaled_xyz = df[['X','Y','Z']]*scale + offset\n",
    "    if append_to_df:\n",
    "        df['x_scaled'] = scaled_xyz['X']\n",
    "        df['y_scaled'] = scaled_xyz['Y']\n",
    "        df['z_scaled'] = scaled_xyz['Z'] \n",
    "        return df\n",
    "    else:\n",
    "        return scaled_xyz\n",
    "\n",
    "#INACTIVE FUNCTIONS\n",
    "def split_and_strip(raw):\n",
    "    '''Function takes the output ndarray of laspy File.get_points(), \n",
    "        splits each point on commas, \n",
    "        outputs a list of lists.'''\n",
    "    output_list = []\n",
    "    for row in raw:\n",
    "        stripped = [a.strip(\"( , )\") for a in str(row).split(',')]\n",
    "        output_list.append(stripped)\n",
    "    return output_list\n",
    "\n",
    "def row_clean(string_list):\n",
    "    '''Function takes as input a list of lists, the output of split_and_strip().  Cleans the entries for spaces,\n",
    "    returns a numpy array where each row is a point.'''\n",
    "    output_list = []\n",
    "    for row in string_list:        \n",
    "        output_list.append(list(map(float,row[:-1])))\n",
    "    output_arr = np.array(output_list)\n",
    "    return output_arr\n"
   ]
  },
  {
   "cell_type": "code",
   "execution_count": null,
   "metadata": {},
   "outputs": [],
   "source": [
    "# Create dataframes for point cloud and fwf\n",
    "#df_fwf = raw_to_df(raw_fwf,columns_fwf)\n",
    "#df_fwf = raw_to_df(raw_fwf,columns_fwf)\n",
    "\n",
    "# Generate adjusted coordinates for point cloud.  FWF is identical.\n",
    "las_points = scale_and_offset(df_fwf,inFile_fwf.header,append_to_df=True)"
   ]
  },
  {
   "cell_type": "code",
   "execution_count": null,
   "metadata": {},
   "outputs": [],
   "source": [
    "#las_points.to_pickle(\"../../Data/pickles/las_points_164239.pkl\")\n",
    "las_points = pd.read_pickle(\"../../Data/pickles/las_points_164239.pkl\")"
   ]
  },
  {
   "cell_type": "code",
   "execution_count": null,
   "metadata": {},
   "outputs": [],
   "source": [
    "las_points['X'].max()"
   ]
  },
  {
   "cell_type": "markdown",
   "metadata": {},
   "source": [
    "## Nearby Points\n",
    "Looking at points around the end of the scan angle (nearby_df), as well points near the middle of the scan angle, directly down (down_df).  There seems to be some noise in the points at the end of the scan angle."
   ]
  },
  {
   "cell_type": "code",
   "execution_count": null,
   "metadata": {},
   "outputs": [],
   "source": [
    "# A handful of points at the end of the scan angle of file las_points_164239.pkl\n",
    "nearby_points = list(range(32645,32653))+list(range(33760,33767))+list(range(34870,34877))\n",
    "nearby_df = las_points.iloc[nearby_points]\n",
    "# Time range\n",
    "print(\"Time range: \",nearby_df['gps_time'].max() - nearby_df['gps_time'].min())"
   ]
  },
  {
   "cell_type": "code",
   "execution_count": null,
   "metadata": {},
   "outputs": [],
   "source": [
    "# Filter for points between -1 and 1 degrees scan angle\n",
    "down_df = las_points[(las_points['scan_angle']<60)&(las_points['scan_angle']>-60)]"
   ]
  },
  {
   "cell_type": "code",
   "execution_count": null,
   "metadata": {},
   "outputs": [],
   "source": [
    "#Helicopter scan lines\n",
    "plt.plot(down_df['gps_time'][10000:10100],down_df['y_scaled'][10000:10100],'xb')"
   ]
  },
  {
   "cell_type": "code",
   "execution_count": null,
   "metadata": {
    "scrolled": true
   },
   "outputs": [],
   "source": [
    "nearby_df[['x_scaled','y_scaled','z_scaled']]"
   ]
  },
  {
   "cell_type": "markdown",
   "metadata": {},
   "source": [
    "### Looking for specific Lat/Lon"
   ]
  },
  {
   "cell_type": "code",
   "execution_count": null,
   "metadata": {},
   "outputs": [],
   "source": [
    "def convert_lat_lon_to_dec(degrees,minutes,seconds):\n",
    "    return degrees + (minutes/60) + (seconds/3600)\n",
    "lat = convert_lat_lon_to_dec(40,38,38.8)\n",
    "lon = convert_lat_lon_to_dec(74,1,33.0)*-1\n",
    "print(\"Latitude: {:2.4f}\".format(lat))\n",
    "print(\"Longitude: {:2.4f}\".format(lon))"
   ]
  },
  {
   "cell_type": "code",
   "execution_count": null,
   "metadata": {},
   "outputs": [],
   "source": []
  },
  {
   "cell_type": "markdown",
   "metadata": {},
   "source": [
    "## Find max North, South, East, West points\n",
    "Max North: 164039\n",
    "Max South: 163206\n",
    "Max East: 172201\n",
    "Max West: 194702"
   ]
  },
  {
   "cell_type": "code",
   "execution_count": 4,
   "metadata": {},
   "outputs": [],
   "source": [
    "def max_cardinal_direction(filename,direction):\n",
    "    # Load the file\n",
    "    inFile = File(filename, mode='r')\n",
    "    if direction == \"North\":\n",
    "        return inFile.header.max[1]\n",
    "    elif direction == \"South\":\n",
    "        return inFile.header.min[1]\n",
    "    elif direction == \"East\":\n",
    "        return inFile.header.max[0]\n",
    "    elif direction == \"West\":\n",
    "        return inFile.header.min[0]"
   ]
  },
  {
   "cell_type": "code",
   "execution_count": 5,
   "metadata": {},
   "outputs": [],
   "source": [
    "max_north_file = '10552_NYU_M2 - Scanner 1 - 190511_164039_1 - originalpoints.laz'\n",
    "max_south_file = '10552_NYU_M2 - Scanner 1 - 190511_163206_1 - originalpoints.laz'\n",
    "max_east_file = '10552_NYU_M2 - Scanner 1 - 190511_172201_1 - originalpoints.laz'\n",
    "max_west_file = '10552_NYU_M3 - Scanner 1 - 190511_194702_1 - originalpoints.laz'\n",
    "\n",
    "maxes=[]\n",
    "\n",
    "# for card in zip([max_north_file,max_south_file,max_east_file,max_west_file],['North','South','East','West']):\n",
    "#     maxes.append(max_cardinal_direction('../../Data/max_coordinate_point_clouds/'+card[0],card[1]))"
   ]
  },
  {
   "cell_type": "code",
   "execution_count": 7,
   "metadata": {},
   "outputs": [],
   "source": [
    "inFile = File('../../Data/max_coordinate_point_clouds/'+max_north_file, mode='r')\n",
    "raw = inFile.get_points()\n",
    "df = raw_to_df(raw,columns_point_cloud)\n",
    "las_points = scale_and_offset(df,inFile.header,append_to_df=True)"
   ]
  },
  {
   "cell_type": "code",
   "execution_count": null,
   "metadata": {},
   "outputs": [],
   "source": [
    "df['gps_time'].max() - df['gps_time'].min()"
   ]
  },
  {
   "cell_type": "code",
   "execution_count": null,
   "metadata": {},
   "outputs": [],
   "source": [
    "57 seconds\n",
    "74 seconds, 19M points, ~2200 pts/scan\n"
   ]
  },
  {
   "cell_type": "code",
   "execution_count": null,
   "metadata": {},
   "outputs": [],
   "source": [
    "plt.plot(df['scan_angle'][1124780:1144780])"
   ]
  },
  {
   "cell_type": "code",
   "execution_count": 16,
   "metadata": {},
   "outputs": [],
   "source": [
    "def points_per_scan(scan_angle):\n",
    "    '''takes scan_angle as Series, counts the number of \"jumps\" in the scan angle, indicating start of a new scan\n",
    "    then divides the number of points in scan_angle to return points / scan'''\n",
    "    delta_angle = [scan_angle[i+1]-scan_angle[i] for i in range(len(scan_angle)-1)]\n",
    "    print(\"Done\")\n",
    "    scan_count = sum(np.array(delta_angle) > 4000)\n",
    "    print(\"Number of scans: {}\".format(scan_count))\n",
    "    print(\"Points per scan: {:2.2f}\".format(len(scan_angle)/scan_count))\n",
    "    return len(scan_angle)/scan_count, scan_count\n",
    "\n",
    "def scans_per_second(gps_time_series,scan_count):\n",
    "    run_time = gps_time_series.max() - gps_time_series.min()\n",
    "    print(\"Scans per second: {:2.2f}\".format(scan_count/run_time))\n",
    "    print(\"Points per second: {:2.2f}\".format(len(gps_time_series)/run_time))\n",
    "    return scan_count/run_time"
   ]
  },
  {
   "cell_type": "code",
   "execution_count": 31,
   "metadata": {},
   "outputs": [],
   "source": [
    "def distance_between_points(df):\n",
    "    ''' Need to remove the jumps.'''\n",
    "    x_dist_to_next = np.array([df['x_scaled'][i] - df['x_scaled'][i+1] for i in range(len(df)-1)])\n",
    "    y_dist_to_next = np.array([df['y_scaled'][i] - df['y_scaled'][i+1] for i in range(len(df)-1)])\n",
    "    eucl_dist_to_next = np.sqrt(x_dist_to_next**2+y_dist_to_next**2)\n",
    "    print(\"Avg Euclidean distance between points: {:2.2f}\".format(eucl_dist_to_next.mean()))"
   ]
  },
  {
   "cell_type": "code",
   "execution_count": 22,
   "metadata": {},
   "outputs": [
    {
     "data": {
      "text/html": [
       "<div>\n",
       "<style scoped>\n",
       "    .dataframe tbody tr th:only-of-type {\n",
       "        vertical-align: middle;\n",
       "    }\n",
       "\n",
       "    .dataframe tbody tr th {\n",
       "        vertical-align: top;\n",
       "    }\n",
       "\n",
       "    .dataframe thead th {\n",
       "        text-align: right;\n",
       "    }\n",
       "</style>\n",
       "<table border=\"1\" class=\"dataframe\">\n",
       "  <thead>\n",
       "    <tr style=\"text-align: right;\">\n",
       "      <th></th>\n",
       "      <th>X</th>\n",
       "      <th>Y</th>\n",
       "      <th>Z</th>\n",
       "      <th>intensity</th>\n",
       "      <th>flag_byte</th>\n",
       "      <th>classification_flags</th>\n",
       "      <th>classification_byte</th>\n",
       "      <th>user_data</th>\n",
       "      <th>scan_angle</th>\n",
       "      <th>pt_src_id</th>\n",
       "      <th>gps_time</th>\n",
       "      <th>x_scaled</th>\n",
       "      <th>y_scaled</th>\n",
       "      <th>z_scaled</th>\n",
       "    </tr>\n",
       "  </thead>\n",
       "  <tbody>\n",
       "    <tr>\n",
       "      <th>0</th>\n",
       "      <td>983139</td>\n",
       "      <td>-2293289</td>\n",
       "      <td>106763</td>\n",
       "      <td>2038</td>\n",
       "      <td>17</td>\n",
       "      <td>128</td>\n",
       "      <td>0</td>\n",
       "      <td>0</td>\n",
       "      <td>5129</td>\n",
       "      <td>53</td>\n",
       "      <td>60059.241431</td>\n",
       "      <td>977983.139</td>\n",
       "      <td>170706.711</td>\n",
       "      <td>106.763</td>\n",
       "    </tr>\n",
       "    <tr>\n",
       "      <th>1</th>\n",
       "      <td>983093</td>\n",
       "      <td>-2293299</td>\n",
       "      <td>105625</td>\n",
       "      <td>1932</td>\n",
       "      <td>17</td>\n",
       "      <td>0</td>\n",
       "      <td>0</td>\n",
       "      <td>0</td>\n",
       "      <td>5124</td>\n",
       "      <td>53</td>\n",
       "      <td>60059.241434</td>\n",
       "      <td>977983.093</td>\n",
       "      <td>170706.701</td>\n",
       "      <td>105.625</td>\n",
       "    </tr>\n",
       "    <tr>\n",
       "      <th>2</th>\n",
       "      <td>983129</td>\n",
       "      <td>-2293307</td>\n",
       "      <td>104404</td>\n",
       "      <td>1961</td>\n",
       "      <td>17</td>\n",
       "      <td>0</td>\n",
       "      <td>0</td>\n",
       "      <td>0</td>\n",
       "      <td>5119</td>\n",
       "      <td>53</td>\n",
       "      <td>60059.241436</td>\n",
       "      <td>977983.129</td>\n",
       "      <td>170706.693</td>\n",
       "      <td>104.404</td>\n",
       "    </tr>\n",
       "    <tr>\n",
       "      <th>3</th>\n",
       "      <td>975857</td>\n",
       "      <td>-2293632</td>\n",
       "      <td>115330</td>\n",
       "      <td>1109</td>\n",
       "      <td>33</td>\n",
       "      <td>0</td>\n",
       "      <td>0</td>\n",
       "      <td>0</td>\n",
       "      <td>5114</td>\n",
       "      <td>53</td>\n",
       "      <td>60059.241439</td>\n",
       "      <td>977975.857</td>\n",
       "      <td>170706.368</td>\n",
       "      <td>115.330</td>\n",
       "    </tr>\n",
       "    <tr>\n",
       "      <th>4</th>\n",
       "      <td>983093</td>\n",
       "      <td>-2293319</td>\n",
       "      <td>103126</td>\n",
       "      <td>477</td>\n",
       "      <td>34</td>\n",
       "      <td>0</td>\n",
       "      <td>0</td>\n",
       "      <td>0</td>\n",
       "      <td>5114</td>\n",
       "      <td>53</td>\n",
       "      <td>60059.241439</td>\n",
       "      <td>977983.093</td>\n",
       "      <td>170706.681</td>\n",
       "      <td>103.126</td>\n",
       "    </tr>\n",
       "  </tbody>\n",
       "</table>\n",
       "</div>"
      ],
      "text/plain": [
       "        X        Y       Z  intensity  flag_byte  classification_flags  \\\n",
       "0  983139 -2293289  106763       2038         17                   128   \n",
       "1  983093 -2293299  105625       1932         17                     0   \n",
       "2  983129 -2293307  104404       1961         17                     0   \n",
       "3  975857 -2293632  115330       1109         33                     0   \n",
       "4  983093 -2293319  103126        477         34                     0   \n",
       "\n",
       "   classification_byte  user_data  scan_angle  pt_src_id      gps_time  \\\n",
       "0                    0          0        5129         53  60059.241431   \n",
       "1                    0          0        5124         53  60059.241434   \n",
       "2                    0          0        5119         53  60059.241436   \n",
       "3                    0          0        5114         53  60059.241439   \n",
       "4                    0          0        5114         53  60059.241439   \n",
       "\n",
       "     x_scaled    y_scaled  z_scaled  \n",
       "0  977983.139  170706.711   106.763  \n",
       "1  977983.093  170706.701   105.625  \n",
       "2  977983.129  170706.693   104.404  \n",
       "3  977975.857  170706.368   115.330  \n",
       "4  977983.093  170706.681   103.126  "
      ]
     },
     "execution_count": 22,
     "metadata": {},
     "output_type": "execute_result"
    }
   ],
   "source": [
    "las_points = scale_and_offset(df,inFile.header,append_to_df=True)\n",
    "las_points.head()"
   ]
  },
  {
   "cell_type": "code",
   "execution_count": 30,
   "metadata": {},
   "outputs": [
    {
     "name": "stdout",
     "output_type": "stream",
     "text": [
      "Avg Euclidean distance between points: 1.66\n"
     ]
    }
   ],
   "source": [
    "distance_between_points(las_points.iloc[:100000])"
   ]
  },
  {
   "cell_type": "code",
   "execution_count": null,
   "metadata": {},
   "outputs": [],
   "source": []
  },
  {
   "cell_type": "code",
   "execution_count": null,
   "metadata": {},
   "outputs": [],
   "source": []
  }
 ],
 "metadata": {
  "kernelspec": {
   "display_name": "Python 3",
   "language": "python",
   "name": "python3"
  },
  "language_info": {
   "codemirror_mode": {
    "name": "ipython",
    "version": 3
   },
   "file_extension": ".py",
   "mimetype": "text/x-python",
   "name": "python",
   "nbconvert_exporter": "python",
   "pygments_lexer": "ipython3",
   "version": "3.7.3"
  }
 },
 "nbformat": 4,
 "nbformat_minor": 2
}
