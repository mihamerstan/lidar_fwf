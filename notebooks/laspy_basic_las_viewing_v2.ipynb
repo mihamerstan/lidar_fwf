{
 "cells": [
  {
   "cell_type": "code",
   "execution_count": 11,
   "metadata": {},
   "outputs": [],
   "source": [
    "import numpy as np\n",
    "import pandas as pd\n",
    "from scipy import stats\n",
    "from laspy.file import File\n",
    "import matplotlib.pyplot as plt\n",
    "from mpl_toolkits import mplot3d\n",
    "\n",
    "%matplotlib notebook\n",
    "import plotly.graph_objects as go"
   ]
  },
  {
   "cell_type": "code",
   "execution_count": 2,
   "metadata": {},
   "outputs": [],
   "source": [
    "# Load the data using laspy\n",
    "inFile = File('../../Data/164239/10552_NYU_M2 - Scanner 1 - 190511_164239_1 - originalpoints.las', mode='r')\n",
    "\n",
    "# raw is a 1-D numpy array, each entry is a point\n",
    "#raw = inFile_fwf.get_points()\n",
    "\n",
    "#print(\"Number of points, full waveform: \",len(raw))"
   ]
  },
  {
   "cell_type": "code",
   "execution_count": 3,
   "metadata": {},
   "outputs": [],
   "source": [
    "# Corresponds to LAS 1.4 Point Data Record Format 9\n",
    "# X coordinate of the point (must be adjusted by offset and scale factor)\n",
    "columns_fwf =[ \n",
    "    'X', \n",
    "    'Y',\n",
    "    'Z',\n",
    "    'intensity', #Intensity of the return, scaled to a 0-65,535 scale\n",
    "    'flag_byte', #Return number, # of returns, Scan direction flag (+ or -), Edge of flight line flag\n",
    "    'classification_flags', #Only if the point has been classified: vegetation, etc.\n",
    "    'classification_byte', #Various flags about the point\n",
    "    'user_data', \n",
    "    'scan_angle', # Down is 0.0, each unit is 0.006 degrees, \n",
    "    #so value between -30,000 and 30,000, or (180deg/0.006deg)\n",
    "    #Spec says this incorporates the roll of the aircraft\n",
    "    'pt_src_id', #Unique ID for the source of the point\n",
    "    'gps_time', #GPS Week Time (seconds, reset each week) or Adj Std GPS Time\n",
    "    'wave_packet_desc_index', # Indicates which waveform packet descriptor is applied.\n",
    "    'byte_offset_to_waveform_data', # Locates the WF data in EVLR or .wdp file.\n",
    "    'wavefm_pkt_size', # Size of the waveform packet\n",
    "    'return_point_waveform_loc', # Time in picoseconds \n",
    "    'x_t', # Form parametric location: X = X_0 + x_t*t\n",
    "    'y_t', # (X_0,Y_0,Z_0) is the anchor point associated with the waveform\n",
    "    'z_t' ]\n",
    "\n",
    "# Corresponds to LAS 1.4 Point Data Record Format 6\n",
    "columns_point_cloud = [\n",
    "    'X',\n",
    "    'Y',\n",
    "    'Z',\n",
    "    'intensity',\n",
    "    'flag_byte',\n",
    "    'classification_flags',\n",
    "    'classification_byte',\n",
    "    'user_data',\n",
    "    'scan_angle',\n",
    "    'pt_src_id',\n",
    "    'gps_time']\n",
    "\n",
    "# Corresponds to LAS 1.2 Point Data Record Format 1\n",
    "columns_dublin_pt_cloud = [\n",
    "    'X',\n",
    "    'Y',\n",
    "    'Z',\n",
    "    'intensity',\n",
    "    'return_number_byte',\n",
    "    'classification_byte',\n",
    "    'scan_angle',\n",
    "    'user_data',\n",
    "    'pt_src_id',\n",
    "    'gps_time']"
   ]
  },
  {
   "cell_type": "code",
   "execution_count": 4,
   "metadata": {},
   "outputs": [],
   "source": [
    "def raw_to_df(raw,column_names):\n",
    "    '''function takes raw output of laspy.File.get_points() and column names, and returns a pandas Dataframe'''\n",
    "    raw_list = [a[0].tolist() for a in raw]\n",
    "    df = pd.DataFrame(raw_list,columns = column_names)\n",
    "    return df\n",
    "\n",
    "def scale_and_offset(df,header,append_to_df=False):\n",
    "    '''Function takes as input the dataframe output of raw_to_df and the laspy header file.\n",
    "       Output is a nx3 dataframe with adjusted X,Y, and Z coordinates, from the formula: \n",
    "       X_adj = X*X_scale + X_offset.\n",
    "       Brooklyn LiDAR readings appear to be in feet, and use NAVD 88 in the vertical and \n",
    "       New York Long Island State Plane Coordinate System NAD 33 in the horizontal.'''\n",
    "    offset = header.offset\n",
    "    scale = header.scale\n",
    "    scaled_xyz = df[['X','Y','Z']]*scale + offset\n",
    "    if append_to_df:\n",
    "        df['x_scaled'] = scaled_xyz['X']\n",
    "        df['y_scaled'] = scaled_xyz['Y']\n",
    "        df['z_scaled'] = scaled_xyz['Z'] \n",
    "        return df\n",
    "    else:\n",
    "        return scaled_xyz\n",
    "\n",
    "#INACTIVE FUNCTIONS\n",
    "def split_and_strip(raw):\n",
    "    '''Function takes the output ndarray of laspy File.get_points(), \n",
    "        splits each point on commas, \n",
    "        outputs a list of lists.'''\n",
    "    output_list = []\n",
    "    for row in raw:\n",
    "        stripped = [a.strip(\"( , )\") for a in str(row).split(',')]\n",
    "        output_list.append(stripped)\n",
    "    return output_list\n",
    "\n",
    "def row_clean(string_list):\n",
    "    '''Function takes as input a list of lists, the output of split_and_strip().  Cleans the entries for spaces,\n",
    "    returns a numpy array where each row is a point.'''\n",
    "    output_list = []\n",
    "    for row in string_list:        \n",
    "        output_list.append(list(map(float,row[:-1])))\n",
    "    output_arr = np.array(output_list)\n",
    "    return output_arr\n"
   ]
  },
  {
   "cell_type": "code",
   "execution_count": null,
   "metadata": {},
   "outputs": [],
   "source": [
    "# Create dataframes for point cloud and fwf\n",
    "df = raw_to_df(raw,columns_fwf)\n",
    "\n",
    "# Generate adjusted coordinates for point cloud.  FWF is identical.\n",
    "las_points = scale_and_offset(df,inFile.header,append_to_df=True)"
   ]
  },
  {
   "cell_type": "code",
   "execution_count": 29,
   "metadata": {},
   "outputs": [],
   "source": [
    "#las_points.to_pickle(\"../../Data/pickles/las_points_164239.pkl\")\n",
    "las_points = pd.read_pickle(\"../../Data/parking_lot//las_points_164239.pkl\")"
   ]
  },
  {
   "cell_type": "markdown",
   "metadata": {},
   "source": [
    "## Flat surface\n",
    "Identifying points in a parking lot to assess how consistently flat they are.  \n",
    "Center point: 40.645872, -74.025991  \n",
    "Easting - 977037.343  \n",
    "Northing - 174586.034     "
   ]
  },
  {
   "cell_type": "code",
   "execution_count": 30,
   "metadata": {},
   "outputs": [
    {
     "name": "stdout",
     "output_type": "stream",
     "text": [
      "Point count in square: 135\n"
     ]
    }
   ],
   "source": [
    "# Extract points within a square around the desired point\n",
    "pt_x = 977037.343\n",
    "pt_y = 174586.034\n",
    "feet_from_point = 4\n",
    "\n",
    "square_points = las_points[ (las_points['x_scaled'] < pt_x + feet_from_point)\n",
    "           &(las_points['x_scaled'] > pt_x - feet_from_point) \n",
    "           &(las_points['y_scaled'] < pt_y + feet_from_point)\n",
    "           &(las_points['y_scaled'] > pt_y - feet_from_point)\n",
    "          ]\n",
    "print(\"Point count in square: {:d}\".format(square_points.shape[0]))"
   ]
  },
  {
   "cell_type": "code",
   "execution_count": 20,
   "metadata": {
    "scrolled": true
   },
   "outputs": [
    {
     "data": {
      "text/html": [
       "<div>\n",
       "<style scoped>\n",
       "    .dataframe tbody tr th:only-of-type {\n",
       "        vertical-align: middle;\n",
       "    }\n",
       "\n",
       "    .dataframe tbody tr th {\n",
       "        vertical-align: top;\n",
       "    }\n",
       "\n",
       "    .dataframe thead th {\n",
       "        text-align: right;\n",
       "    }\n",
       "</style>\n",
       "<table border=\"1\" class=\"dataframe\">\n",
       "  <thead>\n",
       "    <tr style=\"text-align: right;\">\n",
       "      <th></th>\n",
       "      <th>x_scaled</th>\n",
       "      <th>y_scaled</th>\n",
       "      <th>z_scaled</th>\n",
       "    </tr>\n",
       "  </thead>\n",
       "  <tbody>\n",
       "    <tr>\n",
       "      <th>count</th>\n",
       "      <td>135.000000</td>\n",
       "      <td>135.000000</td>\n",
       "      <td>135.000000</td>\n",
       "    </tr>\n",
       "    <tr>\n",
       "      <th>mean</th>\n",
       "      <td>977037.315644</td>\n",
       "      <td>174586.010719</td>\n",
       "      <td>7.406859</td>\n",
       "    </tr>\n",
       "    <tr>\n",
       "      <th>std</th>\n",
       "      <td>2.332759</td>\n",
       "      <td>2.241615</td>\n",
       "      <td>0.036564</td>\n",
       "    </tr>\n",
       "    <tr>\n",
       "      <th>min</th>\n",
       "      <td>977033.347000</td>\n",
       "      <td>174582.071000</td>\n",
       "      <td>7.323000</td>\n",
       "    </tr>\n",
       "    <tr>\n",
       "      <th>25%</th>\n",
       "      <td>977035.277500</td>\n",
       "      <td>174584.082500</td>\n",
       "      <td>7.382500</td>\n",
       "    </tr>\n",
       "    <tr>\n",
       "      <th>50%</th>\n",
       "      <td>977037.281000</td>\n",
       "      <td>174586.213000</td>\n",
       "      <td>7.402000</td>\n",
       "    </tr>\n",
       "    <tr>\n",
       "      <th>75%</th>\n",
       "      <td>977039.416500</td>\n",
       "      <td>174587.669000</td>\n",
       "      <td>7.424000</td>\n",
       "    </tr>\n",
       "    <tr>\n",
       "      <th>max</th>\n",
       "      <td>977041.272000</td>\n",
       "      <td>174590.004000</td>\n",
       "      <td>7.521000</td>\n",
       "    </tr>\n",
       "  </tbody>\n",
       "</table>\n",
       "</div>"
      ],
      "text/plain": [
       "            x_scaled       y_scaled    z_scaled\n",
       "count     135.000000     135.000000  135.000000\n",
       "mean   977037.315644  174586.010719    7.406859\n",
       "std         2.332759       2.241615    0.036564\n",
       "min    977033.347000  174582.071000    7.323000\n",
       "25%    977035.277500  174584.082500    7.382500\n",
       "50%    977037.281000  174586.213000    7.402000\n",
       "75%    977039.416500  174587.669000    7.424000\n",
       "max    977041.272000  174590.004000    7.521000"
      ]
     },
     "execution_count": 20,
     "metadata": {},
     "output_type": "execute_result"
    }
   ],
   "source": [
    "square_points[['x_scaled','y_scaled','z_scaled']].describe()"
   ]
  },
  {
   "cell_type": "code",
   "execution_count": 27,
   "metadata": {
    "scrolled": true
   },
   "outputs": [
    {
     "data": {
      "application/vnd.plotly.v1+json": {
       "config": {
        "plotlyServerURL": "https://plot.ly"
       },
       "data": [
        {
         "marker": {
          "color": 2,
          "size": 4
         },
         "mode": "markers",
         "type": "scatter3d",
         "x": [
          977039.601,
          977040.194,
          977040.783,
          977037.961,
          977038.547,
          977039.136,
          977039.725,
          977040.389,
          977040.9940000001,
          977033.4400000001,
          977034.106,
          977034.718,
          977035.329,
          977035.957,
          977036.55,
          977037.136,
          977037.748,
          977038.366,
          977039.0260000001,
          977039.596,
          977040.256,
          977040.829,
          977033.713,
          977034.341,
          977034.9500000001,
          977035.53,
          977036.145,
          977036.76,
          977037.407,
          977037.993,
          977038.633,
          977039.213,
          977039.828,
          977040.405,
          977041.061,
          977033.3470000001,
          977033.9720000001,
          977034.539,
          977035.202,
          977035.826,
          977036.429,
          977037.063,
          977037.658,
          977038.2320000001,
          977038.8470000001,
          977039.459,
          977040.125,
          977040.708,
          977033.539,
          977034.209,
          977034.785,
          977035.426,
          977036.015,
          977036.6140000001,
          977037.203,
          977037.85,
          977038.462,
          977039.09,
          977039.702,
          977040.307,
          977040.8960000001,
          977033.448,
          977034.054,
          977034.64,
          977035.242,
          977035.87,
          977036.533,
          977037.1,
          977037.753,
          977038.3300000001,
          977038.929,
          977039.515,
          977040.172,
          977040.796,
          977033.588,
          977034.241,
          977034.866,
          977035.475,
          977036.096,
          977036.7050000001,
          977037.2810000001,
          977037.89,
          977038.5210000001,
          977039.1680000001,
          977039.747,
          977040.404,
          977040.971,
          977033.8300000001,
          977034.49,
          977035.076,
          977035.669,
          977036.261,
          977036.921,
          977037.533,
          977038.1510000001,
          977038.769,
          977039.3740000001,
          977039.964,
          977040.563,
          977041.2000000001,
          977033.429,
          977034.022,
          977034.6140000001,
          977035.236,
          977035.902,
          977036.4720000001,
          977037.135,
          977037.715,
          977038.311,
          977038.9060000001,
          977039.55,
          977040.175,
          977040.7930000001,
          977033.9720000001,
          977034.5750000001,
          977035.206,
          977035.8080000001,
          977036.3840000001,
          977036.986,
          977037.617,
          977038.28,
          977038.851,
          977039.5040000001,
          977040.1,
          977040.6950000001,
          977041.272,
          977033.5580000001,
          977034.131,
          977034.73,
          977035.313,
          977035.97,
          977036.594,
          977037.2000000001,
          977037.828,
          977033.7710000001
         ],
         "y": [
          174590.00400000002,
          174589.886,
          174589.768,
          174589.946,
          174589.829,
          174589.711,
          174589.593,
          174589.46,
          174589.339,
          174589.775,
          174589.642,
          174589.519,
          174589.397,
          174589.272,
          174589.152,
          174589.034,
          174588.913,
          174588.789,
          174588.657,
          174588.54200000002,
          174588.411,
          174588.296,
          174588.64,
          174588.514,
          174588.393,
          174588.277,
          174588.154,
          174588.03100000002,
          174587.901,
          174587.785,
          174587.65600000002,
          174587.54,
          174587.41700000002,
          174587.302,
          174587.171,
          174587.954,
          174587.829,
          174587.71600000001,
          174587.583,
          174587.458,
          174587.33800000002,
          174587.212,
          174587.092,
          174586.978,
          174586.855,
          174586.73200000002,
          174586.59900000002,
          174586.483,
          174587.682,
          174587.548,
          174587.433,
          174587.305,
          174587.187,
          174587.068,
          174586.95,
          174586.821,
          174586.698,
          174586.573,
          174586.451,
          174586.331,
          174586.21300000002,
          174586.996,
          174586.876,
          174586.759,
          174586.639,
          174586.514,
          174586.382,
          174586.269,
          174586.138,
          174586.02300000002,
          174585.903,
          174585.787,
          174585.65600000002,
          174585.53100000002,
          174586.045,
          174585.916,
          174585.79,
          174585.669,
          174585.544,
          174585.423,
          174585.308,
          174585.187,
          174585.06100000002,
          174584.932,
          174584.816,
          174584.685,
          174584.57200000001,
          174585.06100000002,
          174584.929,
          174584.812,
          174584.69400000002,
          174584.576,
          174584.44400000002,
          174584.32200000001,
          174584.199,
          174584.076,
          174583.95500000002,
          174583.83800000002,
          174583.718,
          174583.59100000001,
          174584.696,
          174584.577,
          174584.46,
          174584.335,
          174584.202,
          174584.089,
          174583.957,
          174583.842,
          174583.723,
          174583.604,
          174583.475,
          174583.351,
          174583.228,
          174583.736,
          174583.617,
          174583.491,
          174583.372,
          174583.256,
          174583.136,
          174583.011,
          174582.87900000002,
          174582.765,
          174582.635,
          174582.517,
          174582.39800000002,
          174582.283,
          174582.957,
          174582.843,
          174582.72400000002,
          174582.608,
          174582.477,
          174582.353,
          174582.23200000002,
          174582.106,
          174582.071
         ],
         "z": [
          7.365,
          7.352,
          7.36,
          7.346,
          7.344,
          7.323,
          7.3580000000000005,
          7.365,
          7.3790000000000004,
          7.34,
          7.356,
          7.371,
          7.372,
          7.3870000000000005,
          7.391,
          7.359,
          7.402,
          7.367,
          7.389,
          7.381,
          7.391,
          7.396,
          7.381,
          7.375,
          7.381,
          7.4190000000000005,
          7.4,
          7.3950000000000005,
          7.389,
          7.375,
          7.389,
          7.363,
          7.402,
          7.404,
          7.415,
          7.3950000000000005,
          7.408,
          7.402,
          7.412,
          7.407,
          7.4190000000000005,
          7.399,
          7.421,
          7.415,
          7.369,
          7.393,
          7.409,
          7.415,
          7.393,
          7.382000000000001,
          7.392,
          7.397,
          7.392,
          7.407,
          7.417,
          7.4,
          7.378,
          7.409,
          7.3870000000000005,
          7.413,
          7.418,
          7.4030000000000005,
          7.405,
          7.431,
          7.4030000000000005,
          7.424,
          7.424,
          7.424,
          7.413,
          7.414000000000001,
          7.43,
          7.426,
          7.438,
          7.428,
          7.388,
          7.382000000000001,
          7.41,
          7.424,
          7.421,
          7.426,
          7.437,
          7.437,
          7.422000000000001,
          7.442,
          7.4590000000000005,
          7.478,
          7.474,
          7.393,
          7.41,
          7.386,
          7.385,
          7.4110000000000005,
          7.429,
          7.43,
          7.465,
          7.479,
          7.472,
          7.487,
          7.495,
          7.498,
          7.381,
          7.389,
          7.3660000000000005,
          7.376,
          7.383,
          7.399,
          7.401,
          7.432,
          7.425,
          7.446,
          7.469,
          7.493,
          7.457,
          7.375,
          7.396,
          7.390000000000001,
          7.363,
          7.4,
          7.3950000000000005,
          7.424,
          7.458,
          7.439,
          7.439,
          7.4990000000000006,
          7.521,
          7.494,
          7.390000000000001,
          7.367,
          7.3420000000000005,
          7.375,
          7.389,
          7.406000000000001,
          7.409,
          7.425,
          7.3790000000000004
         ]
        }
       ],
       "layout": {
        "margin": {
         "b": 10,
         "l": 10,
         "r": 20,
         "t": 10
        },
        "scene": {
         "xaxis": {
          "nticks": 4,
          "range": [
           977030,
           977045
          ]
         },
         "yaxis": {
          "nticks": 4,
          "range": [
           174581,
           174591
          ]
         },
         "zaxis": {
          "nticks": 4,
          "range": [
           7,
           8
          ]
         }
        },
        "template": {
         "data": {
          "bar": [
           {
            "error_x": {
             "color": "#2a3f5f"
            },
            "error_y": {
             "color": "#2a3f5f"
            },
            "marker": {
             "line": {
              "color": "#E5ECF6",
              "width": 0.5
             }
            },
            "type": "bar"
           }
          ],
          "barpolar": [
           {
            "marker": {
             "line": {
              "color": "#E5ECF6",
              "width": 0.5
             }
            },
            "type": "barpolar"
           }
          ],
          "carpet": [
           {
            "aaxis": {
             "endlinecolor": "#2a3f5f",
             "gridcolor": "white",
             "linecolor": "white",
             "minorgridcolor": "white",
             "startlinecolor": "#2a3f5f"
            },
            "baxis": {
             "endlinecolor": "#2a3f5f",
             "gridcolor": "white",
             "linecolor": "white",
             "minorgridcolor": "white",
             "startlinecolor": "#2a3f5f"
            },
            "type": "carpet"
           }
          ],
          "choropleth": [
           {
            "colorbar": {
             "outlinewidth": 0,
             "ticks": ""
            },
            "type": "choropleth"
           }
          ],
          "contour": [
           {
            "colorbar": {
             "outlinewidth": 0,
             "ticks": ""
            },
            "colorscale": [
             [
              0,
              "#0d0887"
             ],
             [
              0.1111111111111111,
              "#46039f"
             ],
             [
              0.2222222222222222,
              "#7201a8"
             ],
             [
              0.3333333333333333,
              "#9c179e"
             ],
             [
              0.4444444444444444,
              "#bd3786"
             ],
             [
              0.5555555555555556,
              "#d8576b"
             ],
             [
              0.6666666666666666,
              "#ed7953"
             ],
             [
              0.7777777777777778,
              "#fb9f3a"
             ],
             [
              0.8888888888888888,
              "#fdca26"
             ],
             [
              1,
              "#f0f921"
             ]
            ],
            "type": "contour"
           }
          ],
          "contourcarpet": [
           {
            "colorbar": {
             "outlinewidth": 0,
             "ticks": ""
            },
            "type": "contourcarpet"
           }
          ],
          "heatmap": [
           {
            "colorbar": {
             "outlinewidth": 0,
             "ticks": ""
            },
            "colorscale": [
             [
              0,
              "#0d0887"
             ],
             [
              0.1111111111111111,
              "#46039f"
             ],
             [
              0.2222222222222222,
              "#7201a8"
             ],
             [
              0.3333333333333333,
              "#9c179e"
             ],
             [
              0.4444444444444444,
              "#bd3786"
             ],
             [
              0.5555555555555556,
              "#d8576b"
             ],
             [
              0.6666666666666666,
              "#ed7953"
             ],
             [
              0.7777777777777778,
              "#fb9f3a"
             ],
             [
              0.8888888888888888,
              "#fdca26"
             ],
             [
              1,
              "#f0f921"
             ]
            ],
            "type": "heatmap"
           }
          ],
          "heatmapgl": [
           {
            "colorbar": {
             "outlinewidth": 0,
             "ticks": ""
            },
            "colorscale": [
             [
              0,
              "#0d0887"
             ],
             [
              0.1111111111111111,
              "#46039f"
             ],
             [
              0.2222222222222222,
              "#7201a8"
             ],
             [
              0.3333333333333333,
              "#9c179e"
             ],
             [
              0.4444444444444444,
              "#bd3786"
             ],
             [
              0.5555555555555556,
              "#d8576b"
             ],
             [
              0.6666666666666666,
              "#ed7953"
             ],
             [
              0.7777777777777778,
              "#fb9f3a"
             ],
             [
              0.8888888888888888,
              "#fdca26"
             ],
             [
              1,
              "#f0f921"
             ]
            ],
            "type": "heatmapgl"
           }
          ],
          "histogram": [
           {
            "marker": {
             "colorbar": {
              "outlinewidth": 0,
              "ticks": ""
             }
            },
            "type": "histogram"
           }
          ],
          "histogram2d": [
           {
            "colorbar": {
             "outlinewidth": 0,
             "ticks": ""
            },
            "colorscale": [
             [
              0,
              "#0d0887"
             ],
             [
              0.1111111111111111,
              "#46039f"
             ],
             [
              0.2222222222222222,
              "#7201a8"
             ],
             [
              0.3333333333333333,
              "#9c179e"
             ],
             [
              0.4444444444444444,
              "#bd3786"
             ],
             [
              0.5555555555555556,
              "#d8576b"
             ],
             [
              0.6666666666666666,
              "#ed7953"
             ],
             [
              0.7777777777777778,
              "#fb9f3a"
             ],
             [
              0.8888888888888888,
              "#fdca26"
             ],
             [
              1,
              "#f0f921"
             ]
            ],
            "type": "histogram2d"
           }
          ],
          "histogram2dcontour": [
           {
            "colorbar": {
             "outlinewidth": 0,
             "ticks": ""
            },
            "colorscale": [
             [
              0,
              "#0d0887"
             ],
             [
              0.1111111111111111,
              "#46039f"
             ],
             [
              0.2222222222222222,
              "#7201a8"
             ],
             [
              0.3333333333333333,
              "#9c179e"
             ],
             [
              0.4444444444444444,
              "#bd3786"
             ],
             [
              0.5555555555555556,
              "#d8576b"
             ],
             [
              0.6666666666666666,
              "#ed7953"
             ],
             [
              0.7777777777777778,
              "#fb9f3a"
             ],
             [
              0.8888888888888888,
              "#fdca26"
             ],
             [
              1,
              "#f0f921"
             ]
            ],
            "type": "histogram2dcontour"
           }
          ],
          "mesh3d": [
           {
            "colorbar": {
             "outlinewidth": 0,
             "ticks": ""
            },
            "type": "mesh3d"
           }
          ],
          "parcoords": [
           {
            "line": {
             "colorbar": {
              "outlinewidth": 0,
              "ticks": ""
             }
            },
            "type": "parcoords"
           }
          ],
          "pie": [
           {
            "automargin": true,
            "type": "pie"
           }
          ],
          "scatter": [
           {
            "marker": {
             "colorbar": {
              "outlinewidth": 0,
              "ticks": ""
             }
            },
            "type": "scatter"
           }
          ],
          "scatter3d": [
           {
            "line": {
             "colorbar": {
              "outlinewidth": 0,
              "ticks": ""
             }
            },
            "marker": {
             "colorbar": {
              "outlinewidth": 0,
              "ticks": ""
             }
            },
            "type": "scatter3d"
           }
          ],
          "scattercarpet": [
           {
            "marker": {
             "colorbar": {
              "outlinewidth": 0,
              "ticks": ""
             }
            },
            "type": "scattercarpet"
           }
          ],
          "scattergeo": [
           {
            "marker": {
             "colorbar": {
              "outlinewidth": 0,
              "ticks": ""
             }
            },
            "type": "scattergeo"
           }
          ],
          "scattergl": [
           {
            "marker": {
             "colorbar": {
              "outlinewidth": 0,
              "ticks": ""
             }
            },
            "type": "scattergl"
           }
          ],
          "scattermapbox": [
           {
            "marker": {
             "colorbar": {
              "outlinewidth": 0,
              "ticks": ""
             }
            },
            "type": "scattermapbox"
           }
          ],
          "scatterpolar": [
           {
            "marker": {
             "colorbar": {
              "outlinewidth": 0,
              "ticks": ""
             }
            },
            "type": "scatterpolar"
           }
          ],
          "scatterpolargl": [
           {
            "marker": {
             "colorbar": {
              "outlinewidth": 0,
              "ticks": ""
             }
            },
            "type": "scatterpolargl"
           }
          ],
          "scatterternary": [
           {
            "marker": {
             "colorbar": {
              "outlinewidth": 0,
              "ticks": ""
             }
            },
            "type": "scatterternary"
           }
          ],
          "surface": [
           {
            "colorbar": {
             "outlinewidth": 0,
             "ticks": ""
            },
            "colorscale": [
             [
              0,
              "#0d0887"
             ],
             [
              0.1111111111111111,
              "#46039f"
             ],
             [
              0.2222222222222222,
              "#7201a8"
             ],
             [
              0.3333333333333333,
              "#9c179e"
             ],
             [
              0.4444444444444444,
              "#bd3786"
             ],
             [
              0.5555555555555556,
              "#d8576b"
             ],
             [
              0.6666666666666666,
              "#ed7953"
             ],
             [
              0.7777777777777778,
              "#fb9f3a"
             ],
             [
              0.8888888888888888,
              "#fdca26"
             ],
             [
              1,
              "#f0f921"
             ]
            ],
            "type": "surface"
           }
          ],
          "table": [
           {
            "cells": {
             "fill": {
              "color": "#EBF0F8"
             },
             "line": {
              "color": "white"
             }
            },
            "header": {
             "fill": {
              "color": "#C8D4E3"
             },
             "line": {
              "color": "white"
             }
            },
            "type": "table"
           }
          ]
         },
         "layout": {
          "annotationdefaults": {
           "arrowcolor": "#2a3f5f",
           "arrowhead": 0,
           "arrowwidth": 1
          },
          "coloraxis": {
           "colorbar": {
            "outlinewidth": 0,
            "ticks": ""
           }
          },
          "colorscale": {
           "diverging": [
            [
             0,
             "#8e0152"
            ],
            [
             0.1,
             "#c51b7d"
            ],
            [
             0.2,
             "#de77ae"
            ],
            [
             0.3,
             "#f1b6da"
            ],
            [
             0.4,
             "#fde0ef"
            ],
            [
             0.5,
             "#f7f7f7"
            ],
            [
             0.6,
             "#e6f5d0"
            ],
            [
             0.7,
             "#b8e186"
            ],
            [
             0.8,
             "#7fbc41"
            ],
            [
             0.9,
             "#4d9221"
            ],
            [
             1,
             "#276419"
            ]
           ],
           "sequential": [
            [
             0,
             "#0d0887"
            ],
            [
             0.1111111111111111,
             "#46039f"
            ],
            [
             0.2222222222222222,
             "#7201a8"
            ],
            [
             0.3333333333333333,
             "#9c179e"
            ],
            [
             0.4444444444444444,
             "#bd3786"
            ],
            [
             0.5555555555555556,
             "#d8576b"
            ],
            [
             0.6666666666666666,
             "#ed7953"
            ],
            [
             0.7777777777777778,
             "#fb9f3a"
            ],
            [
             0.8888888888888888,
             "#fdca26"
            ],
            [
             1,
             "#f0f921"
            ]
           ],
           "sequentialminus": [
            [
             0,
             "#0d0887"
            ],
            [
             0.1111111111111111,
             "#46039f"
            ],
            [
             0.2222222222222222,
             "#7201a8"
            ],
            [
             0.3333333333333333,
             "#9c179e"
            ],
            [
             0.4444444444444444,
             "#bd3786"
            ],
            [
             0.5555555555555556,
             "#d8576b"
            ],
            [
             0.6666666666666666,
             "#ed7953"
            ],
            [
             0.7777777777777778,
             "#fb9f3a"
            ],
            [
             0.8888888888888888,
             "#fdca26"
            ],
            [
             1,
             "#f0f921"
            ]
           ]
          },
          "colorway": [
           "#636efa",
           "#EF553B",
           "#00cc96",
           "#ab63fa",
           "#FFA15A",
           "#19d3f3",
           "#FF6692",
           "#B6E880",
           "#FF97FF",
           "#FECB52"
          ],
          "font": {
           "color": "#2a3f5f"
          },
          "geo": {
           "bgcolor": "white",
           "lakecolor": "white",
           "landcolor": "#E5ECF6",
           "showlakes": true,
           "showland": true,
           "subunitcolor": "white"
          },
          "hoverlabel": {
           "align": "left"
          },
          "hovermode": "closest",
          "mapbox": {
           "style": "light"
          },
          "paper_bgcolor": "white",
          "plot_bgcolor": "#E5ECF6",
          "polar": {
           "angularaxis": {
            "gridcolor": "white",
            "linecolor": "white",
            "ticks": ""
           },
           "bgcolor": "#E5ECF6",
           "radialaxis": {
            "gridcolor": "white",
            "linecolor": "white",
            "ticks": ""
           }
          },
          "scene": {
           "xaxis": {
            "backgroundcolor": "#E5ECF6",
            "gridcolor": "white",
            "gridwidth": 2,
            "linecolor": "white",
            "showbackground": true,
            "ticks": "",
            "zerolinecolor": "white"
           },
           "yaxis": {
            "backgroundcolor": "#E5ECF6",
            "gridcolor": "white",
            "gridwidth": 2,
            "linecolor": "white",
            "showbackground": true,
            "ticks": "",
            "zerolinecolor": "white"
           },
           "zaxis": {
            "backgroundcolor": "#E5ECF6",
            "gridcolor": "white",
            "gridwidth": 2,
            "linecolor": "white",
            "showbackground": true,
            "ticks": "",
            "zerolinecolor": "white"
           }
          },
          "shapedefaults": {
           "line": {
            "color": "#2a3f5f"
           }
          },
          "ternary": {
           "aaxis": {
            "gridcolor": "white",
            "linecolor": "white",
            "ticks": ""
           },
           "baxis": {
            "gridcolor": "white",
            "linecolor": "white",
            "ticks": ""
           },
           "bgcolor": "#E5ECF6",
           "caxis": {
            "gridcolor": "white",
            "linecolor": "white",
            "ticks": ""
           }
          },
          "title": {
           "x": 0.05
          },
          "xaxis": {
           "automargin": true,
           "gridcolor": "white",
           "linecolor": "white",
           "ticks": "",
           "title": {
            "standoff": 15
           },
           "zerolinecolor": "white",
           "zerolinewidth": 2
          },
          "yaxis": {
           "automargin": true,
           "gridcolor": "white",
           "linecolor": "white",
           "ticks": "",
           "title": {
            "standoff": 15
           },
           "zerolinecolor": "white",
           "zerolinewidth": 2
          }
         }
        },
        "width": 700
       }
      },
      "text/html": [
       "<div>\n",
       "        \n",
       "        \n",
       "            <div id=\"325948d6-e7b4-4a30-a4f9-4ce53729ad19\" class=\"plotly-graph-div\" style=\"height:525px; width:700px;\"></div>\n",
       "            <script type=\"text/javascript\">\n",
       "                require([\"plotly\"], function(Plotly) {\n",
       "                    window.PLOTLYENV=window.PLOTLYENV || {};\n",
       "                    \n",
       "                if (document.getElementById(\"325948d6-e7b4-4a30-a4f9-4ce53729ad19\")) {\n",
       "                    Plotly.newPlot(\n",
       "                        '325948d6-e7b4-4a30-a4f9-4ce53729ad19',\n",
       "                        [{\"marker\": {\"color\": 2, \"size\": 4}, \"mode\": \"markers\", \"type\": \"scatter3d\", \"x\": [977039.601, 977040.194, 977040.783, 977037.961, 977038.547, 977039.136, 977039.725, 977040.389, 977040.9940000001, 977033.4400000001, 977034.106, 977034.718, 977035.329, 977035.957, 977036.55, 977037.136, 977037.748, 977038.366, 977039.0260000001, 977039.596, 977040.256, 977040.829, 977033.713, 977034.341, 977034.9500000001, 977035.53, 977036.145, 977036.76, 977037.407, 977037.993, 977038.633, 977039.213, 977039.828, 977040.405, 977041.061, 977033.3470000001, 977033.9720000001, 977034.539, 977035.202, 977035.826, 977036.429, 977037.063, 977037.658, 977038.2320000001, 977038.8470000001, 977039.459, 977040.125, 977040.708, 977033.539, 977034.209, 977034.785, 977035.426, 977036.015, 977036.6140000001, 977037.203, 977037.85, 977038.462, 977039.09, 977039.702, 977040.307, 977040.8960000001, 977033.448, 977034.054, 977034.64, 977035.242, 977035.87, 977036.533, 977037.1, 977037.753, 977038.3300000001, 977038.929, 977039.515, 977040.172, 977040.796, 977033.588, 977034.241, 977034.866, 977035.475, 977036.096, 977036.7050000001, 977037.2810000001, 977037.89, 977038.5210000001, 977039.1680000001, 977039.747, 977040.404, 977040.971, 977033.8300000001, 977034.49, 977035.076, 977035.669, 977036.261, 977036.921, 977037.533, 977038.1510000001, 977038.769, 977039.3740000001, 977039.964, 977040.563, 977041.2000000001, 977033.429, 977034.022, 977034.6140000001, 977035.236, 977035.902, 977036.4720000001, 977037.135, 977037.715, 977038.311, 977038.9060000001, 977039.55, 977040.175, 977040.7930000001, 977033.9720000001, 977034.5750000001, 977035.206, 977035.8080000001, 977036.3840000001, 977036.986, 977037.617, 977038.28, 977038.851, 977039.5040000001, 977040.1, 977040.6950000001, 977041.272, 977033.5580000001, 977034.131, 977034.73, 977035.313, 977035.97, 977036.594, 977037.2000000001, 977037.828, 977033.7710000001], \"y\": [174590.00400000002, 174589.886, 174589.768, 174589.946, 174589.829, 174589.711, 174589.593, 174589.46, 174589.339, 174589.775, 174589.642, 174589.519, 174589.397, 174589.272, 174589.152, 174589.034, 174588.913, 174588.789, 174588.657, 174588.54200000002, 174588.411, 174588.296, 174588.64, 174588.514, 174588.393, 174588.277, 174588.154, 174588.03100000002, 174587.901, 174587.785, 174587.65600000002, 174587.54, 174587.41700000002, 174587.302, 174587.171, 174587.954, 174587.829, 174587.71600000001, 174587.583, 174587.458, 174587.33800000002, 174587.212, 174587.092, 174586.978, 174586.855, 174586.73200000002, 174586.59900000002, 174586.483, 174587.682, 174587.548, 174587.433, 174587.305, 174587.187, 174587.068, 174586.95, 174586.821, 174586.698, 174586.573, 174586.451, 174586.331, 174586.21300000002, 174586.996, 174586.876, 174586.759, 174586.639, 174586.514, 174586.382, 174586.269, 174586.138, 174586.02300000002, 174585.903, 174585.787, 174585.65600000002, 174585.53100000002, 174586.045, 174585.916, 174585.79, 174585.669, 174585.544, 174585.423, 174585.308, 174585.187, 174585.06100000002, 174584.932, 174584.816, 174584.685, 174584.57200000001, 174585.06100000002, 174584.929, 174584.812, 174584.69400000002, 174584.576, 174584.44400000002, 174584.32200000001, 174584.199, 174584.076, 174583.95500000002, 174583.83800000002, 174583.718, 174583.59100000001, 174584.696, 174584.577, 174584.46, 174584.335, 174584.202, 174584.089, 174583.957, 174583.842, 174583.723, 174583.604, 174583.475, 174583.351, 174583.228, 174583.736, 174583.617, 174583.491, 174583.372, 174583.256, 174583.136, 174583.011, 174582.87900000002, 174582.765, 174582.635, 174582.517, 174582.39800000002, 174582.283, 174582.957, 174582.843, 174582.72400000002, 174582.608, 174582.477, 174582.353, 174582.23200000002, 174582.106, 174582.071], \"z\": [7.365, 7.352, 7.36, 7.346, 7.344, 7.323, 7.3580000000000005, 7.365, 7.3790000000000004, 7.34, 7.356, 7.371, 7.372, 7.3870000000000005, 7.391, 7.359, 7.402, 7.367, 7.389, 7.381, 7.391, 7.396, 7.381, 7.375, 7.381, 7.4190000000000005, 7.4, 7.3950000000000005, 7.389, 7.375, 7.389, 7.363, 7.402, 7.404, 7.415, 7.3950000000000005, 7.408, 7.402, 7.412, 7.407, 7.4190000000000005, 7.399, 7.421, 7.415, 7.369, 7.393, 7.409, 7.415, 7.393, 7.382000000000001, 7.392, 7.397, 7.392, 7.407, 7.417, 7.4, 7.378, 7.409, 7.3870000000000005, 7.413, 7.418, 7.4030000000000005, 7.405, 7.431, 7.4030000000000005, 7.424, 7.424, 7.424, 7.413, 7.414000000000001, 7.43, 7.426, 7.438, 7.428, 7.388, 7.382000000000001, 7.41, 7.424, 7.421, 7.426, 7.437, 7.437, 7.422000000000001, 7.442, 7.4590000000000005, 7.478, 7.474, 7.393, 7.41, 7.386, 7.385, 7.4110000000000005, 7.429, 7.43, 7.465, 7.479, 7.472, 7.487, 7.495, 7.498, 7.381, 7.389, 7.3660000000000005, 7.376, 7.383, 7.399, 7.401, 7.432, 7.425, 7.446, 7.469, 7.493, 7.457, 7.375, 7.396, 7.390000000000001, 7.363, 7.4, 7.3950000000000005, 7.424, 7.458, 7.439, 7.439, 7.4990000000000006, 7.521, 7.494, 7.390000000000001, 7.367, 7.3420000000000005, 7.375, 7.389, 7.406000000000001, 7.409, 7.425, 7.3790000000000004]}],\n",
       "                        {\"margin\": {\"b\": 10, \"l\": 10, \"r\": 20, \"t\": 10}, \"scene\": {\"xaxis\": {\"nticks\": 4, \"range\": [977030, 977045]}, \"yaxis\": {\"nticks\": 4, \"range\": [174581, 174591]}, \"zaxis\": {\"nticks\": 4, \"range\": [7, 8]}}, \"template\": {\"data\": {\"bar\": [{\"error_x\": {\"color\": \"#2a3f5f\"}, \"error_y\": {\"color\": \"#2a3f5f\"}, \"marker\": {\"line\": {\"color\": \"#E5ECF6\", \"width\": 0.5}}, \"type\": \"bar\"}], \"barpolar\": [{\"marker\": {\"line\": {\"color\": \"#E5ECF6\", \"width\": 0.5}}, \"type\": \"barpolar\"}], \"carpet\": [{\"aaxis\": {\"endlinecolor\": \"#2a3f5f\", \"gridcolor\": \"white\", \"linecolor\": \"white\", \"minorgridcolor\": \"white\", \"startlinecolor\": \"#2a3f5f\"}, \"baxis\": {\"endlinecolor\": \"#2a3f5f\", \"gridcolor\": \"white\", \"linecolor\": \"white\", \"minorgridcolor\": \"white\", \"startlinecolor\": \"#2a3f5f\"}, \"type\": \"carpet\"}], \"choropleth\": [{\"colorbar\": {\"outlinewidth\": 0, \"ticks\": \"\"}, \"type\": \"choropleth\"}], \"contour\": [{\"colorbar\": {\"outlinewidth\": 0, \"ticks\": \"\"}, \"colorscale\": [[0.0, \"#0d0887\"], [0.1111111111111111, \"#46039f\"], [0.2222222222222222, \"#7201a8\"], [0.3333333333333333, \"#9c179e\"], [0.4444444444444444, \"#bd3786\"], [0.5555555555555556, \"#d8576b\"], [0.6666666666666666, \"#ed7953\"], [0.7777777777777778, \"#fb9f3a\"], [0.8888888888888888, \"#fdca26\"], [1.0, \"#f0f921\"]], \"type\": \"contour\"}], \"contourcarpet\": [{\"colorbar\": {\"outlinewidth\": 0, \"ticks\": \"\"}, \"type\": \"contourcarpet\"}], \"heatmap\": [{\"colorbar\": {\"outlinewidth\": 0, \"ticks\": \"\"}, \"colorscale\": [[0.0, \"#0d0887\"], [0.1111111111111111, \"#46039f\"], [0.2222222222222222, \"#7201a8\"], [0.3333333333333333, \"#9c179e\"], [0.4444444444444444, \"#bd3786\"], [0.5555555555555556, \"#d8576b\"], [0.6666666666666666, \"#ed7953\"], [0.7777777777777778, \"#fb9f3a\"], [0.8888888888888888, \"#fdca26\"], [1.0, \"#f0f921\"]], \"type\": \"heatmap\"}], \"heatmapgl\": [{\"colorbar\": {\"outlinewidth\": 0, \"ticks\": \"\"}, \"colorscale\": [[0.0, \"#0d0887\"], [0.1111111111111111, \"#46039f\"], [0.2222222222222222, \"#7201a8\"], [0.3333333333333333, \"#9c179e\"], [0.4444444444444444, \"#bd3786\"], [0.5555555555555556, \"#d8576b\"], [0.6666666666666666, \"#ed7953\"], [0.7777777777777778, \"#fb9f3a\"], [0.8888888888888888, \"#fdca26\"], [1.0, \"#f0f921\"]], \"type\": \"heatmapgl\"}], \"histogram\": [{\"marker\": {\"colorbar\": {\"outlinewidth\": 0, \"ticks\": \"\"}}, \"type\": \"histogram\"}], \"histogram2d\": [{\"colorbar\": {\"outlinewidth\": 0, \"ticks\": \"\"}, \"colorscale\": [[0.0, \"#0d0887\"], [0.1111111111111111, \"#46039f\"], [0.2222222222222222, \"#7201a8\"], [0.3333333333333333, \"#9c179e\"], [0.4444444444444444, \"#bd3786\"], [0.5555555555555556, \"#d8576b\"], [0.6666666666666666, \"#ed7953\"], [0.7777777777777778, \"#fb9f3a\"], [0.8888888888888888, \"#fdca26\"], [1.0, \"#f0f921\"]], \"type\": \"histogram2d\"}], \"histogram2dcontour\": [{\"colorbar\": {\"outlinewidth\": 0, \"ticks\": \"\"}, \"colorscale\": [[0.0, \"#0d0887\"], [0.1111111111111111, \"#46039f\"], [0.2222222222222222, \"#7201a8\"], [0.3333333333333333, \"#9c179e\"], [0.4444444444444444, \"#bd3786\"], [0.5555555555555556, \"#d8576b\"], [0.6666666666666666, \"#ed7953\"], [0.7777777777777778, \"#fb9f3a\"], [0.8888888888888888, \"#fdca26\"], [1.0, \"#f0f921\"]], \"type\": \"histogram2dcontour\"}], \"mesh3d\": [{\"colorbar\": {\"outlinewidth\": 0, \"ticks\": \"\"}, \"type\": \"mesh3d\"}], \"parcoords\": [{\"line\": {\"colorbar\": {\"outlinewidth\": 0, \"ticks\": \"\"}}, \"type\": \"parcoords\"}], \"pie\": [{\"automargin\": true, \"type\": \"pie\"}], \"scatter\": [{\"marker\": {\"colorbar\": {\"outlinewidth\": 0, \"ticks\": \"\"}}, \"type\": \"scatter\"}], \"scatter3d\": [{\"line\": {\"colorbar\": {\"outlinewidth\": 0, \"ticks\": \"\"}}, \"marker\": {\"colorbar\": {\"outlinewidth\": 0, \"ticks\": \"\"}}, \"type\": \"scatter3d\"}], \"scattercarpet\": [{\"marker\": {\"colorbar\": {\"outlinewidth\": 0, \"ticks\": \"\"}}, \"type\": \"scattercarpet\"}], \"scattergeo\": [{\"marker\": {\"colorbar\": {\"outlinewidth\": 0, \"ticks\": \"\"}}, \"type\": \"scattergeo\"}], \"scattergl\": [{\"marker\": {\"colorbar\": {\"outlinewidth\": 0, \"ticks\": \"\"}}, \"type\": \"scattergl\"}], \"scattermapbox\": [{\"marker\": {\"colorbar\": {\"outlinewidth\": 0, \"ticks\": \"\"}}, \"type\": \"scattermapbox\"}], \"scatterpolar\": [{\"marker\": {\"colorbar\": {\"outlinewidth\": 0, \"ticks\": \"\"}}, \"type\": \"scatterpolar\"}], \"scatterpolargl\": [{\"marker\": {\"colorbar\": {\"outlinewidth\": 0, \"ticks\": \"\"}}, \"type\": \"scatterpolargl\"}], \"scatterternary\": [{\"marker\": {\"colorbar\": {\"outlinewidth\": 0, \"ticks\": \"\"}}, \"type\": \"scatterternary\"}], \"surface\": [{\"colorbar\": {\"outlinewidth\": 0, \"ticks\": \"\"}, \"colorscale\": [[0.0, \"#0d0887\"], [0.1111111111111111, \"#46039f\"], [0.2222222222222222, \"#7201a8\"], [0.3333333333333333, \"#9c179e\"], [0.4444444444444444, \"#bd3786\"], [0.5555555555555556, \"#d8576b\"], [0.6666666666666666, \"#ed7953\"], [0.7777777777777778, \"#fb9f3a\"], [0.8888888888888888, \"#fdca26\"], [1.0, \"#f0f921\"]], \"type\": \"surface\"}], \"table\": [{\"cells\": {\"fill\": {\"color\": \"#EBF0F8\"}, \"line\": {\"color\": \"white\"}}, \"header\": {\"fill\": {\"color\": \"#C8D4E3\"}, \"line\": {\"color\": \"white\"}}, \"type\": \"table\"}]}, \"layout\": {\"annotationdefaults\": {\"arrowcolor\": \"#2a3f5f\", \"arrowhead\": 0, \"arrowwidth\": 1}, \"coloraxis\": {\"colorbar\": {\"outlinewidth\": 0, \"ticks\": \"\"}}, \"colorscale\": {\"diverging\": [[0, \"#8e0152\"], [0.1, \"#c51b7d\"], [0.2, \"#de77ae\"], [0.3, \"#f1b6da\"], [0.4, \"#fde0ef\"], [0.5, \"#f7f7f7\"], [0.6, \"#e6f5d0\"], [0.7, \"#b8e186\"], [0.8, \"#7fbc41\"], [0.9, \"#4d9221\"], [1, \"#276419\"]], \"sequential\": [[0.0, \"#0d0887\"], [0.1111111111111111, \"#46039f\"], [0.2222222222222222, \"#7201a8\"], [0.3333333333333333, \"#9c179e\"], [0.4444444444444444, \"#bd3786\"], [0.5555555555555556, \"#d8576b\"], [0.6666666666666666, \"#ed7953\"], [0.7777777777777778, \"#fb9f3a\"], [0.8888888888888888, \"#fdca26\"], [1.0, \"#f0f921\"]], \"sequentialminus\": [[0.0, \"#0d0887\"], [0.1111111111111111, \"#46039f\"], [0.2222222222222222, \"#7201a8\"], [0.3333333333333333, \"#9c179e\"], [0.4444444444444444, \"#bd3786\"], [0.5555555555555556, \"#d8576b\"], [0.6666666666666666, \"#ed7953\"], [0.7777777777777778, \"#fb9f3a\"], [0.8888888888888888, \"#fdca26\"], [1.0, \"#f0f921\"]]}, \"colorway\": [\"#636efa\", \"#EF553B\", \"#00cc96\", \"#ab63fa\", \"#FFA15A\", \"#19d3f3\", \"#FF6692\", \"#B6E880\", \"#FF97FF\", \"#FECB52\"], \"font\": {\"color\": \"#2a3f5f\"}, \"geo\": {\"bgcolor\": \"white\", \"lakecolor\": \"white\", \"landcolor\": \"#E5ECF6\", \"showlakes\": true, \"showland\": true, \"subunitcolor\": \"white\"}, \"hoverlabel\": {\"align\": \"left\"}, \"hovermode\": \"closest\", \"mapbox\": {\"style\": \"light\"}, \"paper_bgcolor\": \"white\", \"plot_bgcolor\": \"#E5ECF6\", \"polar\": {\"angularaxis\": {\"gridcolor\": \"white\", \"linecolor\": \"white\", \"ticks\": \"\"}, \"bgcolor\": \"#E5ECF6\", \"radialaxis\": {\"gridcolor\": \"white\", \"linecolor\": \"white\", \"ticks\": \"\"}}, \"scene\": {\"xaxis\": {\"backgroundcolor\": \"#E5ECF6\", \"gridcolor\": \"white\", \"gridwidth\": 2, \"linecolor\": \"white\", \"showbackground\": true, \"ticks\": \"\", \"zerolinecolor\": \"white\"}, \"yaxis\": {\"backgroundcolor\": \"#E5ECF6\", \"gridcolor\": \"white\", \"gridwidth\": 2, \"linecolor\": \"white\", \"showbackground\": true, \"ticks\": \"\", \"zerolinecolor\": \"white\"}, \"zaxis\": {\"backgroundcolor\": \"#E5ECF6\", \"gridcolor\": \"white\", \"gridwidth\": 2, \"linecolor\": \"white\", \"showbackground\": true, \"ticks\": \"\", \"zerolinecolor\": \"white\"}}, \"shapedefaults\": {\"line\": {\"color\": \"#2a3f5f\"}}, \"ternary\": {\"aaxis\": {\"gridcolor\": \"white\", \"linecolor\": \"white\", \"ticks\": \"\"}, \"baxis\": {\"gridcolor\": \"white\", \"linecolor\": \"white\", \"ticks\": \"\"}, \"bgcolor\": \"#E5ECF6\", \"caxis\": {\"gridcolor\": \"white\", \"linecolor\": \"white\", \"ticks\": \"\"}}, \"title\": {\"x\": 0.05}, \"xaxis\": {\"automargin\": true, \"gridcolor\": \"white\", \"linecolor\": \"white\", \"ticks\": \"\", \"title\": {\"standoff\": 15}, \"zerolinecolor\": \"white\", \"zerolinewidth\": 2}, \"yaxis\": {\"automargin\": true, \"gridcolor\": \"white\", \"linecolor\": \"white\", \"ticks\": \"\", \"title\": {\"standoff\": 15}, \"zerolinecolor\": \"white\", \"zerolinewidth\": 2}}}, \"width\": 700},\n",
       "                        {\"responsive\": true}\n",
       "                    ).then(function(){\n",
       "                            \n",
       "var gd = document.getElementById('325948d6-e7b4-4a30-a4f9-4ce53729ad19');\n",
       "var x = new MutationObserver(function (mutations, observer) {{\n",
       "        var display = window.getComputedStyle(gd).display;\n",
       "        if (!display || display === 'none') {{\n",
       "            console.log([gd, 'removed!']);\n",
       "            Plotly.purge(gd);\n",
       "            observer.disconnect();\n",
       "        }}\n",
       "}});\n",
       "\n",
       "// Listen for the removal of the full notebook cells\n",
       "var notebookContainer = gd.closest('#notebook-container');\n",
       "if (notebookContainer) {{\n",
       "    x.observe(notebookContainer, {childList: true});\n",
       "}}\n",
       "\n",
       "// Listen for the clearing of the current output cell\n",
       "var outputEl = gd.closest('.output');\n",
       "if (outputEl) {{\n",
       "    x.observe(outputEl, {childList: true});\n",
       "}}\n",
       "\n",
       "                        })\n",
       "                };\n",
       "                });\n",
       "            </script>\n",
       "        </div>"
      ]
     },
     "metadata": {},
     "output_type": "display_data"
    }
   ],
   "source": [
    "import plotly.graph_objects as go\n",
    "\n",
    "fig = go.Figure(data=[go.Scatter3d(x=square_points['x_scaled'], \n",
    "                                   y=square_points['y_scaled'], \n",
    "                                   z=square_points['z_scaled'],\n",
    "                                   mode='markers',\n",
    "                                  marker=dict(size=4,\n",
    "                                              color=2))])\n",
    "\n",
    "fig.update_layout(\n",
    "    scene = dict(\n",
    "        xaxis = dict(nticks=4, range=[977030,977045],),\n",
    "                     yaxis = dict(nticks=4, range=[174581,174591],),\n",
    "                     zaxis = dict(nticks=4, range=[7,8],),),\n",
    "    width=700,\n",
    "    margin=dict(r=20, l=10, b=10, t=10))\n",
    "\n",
    "fig.show()"
   ]
  },
  {
   "cell_type": "code",
   "execution_count": null,
   "metadata": {},
   "outputs": [],
   "source": []
  },
  {
   "cell_type": "markdown",
   "metadata": {},
   "source": [
    "## Nearby Points\n",
    "Looking at points around the end of the scan angle (nearby_df), as well points near the middle of the scan angle, directly down (down_df).  There seems to be some noise in the points at the end of the scan angle."
   ]
  },
  {
   "cell_type": "code",
   "execution_count": null,
   "metadata": {},
   "outputs": [],
   "source": [
    "# A handful of points at the end of the scan angle of file las_points_164239.pkl\n",
    "nearby_points = list(range(32645,32653))+list(range(33760,33767))+list(range(34870,34877))\n",
    "nearby_df = las_points.iloc[nearby_points]\n",
    "# Time range\n",
    "print(\"Time range: \",nearby_df['gps_time'].max() - nearby_df['gps_time'].min())"
   ]
  },
  {
   "cell_type": "code",
   "execution_count": null,
   "metadata": {},
   "outputs": [],
   "source": [
    "# Filter for points between -1 and 1 degrees scan angle\n",
    "down_df = las_points[(las_points['scan_angle']<60)&(las_points['scan_angle']>-60)]"
   ]
  },
  {
   "cell_type": "code",
   "execution_count": null,
   "metadata": {},
   "outputs": [],
   "source": [
    "#Helicopter scan lines\n",
    "plt.plot(down_df['gps_time'][10000:10100],down_df['y_scaled'][10000:10100],'xb')"
   ]
  },
  {
   "cell_type": "code",
   "execution_count": null,
   "metadata": {
    "scrolled": true
   },
   "outputs": [],
   "source": [
    "nearby_df[['x_scaled','y_scaled','z_scaled']]"
   ]
  },
  {
   "cell_type": "markdown",
   "metadata": {},
   "source": [
    "### Looking for specific Lat/Lon"
   ]
  },
  {
   "cell_type": "code",
   "execution_count": null,
   "metadata": {},
   "outputs": [],
   "source": [
    "def convert_lat_lon_to_dec(degrees,minutes,seconds):\n",
    "    return degrees + (minutes/60) + (seconds/3600)\n",
    "lat = convert_lat_lon_to_dec(40,38,38.8)\n",
    "lon = convert_lat_lon_to_dec(74,1,33.0)*-1\n",
    "print(\"Latitude: {:2.4f}\".format(lat))\n",
    "print(\"Longitude: {:2.4f}\".format(lon))"
   ]
  },
  {
   "cell_type": "markdown",
   "metadata": {},
   "source": [
    "## Profiling the Brooklyn data\n",
    "Looking at maximum coordiates, points per scan, scans per run, distance between points, etc."
   ]
  },
  {
   "cell_type": "markdown",
   "metadata": {},
   "source": [
    "### Find max North, South, East, West points\n",
    "Max North: 164039\n",
    "Max South: 163206\n",
    "Max East: 172201\n",
    "Max West: 194702"
   ]
  },
  {
   "cell_type": "code",
   "execution_count": null,
   "metadata": {},
   "outputs": [],
   "source": [
    "def max_cardinal_direction(filename,direction):\n",
    "    '''Fucntion determines the maximum coordinate in the file in the given direction.'''\n",
    "    # Load the file\n",
    "    inFile = File(filename, mode='r')\n",
    "    if direction == \"North\":\n",
    "        return inFile.header.max[1]\n",
    "    elif direction == \"South\":\n",
    "        return inFile.header.min[1]\n",
    "    elif direction == \"East\":\n",
    "        return inFile.header.max[0]\n",
    "    elif direction == \"West\":\n",
    "        return inFile.header.min[0]"
   ]
  },
  {
   "cell_type": "code",
   "execution_count": null,
   "metadata": {},
   "outputs": [],
   "source": [
    "max_north_file = '10552_NYU_M2 - Scanner 1 - 190511_164039_1 - originalpoints.laz'\n",
    "max_south_file = '10552_NYU_M2 - Scanner 1 - 190511_163206_1 - originalpoints.laz'\n",
    "max_east_file = '10552_NYU_M2 - Scanner 1 - 190511_172201_1 - originalpoints.laz'\n",
    "max_west_file = '10552_NYU_M3 - Scanner 1 - 190511_194702_1 - originalpoints.laz'\n",
    "\n",
    "maxes=[]\n",
    "\n",
    "# for card in zip([max_north_file,max_south_file,max_east_file,max_west_file],['North','South','East','West']):\n",
    "#     maxes.append(max_cardinal_direction('../../Data/max_coordinate_point_clouds/'+card[0],card[1]))"
   ]
  },
  {
   "cell_type": "code",
   "execution_count": null,
   "metadata": {},
   "outputs": [],
   "source": [
    "inFile = File('../../Data/max_coordinate_point_clouds/10552_NYU_M2 - Scanner 1 - 190511_164039_1 - originalpoints.laz', mode='r')\n",
    "# raw = inFile.get_points()\n",
    "# df = raw_to_df(raw,columns_point_cloud)\n",
    "# las_points = scale_and_offset(df,inFile.header,append_to_df=True)"
   ]
  },
  {
   "cell_type": "markdown",
   "metadata": {},
   "source": [
    "### Point density in time and space"
   ]
  },
  {
   "cell_type": "code",
   "execution_count": null,
   "metadata": {},
   "outputs": [],
   "source": [
    "def points_per_scan(scan_angle):\n",
    "    '''takes scan_angle as Series, counts the number of \"jumps\" in the scan angle, indicating start of a new scan\n",
    "    then divides the number of points in scan_angle to return points / scan'''\n",
    "    delta_angle = [scan_angle.iloc[i+1]-scan_angle.iloc[i] for i in range(len(scan_angle)-1)]\n",
    "    print(\"Done\")\n",
    "    scan_count = sum(abs(np.array(delta_angle)) > scan_angle.max())\n",
    "    print(\"Number of scans: {}\".format(scan_count))\n",
    "    print(\"Points per scan: {:2.2f}\".format(len(scan_angle)/scan_count))\n",
    "    return len(scan_angle)/scan_count, scan_count\n",
    "\n",
    "def scans_per_second(gps_time_series,scan_count):\n",
    "    run_time = gps_time_series.max() - gps_time_series.min()\n",
    "    print(\"Scans per second: {:2.2f}\".format(scan_count/run_time))\n",
    "    print(\"Points per second: {:2.2f}\".format(len(gps_time_series)/run_time))\n",
    "    return scan_count/run_time\n",
    "\n",
    "def small_angle_no_jumps(df,max_angle=330):\n",
    "    '''This function extracts only the points with scan angle below max_angle.  \n",
    "        scan_angle is scaled to .006 degrees per unit.'''\n",
    "    \n",
    "    small_angle = df[abs(df['scan_angle'])<max_angle]\n",
    "    return small_angle\n",
    "\n",
    "def mean_euclidean_distance(df):\n",
    "    '''Calculate the mean distance between consecutive points in a dataframe, skipping the jumps between scans.'''\n",
    "    df['x_dist_to_next'] = np.zeros(len(df))\n",
    "    df['y_dist_to_next'] = np.zeros(len(df))\n",
    "    df['x_dist_to_next'][1:] = np.array([df['x_scaled'].iloc[i] - df['x_scaled'].iloc[i-1] for i in range(1,len(df))])\n",
    "    df['y_dist_to_next'][1:] = np.array([df['y_scaled'].iloc[i] - df['y_scaled'].iloc[i-1] for i in range(1,len(df))])\n",
    "    \n",
    "    # Remove jumps in scan angle\n",
    "    no_jump = df[abs(df['angle_change'])<20]\n",
    "    \n",
    "    eucl_dist_to_next = np.sqrt(no_jump['x_dist_to_next']**2+no_jump['y_dist_to_next']**2)\n",
    "    print(\"Avg Euclidean distance between points: {:2.2f}\".format(eucl_dist_to_next.mean()))\n",
    "    return eucl_dist_to_next.mean()\n",
    "\n",
    "def distance_between_points(df,small_angle_max = 330):\n",
    "    '''Wrapper for mean_euclidean_distance that also looks at points restricted to small angles near \n",
    "        directly 0, or the downward direction.'''\n",
    "    #Add angle_change to identify jumps to new scans.\n",
    "    df['angle_change'] = np.zeros(len(df))\n",
    "    df['angle_change'].iloc[1:] = [df['scan_angle'].iloc[i]-df['scan_angle'].iloc[i-1] for i in range(1,len(df))]\n",
    "    mean_distance_overall = mean_euclidean_distance(df)\n",
    "    # Small scan_angle\n",
    "    small_angle_df = small_angle_no_jumps(df,max_angle = small_angle_max)\n",
    "    mean_distance_small_angle = mean_euclidean_distance(small_angle_df)\n",
    "    \n",
    "def create_use_range(filename,column_names = columns_fwf):\n",
    "    '''Function takes .laz filename, returns a 2 million point datafame from the .laz file \n",
    "    Also adds scaled xyz coordinates.'''\n",
    "    \n",
    "    inFile = File('../../Data/dublin_sample/'+filename, mode='r')\n",
    "    print(\"inFile Done\")\n",
    "    raw = inFile.get_points()\n",
    "    print(\"get_points done\")\n",
    "    df = raw_to_df(raw[2000000:3000000],column_names)\n",
    "    print(\"df done\")\n",
    "    del(raw)\n",
    "    las_points = scale_and_offset(df,inFile.header,append_to_df=True)\n",
    "    print(\"las_points created\")\n",
    "    print(\"Timespan: {:2.2} seconds\".format(las_points['gps_time'].max()-las_points['gps_time'].min()))\n",
    "    use_range = las_points\n",
    "    return use_range\n",
    "\n",
    "def process_use_range(use_range,filename=\"dublin\",small_angle_max = 330):\n",
    "    '''Runs the profiling on the provided use_range.'''\n",
    "    \n",
    "    print(\"\\n\",filename,\"\\n---------------------------------\")\n",
    "    pts_per_scan, scan_count = points_per_scan(use_range['scan_angle'])\n",
    "    scans_per_second(use_range['gps_time'],scan_count)    \n",
    "    distance_between_points(use_range,small_angle_max = small_angle_max)"
   ]
  },
  {
   "cell_type": "code",
   "execution_count": null,
   "metadata": {},
   "outputs": [],
   "source": [
    "# Profiling for 4 Brooklyn datasets\n",
    "\n",
    "max_north_file = '10552_NYU_M2 - Scanner 1 - 190511_164039_1 - originalpoints.laz'\n",
    "max_south_file = '10552_NYU_M2 - Scanner 1 - 190511_163206_1 - originalpoints.laz'\n",
    "max_east_file = '10552_NYU_M2 - Scanner 1 - 190511_172201_1 - originalpoints.laz'\n",
    "max_west_file = '10552_NYU_M3 - Scanner 1 - 190511_194702_1 - originalpoints.laz'\n",
    "\n",
    "pd.set_option('mode.chained_assignment', None)\n",
    "\n",
    "for filename in [max_north_file,max_south_file,max_east_file,max_west_file]:\n",
    "    inFile = File('../../Data/max_coordinate_point_clouds/'+filename, mode='r')\n",
    "    raw = inFile.get_points()\n",
    "    df = raw_to_df(raw,columns_point_cloud)\n",
    "    las_points = scale_and_offset(df,inFile.header,append_to_df=True)\n",
    "    use_range = las_points[2000000:6000000]\n",
    "    print(\"\\n\",filename,\"\\n---------------------------------\")\n",
    "    print(\"Timespan: {:2.2} seconds\".format(las_points['gps_time'].max()-las_points['gps_time'].min()))\n",
    "    pts_per_scan, scan_count = points_per_scan(use_range['scan_angle'])\n",
    "    scans_per_second(use_range['gps_time'],scan_count)\n",
    "    \n",
    "    distance_between_points(use_range)\n",
    "    \n",
    "pd.reset_option('mode.chained_assignment')"
   ]
  },
  {
   "cell_type": "code",
   "execution_count": null,
   "metadata": {},
   "outputs": [],
   "source": [
    "''' Brooklyn profiling output\n",
    " 10552_NYU_M2 - Scanner 1 - 190511_164039_1 - originalpoints.laz \n",
    "---------------------------------\n",
    "Done\n",
    "Number of scans: 1553\n",
    "Points per scan: 2575.66\n",
    "Scans per second: 133.26\n",
    "Points per second: 343224.78\n",
    "Avg Euclidean distance between points: 2.52\n",
    "Avg Euclidean distance between points: 0.92\n",
    "\n",
    " 10552_NYU_M2 - Scanner 1 - 190511_163206_1 - originalpoints.laz \n",
    "---------------------------------\n",
    "Done\n",
    "Number of scans: 1974\n",
    "Points per scan: 2026.34\n",
    "Scans per second: 133.31\n",
    "Points per second: 270123.17\n",
    "Avg Euclidean distance between points: 0.90\n",
    "Avg Euclidean distance between points: 1.05\n",
    "\n",
    " 10552_NYU_M2 - Scanner 1 - 190511_172201_1 - originalpoints.laz \n",
    "---------------------------------\n",
    "Done\n",
    "Number of scans: 2276\n",
    "Points per scan: 1757.47\n",
    "Scans per second: 133.29\n",
    "Points per second: 234249.32\n",
    "Avg Euclidean distance between points: 0.97\n",
    "Avg Euclidean distance between points: 1.19\n",
    "\n",
    " 10552_NYU_M3 - Scanner 1 - 190511_194702_1 - originalpoints.laz \n",
    "---------------------------------\n",
    "Done\n",
    "Number of scans: 1593\n",
    "Points per scan: 2510.99\n",
    "Scans per second: 133.25\n",
    "Points per second: 334601.09\n",
    "Avg Euclidean distance between points: 2.71\n",
    "Avg Euclidean distance between points: 0.88\n",
    "'''"
   ]
  },
  {
   "cell_type": "code",
   "execution_count": null,
   "metadata": {},
   "outputs": [],
   "source": [
    "# Profiling for 4 Dublin datasets\n",
    "# Note This did not really work...the Dublin files have weird scan angle patterns.\n",
    "\n",
    "dublin_files = [\n",
    "    'F_150326_120854.laz',\n",
    "    'F_150326_122941.laz',\n",
    "    'F_150326_145523.laz',\n",
    "    'F_150326_150906.laz'\n",
    "]\n",
    "\n",
    "pd.set_option('mode.chained_assignment', None)\n",
    "\n",
    "for filename in dublin_files:\n",
    "    use_range = create_use_range(filename,columns_dublin_pt_cloud)\n",
    "    process_use_range(use_range,filename,small_angle_max = 2)\n",
    "    \n",
    "pd.reset_option('mode.chained_assignment')"
   ]
  },
  {
   "cell_type": "code",
   "execution_count": null,
   "metadata": {},
   "outputs": [],
   "source": [
    "# Find points at similar scan angles across all scans.\n",
    "consecutive = use_range[(use_range['scan_angle']<206)&(use_range['scan_angle']>200)]\n",
    "\n",
    "def euclidean_dist_consecutive_scans(consecutive):\n",
    "    '''Function takes a dataframe of points within a very tight scan_angle, but across many scans.\n",
    "        Function determines points on consecutive scans, then calculates the x-y distance between \n",
    "        those points on consecutive scans and prints out the average across the full dataframe.'''\n",
    "    euc_dist_list = []\n",
    "    for i in range(1,len(consecutive)):\n",
    "        record_dist = consecutive.iloc[i].name - consecutive.iloc[i-1].name\n",
    "        if (record_dist>1000) & (record_dist < 3000):\n",
    "            euc_dist = np.sqrt((consecutive['x_scaled'].iloc[i]-consecutive['x_scaled'].iloc[i-1])**2+\n",
    "                           (consecutive['y_scaled'].iloc[i]-consecutive['y_scaled'].iloc[i-1])**2)\n",
    "            euc_dist_list.append(euc_dist)\n",
    "    print(\"Mean euclidean distance between consecutive scans: {2.2f}\".format(np.mean(euc_dist_list)))"
   ]
  },
  {
   "cell_type": "code",
   "execution_count": null,
   "metadata": {},
   "outputs": [],
   "source": []
  },
  {
   "cell_type": "code",
   "execution_count": null,
   "metadata": {},
   "outputs": [],
   "source": []
  },
  {
   "cell_type": "code",
   "execution_count": null,
   "metadata": {},
   "outputs": [],
   "source": []
  },
  {
   "cell_type": "code",
   "execution_count": null,
   "metadata": {},
   "outputs": [],
   "source": []
  },
  {
   "cell_type": "code",
   "execution_count": null,
   "metadata": {},
   "outputs": [],
   "source": []
  },
  {
   "cell_type": "code",
   "execution_count": null,
   "metadata": {},
   "outputs": [],
   "source": []
  },
  {
   "cell_type": "code",
   "execution_count": null,
   "metadata": {},
   "outputs": [],
   "source": []
  },
  {
   "cell_type": "code",
   "execution_count": null,
   "metadata": {},
   "outputs": [],
   "source": []
  },
  {
   "cell_type": "code",
   "execution_count": null,
   "metadata": {},
   "outputs": [],
   "source": []
  }
 ],
 "metadata": {
  "kernelspec": {
   "display_name": "Python 3",
   "language": "python",
   "name": "python3"
  },
  "language_info": {
   "codemirror_mode": {
    "name": "ipython",
    "version": 3
   },
   "file_extension": ".py",
   "mimetype": "text/x-python",
   "name": "python",
   "nbconvert_exporter": "python",
   "pygments_lexer": "ipython3",
   "version": "3.7.3"
  }
 },
 "nbformat": 4,
 "nbformat_minor": 2
}
