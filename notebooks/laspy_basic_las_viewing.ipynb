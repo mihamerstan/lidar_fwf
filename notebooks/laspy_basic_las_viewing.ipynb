{
 "cells": [
  {
   "cell_type": "code",
   "execution_count": 1,
   "metadata": {},
   "outputs": [],
   "source": [
    "from laspy.file import File\n",
    "import numpy as np\n",
    "import pandas as pd\n",
    "from scipy import stats\n",
    "import matplotlib.pyplot as plt\n",
    "%matplotlib inline"
   ]
  },
  {
   "cell_type": "code",
   "execution_count": 2,
   "metadata": {},
   "outputs": [
    {
     "name": "stdout",
     "output_type": "stream",
     "text": [
      "Number of points, point cloud:  14542329\n",
      "Number of points, full waveform:  14542329\n"
     ]
    }
   ],
   "source": [
    "# Load the data using laspy\n",
    "inFile_cloud = File('../../Data/10552_NYU_M2 - Scanner 1 - 190511_164239_1 - originalpoints.laz', mode='r')\n",
    "inFile_fwf = File('../../Data/164239/10552_NYU_M2 - Scanner 1 - 190511_164239_1 - originalpoints.las', mode='r')\n",
    "I = inFile_cloud.Classification == 2\n",
    "\n",
    "# raw is a 1-D numpy array, each entry is a point\n",
    "raw_cloud = inFile_cloud.get_points()\n",
    "raw_fwf = inFile_fwf.get_points()\n",
    "print(\"Number of points, point cloud: \",len(raw_cloud))\n",
    "print(\"Number of points, full waveform: \",len(raw_fwf))"
   ]
  },
  {
   "cell_type": "code",
   "execution_count": 3,
   "metadata": {},
   "outputs": [],
   "source": [
    "# Corresponds to LAS 1.4 Point Data Record Format 9\n",
    "# X coordinate of the point (must be adjusted by offset and scale factor)\n",
    "columns_fwf =[ \n",
    "    'X', \n",
    "    'Y',\n",
    "    'Z',\n",
    "    'intensity', #Intensity of the return, scaled to a 0-65,535 scale\n",
    "    'flag_byte', #Return number, # of returns, Scan direction flag (+ or -), Edge of flight line flag\n",
    "    'classification_flags', #Only if the point has been classified: vegetation, etc.\n",
    "    'classification_byte', #Various flags about the point\n",
    "    'user_data', \n",
    "    'scan_angle', # Down is 0.0, each unit is 0.006 degrees, \n",
    "    #so value between -30,000 and 30,000, or (180deg/0.006deg)\n",
    "    #Spec says this incorporates the roll of the aircraft\n",
    "    'pt_src_id', #Unique ID for the source of the point\n",
    "    'gps_time', #GPS Week Time (seconds, reset each week) or Adj Std GPS Time\n",
    "    'wave_packet_desc_index', # Indicates which waveform packet descriptor is applied.\n",
    "    'byte_offset_to_waveform_data', # Locates the WF data in EVLR or .wdp file.\n",
    "    'wavefm_pkt_size', # Size of the waveform packet\n",
    "    'return_point_waveform_loc', # Time in picoseconds \n",
    "    'x_t', # Form parametric location: X = X_0 + x_t*t\n",
    "    'y_t', # (X_0,Y_0,Z_0) is the anchor point associated with the waveform\n",
    "    'z_t' ]\n",
    "\n",
    "# Corresponds to LAS 1.4 Point Data Record Format 6\n",
    "columns_point_cloud = [\n",
    "    'X',\n",
    "    'Y',\n",
    "    'Z',\n",
    "    'intensity',\n",
    "    'flag_byte',\n",
    "    'classification_flags',\n",
    "    'classification_byte',\n",
    "    'user_data',\n",
    "    'scan_angle',\n",
    "    'pt_src_id',\n",
    "    'gps_time']"
   ]
  },
  {
   "cell_type": "code",
   "execution_count": 4,
   "metadata": {},
   "outputs": [],
   "source": [
    "def raw_to_df(raw,column_names):\n",
    "    # function takes raw output of laspy.File.get_points() and column names, and returns a pandas Dataframe\n",
    "    raw_list = [a[0].tolist() for a in raw]\n",
    "    df = pd.DataFrame(raw_list,columns = column_names)\n",
    "    return df\n",
    "\n",
    "def scale_and_offset(df,header):\n",
    "    '''Function takes as input the dataframe output of raw_to_df and the laspy header file.\n",
    "       Output is a nx3 dataframe with adjusted X,Y, and Z coordinates, from the formula: \n",
    "       X_adj = X*X_scale + X_offset.\n",
    "       Brooklyn LiDAR readings appear to be in feet, and use NAVD 88 in the vertical and \n",
    "       New York Long Island State Plane Coordinate System NAD 33 in the horizontal.'''\n",
    "    offset = header.offset\n",
    "    scale = header.scale\n",
    "    scaled_xyz = df[['X','Y','Z']]*scale + offset\n",
    "    return scaled_xyz\n",
    "\n",
    "#INACTIVE FUNCTIONS\n",
    "def split_and_strip(raw):\n",
    "    '''Function takes the output ndarray of laspy File.get_points(), \n",
    "        splits each point on commas, \n",
    "        outputs a list of lists.'''\n",
    "    output_list = []\n",
    "    for row in raw:\n",
    "        stripped = [a.strip(\"( , )\") for a in str(row).split(',')]\n",
    "        output_list.append(stripped)\n",
    "    return output_list\n",
    "\n",
    "def row_clean(string_list):\n",
    "    '''Function takes as input a list of lists, the output of split_and_strip().  Cleans the entries for spaces,\n",
    "    returns a numpy array where each row is a point.'''\n",
    "    output_list = []\n",
    "    for row in string_list:        \n",
    "        output_list.append(list(map(float,row[:-1])))\n",
    "    output_arr = np.array(output_list)\n",
    "    return output_arr\n"
   ]
  },
  {
   "cell_type": "code",
   "execution_count": 5,
   "metadata": {},
   "outputs": [],
   "source": [
    "# Create dataframes for point cloud and fwf\n",
    "df_cloud = raw_to_df(raw_cloud,columns_point_cloud)\n",
    "df_fwf = raw_to_df(raw_fwf,columns_fwf)\n",
    "\n",
    "# Generate adjusted coordinates for point cloud.  FWF is identical.\n",
    "scaled_xyz = scale_and_offset(df_cloud,inFile_cloud.header)"
   ]
  },
  {
   "cell_type": "code",
   "execution_count": 8,
   "metadata": {},
   "outputs": [
    {
     "data": {
      "text/html": [
       "<div>\n",
       "<style scoped>\n",
       "    .dataframe tbody tr th:only-of-type {\n",
       "        vertical-align: middle;\n",
       "    }\n",
       "\n",
       "    .dataframe tbody tr th {\n",
       "        vertical-align: top;\n",
       "    }\n",
       "\n",
       "    .dataframe thead th {\n",
       "        text-align: right;\n",
       "    }\n",
       "</style>\n",
       "<table border=\"1\" class=\"dataframe\">\n",
       "  <thead>\n",
       "    <tr style=\"text-align: right;\">\n",
       "      <th></th>\n",
       "      <th>X</th>\n",
       "      <th>Y</th>\n",
       "      <th>Z</th>\n",
       "    </tr>\n",
       "  </thead>\n",
       "  <tbody>\n",
       "    <tr>\n",
       "      <th>count</th>\n",
       "      <td>1.454233e+07</td>\n",
       "      <td>1.454233e+07</td>\n",
       "      <td>1.454233e+07</td>\n",
       "    </tr>\n",
       "    <tr>\n",
       "      <th>mean</th>\n",
       "      <td>9.771940e+05</td>\n",
       "      <td>1.730577e+05</td>\n",
       "      <td>5.999902e+01</td>\n",
       "    </tr>\n",
       "    <tr>\n",
       "      <th>std</th>\n",
       "      <td>3.226863e+02</td>\n",
       "      <td>1.420471e+03</td>\n",
       "      <td>4.352957e+01</td>\n",
       "    </tr>\n",
       "    <tr>\n",
       "      <th>min</th>\n",
       "      <td>9.762879e+05</td>\n",
       "      <td>1.706690e+05</td>\n",
       "      <td>-5.818360e+02</td>\n",
       "    </tr>\n",
       "    <tr>\n",
       "      <th>25%</th>\n",
       "      <td>9.769411e+05</td>\n",
       "      <td>1.718709e+05</td>\n",
       "      <td>2.153000e+01</td>\n",
       "    </tr>\n",
       "    <tr>\n",
       "      <th>50%</th>\n",
       "      <td>9.772061e+05</td>\n",
       "      <td>1.728613e+05</td>\n",
       "      <td>5.671300e+01</td>\n",
       "    </tr>\n",
       "    <tr>\n",
       "      <th>75%</th>\n",
       "      <td>9.774655e+05</td>\n",
       "      <td>1.741343e+05</td>\n",
       "      <td>9.140700e+01</td>\n",
       "    </tr>\n",
       "    <tr>\n",
       "      <th>max</th>\n",
       "      <td>9.779850e+05</td>\n",
       "      <td>1.762783e+05</td>\n",
       "      <td>6.671120e+02</td>\n",
       "    </tr>\n",
       "  </tbody>\n",
       "</table>\n",
       "</div>"
      ],
      "text/plain": [
       "                  X             Y             Z\n",
       "count  1.454233e+07  1.454233e+07  1.454233e+07\n",
       "mean   9.771940e+05  1.730577e+05  5.999902e+01\n",
       "std    3.226863e+02  1.420471e+03  4.352957e+01\n",
       "min    9.762879e+05  1.706690e+05 -5.818360e+02\n",
       "25%    9.769411e+05  1.718709e+05  2.153000e+01\n",
       "50%    9.772061e+05  1.728613e+05  5.671300e+01\n",
       "75%    9.774655e+05  1.741343e+05  9.140700e+01\n",
       "max    9.779850e+05  1.762783e+05  6.671120e+02"
      ]
     },
     "execution_count": 8,
     "metadata": {},
     "output_type": "execute_result"
    }
   ],
   "source": [
    "scaled_xyz_fwf.describe()"
   ]
  },
  {
   "cell_type": "code",
   "execution_count": 7,
   "metadata": {},
   "outputs": [
    {
     "data": {
      "text/plain": [
       "(1,\n",
       " 1,\n",
       " 0,\n",
       " 4,\n",
       " 1024,\n",
       " 0,\n",
       " 1,\n",
       " 1,\n",
       " 1025,\n",
       " 0,\n",
       " 1,\n",
       " 1,\n",
       " 3072,\n",
       " 0,\n",
       " 1,\n",
       " 32767,\n",
       " 3076,\n",
       " 0,\n",
       " 1,\n",
       " 9003,\n",
       " 0,\n",
       " 0,\n",
       " 0,\n",
       " 0,\n",
       " 0,\n",
       " 0,\n",
       " 0,\n",
       " 0,\n",
       " 0,\n",
       " 0,\n",
       " 0,\n",
       " 0)"
      ]
     },
     "execution_count": 7,
     "metadata": {},
     "output_type": "execute_result"
    }
   ],
   "source": [
    "# Digging into the VLRs\n",
    "vlr = inFile_cloud.header.vlrs[0]\n",
    "vlr.__dir__()\n",
    "vlr.parsed_body"
   ]
  },
  {
   "cell_type": "code",
   "execution_count": null,
   "metadata": {},
   "outputs": [],
   "source": []
  }
 ],
 "metadata": {
  "kernelspec": {
   "display_name": "Python 3",
   "language": "python",
   "name": "python3"
  },
  "language_info": {
   "codemirror_mode": {
    "name": "ipython",
    "version": 3
   },
   "file_extension": ".py",
   "mimetype": "text/x-python",
   "name": "python",
   "nbconvert_exporter": "python",
   "pygments_lexer": "ipython3",
   "version": "3.7.3"
  }
 },
 "nbformat": 4,
 "nbformat_minor": 2
}
