{
 "cells": [
  {
   "cell_type": "code",
   "execution_count": 1,
   "metadata": {},
   "outputs": [],
   "source": [
    "from laspy.file import File\n",
    "import numpy as np\n",
    "import pandas as pd\n",
    "from scipy import stats\n",
    "import matplotlib.pyplot as plt\n",
    "%matplotlib inline"
   ]
  },
  {
   "cell_type": "code",
   "execution_count": 4,
   "metadata": {},
   "outputs": [
    {
     "name": "stdout",
     "output_type": "stream",
     "text": [
      "18942131\n"
     ]
    }
   ],
   "source": [
    "# Load the data using laspy\n",
    "#inFile = File('../../Data/10552_NYU_M2 - Scanner 1 - 190511_164239_1 - originalpoints.laz', mode='r')\n",
    "inFile = File('../../Data/172201/10552_NYU_M2 - Scanner 1 - 190511_172201_1 - originalpoints.las', mode='r')\n",
    "I = inFile.Classification == 2\n",
    "\n",
    "# raw is a 1-D numpy array, each entry is a point\n",
    "raw = inFile.get_points()\n",
    "print(len(raw))"
   ]
  },
  {
   "cell_type": "code",
   "execution_count": 35,
   "metadata": {},
   "outputs": [
    {
     "data": {
      "text/plain": [
       "18"
      ]
     },
     "execution_count": 35,
     "metadata": {},
     "output_type": "execute_result"
    }
   ],
   "source": [
    "columns_fwf =[   \n",
    "    'X',\n",
    "    'Y',\n",
    "    'Z',\n",
    "    'intensity',\n",
    "    'flag_byte',\n",
    "    'classification_flags',\n",
    "    'classification_byte',\n",
    "    'user_data',\n",
    "    'scan_angle',\n",
    "    'pt_src_id',\n",
    "    'gps_time',\n",
    "    'wave_packet_desc_index',\n",
    "    'byte_offset_to_waveform_data',\n",
    "    'wavefm_pkt_size',\n",
    "    'return_point_waveform_loc',\n",
    "    'x_t',\n",
    "    'y_t',\n",
    "    'z_t' ]\n",
    "\n",
    "columns_point_cloud = [\n",
    "    'X',\n",
    "    'Y',\n",
    "    'Z',\n",
    "    'intensity',\n",
    "    'flag_byte',\n",
    "    'classification_flags',\n",
    "    'classification_byte',\n",
    "    'user_data',\n",
    "    'scan_angle',\n",
    "    'pt_src_id',\n",
    "    'gps_time']\n",
    "\n",
    "# Q: Do gps_time's line up between point cloud and fwf?"
   ]
  },
  {
   "cell_type": "code",
   "execution_count": null,
   "metadata": {},
   "outputs": [],
   "source": [
    "def raw_to_df(raw,column_names):\n",
    "    # function takes raw output of laspy.File.get_points() and column names, and returns a pandas Dataframe\n",
    "    raw_list = [a[0].tolist() for a in raw]\n",
    "    df = pd.DataFrame(raw_list,columns = column_names)\n",
    "    return df\n",
    "\n",
    "def split_and_strip(raw):\n",
    "    '''Function takes the output ndarray of laspy File.get_points(), \n",
    "        splits each point on commas, \n",
    "        outputs a list of lists.'''\n",
    "    output_list = []\n",
    "    for row in raw:\n",
    "        stripped = [a.strip(\"( , )\") for a in str(row).split(',')]\n",
    "        output_list.append(stripped)\n",
    "    return output_list\n",
    "\n",
    "def row_clean(string_list):\n",
    "    '''Function takes as input a list of lists, the output of split_and_strip().  Cleans the entries for spaces,\n",
    "    returns a numpy array where each row is a point.'''\n",
    "    output_list = []\n",
    "    for row in string_list:        \n",
    "        output_list.append(list(map(float,row[:-1])))\n",
    "    output_arr = np.array(output_list)\n",
    "    return output_arr"
   ]
  },
  {
   "cell_type": "code",
   "execution_count": 77,
   "metadata": {},
   "outputs": [
    {
     "data": {
      "text/html": [
       "<div>\n",
       "<style scoped>\n",
       "    .dataframe tbody tr th:only-of-type {\n",
       "        vertical-align: middle;\n",
       "    }\n",
       "\n",
       "    .dataframe tbody tr th {\n",
       "        vertical-align: top;\n",
       "    }\n",
       "\n",
       "    .dataframe thead th {\n",
       "        text-align: right;\n",
       "    }\n",
       "</style>\n",
       "<table border=\"1\" class=\"dataframe\">\n",
       "  <thead>\n",
       "    <tr style=\"text-align: right;\">\n",
       "      <th></th>\n",
       "      <th>X</th>\n",
       "      <th>Y</th>\n",
       "      <th>Z</th>\n",
       "      <th>intensity</th>\n",
       "      <th>flag_byte</th>\n",
       "      <th>classification_flags</th>\n",
       "      <th>classification_byte</th>\n",
       "      <th>user_data</th>\n",
       "      <th>scan_angle</th>\n",
       "      <th>pt_src_id</th>\n",
       "      <th>gps_time</th>\n",
       "      <th>wave_packet_desc_index</th>\n",
       "      <th>byte_offset_to_waveform_data</th>\n",
       "      <th>wavefm_pkt_size</th>\n",
       "      <th>return_point_waveform_loc</th>\n",
       "      <th>x_t</th>\n",
       "      <th>y_t</th>\n",
       "      <th>z_t</th>\n",
       "    </tr>\n",
       "  </thead>\n",
       "  <tbody>\n",
       "    <tr>\n",
       "      <th>0</th>\n",
       "      <td>975340294</td>\n",
       "      <td>173113464</td>\n",
       "      <td>16421</td>\n",
       "      <td>1159</td>\n",
       "      <td>17</td>\n",
       "      <td>128</td>\n",
       "      <td>0</td>\n",
       "      <td>0</td>\n",
       "      <td>5066</td>\n",
       "      <td>30</td>\n",
       "      <td>62541.080832</td>\n",
       "      <td>1</td>\n",
       "      <td>60</td>\n",
       "      <td>120</td>\n",
       "      <td>17090.0</td>\n",
       "      <td>0.000078</td>\n",
       "      <td>-0.000106</td>\n",
       "      <td>0.000072</td>\n",
       "    </tr>\n",
       "    <tr>\n",
       "      <th>1</th>\n",
       "      <td>975340029</td>\n",
       "      <td>173114239</td>\n",
       "      <td>16354</td>\n",
       "      <td>1169</td>\n",
       "      <td>17</td>\n",
       "      <td>0</td>\n",
       "      <td>0</td>\n",
       "      <td>0</td>\n",
       "      <td>5060</td>\n",
       "      <td>30</td>\n",
       "      <td>62541.080835</td>\n",
       "      <td>1</td>\n",
       "      <td>180</td>\n",
       "      <td>120</td>\n",
       "      <td>16451.0</td>\n",
       "      <td>0.000078</td>\n",
       "      <td>-0.000106</td>\n",
       "      <td>0.000072</td>\n",
       "    </tr>\n",
       "    <tr>\n",
       "      <th>2</th>\n",
       "      <td>975339779</td>\n",
       "      <td>173114982</td>\n",
       "      <td>16385</td>\n",
       "      <td>1263</td>\n",
       "      <td>17</td>\n",
       "      <td>0</td>\n",
       "      <td>0</td>\n",
       "      <td>0</td>\n",
       "      <td>5056</td>\n",
       "      <td>30</td>\n",
       "      <td>62541.080838</td>\n",
       "      <td>1</td>\n",
       "      <td>300</td>\n",
       "      <td>120</td>\n",
       "      <td>15649.0</td>\n",
       "      <td>0.000078</td>\n",
       "      <td>-0.000106</td>\n",
       "      <td>0.000072</td>\n",
       "    </tr>\n",
       "    <tr>\n",
       "      <th>3</th>\n",
       "      <td>975339514</td>\n",
       "      <td>173115761</td>\n",
       "      <td>16338</td>\n",
       "      <td>1290</td>\n",
       "      <td>17</td>\n",
       "      <td>0</td>\n",
       "      <td>0</td>\n",
       "      <td>0</td>\n",
       "      <td>5050</td>\n",
       "      <td>30</td>\n",
       "      <td>62541.080840</td>\n",
       "      <td>1</td>\n",
       "      <td>420</td>\n",
       "      <td>120</td>\n",
       "      <td>18946.0</td>\n",
       "      <td>0.000078</td>\n",
       "      <td>-0.000106</td>\n",
       "      <td>0.000072</td>\n",
       "    </tr>\n",
       "    <tr>\n",
       "      <th>4</th>\n",
       "      <td>975339267</td>\n",
       "      <td>173116486</td>\n",
       "      <td>16325</td>\n",
       "      <td>1243</td>\n",
       "      <td>17</td>\n",
       "      <td>0</td>\n",
       "      <td>0</td>\n",
       "      <td>0</td>\n",
       "      <td>5045</td>\n",
       "      <td>30</td>\n",
       "      <td>62541.080843</td>\n",
       "      <td>1</td>\n",
       "      <td>540</td>\n",
       "      <td>120</td>\n",
       "      <td>18187.0</td>\n",
       "      <td>0.000078</td>\n",
       "      <td>-0.000106</td>\n",
       "      <td>0.000072</td>\n",
       "    </tr>\n",
       "  </tbody>\n",
       "</table>\n",
       "</div>"
      ],
      "text/plain": [
       "           X          Y      Z  intensity  flag_byte  classification_flags  \\\n",
       "0  975340294  173113464  16421       1159         17                   128   \n",
       "1  975340029  173114239  16354       1169         17                     0   \n",
       "2  975339779  173114982  16385       1263         17                     0   \n",
       "3  975339514  173115761  16338       1290         17                     0   \n",
       "4  975339267  173116486  16325       1243         17                     0   \n",
       "\n",
       "   classification_byte  user_data  scan_angle  pt_src_id      gps_time  \\\n",
       "0                    0          0        5066         30  62541.080832   \n",
       "1                    0          0        5060         30  62541.080835   \n",
       "2                    0          0        5056         30  62541.080838   \n",
       "3                    0          0        5050         30  62541.080840   \n",
       "4                    0          0        5045         30  62541.080843   \n",
       "\n",
       "   wave_packet_desc_index  byte_offset_to_waveform_data  wavefm_pkt_size  \\\n",
       "0                       1                            60              120   \n",
       "1                       1                           180              120   \n",
       "2                       1                           300              120   \n",
       "3                       1                           420              120   \n",
       "4                       1                           540              120   \n",
       "\n",
       "   return_point_waveform_loc       x_t       y_t       z_t  \n",
       "0                    17090.0  0.000078 -0.000106  0.000072  \n",
       "1                    16451.0  0.000078 -0.000106  0.000072  \n",
       "2                    15649.0  0.000078 -0.000106  0.000072  \n",
       "3                    18946.0  0.000078 -0.000106  0.000072  \n",
       "4                    18187.0  0.000078 -0.000106  0.000072  "
      ]
     },
     "execution_count": 77,
     "metadata": {},
     "output_type": "execute_result"
    }
   ],
   "source": [
    "df.head()"
   ]
  },
  {
   "cell_type": "code",
   "execution_count": 83,
   "metadata": {},
   "outputs": [
    {
     "data": {
      "text/plain": [
       "[<matplotlib.lines.Line2D at 0x1ea9423198>]"
      ]
     },
     "execution_count": 83,
     "metadata": {},
     "output_type": "execute_result"
    },
    {
     "data": {
      "image/png": "[encoded data removed]",
      "text/plain": [
       "<Figure size 432x288 with 1 Axes>"
      ]
     },
     "metadata": {
      "needs_background": "light"
     },
     "output_type": "display_data"
    }
   ],
   "source": [
    "plt.plot(df['scan_angle'][:20000])"
   ]
  },
  {
   "cell_type": "code",
   "execution_count": null,
   "metadata": {},
   "outputs": [],
   "source": []
  }
 ],
 "metadata": {
  "kernelspec": {
   "display_name": "Python 3",
   "language": "python",
   "name": "python3"
  },
  "language_info": {
   "codemirror_mode": {
    "name": "ipython",
    "version": 3
   },
   "file_extension": ".py",
   "mimetype": "text/x-python",
   "name": "python",
   "nbconvert_exporter": "python",
   "pygments_lexer": "ipython3",
   "version": "3.7.3"
  }
 },
 "nbformat": 4,
 "nbformat_minor": 2
}
