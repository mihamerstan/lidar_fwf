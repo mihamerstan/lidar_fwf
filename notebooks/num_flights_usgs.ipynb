{
 "cells": [
  {
   "cell_type": "code",
   "execution_count": 1,
   "metadata": {},
   "outputs": [],
   "source": [
    "import numpy as np\n",
    "import pandas as pd\n",
    "from scipy import stats\n",
    "from laspy.file import File\n",
    "\n",
    "import sys\n",
    "sys.path.insert(0,'..')\n",
    "from point_density_functions import *"
   ]
  },
  {
   "cell_type": "code",
   "execution_count": 6,
   "metadata": {},
   "outputs": [],
   "source": [
    "# Load nyc dataframe\n",
    "usgs_file_dir = '../../Data/USGS/'\n",
    "usgs_pt_file = list(pd.read_csv(usgs_file_dir+\"usgs_pt_files.txt\",header=None)[0])\n",
    "usgs_df = pd.read_hdf(usgs_file_dir+usgs_pt_file[0])\n",
    "\n",
    "#Sort by gps_time\n",
    "usgs_df.sort_values(by=['gps_time'],inplace=True)\n",
    "usgs_df = usgs_df.drop(0)\n"
   ]
  },
  {
   "cell_type": "code",
   "execution_count": 7,
   "metadata": {},
   "outputs": [],
   "source": [
    "usgs_df = usgs_df.reset_index()\n"
   ]
  },
  {
   "cell_type": "code",
   "execution_count": 8,
   "metadata": {},
   "outputs": [],
   "source": [
    "def label_returns(las_df):\n",
    "    '''\n",
    "    Parses the flag_byte into number of returns and return number, adds these fields to las_df.\n",
    "    Input - las_df - dataframe from .laz or .lz file\n",
    "    Output - first_return_df - only the first return points from las_df.\n",
    "           - las_df - input dataframe with num_returns and return_num fields added \n",
    "    '''\n",
    "    \n",
    "    las_df['num_returns'] = np.floor(las_df['return_number_byte']/8).astype(int)\n",
    "    las_df['return_num'] = las_df['return_number_byte']%8\n",
    "    first_return_df = las_df[las_df['return_num']==1]\n",
    "    first_return_df = first_return_df.reset_index(drop=True)\n",
    "    return first_return_df, las_df\n",
    "# Note: this anlaysis doesn't really need this\n",
    "_,usgs_df = label_returns(usgs_df)"
   ]
  },
  {
   "cell_type": "code",
   "execution_count": 9,
   "metadata": {},
   "outputs": [],
   "source": [
    "gap_times = np.array(usgs_df.iloc[1:]['gps_time']) - np.array(usgs_df.iloc[:-1]['gps_time'])"
   ]
  },
  {
   "cell_type": "code",
   "execution_count": 10,
   "metadata": {},
   "outputs": [
    {
     "data": {
      "text/plain": [
       "array([1.01443393e+03, 3.81407438e+02, 4.61488490e+05])"
      ]
     },
     "execution_count": 10,
     "metadata": {},
     "output_type": "execute_result"
    }
   ],
   "source": [
    "# Gaps between flights\n",
    "gap_times[gap_times>30]"
   ]
  },
  {
   "cell_type": "code",
   "execution_count": 12,
   "metadata": {
    "scrolled": false
   },
   "outputs": [
    {
     "name": "stdout",
     "output_type": "stream",
     "text": [
      "New group!\n",
      "New group!\n",
      "New group!\n"
     ]
    }
   ],
   "source": [
    "# Add flight_id for nyc flights based on time gaps\n",
    "usgs_df['flight_id'] = [0]*usgs_df.shape[0]\n",
    "flight_id = 0\n",
    "old_i = 0\n",
    "for i,gap in enumerate(gap_times):\n",
    "    if gap > 30:\n",
    "        usgs_df.loc[old_i:i+1,'flight_id'] = flight_id\n",
    "        flight_id+=1\n",
    "        old_i = i\n",
    "        print(\"New group!\")\n",
    "usgs_df.loc[old_i:,'flight_id'] = flight_id"
   ]
  },
  {
   "cell_type": "code",
   "execution_count": 22,
   "metadata": {},
   "outputs": [],
   "source": [
    "# Create hdf file\n",
    "usgs_df.to_hdf(usgs_file_dir+'las_points_flight_id_18TWK820985.lz',key='df',complevel=1,complib='lzo')"
   ]
  },
  {
   "cell_type": "code",
   "execution_count": null,
   "metadata": {},
   "outputs": [],
   "source": []
  }
 ],
 "metadata": {
  "kernelspec": {
   "display_name": "Python 3",
   "language": "python",
   "name": "python3"
  },
  "language_info": {
   "codemirror_mode": {
    "name": "ipython",
    "version": 3
   },
   "file_extension": ".py",
   "mimetype": "text/x-python",
   "name": "python",
   "nbconvert_exporter": "python",
   "pygments_lexer": "ipython3",
   "version": "3.6.9"
  }
 },
 "nbformat": 4,
 "nbformat_minor": 2
}
