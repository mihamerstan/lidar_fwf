{
 "cells": [
  {
   "cell_type": "code",
   "execution_count": 1,
   "metadata": {},
   "outputs": [],
   "source": [
    "import numpy as np\n",
    "import pandas as pd\n",
    "from scipy import stats\n",
    "from laspy.file import File\n",
    "import matplotlib.pyplot as plt\n",
    "from mpl_toolkits import mplot3d\n",
    "import plotly.graph_objects as go\n",
    "\n",
    "%matplotlib notebook"
   ]
  },
  {
   "cell_type": "code",
   "execution_count": 2,
   "metadata": {},
   "outputs": [],
   "source": [
    "file_dir = '../../Data/parking_lot/'\n",
    "filenames =[\n",
    "            '10552_NYU_M2 - Scanner 1 - 190511_164039_1 - originalpoints.laz',\n",
    "            '10552_NYU_M2 - Scanner 1 - 190511_164239_1 - originalpoints.laz',\n",
    "            '10552_NYU_M2 - Scanner 1 - 190511_164445_1 - originalpoints.laz',\n",
    "            '10552_NYU_M2 - Scanner 1 - 190511_172558_1 - originalpoints.laz',\n",
    "            '10552_NYU_M2 - Scanner 1 - 190511_172753_1 - originalpoints.laz',\n",
    "            '10552_NYU_M2 - Scanner 1 - 190511_172928_1 - originalpoints.laz',\n",
    "            '10552_NYU_M2 - Scanner 1 - 190511_180428_1 - originalpoints.laz',\n",
    "            '10552_NYU_M2 - Scanner 1 - 190511_180632_1 - originalpoints.laz',\n",
    "            '10552_NYU_M2 - Scanner 1 - 190511_180819_1 - originalpoints.laz',\n",
    "            '10552_NYU_M3 - Scanner 1 - 190511_200348_1 - originalpoints.laz',\n",
    "            '10552_NYU_M3 - Scanner 1 - 190511_200600_1 - originalpoints.laz',\n",
    "            '10552_NYU_M3 - Scanner 1 - 190511_200742_1 - originalpoints.laz',\n",
    "            '10552_NYU_M2 - Scanner 1 - 190511_163824_1 - originalpoints.laz',\n",
    "            '10552_NYU_M2 - Scanner 1 - 190511_164640_1 - originalpoints.laz',\n",
    "            '10552_NYU_M2 - Scanner 1 - 190511_172416_1 - originalpoints.laz',\n",
    "            '10552_NYU_M2 - Scanner 1 - 190511_173110_1 - originalpoints.laz',\n",
    "            '10552_NYU_M2 - Scanner 1 - 190511_164845_1 - originalpoints.laz',\n",
    "            '10552_NYU_M2 - Scanner 1 - 190511_172201_1 - originalpoints.laz',\n",
    "            '10552_NYU_M2 - Scanner 1 - 190511_173238_1 - originalpoints.laz',\n",
    "        #   '10552_NYU_M3 - Scanner 1 - 190511_200938_1 - originalpoints.laz',\n",
    "            '10552_NYU_M3 - Scanner 1 - 190511_200212_1 - originalpoints.laz',\n",
    "            '10552_NYU_M2 - Scanner 1 - 190511_181004_1 - originalpoints.laz',\n",
    "            '10552_NYU_M2 - Scanner 1 - 190511_180231_1 - originalpoints.laz'\n",
    "]\n",
    "\n",
    "columns_point_cloud = [\n",
    "    'X','Y','Z',\n",
    "    'intensity',\n",
    "    'flag_byte',\n",
    "    'classification_flags',\n",
    "    'classification_byte',\n",
    "    'user_data',\n",
    "    'scan_angle',\n",
    "    'pt_src_id',\n",
    "    'gps_time']"
   ]
  },
  {
   "cell_type": "code",
   "execution_count": 3,
   "metadata": {},
   "outputs": [],
   "source": [
    "def raw_to_df(raw,column_names):\n",
    "    '''function takes raw output of laspy.File.get_points() and column names, and returns a pandas Dataframe'''\n",
    "    raw_list = [a[0].tolist() for a in raw]\n",
    "    df = pd.DataFrame(raw_list,columns = column_names)\n",
    "    return df\n",
    "\n",
    "def scale_and_offset(df,header,append_to_df=False):\n",
    "    '''Function takes as input the dataframe output of raw_to_df and the laspy header file.\n",
    "       Output is a nx3 dataframe with adjusted X,Y, and Z coordinates, from the formula: \n",
    "       X_adj = X*X_scale + X_offset.\n",
    "       Brooklyn LiDAR readings appear to be in feet, and use NAVD 88 in the vertical and \n",
    "       New York Long Island State Plane Coordinate System NAD 33 in the horizontal.'''\n",
    "    offset = header.offset\n",
    "    scale = header.scale\n",
    "    scaled_xyz = df[['X','Y','Z']]*scale + offset\n",
    "    if append_to_df:\n",
    "        df['x_scaled'] = scaled_xyz['X']\n",
    "        df['y_scaled'] = scaled_xyz['Y']\n",
    "        df['z_scaled'] = scaled_xyz['Z'] \n",
    "        return df\n",
    "    else:\n",
    "        return scaled_xyz\n",
    "\n",
    "def create_df_pickle(file_dir,filename,column_names):\n",
    "    inFile = File(file_dir+filename, mode='r')\n",
    "    raw = inFile.get_points()\n",
    "    df = raw_to_df(raw,column_names)\n",
    "    df = scale_and_offset(df,inFile.header,append_to_df=True)\n",
    "    pickle_name = 'las_points_'+filename[34:40]+'.pkl'\n",
    "    df.to_pickle(file_dir + pickle_name)\n",
    "\n",
    "def create_df_hd5(file_dir,filename,column_names):\n",
    "    inFile = File(file_dir+filename, mode='r')\n",
    "    raw = inFile.get_points()\n",
    "    df = raw_to_df(raw,column_names)\n",
    "    df = scale_and_offset(df,inFile.header,append_to_df=True)\n",
    "    hdf_name = 'las_points_'+filename[34:40]+'.h5'\n",
    "    df.to_hdf(file_dir + hdf_name,key='df',complevel=1,complib='bzip2')"
   ]
  },
  {
   "cell_type": "markdown",
   "metadata": {},
   "source": [
    "## Flat surface\n",
    "Identifying points in a parking lot to assess how consistently flat they are.  \n",
    "Center point: 40.645789, -74.025951  \n",
    "Easting - 977048.434  \n",
    "Northing - 174555.792"
   ]
  },
  {
   "cell_type": "code",
   "execution_count": null,
   "metadata": {},
   "outputs": [],
   "source": [
    "# This works\n",
    "for filename in filenames:\n",
    "    create_df_hd5(file_dir,filename,columns_point_cloud)"
   ]
  },
  {
   "cell_type": "code",
   "execution_count": null,
   "metadata": {},
   "outputs": [],
   "source": [
    "# Extract points within a square around the desired point\n",
    "pt_x = 977037.343\n",
    "pt_y = 174586.034\n",
    "feet_from_point = 5\n",
    "size_of_square = (2*feet_from_point)**2\n",
    "\n",
    "# For plot of points from scan\n",
    "pts_from_scan = []\n",
    "\n",
    "square_points = pd.DataFrame()\n",
    "\n",
    "# Load pickle, extract points around square, iterate\n",
    "for pick in ['las_points_164845.pkl',\n",
    "             'las_points_164640.pkl',\n",
    "             'las_points_164445.pkl',\n",
    "             'las_points_164239.pkl',\n",
    "             'las_points_164039.pkl',\n",
    "             'las_points_163824.pkl',\n",
    "             'las_points_173238.pkl',\n",
    "             'las_points_173110.pkl',\n",
    "             'las_points_172928.pkl',\n",
    "             'las_points_172753.pkl',\n",
    "             'las_points_172558.pkl',\n",
    "             'las_points_172416.pkl',\n",
    "             'las_points_172201.pkl',\n",
    "             'las_points_180819.pkl',\n",
    "             'las_points_180632.pkl',\n",
    "             'las_points_180428.pkl',\n",
    "             'las_points_200742.pkl',\n",
    "             'las_points_200600.pkl',\n",
    "             'las_points_200348.pkl',\n",
    "             'las_points_180231.pkl',\n",
    "             'las_points_181004.pkl',\n",
    "             'las_points_200938.pkl',\n",
    "             'las_points_200212.pkl',\n",
    "            ]:\n",
    "    las_points = pd.read_pickle(file_dir+pick)\n",
    "    \n",
    "    new_square_points = las_points[ (las_points['x_scaled'] < pt_x + feet_from_point)\n",
    "            &(las_points['x_scaled'] > pt_x - feet_from_point) \n",
    "            &(las_points['y_scaled'] < pt_y + feet_from_point)\n",
    "            &(las_points['y_scaled'] > pt_y - feet_from_point)\n",
    "          ]\n",
    "    print(\"Point count in new square from {:s}: {:d}\".format(pick,new_square_points.shape[0]))\n",
    "    pts_from_scan.append((pick,new_square_points.shape[0]))\n",
    "    square_points = square_points.append(new_square_points,sort=True)\n",
    "\n",
    "print(\"Total point count in square: {:d}\".format(square_points.shape[0]))\n",
    "print(\"Size of square: {:2.2f} sq ft\".format(size_of_square))\n",
    "print(\"Point density: {:2.2f} points / sq ft\".format(square_points.shape[0]/size_of_square))"
   ]
  },
  {
   "cell_type": "code",
   "execution_count": null,
   "metadata": {
    "scrolled": false
   },
   "outputs": [],
   "source": [
    "labels = [pt[0][11:-4] for pt in pts_from_scan]\n",
    "num_points = [pt[1]+.01 for pt in pts_from_scan]\n",
    "plt.figure(figsize=(25,20))\n",
    "plt.bar(labels,num_points,)\n",
    "plt.xticks(rotation=45,fontsize=20)\n",
    "plt.yticks(np.arange(0, max(num_points), step=(max(num_points)/10)),fontsize=20)\n",
    "plt.ylabel(\"Number of points from run\",fontsize=20)\n",
    "plt.xlabel(\"Run ID\",fontsize=20)"
   ]
  },
  {
   "cell_type": "code",
   "execution_count": null,
   "metadata": {},
   "outputs": [],
   "source": [
    "labels[0][11:-4]"
   ]
  },
  {
   "cell_type": "code",
   "execution_count": null,
   "metadata": {},
   "outputs": [],
   "source": [
    "# fit a plane to square_points via SVD\n",
    "def plane_fit(square_points):\n",
    "    raw_points = np.array(square_points[['x_scaled','y_scaled','z_scaled']]).T\n",
    "    points = raw_points.T - raw_points.mean(axis=1)\n",
    "    svd = np.linalg.svd(points.T)\n",
    "    norm_vector = np.transpose(svd[0])[2]    \n",
    "    # Calculate each point's distance from the plane\n",
    "    dist_from_plane = [np.dot(point,norm_vector) for point in points]\n",
    "\n",
    "    square_points['dist_from_plane'] = dist_from_plane\n",
    "    return norm_vector,points,square_points\n",
    "norm_vector,points,square_points = plane_fit(square_points)\n",
    "\n",
    "# Add distance from flat plane with norm (x,y,z) = (0,0,1)\n",
    "square_points['dist_from_flat']=np.array([np.dot(point,np.array([0,0,1])) for point in points])\n",
    "\n",
    "# remove data points >5 feet below plane.\n",
    "outliers = square_points[square_points['dist_from_plane']<-5].index\n",
    "square_points = square_points.drop(outliers)\n"
   ]
  },
  {
   "cell_type": "code",
   "execution_count": null,
   "metadata": {
    "scrolled": false
   },
   "outputs": [],
   "source": [
    "# How do I make the dots smaller?\n",
    "import plotly.graph_objects as go\n",
    "\n",
    "fig = go.Figure(data=[go.Scatter3d(x=(square_points['x_scaled']-square_points['x_scaled'].min()), \n",
    "                                   y=(square_points['y_scaled']-square_points['y_scaled'].min()),  \n",
    "                                   z=(square_points['z_scaled']-square_points['z_scaled'].mean()), \n",
    "                                   mode='markers',\n",
    "                                  marker=dict(size=4,\n",
    "                                              color=2))])\n",
    "\n",
    "fig.update_layout( \n",
    "    scene = dict(\n",
    "#         xaxis = dict(nticks=4, range=[-2,12],),\n",
    "#                      yaxis = dict(nticks=4, range=[-2,12],),\n",
    "                     zaxis = dict(nticks=4, range=[\n",
    "                                            -.5,\n",
    "                                            +.5],),),\n",
    "    width=700,\n",
    "    margin=dict(r=20, l=10, b=10, t=10))\n",
    "\n",
    "fig.show()"
   ]
  },
  {
   "cell_type": "code",
   "execution_count": null,
   "metadata": {},
   "outputs": [],
   "source": [
    "print(\"Z range: {:2.2f}ft\".format(square_points['z_scaled'].max()-square_points['z_scaled'].min()))\n",
    "print(\"X range: {:2.2f}ft\".format(square_points['x_scaled'].max()-square_points['x_scaled'].min()))\n",
    "print(\"Y range: {:2.2f}ft\".format(square_points['y_scaled'].max()-square_points['y_scaled'].min()))\n"
   ]
  },
  {
   "cell_type": "code",
   "execution_count": null,
   "metadata": {},
   "outputs": [],
   "source": [
    "plt.plot(range(len(square_points)),square_points['scan_angle'],'x')"
   ]
  },
  {
   "cell_type": "code",
   "execution_count": null,
   "metadata": {},
   "outputs": [],
   "source": [
    "print(\"Avg point distance from plane: {:2.5f}\".format(abs(square_points['dist_from_plane']).mean()))\n",
    "print(\"Avg point distance from flat plane: {:2.5f}\".format(abs(square_points['dist_from_flat']).mean()))"
   ]
  },
  {
   "cell_type": "code",
   "execution_count": null,
   "metadata": {},
   "outputs": [],
   "source": [
    "norm_vector"
   ]
  },
  {
   "cell_type": "code",
   "execution_count": null,
   "metadata": {},
   "outputs": [],
   "source": []
  },
  {
   "cell_type": "code",
   "execution_count": null,
   "metadata": {},
   "outputs": [],
   "source": [
    "def plot_scan_angle_dist_from_plane(df,distance_metric):\n",
    "    x = abs(df['scan_angle'])*.006\n",
    "    y = df[distance_metric]\n",
    "    plt.figure(figsize=(15,15))\n",
    "    plt.plot(x,y,'xb')\n",
    "    z = np.polyfit(x, y, 1)\n",
    "    p = np.poly1d(z)\n",
    "    plt.plot(x,p(x),\"r--\")\n",
    "    plt.xlabel(\"Scan angle (degrees)\")\n",
    "    plt.ylabel(\"Point distance from plane\")\n",
    "    print(\"y={:2.8f}x+{:2.8f}\".format(z[0],z[1]))\n",
    "    plt.title(\"Scan Angle vs Distance to Fitted Plane\")\n",
    "plot_scan_angle_dist_from_plane(square_points,'dist_from_plane')"
   ]
  },
  {
   "cell_type": "code",
   "execution_count": null,
   "metadata": {},
   "outputs": [],
   "source": [
    "plot_scan_angle_dist_from_plane(square_points,'dist_from_flat')"
   ]
  },
  {
   "cell_type": "markdown",
   "metadata": {},
   "source": [
    "## NYC data"
   ]
  },
  {
   "cell_type": "code",
   "execution_count": null,
   "metadata": {},
   "outputs": [],
   "source": [
    "# Load the data using laspy\n",
    "inFile = File('../../Data/NYC_topo/975172.las', mode='r')\n",
    "\n",
    "# raw is a 1-D numpy array, each entry is a point\n",
    "raw = inFile.get_points()\n",
    "\n",
    "print(\"Number of points, full waveform: \",len(raw))\n",
    "\n",
    "# Create dataframes for point cloud and fwf\n",
    "df = raw_to_df(raw,columns_point_cloud)\n",
    "\n",
    "# Generate adjusted coordinates for point cloud.  FWF is identical.\n",
    "las_points = scale_and_offset(df,inFile.header,append_to_df=True)"
   ]
  },
  {
   "cell_type": "code",
   "execution_count": null,
   "metadata": {},
   "outputs": [],
   "source": [
    "# Extract points within a square around the desired point\n",
    "pt_x = 977037.343\n",
    "pt_y = 174586.034\n",
    "feet_from_point = 5\n",
    "size_of_square = (2*feet_from_point)**2\n",
    "\n",
    "# For plot of points from scan\n",
    "pts_from_scan = []\n",
    "\n",
    "square_points = pd.DataFrame()\n",
    "\n",
    "square_points = las_points[  (las_points['x_scaled'] < pt_x + feet_from_point)\n",
    "                                &(las_points['x_scaled'] > pt_x - feet_from_point) \n",
    "                                &(las_points['y_scaled'] < pt_y + feet_from_point)\n",
    "                                &(las_points['y_scaled'] > pt_y - feet_from_point)\n",
    "          ]\n",
    "\n",
    "print(\"Total point count in square: {:d}\".format(square_points.shape[0]))\n",
    "print(\"Size of square: {:2.2f} sq ft\".format(size_of_square))\n",
    "print(\"Point density: {:2.2f} points / sq ft\".format(square_points.shape[0]/size_of_square))"
   ]
  },
  {
   "cell_type": "code",
   "execution_count": null,
   "metadata": {},
   "outputs": [],
   "source": []
  },
  {
   "cell_type": "code",
   "execution_count": null,
   "metadata": {},
   "outputs": [],
   "source": []
  },
  {
   "cell_type": "code",
   "execution_count": null,
   "metadata": {},
   "outputs": [],
   "source": []
  }
 ],
 "metadata": {
  "kernelspec": {
   "display_name": "Python 3",
   "language": "python",
   "name": "python3"
  },
  "language_info": {
   "codemirror_mode": {
    "name": "ipython",
    "version": 3
   },
   "file_extension": ".py",
   "mimetype": "text/x-python",
   "name": "python",
   "nbconvert_exporter": "python",
   "pygments_lexer": "ipython3",
   "version": "3.7.3"
  }
 },
 "nbformat": 4,
 "nbformat_minor": 2
}
