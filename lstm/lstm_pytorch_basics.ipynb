{
 "cells": [
  {
   "cell_type": "code",
   "execution_count": 3,
   "metadata": {},
   "outputs": [
    {
     "data": {
      "text/plain": [
       "<torch._C.Generator at 0x112f18990>"
      ]
     },
     "execution_count": 3,
     "metadata": {},
     "output_type": "execute_result"
    }
   ],
   "source": [
    "import torch\n",
    "import torch.nn as nn\n",
    "import torch.nn.functional as F\n",
    "import torch.optim as optim\n",
    "\n",
    "torch.manual_seed(1)"
   ]
  },
  {
   "cell_type": "code",
   "execution_count": null,
   "metadata": {},
   "outputs": [],
   "source": [
    "lstm = nn.LSTM(3, 3)  # Input dim is 3, output dim is 3\n",
    "inputs = [torch.randn(1, 3) for _ in range(5)]  # make a sequence of length 5\n",
    "\n",
    "# initialize the hidden state.\n",
    "hidden = (torch.randn(1, 1, 3),\n",
    "          torch.randn(1, 1, 3))\n",
    "for i in inputs:\n",
    "    # Step through the sequence one element at a time.\n",
    "    # after each step, hidden contains the hidden state.\n",
    "    out, hidden = lstm(i.view(1, 1, -1), hidden)\n",
    "\n",
    "# alternatively, we can do the entire sequence all at once.\n",
    "# the first value returned by LSTM is all of the hidden states throughout\n",
    "# the sequence. the second is just the most recent hidden state\n",
    "# (compare the last slice of \"out\" with \"hidden\" below, they are the same)\n",
    "# The reason for this is that:\n",
    "# \"out\" will give you access to all hidden states in the sequence\n",
    "# \"hidden\" will allow you to continue the sequence and backpropagate,\n",
    "# by passing it as an argument  to the lstm at a later time\n",
    "# Add the extra 2nd dimension\n",
    "inputs = torch.cat(inputs).view(len(inputs), 1, -1)\n",
    "hidden = (torch.randn(1, 1, 3), torch.randn(1, 1, 3))  # clean out hidden state\n",
    "out, hidden = lstm(inputs, hidden)\n",
    "print(out)\n",
    "print(hidden)"
   ]
  },
  {
   "cell_type": "markdown",
   "metadata": {},
   "source": [
    "## Example: Part of Speech Tagger"
   ]
  },
  {
   "cell_type": "code",
   "execution_count": 1,
   "metadata": {},
   "outputs": [
    {
     "name": "stdout",
     "output_type": "stream",
     "text": [
      "{'The': 0, 'dog': 1, 'ate': 2, 'the': 3, 'apple': 4, 'Everybody': 5, 'read': 6, 'that': 7, 'book': 8}\n"
     ]
    }
   ],
   "source": [
    "def prepare_sequence(seq, to_ix):\n",
    "    idxs = [to_ix[w] for w in seq]\n",
    "    return torch.tensor(idxs, dtype=torch.long)\n",
    "\n",
    "\n",
    "training_data = [\n",
    "    (\"The dog ate the apple\".split(), [\"DET\", \"NN\", \"V\", \"DET\", \"NN\"]),\n",
    "    (\"Everybody read that book\".split(), [\"NN\", \"V\", \"DET\", \"NN\"])\n",
    "]\n",
    "word_to_ix = {}\n",
    "for sent, tags in training_data:\n",
    "    for word in sent:\n",
    "        if word not in word_to_ix:\n",
    "            word_to_ix[word] = len(word_to_ix)\n",
    "print(word_to_ix)\n",
    "tag_to_ix = {\"DET\": 0, \"NN\": 1, \"V\": 2}\n",
    "\n",
    "# These will usually be more like 32 or 64 dimensional.\n",
    "# We will keep them small, so we can see how the weights change as we train.\n",
    "EMBEDDING_DIM = 6\n",
    "HIDDEN_DIM = 6"
   ]
  },
  {
   "cell_type": "code",
   "execution_count": 40,
   "metadata": {},
   "outputs": [],
   "source": [
    "class LSTMTagger(nn.Module):\n",
    "\n",
    "    def __init__(self, embedding_dim, hidden_dim, vocab_size, tagset_size):\n",
    "        super(LSTMTagger, self).__init__()\n",
    "        self.hidden_dim = hidden_dim\n",
    "\n",
    "        self.word_embeddings = nn.Embedding(vocab_size, embedding_dim)\n",
    "\n",
    "        # The LSTM takes word embeddings as inputs, and outputs hidden states\n",
    "        # with dimensionality hidden_dim.\n",
    "        self.lstm = nn.LSTM(embedding_dim, hidden_dim)\n",
    "\n",
    "        # The linear layer that maps from hidden state space to tag space\n",
    "        self.hidden2tag = nn.Linear(hidden_dim, tagset_size)\n",
    "\n",
    "    def forward(self, sentence):\n",
    "\n",
    "        embeds = self.word_embeddings(sentence)\n",
    "        # lstm_out is the output of the LSTM, _ ignores (hn,cn)\n",
    "        lstm_out, _ = self.lstm(embeds.view(len(sentence), 1, -1))\n",
    "        print(\"lstm_out.shape: \",lstm_out.shape)\n",
    "        print(\"lstm_out reshape: \",lstm_out.view(len(sentence), -1).shape)\n",
    "        # Predict tags by Linear combination of lstm_out\n",
    "        tag_space = self.hidden2tag(lstm_out.view(len(sentence), -1))\n",
    "        print(\"tag_space.shape: \",tag_space.shape)\n",
    "        tag_scores = F.log_softmax(tag_space, dim=1)\n",
    "        print(\"tag_scores.shape: \",tag_scores.shape)\n",
    "        return tag_scores"
   ]
  },
  {
   "cell_type": "code",
   "execution_count": 41,
   "metadata": {},
   "outputs": [
    {
     "name": "stdout",
     "output_type": "stream",
     "text": [
      "['Everybody', 'read', 'that', 'book']\n",
      "tensor([5, 6, 7, 8])\n"
     ]
    }
   ],
   "source": [
    "print(sentence)\n",
    "print(sentence_in)"
   ]
  },
  {
   "cell_type": "code",
   "execution_count": 42,
   "metadata": {},
   "outputs": [
    {
     "name": "stdout",
     "output_type": "stream",
     "text": [
      "lstm_out.shape:  torch.Size([5, 1, 6])\n",
      "lstm_out reshape:  torch.Size([5, 6])\n",
      "tag_space.shape:  torch.Size([5, 3])\n",
      "tag_scores.shape:  torch.Size([5, 3])\n",
      "tensor([[-0.8142, -1.1694, -1.4006],\n",
      "        [-0.8577, -1.1602, -1.3377],\n",
      "        [-0.8562, -1.1636, -1.3361],\n",
      "        [-0.8441, -1.1883, -1.3269],\n",
      "        [-0.8968, -1.1940, -1.2409]])\n",
      "lstm_out.shape:  torch.Size([5, 1, 6])\n",
      "lstm_out reshape:  torch.Size([5, 6])\n",
      "tag_space.shape:  torch.Size([5, 3])\n",
      "tag_scores.shape:  torch.Size([5, 3])\n",
      "lstm_out.shape:  torch.Size([4, 1, 6])\n",
      "lstm_out reshape:  torch.Size([4, 6])\n",
      "tag_space.shape:  torch.Size([4, 3])\n",
      "tag_scores.shape:  torch.Size([4, 3])\n",
      "lstm_out.shape:  torch.Size([5, 1, 6])\n",
      "lstm_out reshape:  torch.Size([5, 6])\n",
      "tag_space.shape:  torch.Size([5, 3])\n",
      "tag_scores.shape:  torch.Size([5, 3])\n",
      "lstm_out.shape:  torch.Size([4, 1, 6])\n",
      "lstm_out reshape:  torch.Size([4, 6])\n",
      "tag_space.shape:  torch.Size([4, 3])\n",
      "tag_scores.shape:  torch.Size([4, 3])\n",
      "lstm_out.shape:  torch.Size([5, 1, 6])\n",
      "lstm_out reshape:  torch.Size([5, 6])\n",
      "tag_space.shape:  torch.Size([5, 3])\n",
      "tag_scores.shape:  torch.Size([5, 3])\n",
      "lstm_out.shape:  torch.Size([4, 1, 6])\n",
      "lstm_out reshape:  torch.Size([4, 6])\n",
      "tag_space.shape:  torch.Size([4, 3])\n",
      "tag_scores.shape:  torch.Size([4, 3])\n",
      "lstm_out.shape:  torch.Size([5, 1, 6])\n",
      "lstm_out reshape:  torch.Size([5, 6])\n",
      "tag_space.shape:  torch.Size([5, 3])\n",
      "tag_scores.shape:  torch.Size([5, 3])\n",
      "tensor([[-0.8680, -1.0803, -1.4241],\n",
      "        [-0.9164, -1.0720, -1.3558],\n",
      "        [-0.9113, -1.0816, -1.3511],\n",
      "        [-0.9000, -1.0972, -1.3485],\n",
      "        [-0.9585, -1.0922, -1.2692]])\n"
     ]
    }
   ],
   "source": [
    "model = LSTMTagger(EMBEDDING_DIM, HIDDEN_DIM, len(word_to_ix), len(tag_to_ix))\n",
    "loss_function = nn.NLLLoss()\n",
    "optimizer = optim.SGD(model.parameters(), lr=0.1)\n",
    "\n",
    "# See what the scores are before training\n",
    "# Note that element i,j of the output is the score for tag j for word i.\n",
    "# Here we don't need to train, so the code is wrapped in torch.no_grad()\n",
    "with torch.no_grad():\n",
    "    inputs = prepare_sequence(training_data[0][0], word_to_ix)\n",
    "    tag_scores = model(inputs)\n",
    "    print(tag_scores)\n",
    "\n",
    "for epoch in range(3):  # again, normally you would NOT do 300 epochs, it is toy data\n",
    "    for sentence, tags in training_data:\n",
    "        # Step 1. Remember that Pytorch accumulates gradients.\n",
    "        # We need to clear them out before each instance\n",
    "        model.zero_grad()\n",
    "\n",
    "        # Step 2. Get our inputs ready for the network, that is, turn them into\n",
    "        # Tensors of word indices.\n",
    "        sentence_in = prepare_sequence(sentence, word_to_ix)\n",
    "        targets = prepare_sequence(tags, tag_to_ix)\n",
    "\n",
    "        # Step 3. Run our forward pass.\n",
    "        tag_scores = model(sentence_in)\n",
    "\n",
    "        # Step 4. Compute the loss, gradients, and update the parameters by\n",
    "        #  calling optimizer.step()\n",
    "        loss = loss_function(tag_scores, targets)\n",
    "        loss.backward()\n",
    "        optimizer.step()\n",
    "\n",
    "# See what the scores are after training\n",
    "with torch.no_grad():\n",
    "    inputs = prepare_sequence(training_data[0][0], word_to_ix)\n",
    "    tag_scores = model(inputs)\n",
    "\n",
    "    # The sentence is \"the dog ate the apple\".  i,j corresponds to score for tag j\n",
    "    # for word i. The predicted tag is the maximum scoring tag.\n",
    "    # Here, we can see the predicted sequence below is 0 1 2 0 1\n",
    "    # since 0 is index of the maximum value of row 1,\n",
    "    # 1 is the index of maximum value of row 2, etc.\n",
    "    # Which is DET NOUN VERB DET NOUN, the correct sequence!\n",
    "    print(tag_scores)"
   ]
  },
  {
   "cell_type": "code",
   "execution_count": 46,
   "metadata": {},
   "outputs": [
    {
     "data": {
      "text/plain": [
       "['Everybody', 'read', 'that', 'book']"
      ]
     },
     "execution_count": 46,
     "metadata": {},
     "output_type": "execute_result"
    }
   ],
   "source": [
    "training_data[1][0]"
   ]
  },
  {
   "cell_type": "code",
   "execution_count": 22,
   "metadata": {},
   "outputs": [],
   "source": [
    "rnn = nn.LSTM(10, 20, 2) # (input_size,output_size,num_layers)\n",
    "input = torch.randn(5, 3, 10) # (seq_len, batch, input_size)\n",
    "h0 = torch.randn(2, 3, 20) # (num_layers * num_directions, batch, hidden_size)\n",
    "c0 = torch.randn(2, 3, 20) # (num_layers * num_directions, batch, hidden_size)\n",
    "output, (hn, cn) = rnn(input, (h0, c0)) # output shape (seq_len, batch, num_directions * hidden_size)"
   ]
  },
  {
   "cell_type": "code",
   "execution_count": 28,
   "metadata": {},
   "outputs": [
    {
     "data": {
      "text/plain": [
       "torch.Size([5, 3, 20])"
      ]
     },
     "execution_count": 28,
     "metadata": {},
     "output_type": "execute_result"
    }
   ],
   "source": [
    "output.shape"
   ]
  },
  {
   "cell_type": "code",
   "execution_count": null,
   "metadata": {},
   "outputs": [],
   "source": []
  }
 ],
 "metadata": {
  "kernelspec": {
   "display_name": "Python 3",
   "language": "python",
   "name": "python3"
  },
  "language_info": {
   "codemirror_mode": {
    "name": "ipython",
    "version": 3
   },
   "file_extension": ".py",
   "mimetype": "text/x-python",
   "name": "python",
   "nbconvert_exporter": "python",
   "pygments_lexer": "ipython3",
   "version": "3.7.6"
  }
 },
 "nbformat": 4,
 "nbformat_minor": 4
}
