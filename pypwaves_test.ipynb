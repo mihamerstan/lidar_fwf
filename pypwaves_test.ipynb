{
 "cells": [
  {
   "cell_type": "code",
   "execution_count": 1,
   "metadata": {},
   "outputs": [],
   "source": [
    "import numpy as np\n",
    "import pandas as pd\n",
    "import pypwaves_future_v2 as pw"
   ]
  },
  {
   "cell_type": "code",
   "execution_count": 2,
   "metadata": {},
   "outputs": [
    {
     "name": "stdout",
     "output_type": "stream",
     "text": [
      "vlr!\n",
      "vlr record length:  216\n",
      "vlr.record_id:  34735\n",
      "self.key_entry type:  <class 'tuple'>\n",
      "key_directory_version 1              \n",
      "key_entry (1024, 0, 1, 1, 1025, 0, 1, 2, 1026, 34737, 62, 0, 2048, 0, 1, 32767, 2049, 34737, 6, 124, 2050, 0, 1, 32767, 2051, 0, 1, 32767, 2052, 0, 1, 9003, 2054, 0, 1, 9102, 2056, 0, 1, 32767, 2057, 34736, 1, 0, 2059, 34736, 1, 1, 2060, 0, 1, 9102, 2061, 34736, 1, 2, 3072, 0, 1, 32767, 3073, 34737, 62, 62, 3074, 0, 1, 32767, 3075, 0, 1, 8, 3076, 0, 1, 9003, 3078, 34736, 1, 3, 3079, 34736, 1, 4, 3084, 34736, 1, 6, 3085, 34736, 1, 5, 3086, 34736, 1, 7, 3087, 34736, 1, 8, 4099, 0, 1, 9003)\n",
      "key_entry_dict       26             \n",
      "key_length           104            \n",
      "key_revision         1              \n",
      "minor_revision       0              \n",
      "number_of_keys       26             \n",
      "vlr!\n",
      "vlr record length:  72\n",
      "vlr.record_id:  34736\n",
      "vlr!\n",
      "vlr record length:  130\n",
      "vlr.record_id:  34737\n",
      "vlr!\n",
      "vlr record length:  248\n",
      "vlr.record_id:  100001\n",
      "vlr!\n",
      "vlr record length:  1184\n",
      "vlr.record_id:  300001\n",
      "vlr!\n",
      "vlr record length:  1184\n",
      "vlr.record_id:  300002\n",
      "vlr!\n",
      "vlr record length:  196\n",
      "vlr.record_id:  200001\n",
      "vlr!\n",
      "vlr record length:  300\n",
      "vlr.record_id:  200002\n",
      "vlr!\n",
      "vlr record length:  404\n",
      "vlr.record_id:  200003\n",
      "vlr!\n",
      "vlr record length:  300\n",
      "vlr.record_id:  200004\n",
      "vlr!\n",
      "vlr record length:  404\n",
      "vlr.record_id:  200005\n",
      "vlr!\n",
      "vlr record length:  404\n",
      "vlr.record_id:  200006\n",
      "vlr!\n",
      "vlr record length:  300\n",
      "vlr.record_id:  200007\n",
      "vlr!\n",
      "vlr record length:  404\n",
      "vlr.record_id:  200008\n",
      "vlr!\n",
      "vlr record length:  404\n",
      "vlr.record_id:  200009\n",
      "vlr!\n",
      "vlr record length:  404\n",
      "vlr.record_id:  200010\n",
      "vlr!\n",
      "vlr record length:  404\n",
      "vlr.record_id:  200011\n",
      "vlr!\n",
      "vlr record length:  300\n",
      "vlr.record_id:  200012\n"
     ]
    }
   ],
   "source": [
    "# Load data \n",
    "pls_file = \"../data/10552.pls\"\n",
    "pulsewave = pw.openPLS(pls_file)"
   ]
  },
  {
   "cell_type": "code",
   "execution_count": null,
   "metadata": {},
   "outputs": [],
   "source": [
    "wave = pulsewave.get_waves(5)\n",
    "wave.plot()"
   ]
  },
  {
   "cell_type": "code",
   "execution_count": null,
   "metadata": {},
   "outputs": [],
   "source": [
    "pulse = pulsewave.get_pulse(10000)\n",
    "pulse"
   ]
  },
  {
   "cell_type": "code",
   "execution_count": 8,
   "metadata": {},
   "outputs": [
    {
     "data": {
      "text/plain": [
       "26"
      ]
     },
     "execution_count": 8,
     "metadata": {},
     "output_type": "execute_result"
    }
   ],
   "source": [
    "len(pulsewave.vlrs[34735].record.key_entry_dict)"
   ]
  },
  {
   "cell_type": "code",
   "execution_count": 9,
   "metadata": {},
   "outputs": [
    {
     "data": {
      "text/plain": [
       "26"
      ]
     },
     "execution_count": 9,
     "metadata": {},
     "output_type": "execute_result"
    }
   ],
   "source": [
    "pulsewave.vlrs[34735].record.number_of_keys"
   ]
  },
  {
   "cell_type": "code",
   "execution_count": null,
   "metadata": {},
   "outputs": [],
   "source": []
  },
  {
   "cell_type": "code",
   "execution_count": null,
   "metadata": {},
   "outputs": [],
   "source": []
  },
  {
   "cell_type": "code",
   "execution_count": null,
   "metadata": {},
   "outputs": [],
   "source": []
  },
  {
   "cell_type": "code",
   "execution_count": null,
   "metadata": {},
   "outputs": [],
   "source": []
  }
 ],
 "metadata": {
  "kernelspec": {
   "display_name": "Python 3",
   "language": "python",
   "name": "python3"
  },
  "language_info": {
   "codemirror_mode": {
    "name": "ipython",
    "version": 3
   },
   "file_extension": ".py",
   "mimetype": "text/x-python",
   "name": "python",
   "nbconvert_exporter": "python",
   "pygments_lexer": "ipython3",
   "version": "3.6.9"
  }
 },
 "nbformat": 4,
 "nbformat_minor": 2
}
